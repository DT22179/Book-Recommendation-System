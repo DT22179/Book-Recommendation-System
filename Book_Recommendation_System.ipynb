{
  "cells": [
    {
      "cell_type": "markdown",
      "metadata": {
        "id": "view-in-github",
        "colab_type": "text"
      },
      "source": [
        "<a href=\"https://colab.research.google.com/github/DT22179/Book-Recommendation-System/blob/main/Book_Recommendation_System.ipynb\" target=\"_parent\"><img src=\"https://colab.research.google.com/assets/colab-badge.svg\" alt=\"Open In Colab\"/></a>"
      ]
    },
    {
      "cell_type": "markdown",
      "metadata": {
        "id": "J4JAT2I53DSx"
      },
      "source": [
        "During the last few decades, with the rise of Youtube, Amazon, Netflix, and many other such web services, recommender systems have taken more and more place in our lives. From e-commerce (suggest to buyers articles that could interest them) to online advertisement (suggest to users the right contents, matching their preferences), recommender systems are\n",
        "today unavoidable in our daily online journeys.\n",
        "\n",
        "In a very general way, recommender systems are algorithms aimed at suggesting relevant items to users (items being movies to watch, text to read, products to buy, or anything else depending on industries).**Recommender systems** are really critical in some industries as they can generate a huge amount of income when they are efficient or also be a way to stand out significantly from\n",
        "competitors. The main objective is to create a book recommendation system for users.\n"
      ]
    },
    {
      "cell_type": "markdown",
      "metadata": {
        "id": "wV2TL8JZ36_N"
      },
      "source": [
        "**Dataset Overview**\n",
        "\n",
        "The Book-Crossing dataset comprises 3 files - \n",
        "\n",
        "● Users : Contains the users. Note that user IDs (User-ID) have been anonymized and map to integers. Demographic data is provided (Location, Age) if available. Otherwise, these fields contain NULL values.\n",
        "\n",
        "● Books : Books are identified by their respective ISBN. Invalid ISBNs have already been removed from the dataset. Moreover, some content-based information is given (Book-Title, Book-Author, Year-Of-Publication, Publisher), obtained from Amazon Web Services. Note that in the case of several authors, only the first is provided. URLs linking to cover images are also given, appearing in three different flavors (Image-URL-S, Image-URL-M, Image-URL-L), i.e., small, medium, large. These URLs point to the Amazon website.\n",
        "\n",
        "● Ratings : Contains the book rating information. Ratings (Book-Rating) are either explicit, expressed on a scale from 1-10 (higher values denoting higher appreciation), or implicit, expressed by 0."
      ]
    },
    {
      "cell_type": "code",
      "execution_count": null,
      "metadata": {
        "colab": {
          "base_uri": "https://localhost:8080/"
        },
        "id": "6se3O2-J25lJ",
        "outputId": "bc86d599-0694-47f8-e0ea-45e4f87d56b3"
      },
      "outputs": [
        {
          "output_type": "stream",
          "name": "stdout",
          "text": [
            "Mounted at /content/drive\n"
          ]
        }
      ],
      "source": [
        "from google.colab import drive\n",
        "drive.mount('/content/drive')"
      ]
    },
    {
      "cell_type": "code",
      "execution_count": null,
      "metadata": {
        "id": "LdXE4ot35YuS"
      },
      "outputs": [],
      "source": [
        "import pandas as pd\n",
        "import numpy as np\n",
        "import matplotlib.pyplot as plt\n",
        "import seaborn as sns"
      ]
    },
    {
      "cell_type": "code",
      "execution_count": null,
      "metadata": {
        "id": "20xvOhqN5q-1"
      },
      "outputs": [],
      "source": [
        "file_path = \"/content/drive/MyDrive/AlmaBetter/Capstone Project/Unsupervised Learning - Capstone Project/Data\""
      ]
    },
    {
      "cell_type": "code",
      "execution_count": null,
      "metadata": {
        "colab": {
          "base_uri": "https://localhost:8080/"
        },
        "id": "9NzdVPC-567t",
        "outputId": "29d66ae0-6a77-4700-c44c-74b929e023d9"
      },
      "outputs": [
        {
          "output_type": "stream",
          "name": "stderr",
          "text": [
            "/usr/local/lib/python3.7/dist-packages/IPython/core/interactiveshell.py:2882: DtypeWarning: Columns (3) have mixed types.Specify dtype option on import or set low_memory=False.\n",
            "  exec(code_obj, self.user_global_ns, self.user_ns)\n"
          ]
        }
      ],
      "source": [
        "users_df = pd.read_csv(file_path + \"/Users.csv\")\n",
        "books_df = pd.read_csv(file_path + \"/Books.csv\")\n",
        "ratings_df = pd.read_csv(file_path + \"/Ratings.csv\")"
      ]
    },
    {
      "cell_type": "code",
      "execution_count": null,
      "metadata": {
        "colab": {
          "base_uri": "https://localhost:8080/",
          "height": 206
        },
        "id": "08wqRkv_6Shh",
        "outputId": "b66ef353-d867-4e2f-9519-6b68b4c34db8"
      },
      "outputs": [
        {
          "output_type": "execute_result",
          "data": {
            "text/plain": [
              "   User-ID                            Location   Age\n",
              "0        1                  nyc, new york, usa   NaN\n",
              "1        2           stockton, california, usa  18.0\n",
              "2        3     moscow, yukon territory, russia   NaN\n",
              "3        4           porto, v.n.gaia, portugal  17.0\n",
              "4        5  farnborough, hants, united kingdom   NaN"
            ],
            "text/html": [
              "\n",
              "  <div id=\"df-bb4544d8-8c26-4129-86e9-fb0f89b2fc7a\">\n",
              "    <div class=\"colab-df-container\">\n",
              "      <div>\n",
              "<style scoped>\n",
              "    .dataframe tbody tr th:only-of-type {\n",
              "        vertical-align: middle;\n",
              "    }\n",
              "\n",
              "    .dataframe tbody tr th {\n",
              "        vertical-align: top;\n",
              "    }\n",
              "\n",
              "    .dataframe thead th {\n",
              "        text-align: right;\n",
              "    }\n",
              "</style>\n",
              "<table border=\"1\" class=\"dataframe\">\n",
              "  <thead>\n",
              "    <tr style=\"text-align: right;\">\n",
              "      <th></th>\n",
              "      <th>User-ID</th>\n",
              "      <th>Location</th>\n",
              "      <th>Age</th>\n",
              "    </tr>\n",
              "  </thead>\n",
              "  <tbody>\n",
              "    <tr>\n",
              "      <th>0</th>\n",
              "      <td>1</td>\n",
              "      <td>nyc, new york, usa</td>\n",
              "      <td>NaN</td>\n",
              "    </tr>\n",
              "    <tr>\n",
              "      <th>1</th>\n",
              "      <td>2</td>\n",
              "      <td>stockton, california, usa</td>\n",
              "      <td>18.0</td>\n",
              "    </tr>\n",
              "    <tr>\n",
              "      <th>2</th>\n",
              "      <td>3</td>\n",
              "      <td>moscow, yukon territory, russia</td>\n",
              "      <td>NaN</td>\n",
              "    </tr>\n",
              "    <tr>\n",
              "      <th>3</th>\n",
              "      <td>4</td>\n",
              "      <td>porto, v.n.gaia, portugal</td>\n",
              "      <td>17.0</td>\n",
              "    </tr>\n",
              "    <tr>\n",
              "      <th>4</th>\n",
              "      <td>5</td>\n",
              "      <td>farnborough, hants, united kingdom</td>\n",
              "      <td>NaN</td>\n",
              "    </tr>\n",
              "  </tbody>\n",
              "</table>\n",
              "</div>\n",
              "      <button class=\"colab-df-convert\" onclick=\"convertToInteractive('df-bb4544d8-8c26-4129-86e9-fb0f89b2fc7a')\"\n",
              "              title=\"Convert this dataframe to an interactive table.\"\n",
              "              style=\"display:none;\">\n",
              "        \n",
              "  <svg xmlns=\"http://www.w3.org/2000/svg\" height=\"24px\"viewBox=\"0 0 24 24\"\n",
              "       width=\"24px\">\n",
              "    <path d=\"M0 0h24v24H0V0z\" fill=\"none\"/>\n",
              "    <path d=\"M18.56 5.44l.94 2.06.94-2.06 2.06-.94-2.06-.94-.94-2.06-.94 2.06-2.06.94zm-11 1L8.5 8.5l.94-2.06 2.06-.94-2.06-.94L8.5 2.5l-.94 2.06-2.06.94zm10 10l.94 2.06.94-2.06 2.06-.94-2.06-.94-.94-2.06-.94 2.06-2.06.94z\"/><path d=\"M17.41 7.96l-1.37-1.37c-.4-.4-.92-.59-1.43-.59-.52 0-1.04.2-1.43.59L10.3 9.45l-7.72 7.72c-.78.78-.78 2.05 0 2.83L4 21.41c.39.39.9.59 1.41.59.51 0 1.02-.2 1.41-.59l7.78-7.78 2.81-2.81c.8-.78.8-2.07 0-2.86zM5.41 20L4 18.59l7.72-7.72 1.47 1.35L5.41 20z\"/>\n",
              "  </svg>\n",
              "      </button>\n",
              "      \n",
              "  <style>\n",
              "    .colab-df-container {\n",
              "      display:flex;\n",
              "      flex-wrap:wrap;\n",
              "      gap: 12px;\n",
              "    }\n",
              "\n",
              "    .colab-df-convert {\n",
              "      background-color: #E8F0FE;\n",
              "      border: none;\n",
              "      border-radius: 50%;\n",
              "      cursor: pointer;\n",
              "      display: none;\n",
              "      fill: #1967D2;\n",
              "      height: 32px;\n",
              "      padding: 0 0 0 0;\n",
              "      width: 32px;\n",
              "    }\n",
              "\n",
              "    .colab-df-convert:hover {\n",
              "      background-color: #E2EBFA;\n",
              "      box-shadow: 0px 1px 2px rgba(60, 64, 67, 0.3), 0px 1px 3px 1px rgba(60, 64, 67, 0.15);\n",
              "      fill: #174EA6;\n",
              "    }\n",
              "\n",
              "    [theme=dark] .colab-df-convert {\n",
              "      background-color: #3B4455;\n",
              "      fill: #D2E3FC;\n",
              "    }\n",
              "\n",
              "    [theme=dark] .colab-df-convert:hover {\n",
              "      background-color: #434B5C;\n",
              "      box-shadow: 0px 1px 3px 1px rgba(0, 0, 0, 0.15);\n",
              "      filter: drop-shadow(0px 1px 2px rgba(0, 0, 0, 0.3));\n",
              "      fill: #FFFFFF;\n",
              "    }\n",
              "  </style>\n",
              "\n",
              "      <script>\n",
              "        const buttonEl =\n",
              "          document.querySelector('#df-bb4544d8-8c26-4129-86e9-fb0f89b2fc7a button.colab-df-convert');\n",
              "        buttonEl.style.display =\n",
              "          google.colab.kernel.accessAllowed ? 'block' : 'none';\n",
              "\n",
              "        async function convertToInteractive(key) {\n",
              "          const element = document.querySelector('#df-bb4544d8-8c26-4129-86e9-fb0f89b2fc7a');\n",
              "          const dataTable =\n",
              "            await google.colab.kernel.invokeFunction('convertToInteractive',\n",
              "                                                     [key], {});\n",
              "          if (!dataTable) return;\n",
              "\n",
              "          const docLinkHtml = 'Like what you see? Visit the ' +\n",
              "            '<a target=\"_blank\" href=https://colab.research.google.com/notebooks/data_table.ipynb>data table notebook</a>'\n",
              "            + ' to learn more about interactive tables.';\n",
              "          element.innerHTML = '';\n",
              "          dataTable['output_type'] = 'display_data';\n",
              "          await google.colab.output.renderOutput(dataTable, element);\n",
              "          const docLink = document.createElement('div');\n",
              "          docLink.innerHTML = docLinkHtml;\n",
              "          element.appendChild(docLink);\n",
              "        }\n",
              "      </script>\n",
              "    </div>\n",
              "  </div>\n",
              "  "
            ]
          },
          "metadata": {},
          "execution_count": 5
        }
      ],
      "source": [
        "users_df.head()"
      ]
    },
    {
      "cell_type": "code",
      "execution_count": null,
      "metadata": {
        "colab": {
          "base_uri": "https://localhost:8080/",
          "height": 478
        },
        "id": "tlrbG4UO6Y3a",
        "outputId": "ac2abab1-b5c0-4ea4-e900-4bbf36c51036"
      },
      "outputs": [
        {
          "output_type": "execute_result",
          "data": {
            "text/plain": [
              "         ISBN                                         Book-Title  \\\n",
              "0  0195153448                                Classical Mythology   \n",
              "1  0002005018                                       Clara Callan   \n",
              "2  0060973129                               Decision in Normandy   \n",
              "3  0374157065  Flu: The Story of the Great Influenza Pandemic...   \n",
              "4  0393045218                             The Mummies of Urumchi   \n",
              "\n",
              "            Book-Author Year-Of-Publication                   Publisher  \\\n",
              "0    Mark P. O. Morford                2002     Oxford University Press   \n",
              "1  Richard Bruce Wright                2001       HarperFlamingo Canada   \n",
              "2          Carlo D'Este                1991             HarperPerennial   \n",
              "3      Gina Bari Kolata                1999        Farrar Straus Giroux   \n",
              "4       E. J. W. Barber                1999  W. W. Norton &amp; Company   \n",
              "\n",
              "                                         Image-URL-S  \\\n",
              "0  http://images.amazon.com/images/P/0195153448.0...   \n",
              "1  http://images.amazon.com/images/P/0002005018.0...   \n",
              "2  http://images.amazon.com/images/P/0060973129.0...   \n",
              "3  http://images.amazon.com/images/P/0374157065.0...   \n",
              "4  http://images.amazon.com/images/P/0393045218.0...   \n",
              "\n",
              "                                         Image-URL-M  \\\n",
              "0  http://images.amazon.com/images/P/0195153448.0...   \n",
              "1  http://images.amazon.com/images/P/0002005018.0...   \n",
              "2  http://images.amazon.com/images/P/0060973129.0...   \n",
              "3  http://images.amazon.com/images/P/0374157065.0...   \n",
              "4  http://images.amazon.com/images/P/0393045218.0...   \n",
              "\n",
              "                                         Image-URL-L  \n",
              "0  http://images.amazon.com/images/P/0195153448.0...  \n",
              "1  http://images.amazon.com/images/P/0002005018.0...  \n",
              "2  http://images.amazon.com/images/P/0060973129.0...  \n",
              "3  http://images.amazon.com/images/P/0374157065.0...  \n",
              "4  http://images.amazon.com/images/P/0393045218.0...  "
            ],
            "text/html": [
              "\n",
              "  <div id=\"df-16dc2048-56a9-4c83-9705-237ea1f9ee0d\">\n",
              "    <div class=\"colab-df-container\">\n",
              "      <div>\n",
              "<style scoped>\n",
              "    .dataframe tbody tr th:only-of-type {\n",
              "        vertical-align: middle;\n",
              "    }\n",
              "\n",
              "    .dataframe tbody tr th {\n",
              "        vertical-align: top;\n",
              "    }\n",
              "\n",
              "    .dataframe thead th {\n",
              "        text-align: right;\n",
              "    }\n",
              "</style>\n",
              "<table border=\"1\" class=\"dataframe\">\n",
              "  <thead>\n",
              "    <tr style=\"text-align: right;\">\n",
              "      <th></th>\n",
              "      <th>ISBN</th>\n",
              "      <th>Book-Title</th>\n",
              "      <th>Book-Author</th>\n",
              "      <th>Year-Of-Publication</th>\n",
              "      <th>Publisher</th>\n",
              "      <th>Image-URL-S</th>\n",
              "      <th>Image-URL-M</th>\n",
              "      <th>Image-URL-L</th>\n",
              "    </tr>\n",
              "  </thead>\n",
              "  <tbody>\n",
              "    <tr>\n",
              "      <th>0</th>\n",
              "      <td>0195153448</td>\n",
              "      <td>Classical Mythology</td>\n",
              "      <td>Mark P. O. Morford</td>\n",
              "      <td>2002</td>\n",
              "      <td>Oxford University Press</td>\n",
              "      <td>http://images.amazon.com/images/P/0195153448.0...</td>\n",
              "      <td>http://images.amazon.com/images/P/0195153448.0...</td>\n",
              "      <td>http://images.amazon.com/images/P/0195153448.0...</td>\n",
              "    </tr>\n",
              "    <tr>\n",
              "      <th>1</th>\n",
              "      <td>0002005018</td>\n",
              "      <td>Clara Callan</td>\n",
              "      <td>Richard Bruce Wright</td>\n",
              "      <td>2001</td>\n",
              "      <td>HarperFlamingo Canada</td>\n",
              "      <td>http://images.amazon.com/images/P/0002005018.0...</td>\n",
              "      <td>http://images.amazon.com/images/P/0002005018.0...</td>\n",
              "      <td>http://images.amazon.com/images/P/0002005018.0...</td>\n",
              "    </tr>\n",
              "    <tr>\n",
              "      <th>2</th>\n",
              "      <td>0060973129</td>\n",
              "      <td>Decision in Normandy</td>\n",
              "      <td>Carlo D'Este</td>\n",
              "      <td>1991</td>\n",
              "      <td>HarperPerennial</td>\n",
              "      <td>http://images.amazon.com/images/P/0060973129.0...</td>\n",
              "      <td>http://images.amazon.com/images/P/0060973129.0...</td>\n",
              "      <td>http://images.amazon.com/images/P/0060973129.0...</td>\n",
              "    </tr>\n",
              "    <tr>\n",
              "      <th>3</th>\n",
              "      <td>0374157065</td>\n",
              "      <td>Flu: The Story of the Great Influenza Pandemic...</td>\n",
              "      <td>Gina Bari Kolata</td>\n",
              "      <td>1999</td>\n",
              "      <td>Farrar Straus Giroux</td>\n",
              "      <td>http://images.amazon.com/images/P/0374157065.0...</td>\n",
              "      <td>http://images.amazon.com/images/P/0374157065.0...</td>\n",
              "      <td>http://images.amazon.com/images/P/0374157065.0...</td>\n",
              "    </tr>\n",
              "    <tr>\n",
              "      <th>4</th>\n",
              "      <td>0393045218</td>\n",
              "      <td>The Mummies of Urumchi</td>\n",
              "      <td>E. J. W. Barber</td>\n",
              "      <td>1999</td>\n",
              "      <td>W. W. Norton &amp;amp; Company</td>\n",
              "      <td>http://images.amazon.com/images/P/0393045218.0...</td>\n",
              "      <td>http://images.amazon.com/images/P/0393045218.0...</td>\n",
              "      <td>http://images.amazon.com/images/P/0393045218.0...</td>\n",
              "    </tr>\n",
              "  </tbody>\n",
              "</table>\n",
              "</div>\n",
              "      <button class=\"colab-df-convert\" onclick=\"convertToInteractive('df-16dc2048-56a9-4c83-9705-237ea1f9ee0d')\"\n",
              "              title=\"Convert this dataframe to an interactive table.\"\n",
              "              style=\"display:none;\">\n",
              "        \n",
              "  <svg xmlns=\"http://www.w3.org/2000/svg\" height=\"24px\"viewBox=\"0 0 24 24\"\n",
              "       width=\"24px\">\n",
              "    <path d=\"M0 0h24v24H0V0z\" fill=\"none\"/>\n",
              "    <path d=\"M18.56 5.44l.94 2.06.94-2.06 2.06-.94-2.06-.94-.94-2.06-.94 2.06-2.06.94zm-11 1L8.5 8.5l.94-2.06 2.06-.94-2.06-.94L8.5 2.5l-.94 2.06-2.06.94zm10 10l.94 2.06.94-2.06 2.06-.94-2.06-.94-.94-2.06-.94 2.06-2.06.94z\"/><path d=\"M17.41 7.96l-1.37-1.37c-.4-.4-.92-.59-1.43-.59-.52 0-1.04.2-1.43.59L10.3 9.45l-7.72 7.72c-.78.78-.78 2.05 0 2.83L4 21.41c.39.39.9.59 1.41.59.51 0 1.02-.2 1.41-.59l7.78-7.78 2.81-2.81c.8-.78.8-2.07 0-2.86zM5.41 20L4 18.59l7.72-7.72 1.47 1.35L5.41 20z\"/>\n",
              "  </svg>\n",
              "      </button>\n",
              "      \n",
              "  <style>\n",
              "    .colab-df-container {\n",
              "      display:flex;\n",
              "      flex-wrap:wrap;\n",
              "      gap: 12px;\n",
              "    }\n",
              "\n",
              "    .colab-df-convert {\n",
              "      background-color: #E8F0FE;\n",
              "      border: none;\n",
              "      border-radius: 50%;\n",
              "      cursor: pointer;\n",
              "      display: none;\n",
              "      fill: #1967D2;\n",
              "      height: 32px;\n",
              "      padding: 0 0 0 0;\n",
              "      width: 32px;\n",
              "    }\n",
              "\n",
              "    .colab-df-convert:hover {\n",
              "      background-color: #E2EBFA;\n",
              "      box-shadow: 0px 1px 2px rgba(60, 64, 67, 0.3), 0px 1px 3px 1px rgba(60, 64, 67, 0.15);\n",
              "      fill: #174EA6;\n",
              "    }\n",
              "\n",
              "    [theme=dark] .colab-df-convert {\n",
              "      background-color: #3B4455;\n",
              "      fill: #D2E3FC;\n",
              "    }\n",
              "\n",
              "    [theme=dark] .colab-df-convert:hover {\n",
              "      background-color: #434B5C;\n",
              "      box-shadow: 0px 1px 3px 1px rgba(0, 0, 0, 0.15);\n",
              "      filter: drop-shadow(0px 1px 2px rgba(0, 0, 0, 0.3));\n",
              "      fill: #FFFFFF;\n",
              "    }\n",
              "  </style>\n",
              "\n",
              "      <script>\n",
              "        const buttonEl =\n",
              "          document.querySelector('#df-16dc2048-56a9-4c83-9705-237ea1f9ee0d button.colab-df-convert');\n",
              "        buttonEl.style.display =\n",
              "          google.colab.kernel.accessAllowed ? 'block' : 'none';\n",
              "\n",
              "        async function convertToInteractive(key) {\n",
              "          const element = document.querySelector('#df-16dc2048-56a9-4c83-9705-237ea1f9ee0d');\n",
              "          const dataTable =\n",
              "            await google.colab.kernel.invokeFunction('convertToInteractive',\n",
              "                                                     [key], {});\n",
              "          if (!dataTable) return;\n",
              "\n",
              "          const docLinkHtml = 'Like what you see? Visit the ' +\n",
              "            '<a target=\"_blank\" href=https://colab.research.google.com/notebooks/data_table.ipynb>data table notebook</a>'\n",
              "            + ' to learn more about interactive tables.';\n",
              "          element.innerHTML = '';\n",
              "          dataTable['output_type'] = 'display_data';\n",
              "          await google.colab.output.renderOutput(dataTable, element);\n",
              "          const docLink = document.createElement('div');\n",
              "          docLink.innerHTML = docLinkHtml;\n",
              "          element.appendChild(docLink);\n",
              "        }\n",
              "      </script>\n",
              "    </div>\n",
              "  </div>\n",
              "  "
            ]
          },
          "metadata": {},
          "execution_count": 6
        }
      ],
      "source": [
        "books_df.head()"
      ]
    },
    {
      "cell_type": "code",
      "execution_count": null,
      "metadata": {
        "colab": {
          "base_uri": "https://localhost:8080/",
          "height": 206
        },
        "id": "6gIOLee46qWy",
        "outputId": "5ea15844-01d7-4842-d0bc-c89b79f939ee"
      },
      "outputs": [
        {
          "output_type": "execute_result",
          "data": {
            "text/plain": [
              "   User-ID        ISBN  Book-Rating\n",
              "0   276725  034545104X            0\n",
              "1   276726  0155061224            5\n",
              "2   276727  0446520802            0\n",
              "3   276729  052165615X            3\n",
              "4   276729  0521795028            6"
            ],
            "text/html": [
              "\n",
              "  <div id=\"df-f83d5970-ef0b-441f-af2b-975605161186\">\n",
              "    <div class=\"colab-df-container\">\n",
              "      <div>\n",
              "<style scoped>\n",
              "    .dataframe tbody tr th:only-of-type {\n",
              "        vertical-align: middle;\n",
              "    }\n",
              "\n",
              "    .dataframe tbody tr th {\n",
              "        vertical-align: top;\n",
              "    }\n",
              "\n",
              "    .dataframe thead th {\n",
              "        text-align: right;\n",
              "    }\n",
              "</style>\n",
              "<table border=\"1\" class=\"dataframe\">\n",
              "  <thead>\n",
              "    <tr style=\"text-align: right;\">\n",
              "      <th></th>\n",
              "      <th>User-ID</th>\n",
              "      <th>ISBN</th>\n",
              "      <th>Book-Rating</th>\n",
              "    </tr>\n",
              "  </thead>\n",
              "  <tbody>\n",
              "    <tr>\n",
              "      <th>0</th>\n",
              "      <td>276725</td>\n",
              "      <td>034545104X</td>\n",
              "      <td>0</td>\n",
              "    </tr>\n",
              "    <tr>\n",
              "      <th>1</th>\n",
              "      <td>276726</td>\n",
              "      <td>0155061224</td>\n",
              "      <td>5</td>\n",
              "    </tr>\n",
              "    <tr>\n",
              "      <th>2</th>\n",
              "      <td>276727</td>\n",
              "      <td>0446520802</td>\n",
              "      <td>0</td>\n",
              "    </tr>\n",
              "    <tr>\n",
              "      <th>3</th>\n",
              "      <td>276729</td>\n",
              "      <td>052165615X</td>\n",
              "      <td>3</td>\n",
              "    </tr>\n",
              "    <tr>\n",
              "      <th>4</th>\n",
              "      <td>276729</td>\n",
              "      <td>0521795028</td>\n",
              "      <td>6</td>\n",
              "    </tr>\n",
              "  </tbody>\n",
              "</table>\n",
              "</div>\n",
              "      <button class=\"colab-df-convert\" onclick=\"convertToInteractive('df-f83d5970-ef0b-441f-af2b-975605161186')\"\n",
              "              title=\"Convert this dataframe to an interactive table.\"\n",
              "              style=\"display:none;\">\n",
              "        \n",
              "  <svg xmlns=\"http://www.w3.org/2000/svg\" height=\"24px\"viewBox=\"0 0 24 24\"\n",
              "       width=\"24px\">\n",
              "    <path d=\"M0 0h24v24H0V0z\" fill=\"none\"/>\n",
              "    <path d=\"M18.56 5.44l.94 2.06.94-2.06 2.06-.94-2.06-.94-.94-2.06-.94 2.06-2.06.94zm-11 1L8.5 8.5l.94-2.06 2.06-.94-2.06-.94L8.5 2.5l-.94 2.06-2.06.94zm10 10l.94 2.06.94-2.06 2.06-.94-2.06-.94-.94-2.06-.94 2.06-2.06.94z\"/><path d=\"M17.41 7.96l-1.37-1.37c-.4-.4-.92-.59-1.43-.59-.52 0-1.04.2-1.43.59L10.3 9.45l-7.72 7.72c-.78.78-.78 2.05 0 2.83L4 21.41c.39.39.9.59 1.41.59.51 0 1.02-.2 1.41-.59l7.78-7.78 2.81-2.81c.8-.78.8-2.07 0-2.86zM5.41 20L4 18.59l7.72-7.72 1.47 1.35L5.41 20z\"/>\n",
              "  </svg>\n",
              "      </button>\n",
              "      \n",
              "  <style>\n",
              "    .colab-df-container {\n",
              "      display:flex;\n",
              "      flex-wrap:wrap;\n",
              "      gap: 12px;\n",
              "    }\n",
              "\n",
              "    .colab-df-convert {\n",
              "      background-color: #E8F0FE;\n",
              "      border: none;\n",
              "      border-radius: 50%;\n",
              "      cursor: pointer;\n",
              "      display: none;\n",
              "      fill: #1967D2;\n",
              "      height: 32px;\n",
              "      padding: 0 0 0 0;\n",
              "      width: 32px;\n",
              "    }\n",
              "\n",
              "    .colab-df-convert:hover {\n",
              "      background-color: #E2EBFA;\n",
              "      box-shadow: 0px 1px 2px rgba(60, 64, 67, 0.3), 0px 1px 3px 1px rgba(60, 64, 67, 0.15);\n",
              "      fill: #174EA6;\n",
              "    }\n",
              "\n",
              "    [theme=dark] .colab-df-convert {\n",
              "      background-color: #3B4455;\n",
              "      fill: #D2E3FC;\n",
              "    }\n",
              "\n",
              "    [theme=dark] .colab-df-convert:hover {\n",
              "      background-color: #434B5C;\n",
              "      box-shadow: 0px 1px 3px 1px rgba(0, 0, 0, 0.15);\n",
              "      filter: drop-shadow(0px 1px 2px rgba(0, 0, 0, 0.3));\n",
              "      fill: #FFFFFF;\n",
              "    }\n",
              "  </style>\n",
              "\n",
              "      <script>\n",
              "        const buttonEl =\n",
              "          document.querySelector('#df-f83d5970-ef0b-441f-af2b-975605161186 button.colab-df-convert');\n",
              "        buttonEl.style.display =\n",
              "          google.colab.kernel.accessAllowed ? 'block' : 'none';\n",
              "\n",
              "        async function convertToInteractive(key) {\n",
              "          const element = document.querySelector('#df-f83d5970-ef0b-441f-af2b-975605161186');\n",
              "          const dataTable =\n",
              "            await google.colab.kernel.invokeFunction('convertToInteractive',\n",
              "                                                     [key], {});\n",
              "          if (!dataTable) return;\n",
              "\n",
              "          const docLinkHtml = 'Like what you see? Visit the ' +\n",
              "            '<a target=\"_blank\" href=https://colab.research.google.com/notebooks/data_table.ipynb>data table notebook</a>'\n",
              "            + ' to learn more about interactive tables.';\n",
              "          element.innerHTML = '';\n",
              "          dataTable['output_type'] = 'display_data';\n",
              "          await google.colab.output.renderOutput(dataTable, element);\n",
              "          const docLink = document.createElement('div');\n",
              "          docLink.innerHTML = docLinkHtml;\n",
              "          element.appendChild(docLink);\n",
              "        }\n",
              "      </script>\n",
              "    </div>\n",
              "  </div>\n",
              "  "
            ]
          },
          "metadata": {},
          "execution_count": 7
        }
      ],
      "source": [
        "ratings_df.head()"
      ]
    },
    {
      "cell_type": "code",
      "source": [
        "print(users_df.shape)\n",
        "print(ratings_df.shape)\n",
        "print(books_df.shape)"
      ],
      "metadata": {
        "colab": {
          "base_uri": "https://localhost:8080/"
        },
        "id": "ACveyTDggjij",
        "outputId": "ad3b7ae7-41b6-4377-ca67-d26b9cab28ba"
      },
      "execution_count": null,
      "outputs": [
        {
          "output_type": "stream",
          "name": "stdout",
          "text": [
            "(278858, 3)\n",
            "(1149780, 3)\n",
            "(271360, 8)\n"
          ]
        }
      ]
    },
    {
      "cell_type": "markdown",
      "metadata": {
        "id": "52GCXan0sFZq"
      },
      "source": [
        "**-------------------------------------------------------------------------DATA PREPROCESSING---------------------------------------------------------------**"
      ]
    },
    {
      "cell_type": "markdown",
      "source": [
        "**Books DataFrame**"
      ],
      "metadata": {
        "id": "Y1CI3OVog1D9"
      }
    },
    {
      "cell_type": "code",
      "source": [
        "books_df.columns"
      ],
      "metadata": {
        "colab": {
          "base_uri": "https://localhost:8080/"
        },
        "id": "3E8oowsNha4a",
        "outputId": "627cf10c-aad4-4a93-a828-ca4a7280a7bf"
      },
      "execution_count": null,
      "outputs": [
        {
          "output_type": "execute_result",
          "data": {
            "text/plain": [
              "Index(['ISBN', 'Book-Title', 'Book-Author', 'Year-Of-Publication', 'Publisher',\n",
              "       'Image-URL-S', 'Image-URL-M', 'Image-URL-L'],\n",
              "      dtype='object')"
            ]
          },
          "metadata": {},
          "execution_count": 9
        }
      ]
    },
    {
      "cell_type": "code",
      "execution_count": null,
      "metadata": {
        "colab": {
          "base_uri": "https://localhost:8080/"
        },
        "id": "ejJLibHjmuL8",
        "outputId": "75131151-3414-4aad-84b8-3afae4e2708d"
      },
      "outputs": [
        {
          "output_type": "execute_result",
          "data": {
            "text/plain": [
              "array([2002, 2001, 1991, 1999, 2000, 1993, 1996, 1988, 2004, 1998, 1994,\n",
              "       2003, 1997, 1983, 1979, 1995, 1982, 1985, 1992, 1986, 1978, 1980,\n",
              "       1952, 1987, 1990, 1981, 1989, 1984, 0, 1968, 1961, 1958, 1974,\n",
              "       1976, 1971, 1977, 1975, 1965, 1941, 1970, 1962, 1973, 1972, 1960,\n",
              "       1966, 1920, 1956, 1959, 1953, 1951, 1942, 1963, 1964, 1969, 1954,\n",
              "       1950, 1967, 2005, 1957, 1940, 1937, 1955, 1946, 1936, 1930, 2011,\n",
              "       1925, 1948, 1943, 1947, 1945, 1923, 2020, 1939, 1926, 1938, 2030,\n",
              "       1911, 1904, 1949, 1932, 1928, 1929, 1927, 1931, 1914, 2050, 1934,\n",
              "       1910, 1933, 1902, 1924, 1921, 1900, 2038, 2026, 1944, 1917, 1901,\n",
              "       2010, 1908, 1906, 1935, 1806, 2021, '2000', '1995', '1999', '2004',\n",
              "       '2003', '1990', '1994', '1986', '1989', '2002', '1981', '1993',\n",
              "       '1983', '1982', '1976', '1991', '1977', '1998', '1992', '1996',\n",
              "       '0', '1997', '2001', '1974', '1968', '1987', '1984', '1988',\n",
              "       '1963', '1956', '1970', '1985', '1978', '1973', '1980', '1979',\n",
              "       '1975', '1969', '1961', '1965', '1939', '1958', '1950', '1953',\n",
              "       '1966', '1971', '1959', '1972', '1955', '1957', '1945', '1960',\n",
              "       '1967', '1932', '1924', '1964', '2012', '1911', '1927', '1948',\n",
              "       '1962', '2006', '1952', '1940', '1951', '1931', '1954', '2005',\n",
              "       '1930', '1941', '1944', 'DK Publishing Inc', '1943', '1938',\n",
              "       '1900', '1942', '1923', '1920', '1933', 'Gallimard', '1909',\n",
              "       '1946', '2008', '1378', '2030', '1936', '1947', '2011', '2020',\n",
              "       '1919', '1949', '1922', '1897', '2024', '1376', '1926', '2037'],\n",
              "      dtype=object)"
            ]
          },
          "metadata": {},
          "execution_count": 10
        }
      ],
      "source": [
        "books_df['Year-Of-Publication'].unique()"
      ]
    },
    {
      "cell_type": "markdown",
      "metadata": {
        "id": "GOBfDU0iowl9"
      },
      "source": [
        "*We can observe that Year-Of-Publication have some misleading values and Publisher values for those column is replaced by Image-URL. Author have publishing year*"
      ]
    },
    {
      "cell_type": "code",
      "execution_count": null,
      "metadata": {
        "colab": {
          "base_uri": "https://localhost:8080/",
          "height": 214
        },
        "id": "z9YAswwcn3it",
        "outputId": "2de57e04-ebd4-481e-8735-4766d1d15a57"
      },
      "outputs": [
        {
          "output_type": "execute_result",
          "data": {
            "text/plain": [
              "              ISBN                                         Book-Title  \\\n",
              "220731  2070426769  Peuple du ciel, suivi de 'Les Bergers\\\";Jean-M...   \n",
              "\n",
              "       Book-Author Year-Of-Publication  \\\n",
              "220731        2003           Gallimard   \n",
              "\n",
              "                                                Publisher  \\\n",
              "220731  http://images.amazon.com/images/P/2070426769.0...   \n",
              "\n",
              "                                              Image-URL-S  \\\n",
              "220731  http://images.amazon.com/images/P/2070426769.0...   \n",
              "\n",
              "                                              Image-URL-M Image-URL-L  \n",
              "220731  http://images.amazon.com/images/P/2070426769.0...         NaN  "
            ],
            "text/html": [
              "\n",
              "  <div id=\"df-1bac6c34-b699-419a-8893-436edd1a4692\">\n",
              "    <div class=\"colab-df-container\">\n",
              "      <div>\n",
              "<style scoped>\n",
              "    .dataframe tbody tr th:only-of-type {\n",
              "        vertical-align: middle;\n",
              "    }\n",
              "\n",
              "    .dataframe tbody tr th {\n",
              "        vertical-align: top;\n",
              "    }\n",
              "\n",
              "    .dataframe thead th {\n",
              "        text-align: right;\n",
              "    }\n",
              "</style>\n",
              "<table border=\"1\" class=\"dataframe\">\n",
              "  <thead>\n",
              "    <tr style=\"text-align: right;\">\n",
              "      <th></th>\n",
              "      <th>ISBN</th>\n",
              "      <th>Book-Title</th>\n",
              "      <th>Book-Author</th>\n",
              "      <th>Year-Of-Publication</th>\n",
              "      <th>Publisher</th>\n",
              "      <th>Image-URL-S</th>\n",
              "      <th>Image-URL-M</th>\n",
              "      <th>Image-URL-L</th>\n",
              "    </tr>\n",
              "  </thead>\n",
              "  <tbody>\n",
              "    <tr>\n",
              "      <th>220731</th>\n",
              "      <td>2070426769</td>\n",
              "      <td>Peuple du ciel, suivi de 'Les Bergers\\\";Jean-M...</td>\n",
              "      <td>2003</td>\n",
              "      <td>Gallimard</td>\n",
              "      <td>http://images.amazon.com/images/P/2070426769.0...</td>\n",
              "      <td>http://images.amazon.com/images/P/2070426769.0...</td>\n",
              "      <td>http://images.amazon.com/images/P/2070426769.0...</td>\n",
              "      <td>NaN</td>\n",
              "    </tr>\n",
              "  </tbody>\n",
              "</table>\n",
              "</div>\n",
              "      <button class=\"colab-df-convert\" onclick=\"convertToInteractive('df-1bac6c34-b699-419a-8893-436edd1a4692')\"\n",
              "              title=\"Convert this dataframe to an interactive table.\"\n",
              "              style=\"display:none;\">\n",
              "        \n",
              "  <svg xmlns=\"http://www.w3.org/2000/svg\" height=\"24px\"viewBox=\"0 0 24 24\"\n",
              "       width=\"24px\">\n",
              "    <path d=\"M0 0h24v24H0V0z\" fill=\"none\"/>\n",
              "    <path d=\"M18.56 5.44l.94 2.06.94-2.06 2.06-.94-2.06-.94-.94-2.06-.94 2.06-2.06.94zm-11 1L8.5 8.5l.94-2.06 2.06-.94-2.06-.94L8.5 2.5l-.94 2.06-2.06.94zm10 10l.94 2.06.94-2.06 2.06-.94-2.06-.94-.94-2.06-.94 2.06-2.06.94z\"/><path d=\"M17.41 7.96l-1.37-1.37c-.4-.4-.92-.59-1.43-.59-.52 0-1.04.2-1.43.59L10.3 9.45l-7.72 7.72c-.78.78-.78 2.05 0 2.83L4 21.41c.39.39.9.59 1.41.59.51 0 1.02-.2 1.41-.59l7.78-7.78 2.81-2.81c.8-.78.8-2.07 0-2.86zM5.41 20L4 18.59l7.72-7.72 1.47 1.35L5.41 20z\"/>\n",
              "  </svg>\n",
              "      </button>\n",
              "      \n",
              "  <style>\n",
              "    .colab-df-container {\n",
              "      display:flex;\n",
              "      flex-wrap:wrap;\n",
              "      gap: 12px;\n",
              "    }\n",
              "\n",
              "    .colab-df-convert {\n",
              "      background-color: #E8F0FE;\n",
              "      border: none;\n",
              "      border-radius: 50%;\n",
              "      cursor: pointer;\n",
              "      display: none;\n",
              "      fill: #1967D2;\n",
              "      height: 32px;\n",
              "      padding: 0 0 0 0;\n",
              "      width: 32px;\n",
              "    }\n",
              "\n",
              "    .colab-df-convert:hover {\n",
              "      background-color: #E2EBFA;\n",
              "      box-shadow: 0px 1px 2px rgba(60, 64, 67, 0.3), 0px 1px 3px 1px rgba(60, 64, 67, 0.15);\n",
              "      fill: #174EA6;\n",
              "    }\n",
              "\n",
              "    [theme=dark] .colab-df-convert {\n",
              "      background-color: #3B4455;\n",
              "      fill: #D2E3FC;\n",
              "    }\n",
              "\n",
              "    [theme=dark] .colab-df-convert:hover {\n",
              "      background-color: #434B5C;\n",
              "      box-shadow: 0px 1px 3px 1px rgba(0, 0, 0, 0.15);\n",
              "      filter: drop-shadow(0px 1px 2px rgba(0, 0, 0, 0.3));\n",
              "      fill: #FFFFFF;\n",
              "    }\n",
              "  </style>\n",
              "\n",
              "      <script>\n",
              "        const buttonEl =\n",
              "          document.querySelector('#df-1bac6c34-b699-419a-8893-436edd1a4692 button.colab-df-convert');\n",
              "        buttonEl.style.display =\n",
              "          google.colab.kernel.accessAllowed ? 'block' : 'none';\n",
              "\n",
              "        async function convertToInteractive(key) {\n",
              "          const element = document.querySelector('#df-1bac6c34-b699-419a-8893-436edd1a4692');\n",
              "          const dataTable =\n",
              "            await google.colab.kernel.invokeFunction('convertToInteractive',\n",
              "                                                     [key], {});\n",
              "          if (!dataTable) return;\n",
              "\n",
              "          const docLinkHtml = 'Like what you see? Visit the ' +\n",
              "            '<a target=\"_blank\" href=https://colab.research.google.com/notebooks/data_table.ipynb>data table notebook</a>'\n",
              "            + ' to learn more about interactive tables.';\n",
              "          element.innerHTML = '';\n",
              "          dataTable['output_type'] = 'display_data';\n",
              "          await google.colab.output.renderOutput(dataTable, element);\n",
              "          const docLink = document.createElement('div');\n",
              "          docLink.innerHTML = docLinkHtml;\n",
              "          element.appendChild(docLink);\n",
              "        }\n",
              "      </script>\n",
              "    </div>\n",
              "  </div>\n",
              "  "
            ]
          },
          "metadata": {},
          "execution_count": 11
        }
      ],
      "source": [
        "books_df[books_df['Year-Of-Publication'] == 'Gallimard']"
      ]
    },
    {
      "cell_type": "code",
      "execution_count": null,
      "metadata": {
        "colab": {
          "base_uri": "https://localhost:8080/",
          "height": 419
        },
        "id": "aK-7ISgIobSg",
        "outputId": "164d9730-3f6f-4890-d32c-202c22b1358f"
      },
      "outputs": [
        {
          "output_type": "execute_result",
          "data": {
            "text/plain": [
              "              ISBN                                         Book-Title  \\\n",
              "209538  078946697X  DK Readers: Creating the X-Men, How It All Beg...   \n",
              "221678  0789466953  DK Readers: Creating the X-Men, How Comic Book...   \n",
              "\n",
              "       Book-Author Year-Of-Publication  \\\n",
              "209538        2000   DK Publishing Inc   \n",
              "221678        2000   DK Publishing Inc   \n",
              "\n",
              "                                                Publisher  \\\n",
              "209538  http://images.amazon.com/images/P/078946697X.0...   \n",
              "221678  http://images.amazon.com/images/P/0789466953.0...   \n",
              "\n",
              "                                              Image-URL-S  \\\n",
              "209538  http://images.amazon.com/images/P/078946697X.0...   \n",
              "221678  http://images.amazon.com/images/P/0789466953.0...   \n",
              "\n",
              "                                              Image-URL-M Image-URL-L  \n",
              "209538  http://images.amazon.com/images/P/078946697X.0...         NaN  \n",
              "221678  http://images.amazon.com/images/P/0789466953.0...         NaN  "
            ],
            "text/html": [
              "\n",
              "  <div id=\"df-d30d292c-2928-46b6-a794-9ef395ce8e31\">\n",
              "    <div class=\"colab-df-container\">\n",
              "      <div>\n",
              "<style scoped>\n",
              "    .dataframe tbody tr th:only-of-type {\n",
              "        vertical-align: middle;\n",
              "    }\n",
              "\n",
              "    .dataframe tbody tr th {\n",
              "        vertical-align: top;\n",
              "    }\n",
              "\n",
              "    .dataframe thead th {\n",
              "        text-align: right;\n",
              "    }\n",
              "</style>\n",
              "<table border=\"1\" class=\"dataframe\">\n",
              "  <thead>\n",
              "    <tr style=\"text-align: right;\">\n",
              "      <th></th>\n",
              "      <th>ISBN</th>\n",
              "      <th>Book-Title</th>\n",
              "      <th>Book-Author</th>\n",
              "      <th>Year-Of-Publication</th>\n",
              "      <th>Publisher</th>\n",
              "      <th>Image-URL-S</th>\n",
              "      <th>Image-URL-M</th>\n",
              "      <th>Image-URL-L</th>\n",
              "    </tr>\n",
              "  </thead>\n",
              "  <tbody>\n",
              "    <tr>\n",
              "      <th>209538</th>\n",
              "      <td>078946697X</td>\n",
              "      <td>DK Readers: Creating the X-Men, How It All Beg...</td>\n",
              "      <td>2000</td>\n",
              "      <td>DK Publishing Inc</td>\n",
              "      <td>http://images.amazon.com/images/P/078946697X.0...</td>\n",
              "      <td>http://images.amazon.com/images/P/078946697X.0...</td>\n",
              "      <td>http://images.amazon.com/images/P/078946697X.0...</td>\n",
              "      <td>NaN</td>\n",
              "    </tr>\n",
              "    <tr>\n",
              "      <th>221678</th>\n",
              "      <td>0789466953</td>\n",
              "      <td>DK Readers: Creating the X-Men, How Comic Book...</td>\n",
              "      <td>2000</td>\n",
              "      <td>DK Publishing Inc</td>\n",
              "      <td>http://images.amazon.com/images/P/0789466953.0...</td>\n",
              "      <td>http://images.amazon.com/images/P/0789466953.0...</td>\n",
              "      <td>http://images.amazon.com/images/P/0789466953.0...</td>\n",
              "      <td>NaN</td>\n",
              "    </tr>\n",
              "  </tbody>\n",
              "</table>\n",
              "</div>\n",
              "      <button class=\"colab-df-convert\" onclick=\"convertToInteractive('df-d30d292c-2928-46b6-a794-9ef395ce8e31')\"\n",
              "              title=\"Convert this dataframe to an interactive table.\"\n",
              "              style=\"display:none;\">\n",
              "        \n",
              "  <svg xmlns=\"http://www.w3.org/2000/svg\" height=\"24px\"viewBox=\"0 0 24 24\"\n",
              "       width=\"24px\">\n",
              "    <path d=\"M0 0h24v24H0V0z\" fill=\"none\"/>\n",
              "    <path d=\"M18.56 5.44l.94 2.06.94-2.06 2.06-.94-2.06-.94-.94-2.06-.94 2.06-2.06.94zm-11 1L8.5 8.5l.94-2.06 2.06-.94-2.06-.94L8.5 2.5l-.94 2.06-2.06.94zm10 10l.94 2.06.94-2.06 2.06-.94-2.06-.94-.94-2.06-.94 2.06-2.06.94z\"/><path d=\"M17.41 7.96l-1.37-1.37c-.4-.4-.92-.59-1.43-.59-.52 0-1.04.2-1.43.59L10.3 9.45l-7.72 7.72c-.78.78-.78 2.05 0 2.83L4 21.41c.39.39.9.59 1.41.59.51 0 1.02-.2 1.41-.59l7.78-7.78 2.81-2.81c.8-.78.8-2.07 0-2.86zM5.41 20L4 18.59l7.72-7.72 1.47 1.35L5.41 20z\"/>\n",
              "  </svg>\n",
              "      </button>\n",
              "      \n",
              "  <style>\n",
              "    .colab-df-container {\n",
              "      display:flex;\n",
              "      flex-wrap:wrap;\n",
              "      gap: 12px;\n",
              "    }\n",
              "\n",
              "    .colab-df-convert {\n",
              "      background-color: #E8F0FE;\n",
              "      border: none;\n",
              "      border-radius: 50%;\n",
              "      cursor: pointer;\n",
              "      display: none;\n",
              "      fill: #1967D2;\n",
              "      height: 32px;\n",
              "      padding: 0 0 0 0;\n",
              "      width: 32px;\n",
              "    }\n",
              "\n",
              "    .colab-df-convert:hover {\n",
              "      background-color: #E2EBFA;\n",
              "      box-shadow: 0px 1px 2px rgba(60, 64, 67, 0.3), 0px 1px 3px 1px rgba(60, 64, 67, 0.15);\n",
              "      fill: #174EA6;\n",
              "    }\n",
              "\n",
              "    [theme=dark] .colab-df-convert {\n",
              "      background-color: #3B4455;\n",
              "      fill: #D2E3FC;\n",
              "    }\n",
              "\n",
              "    [theme=dark] .colab-df-convert:hover {\n",
              "      background-color: #434B5C;\n",
              "      box-shadow: 0px 1px 3px 1px rgba(0, 0, 0, 0.15);\n",
              "      filter: drop-shadow(0px 1px 2px rgba(0, 0, 0, 0.3));\n",
              "      fill: #FFFFFF;\n",
              "    }\n",
              "  </style>\n",
              "\n",
              "      <script>\n",
              "        const buttonEl =\n",
              "          document.querySelector('#df-d30d292c-2928-46b6-a794-9ef395ce8e31 button.colab-df-convert');\n",
              "        buttonEl.style.display =\n",
              "          google.colab.kernel.accessAllowed ? 'block' : 'none';\n",
              "\n",
              "        async function convertToInteractive(key) {\n",
              "          const element = document.querySelector('#df-d30d292c-2928-46b6-a794-9ef395ce8e31');\n",
              "          const dataTable =\n",
              "            await google.colab.kernel.invokeFunction('convertToInteractive',\n",
              "                                                     [key], {});\n",
              "          if (!dataTable) return;\n",
              "\n",
              "          const docLinkHtml = 'Like what you see? Visit the ' +\n",
              "            '<a target=\"_blank\" href=https://colab.research.google.com/notebooks/data_table.ipynb>data table notebook</a>'\n",
              "            + ' to learn more about interactive tables.';\n",
              "          element.innerHTML = '';\n",
              "          dataTable['output_type'] = 'display_data';\n",
              "          await google.colab.output.renderOutput(dataTable, element);\n",
              "          const docLink = document.createElement('div');\n",
              "          docLink.innerHTML = docLinkHtml;\n",
              "          element.appendChild(docLink);\n",
              "        }\n",
              "      </script>\n",
              "    </div>\n",
              "  </div>\n",
              "  "
            ]
          },
          "metadata": {},
          "execution_count": 12
        }
      ],
      "source": [
        "books_df[books_df['Year-Of-Publication'] == 'DK Publishing Inc']"
      ]
    },
    {
      "cell_type": "code",
      "execution_count": null,
      "metadata": {
        "id": "5mf3y4LcpyTl"
      },
      "outputs": [],
      "source": [
        "## Replacing Year-Of-Publication misleading values to actual year it was published which is given in Book-Author column\n",
        "books_df.loc[(books_df['Year-Of-Publication'] == 'DK Publishing Inc'), 'Year-Of-Publication'] = 2000\n",
        "books_df.loc[(books_df['Year-Of-Publication'] == 'Gallimard'), 'Year-Of-Publication'] = 2003"
      ]
    },
    {
      "cell_type": "code",
      "execution_count": null,
      "metadata": {
        "colab": {
          "base_uri": "https://localhost:8080/"
        },
        "id": "wzOqhExerrzS",
        "outputId": "5fbf3525-9c51-4657-b148-67415c36a083"
      },
      "outputs": [
        {
          "output_type": "execute_result",
          "data": {
            "text/plain": [
              "array([2002, 2001, 1991, 1999, 2000, 1993, 1996, 1988, 2004, 1998, 1994,\n",
              "       2003, 1997, 1983, 1979, 1995, 1982, 1985, 1992, 1986, 1978, 1980,\n",
              "       1952, 1987, 1990, 1981, 1989, 1984, 0, 1968, 1961, 1958, 1974,\n",
              "       1976, 1971, 1977, 1975, 1965, 1941, 1970, 1962, 1973, 1972, 1960,\n",
              "       1966, 1920, 1956, 1959, 1953, 1951, 1942, 1963, 1964, 1969, 1954,\n",
              "       1950, 1967, 2005, 1957, 1940, 1937, 1955, 1946, 1936, 1930, 2011,\n",
              "       1925, 1948, 1943, 1947, 1945, 1923, 2020, 1939, 1926, 1938, 2030,\n",
              "       1911, 1904, 1949, 1932, 1928, 1929, 1927, 1931, 1914, 2050, 1934,\n",
              "       1910, 1933, 1902, 1924, 1921, 1900, 2038, 2026, 1944, 1917, 1901,\n",
              "       2010, 1908, 1906, 1935, 1806, 2021, '2000', '1995', '1999', '2004',\n",
              "       '2003', '1990', '1994', '1986', '1989', '2002', '1981', '1993',\n",
              "       '1983', '1982', '1976', '1991', '1977', '1998', '1992', '1996',\n",
              "       '0', '1997', '2001', '1974', '1968', '1987', '1984', '1988',\n",
              "       '1963', '1956', '1970', '1985', '1978', '1973', '1980', '1979',\n",
              "       '1975', '1969', '1961', '1965', '1939', '1958', '1950', '1953',\n",
              "       '1966', '1971', '1959', '1972', '1955', '1957', '1945', '1960',\n",
              "       '1967', '1932', '1924', '1964', '2012', '1911', '1927', '1948',\n",
              "       '1962', '2006', '1952', '1940', '1951', '1931', '1954', '2005',\n",
              "       '1930', '1941', '1944', '1943', '1938', '1900', '1942', '1923',\n",
              "       '1920', '1933', '1909', '1946', '2008', '1378', '2030', '1936',\n",
              "       '1947', '2011', '2020', '1919', '1949', '1922', '1897', '2024',\n",
              "       '1376', '1926', '2037'], dtype=object)"
            ]
          },
          "metadata": {},
          "execution_count": 14
        }
      ],
      "source": [
        "books_df['Year-Of-Publication'].unique()"
      ]
    },
    {
      "cell_type": "code",
      "execution_count": null,
      "metadata": {
        "id": "E-xz00hTsKRR"
      },
      "outputs": [],
      "source": [
        "books_df['Year-Of-Publication'] = books_df['Year-Of-Publication'].astype('int')"
      ]
    },
    {
      "cell_type": "code",
      "source": [
        "books_df['Year-Of-Publication'].unique()"
      ],
      "metadata": {
        "colab": {
          "base_uri": "https://localhost:8080/"
        },
        "id": "eKBKyiyJXnk7",
        "outputId": "57d8075f-e19b-4e7a-b671-1101ef2ec376"
      },
      "execution_count": null,
      "outputs": [
        {
          "output_type": "execute_result",
          "data": {
            "text/plain": [
              "array([2002, 2001, 1991, 1999, 2000, 1993, 1996, 1988, 2004, 1998, 1994,\n",
              "       2003, 1997, 1983, 1979, 1995, 1982, 1985, 1992, 1986, 1978, 1980,\n",
              "       1952, 1987, 1990, 1981, 1989, 1984,    0, 1968, 1961, 1958, 1974,\n",
              "       1976, 1971, 1977, 1975, 1965, 1941, 1970, 1962, 1973, 1972, 1960,\n",
              "       1966, 1920, 1956, 1959, 1953, 1951, 1942, 1963, 1964, 1969, 1954,\n",
              "       1950, 1967, 2005, 1957, 1940, 1937, 1955, 1946, 1936, 1930, 2011,\n",
              "       1925, 1948, 1943, 1947, 1945, 1923, 2020, 1939, 1926, 1938, 2030,\n",
              "       1911, 1904, 1949, 1932, 1928, 1929, 1927, 1931, 1914, 2050, 1934,\n",
              "       1910, 1933, 1902, 1924, 1921, 1900, 2038, 2026, 1944, 1917, 1901,\n",
              "       2010, 1908, 1906, 1935, 1806, 2021, 2012, 2006, 1909, 2008, 1378,\n",
              "       1919, 1922, 1897, 2024, 1376, 2037])"
            ]
          },
          "metadata": {},
          "execution_count": 16
        }
      ]
    },
    {
      "cell_type": "markdown",
      "source": [
        "*116 unique values present. But now too there is misleading values. Such as year is 0 or even year is 2024,2038, etc. Let's handle this now.*"
      ],
      "metadata": {
        "id": "qV_NgWrdXwcf"
      }
    },
    {
      "cell_type": "code",
      "source": [
        "books_df.loc[(books_df['Year-Of-Publication'] == 0) | (books_df['Year-Of-Publication'] > 2022)].nunique()"
      ],
      "metadata": {
        "colab": {
          "base_uri": "https://localhost:8080/"
        },
        "id": "wPYE3dgxYF70",
        "outputId": "d2ab8228-d894-4715-e56b-c07c05eac241"
      },
      "execution_count": null,
      "outputs": [
        {
          "output_type": "execute_result",
          "data": {
            "text/plain": [
              "ISBN                   4631\n",
              "Book-Title             4485\n",
              "Book-Author            3314\n",
              "Year-Of-Publication       7\n",
              "Publisher              1002\n",
              "Image-URL-S            4624\n",
              "Image-URL-M            4624\n",
              "Image-URL-L            4624\n",
              "dtype: int64"
            ]
          },
          "metadata": {},
          "execution_count": 17
        }
      ]
    },
    {
      "cell_type": "markdown",
      "source": [
        "*Thus, there are total 7 years where value is either 0 or greater than 2022. Let's change that value with np.nan*"
      ],
      "metadata": {
        "id": "Go1EazVDdbcT"
      }
    },
    {
      "cell_type": "code",
      "source": [
        "books_df.loc[(books_df['Year-Of-Publication'] == 0) | (books_df['Year-Of-Publication'] > 2022), 'Year-Of-Publication'] = np.nan"
      ],
      "metadata": {
        "id": "ND-kn-5xdl2L"
      },
      "execution_count": null,
      "outputs": []
    },
    {
      "cell_type": "code",
      "source": [
        "books_df.loc[(books_df['Year-Of-Publication'] == 0) | (books_df['Year-Of-Publication'] > 2022)].nunique()"
      ],
      "metadata": {
        "colab": {
          "base_uri": "https://localhost:8080/"
        },
        "id": "zyX35CcKdo07",
        "outputId": "14d170e5-148a-4d3c-a41e-2552c868a408"
      },
      "execution_count": null,
      "outputs": [
        {
          "output_type": "execute_result",
          "data": {
            "text/plain": [
              "ISBN                   0\n",
              "Book-Title             0\n",
              "Book-Author            0\n",
              "Year-Of-Publication    0\n",
              "Publisher              0\n",
              "Image-URL-S            0\n",
              "Image-URL-M            0\n",
              "Image-URL-L            0\n",
              "dtype: int64"
            ]
          },
          "metadata": {},
          "execution_count": 19
        }
      ]
    },
    {
      "cell_type": "code",
      "source": [
        "books_df.isna().sum()"
      ],
      "metadata": {
        "colab": {
          "base_uri": "https://localhost:8080/"
        },
        "id": "GZfwDHBchn9h",
        "outputId": "253a35ee-ee3b-4ade-c69f-9f4bfa2939cb"
      },
      "execution_count": null,
      "outputs": [
        {
          "output_type": "execute_result",
          "data": {
            "text/plain": [
              "ISBN                      0\n",
              "Book-Title                0\n",
              "Book-Author               1\n",
              "Year-Of-Publication    4631\n",
              "Publisher                 2\n",
              "Image-URL-S               0\n",
              "Image-URL-M               0\n",
              "Image-URL-L               3\n",
              "dtype: int64"
            ]
          },
          "metadata": {},
          "execution_count": 20
        }
      ]
    },
    {
      "cell_type": "markdown",
      "source": [
        "*There are many nan values, let's replace it with the mean*"
      ],
      "metadata": {
        "id": "qqOF_C6-Acfu"
      }
    },
    {
      "cell_type": "code",
      "source": [
        "books_df['Year-Of-Publication'].fillna(round(books_df['Year-Of-Publication'].mean()), inplace = True)"
      ],
      "metadata": {
        "id": "6k3uYYS8WFpZ"
      },
      "execution_count": null,
      "outputs": []
    },
    {
      "cell_type": "code",
      "source": [
        "books_df.isna().sum()"
      ],
      "metadata": {
        "colab": {
          "base_uri": "https://localhost:8080/"
        },
        "id": "EYvcr0p_BB3N",
        "outputId": "a8c23801-fd11-4490-ade7-145a36c06440"
      },
      "execution_count": null,
      "outputs": [
        {
          "output_type": "execute_result",
          "data": {
            "text/plain": [
              "ISBN                   0\n",
              "Book-Title             0\n",
              "Book-Author            1\n",
              "Year-Of-Publication    0\n",
              "Publisher              2\n",
              "Image-URL-S            0\n",
              "Image-URL-M            0\n",
              "Image-URL-L            3\n",
              "dtype: int64"
            ]
          },
          "metadata": {},
          "execution_count": 22
        }
      ]
    },
    {
      "cell_type": "code",
      "source": [
        "books_df.head()"
      ],
      "metadata": {
        "colab": {
          "base_uri": "https://localhost:8080/",
          "height": 478
        },
        "id": "LXuMHJ79BErT",
        "outputId": "09599d87-5f94-4818-f94a-e1f1f9deefd1"
      },
      "execution_count": null,
      "outputs": [
        {
          "output_type": "execute_result",
          "data": {
            "text/plain": [
              "         ISBN                                         Book-Title  \\\n",
              "0  0195153448                                Classical Mythology   \n",
              "1  0002005018                                       Clara Callan   \n",
              "2  0060973129                               Decision in Normandy   \n",
              "3  0374157065  Flu: The Story of the Great Influenza Pandemic...   \n",
              "4  0393045218                             The Mummies of Urumchi   \n",
              "\n",
              "            Book-Author  Year-Of-Publication                   Publisher  \\\n",
              "0    Mark P. O. Morford               2002.0     Oxford University Press   \n",
              "1  Richard Bruce Wright               2001.0       HarperFlamingo Canada   \n",
              "2          Carlo D'Este               1991.0             HarperPerennial   \n",
              "3      Gina Bari Kolata               1999.0        Farrar Straus Giroux   \n",
              "4       E. J. W. Barber               1999.0  W. W. Norton &amp; Company   \n",
              "\n",
              "                                         Image-URL-S  \\\n",
              "0  http://images.amazon.com/images/P/0195153448.0...   \n",
              "1  http://images.amazon.com/images/P/0002005018.0...   \n",
              "2  http://images.amazon.com/images/P/0060973129.0...   \n",
              "3  http://images.amazon.com/images/P/0374157065.0...   \n",
              "4  http://images.amazon.com/images/P/0393045218.0...   \n",
              "\n",
              "                                         Image-URL-M  \\\n",
              "0  http://images.amazon.com/images/P/0195153448.0...   \n",
              "1  http://images.amazon.com/images/P/0002005018.0...   \n",
              "2  http://images.amazon.com/images/P/0060973129.0...   \n",
              "3  http://images.amazon.com/images/P/0374157065.0...   \n",
              "4  http://images.amazon.com/images/P/0393045218.0...   \n",
              "\n",
              "                                         Image-URL-L  \n",
              "0  http://images.amazon.com/images/P/0195153448.0...  \n",
              "1  http://images.amazon.com/images/P/0002005018.0...  \n",
              "2  http://images.amazon.com/images/P/0060973129.0...  \n",
              "3  http://images.amazon.com/images/P/0374157065.0...  \n",
              "4  http://images.amazon.com/images/P/0393045218.0...  "
            ],
            "text/html": [
              "\n",
              "  <div id=\"df-cfc0cbc0-8882-414b-ac39-231bfd71591c\">\n",
              "    <div class=\"colab-df-container\">\n",
              "      <div>\n",
              "<style scoped>\n",
              "    .dataframe tbody tr th:only-of-type {\n",
              "        vertical-align: middle;\n",
              "    }\n",
              "\n",
              "    .dataframe tbody tr th {\n",
              "        vertical-align: top;\n",
              "    }\n",
              "\n",
              "    .dataframe thead th {\n",
              "        text-align: right;\n",
              "    }\n",
              "</style>\n",
              "<table border=\"1\" class=\"dataframe\">\n",
              "  <thead>\n",
              "    <tr style=\"text-align: right;\">\n",
              "      <th></th>\n",
              "      <th>ISBN</th>\n",
              "      <th>Book-Title</th>\n",
              "      <th>Book-Author</th>\n",
              "      <th>Year-Of-Publication</th>\n",
              "      <th>Publisher</th>\n",
              "      <th>Image-URL-S</th>\n",
              "      <th>Image-URL-M</th>\n",
              "      <th>Image-URL-L</th>\n",
              "    </tr>\n",
              "  </thead>\n",
              "  <tbody>\n",
              "    <tr>\n",
              "      <th>0</th>\n",
              "      <td>0195153448</td>\n",
              "      <td>Classical Mythology</td>\n",
              "      <td>Mark P. O. Morford</td>\n",
              "      <td>2002.0</td>\n",
              "      <td>Oxford University Press</td>\n",
              "      <td>http://images.amazon.com/images/P/0195153448.0...</td>\n",
              "      <td>http://images.amazon.com/images/P/0195153448.0...</td>\n",
              "      <td>http://images.amazon.com/images/P/0195153448.0...</td>\n",
              "    </tr>\n",
              "    <tr>\n",
              "      <th>1</th>\n",
              "      <td>0002005018</td>\n",
              "      <td>Clara Callan</td>\n",
              "      <td>Richard Bruce Wright</td>\n",
              "      <td>2001.0</td>\n",
              "      <td>HarperFlamingo Canada</td>\n",
              "      <td>http://images.amazon.com/images/P/0002005018.0...</td>\n",
              "      <td>http://images.amazon.com/images/P/0002005018.0...</td>\n",
              "      <td>http://images.amazon.com/images/P/0002005018.0...</td>\n",
              "    </tr>\n",
              "    <tr>\n",
              "      <th>2</th>\n",
              "      <td>0060973129</td>\n",
              "      <td>Decision in Normandy</td>\n",
              "      <td>Carlo D'Este</td>\n",
              "      <td>1991.0</td>\n",
              "      <td>HarperPerennial</td>\n",
              "      <td>http://images.amazon.com/images/P/0060973129.0...</td>\n",
              "      <td>http://images.amazon.com/images/P/0060973129.0...</td>\n",
              "      <td>http://images.amazon.com/images/P/0060973129.0...</td>\n",
              "    </tr>\n",
              "    <tr>\n",
              "      <th>3</th>\n",
              "      <td>0374157065</td>\n",
              "      <td>Flu: The Story of the Great Influenza Pandemic...</td>\n",
              "      <td>Gina Bari Kolata</td>\n",
              "      <td>1999.0</td>\n",
              "      <td>Farrar Straus Giroux</td>\n",
              "      <td>http://images.amazon.com/images/P/0374157065.0...</td>\n",
              "      <td>http://images.amazon.com/images/P/0374157065.0...</td>\n",
              "      <td>http://images.amazon.com/images/P/0374157065.0...</td>\n",
              "    </tr>\n",
              "    <tr>\n",
              "      <th>4</th>\n",
              "      <td>0393045218</td>\n",
              "      <td>The Mummies of Urumchi</td>\n",
              "      <td>E. J. W. Barber</td>\n",
              "      <td>1999.0</td>\n",
              "      <td>W. W. Norton &amp;amp; Company</td>\n",
              "      <td>http://images.amazon.com/images/P/0393045218.0...</td>\n",
              "      <td>http://images.amazon.com/images/P/0393045218.0...</td>\n",
              "      <td>http://images.amazon.com/images/P/0393045218.0...</td>\n",
              "    </tr>\n",
              "  </tbody>\n",
              "</table>\n",
              "</div>\n",
              "      <button class=\"colab-df-convert\" onclick=\"convertToInteractive('df-cfc0cbc0-8882-414b-ac39-231bfd71591c')\"\n",
              "              title=\"Convert this dataframe to an interactive table.\"\n",
              "              style=\"display:none;\">\n",
              "        \n",
              "  <svg xmlns=\"http://www.w3.org/2000/svg\" height=\"24px\"viewBox=\"0 0 24 24\"\n",
              "       width=\"24px\">\n",
              "    <path d=\"M0 0h24v24H0V0z\" fill=\"none\"/>\n",
              "    <path d=\"M18.56 5.44l.94 2.06.94-2.06 2.06-.94-2.06-.94-.94-2.06-.94 2.06-2.06.94zm-11 1L8.5 8.5l.94-2.06 2.06-.94-2.06-.94L8.5 2.5l-.94 2.06-2.06.94zm10 10l.94 2.06.94-2.06 2.06-.94-2.06-.94-.94-2.06-.94 2.06-2.06.94z\"/><path d=\"M17.41 7.96l-1.37-1.37c-.4-.4-.92-.59-1.43-.59-.52 0-1.04.2-1.43.59L10.3 9.45l-7.72 7.72c-.78.78-.78 2.05 0 2.83L4 21.41c.39.39.9.59 1.41.59.51 0 1.02-.2 1.41-.59l7.78-7.78 2.81-2.81c.8-.78.8-2.07 0-2.86zM5.41 20L4 18.59l7.72-7.72 1.47 1.35L5.41 20z\"/>\n",
              "  </svg>\n",
              "      </button>\n",
              "      \n",
              "  <style>\n",
              "    .colab-df-container {\n",
              "      display:flex;\n",
              "      flex-wrap:wrap;\n",
              "      gap: 12px;\n",
              "    }\n",
              "\n",
              "    .colab-df-convert {\n",
              "      background-color: #E8F0FE;\n",
              "      border: none;\n",
              "      border-radius: 50%;\n",
              "      cursor: pointer;\n",
              "      display: none;\n",
              "      fill: #1967D2;\n",
              "      height: 32px;\n",
              "      padding: 0 0 0 0;\n",
              "      width: 32px;\n",
              "    }\n",
              "\n",
              "    .colab-df-convert:hover {\n",
              "      background-color: #E2EBFA;\n",
              "      box-shadow: 0px 1px 2px rgba(60, 64, 67, 0.3), 0px 1px 3px 1px rgba(60, 64, 67, 0.15);\n",
              "      fill: #174EA6;\n",
              "    }\n",
              "\n",
              "    [theme=dark] .colab-df-convert {\n",
              "      background-color: #3B4455;\n",
              "      fill: #D2E3FC;\n",
              "    }\n",
              "\n",
              "    [theme=dark] .colab-df-convert:hover {\n",
              "      background-color: #434B5C;\n",
              "      box-shadow: 0px 1px 3px 1px rgba(0, 0, 0, 0.15);\n",
              "      filter: drop-shadow(0px 1px 2px rgba(0, 0, 0, 0.3));\n",
              "      fill: #FFFFFF;\n",
              "    }\n",
              "  </style>\n",
              "\n",
              "      <script>\n",
              "        const buttonEl =\n",
              "          document.querySelector('#df-cfc0cbc0-8882-414b-ac39-231bfd71591c button.colab-df-convert');\n",
              "        buttonEl.style.display =\n",
              "          google.colab.kernel.accessAllowed ? 'block' : 'none';\n",
              "\n",
              "        async function convertToInteractive(key) {\n",
              "          const element = document.querySelector('#df-cfc0cbc0-8882-414b-ac39-231bfd71591c');\n",
              "          const dataTable =\n",
              "            await google.colab.kernel.invokeFunction('convertToInteractive',\n",
              "                                                     [key], {});\n",
              "          if (!dataTable) return;\n",
              "\n",
              "          const docLinkHtml = 'Like what you see? Visit the ' +\n",
              "            '<a target=\"_blank\" href=https://colab.research.google.com/notebooks/data_table.ipynb>data table notebook</a>'\n",
              "            + ' to learn more about interactive tables.';\n",
              "          element.innerHTML = '';\n",
              "          dataTable['output_type'] = 'display_data';\n",
              "          await google.colab.output.renderOutput(dataTable, element);\n",
              "          const docLink = document.createElement('div');\n",
              "          docLink.innerHTML = docLinkHtml;\n",
              "          element.appendChild(docLink);\n",
              "        }\n",
              "      </script>\n",
              "    </div>\n",
              "  </div>\n",
              "  "
            ]
          },
          "metadata": {},
          "execution_count": 23
        }
      ]
    },
    {
      "cell_type": "markdown",
      "source": [
        "Dropping the unwanted features from books dataframe."
      ],
      "metadata": {
        "id": "qKdfkjJtBT5K"
      }
    },
    {
      "cell_type": "code",
      "source": [
        "books_df.drop(columns = ['Image-URL-S', 'Image-URL-M', 'Image-URL-L'], axis = 1, inplace  = True)"
      ],
      "metadata": {
        "id": "79KE0q0qBKwB"
      },
      "execution_count": null,
      "outputs": []
    },
    {
      "cell_type": "code",
      "source": [
        "books_df.head()"
      ],
      "metadata": {
        "colab": {
          "base_uri": "https://localhost:8080/",
          "height": 206
        },
        "id": "ul8QzfXIBjdM",
        "outputId": "62743ba2-d5d4-4b77-97d4-e363718c53b4"
      },
      "execution_count": null,
      "outputs": [
        {
          "output_type": "execute_result",
          "data": {
            "text/plain": [
              "         ISBN                                         Book-Title  \\\n",
              "0  0195153448                                Classical Mythology   \n",
              "1  0002005018                                       Clara Callan   \n",
              "2  0060973129                               Decision in Normandy   \n",
              "3  0374157065  Flu: The Story of the Great Influenza Pandemic...   \n",
              "4  0393045218                             The Mummies of Urumchi   \n",
              "\n",
              "            Book-Author  Year-Of-Publication                   Publisher  \n",
              "0    Mark P. O. Morford               2002.0     Oxford University Press  \n",
              "1  Richard Bruce Wright               2001.0       HarperFlamingo Canada  \n",
              "2          Carlo D'Este               1991.0             HarperPerennial  \n",
              "3      Gina Bari Kolata               1999.0        Farrar Straus Giroux  \n",
              "4       E. J. W. Barber               1999.0  W. W. Norton &amp; Company  "
            ],
            "text/html": [
              "\n",
              "  <div id=\"df-be71ed03-a3e9-4262-993f-9c4158dfae55\">\n",
              "    <div class=\"colab-df-container\">\n",
              "      <div>\n",
              "<style scoped>\n",
              "    .dataframe tbody tr th:only-of-type {\n",
              "        vertical-align: middle;\n",
              "    }\n",
              "\n",
              "    .dataframe tbody tr th {\n",
              "        vertical-align: top;\n",
              "    }\n",
              "\n",
              "    .dataframe thead th {\n",
              "        text-align: right;\n",
              "    }\n",
              "</style>\n",
              "<table border=\"1\" class=\"dataframe\">\n",
              "  <thead>\n",
              "    <tr style=\"text-align: right;\">\n",
              "      <th></th>\n",
              "      <th>ISBN</th>\n",
              "      <th>Book-Title</th>\n",
              "      <th>Book-Author</th>\n",
              "      <th>Year-Of-Publication</th>\n",
              "      <th>Publisher</th>\n",
              "    </tr>\n",
              "  </thead>\n",
              "  <tbody>\n",
              "    <tr>\n",
              "      <th>0</th>\n",
              "      <td>0195153448</td>\n",
              "      <td>Classical Mythology</td>\n",
              "      <td>Mark P. O. Morford</td>\n",
              "      <td>2002.0</td>\n",
              "      <td>Oxford University Press</td>\n",
              "    </tr>\n",
              "    <tr>\n",
              "      <th>1</th>\n",
              "      <td>0002005018</td>\n",
              "      <td>Clara Callan</td>\n",
              "      <td>Richard Bruce Wright</td>\n",
              "      <td>2001.0</td>\n",
              "      <td>HarperFlamingo Canada</td>\n",
              "    </tr>\n",
              "    <tr>\n",
              "      <th>2</th>\n",
              "      <td>0060973129</td>\n",
              "      <td>Decision in Normandy</td>\n",
              "      <td>Carlo D'Este</td>\n",
              "      <td>1991.0</td>\n",
              "      <td>HarperPerennial</td>\n",
              "    </tr>\n",
              "    <tr>\n",
              "      <th>3</th>\n",
              "      <td>0374157065</td>\n",
              "      <td>Flu: The Story of the Great Influenza Pandemic...</td>\n",
              "      <td>Gina Bari Kolata</td>\n",
              "      <td>1999.0</td>\n",
              "      <td>Farrar Straus Giroux</td>\n",
              "    </tr>\n",
              "    <tr>\n",
              "      <th>4</th>\n",
              "      <td>0393045218</td>\n",
              "      <td>The Mummies of Urumchi</td>\n",
              "      <td>E. J. W. Barber</td>\n",
              "      <td>1999.0</td>\n",
              "      <td>W. W. Norton &amp;amp; Company</td>\n",
              "    </tr>\n",
              "  </tbody>\n",
              "</table>\n",
              "</div>\n",
              "      <button class=\"colab-df-convert\" onclick=\"convertToInteractive('df-be71ed03-a3e9-4262-993f-9c4158dfae55')\"\n",
              "              title=\"Convert this dataframe to an interactive table.\"\n",
              "              style=\"display:none;\">\n",
              "        \n",
              "  <svg xmlns=\"http://www.w3.org/2000/svg\" height=\"24px\"viewBox=\"0 0 24 24\"\n",
              "       width=\"24px\">\n",
              "    <path d=\"M0 0h24v24H0V0z\" fill=\"none\"/>\n",
              "    <path d=\"M18.56 5.44l.94 2.06.94-2.06 2.06-.94-2.06-.94-.94-2.06-.94 2.06-2.06.94zm-11 1L8.5 8.5l.94-2.06 2.06-.94-2.06-.94L8.5 2.5l-.94 2.06-2.06.94zm10 10l.94 2.06.94-2.06 2.06-.94-2.06-.94-.94-2.06-.94 2.06-2.06.94z\"/><path d=\"M17.41 7.96l-1.37-1.37c-.4-.4-.92-.59-1.43-.59-.52 0-1.04.2-1.43.59L10.3 9.45l-7.72 7.72c-.78.78-.78 2.05 0 2.83L4 21.41c.39.39.9.59 1.41.59.51 0 1.02-.2 1.41-.59l7.78-7.78 2.81-2.81c.8-.78.8-2.07 0-2.86zM5.41 20L4 18.59l7.72-7.72 1.47 1.35L5.41 20z\"/>\n",
              "  </svg>\n",
              "      </button>\n",
              "      \n",
              "  <style>\n",
              "    .colab-df-container {\n",
              "      display:flex;\n",
              "      flex-wrap:wrap;\n",
              "      gap: 12px;\n",
              "    }\n",
              "\n",
              "    .colab-df-convert {\n",
              "      background-color: #E8F0FE;\n",
              "      border: none;\n",
              "      border-radius: 50%;\n",
              "      cursor: pointer;\n",
              "      display: none;\n",
              "      fill: #1967D2;\n",
              "      height: 32px;\n",
              "      padding: 0 0 0 0;\n",
              "      width: 32px;\n",
              "    }\n",
              "\n",
              "    .colab-df-convert:hover {\n",
              "      background-color: #E2EBFA;\n",
              "      box-shadow: 0px 1px 2px rgba(60, 64, 67, 0.3), 0px 1px 3px 1px rgba(60, 64, 67, 0.15);\n",
              "      fill: #174EA6;\n",
              "    }\n",
              "\n",
              "    [theme=dark] .colab-df-convert {\n",
              "      background-color: #3B4455;\n",
              "      fill: #D2E3FC;\n",
              "    }\n",
              "\n",
              "    [theme=dark] .colab-df-convert:hover {\n",
              "      background-color: #434B5C;\n",
              "      box-shadow: 0px 1px 3px 1px rgba(0, 0, 0, 0.15);\n",
              "      filter: drop-shadow(0px 1px 2px rgba(0, 0, 0, 0.3));\n",
              "      fill: #FFFFFF;\n",
              "    }\n",
              "  </style>\n",
              "\n",
              "      <script>\n",
              "        const buttonEl =\n",
              "          document.querySelector('#df-be71ed03-a3e9-4262-993f-9c4158dfae55 button.colab-df-convert');\n",
              "        buttonEl.style.display =\n",
              "          google.colab.kernel.accessAllowed ? 'block' : 'none';\n",
              "\n",
              "        async function convertToInteractive(key) {\n",
              "          const element = document.querySelector('#df-be71ed03-a3e9-4262-993f-9c4158dfae55');\n",
              "          const dataTable =\n",
              "            await google.colab.kernel.invokeFunction('convertToInteractive',\n",
              "                                                     [key], {});\n",
              "          if (!dataTable) return;\n",
              "\n",
              "          const docLinkHtml = 'Like what you see? Visit the ' +\n",
              "            '<a target=\"_blank\" href=https://colab.research.google.com/notebooks/data_table.ipynb>data table notebook</a>'\n",
              "            + ' to learn more about interactive tables.';\n",
              "          element.innerHTML = '';\n",
              "          dataTable['output_type'] = 'display_data';\n",
              "          await google.colab.output.renderOutput(dataTable, element);\n",
              "          const docLink = document.createElement('div');\n",
              "          docLink.innerHTML = docLinkHtml;\n",
              "          element.appendChild(docLink);\n",
              "        }\n",
              "      </script>\n",
              "    </div>\n",
              "  </div>\n",
              "  "
            ]
          },
          "metadata": {},
          "execution_count": 25
        }
      ]
    },
    {
      "cell_type": "code",
      "source": [
        "books_df.duplicated().any()"
      ],
      "metadata": {
        "colab": {
          "base_uri": "https://localhost:8080/"
        },
        "id": "CjgcMugqGOQf",
        "outputId": "d4601f5a-d576-4fe3-f452-c38123e5c55a"
      },
      "execution_count": null,
      "outputs": [
        {
          "output_type": "execute_result",
          "data": {
            "text/plain": [
              "False"
            ]
          },
          "metadata": {},
          "execution_count": 26
        }
      ]
    },
    {
      "cell_type": "markdown",
      "source": [
        "*No duplicaed values in Books dataframe*"
      ],
      "metadata": {
        "id": "4RZDXPftGNbh"
      }
    },
    {
      "cell_type": "markdown",
      "source": [
        "**Users Dataframe**"
      ],
      "metadata": {
        "id": "zsIaSf2DCG7y"
      }
    },
    {
      "cell_type": "code",
      "source": [
        "users_df.head()"
      ],
      "metadata": {
        "colab": {
          "base_uri": "https://localhost:8080/",
          "height": 206
        },
        "id": "hUHCNpw8BpnQ",
        "outputId": "0913b811-66df-4d34-ec95-fc1b83a247f8"
      },
      "execution_count": null,
      "outputs": [
        {
          "output_type": "execute_result",
          "data": {
            "text/plain": [
              "   User-ID                            Location   Age\n",
              "0        1                  nyc, new york, usa   NaN\n",
              "1        2           stockton, california, usa  18.0\n",
              "2        3     moscow, yukon territory, russia   NaN\n",
              "3        4           porto, v.n.gaia, portugal  17.0\n",
              "4        5  farnborough, hants, united kingdom   NaN"
            ],
            "text/html": [
              "\n",
              "  <div id=\"df-5ebb5db2-e5c4-4e81-803f-f581a10146e6\">\n",
              "    <div class=\"colab-df-container\">\n",
              "      <div>\n",
              "<style scoped>\n",
              "    .dataframe tbody tr th:only-of-type {\n",
              "        vertical-align: middle;\n",
              "    }\n",
              "\n",
              "    .dataframe tbody tr th {\n",
              "        vertical-align: top;\n",
              "    }\n",
              "\n",
              "    .dataframe thead th {\n",
              "        text-align: right;\n",
              "    }\n",
              "</style>\n",
              "<table border=\"1\" class=\"dataframe\">\n",
              "  <thead>\n",
              "    <tr style=\"text-align: right;\">\n",
              "      <th></th>\n",
              "      <th>User-ID</th>\n",
              "      <th>Location</th>\n",
              "      <th>Age</th>\n",
              "    </tr>\n",
              "  </thead>\n",
              "  <tbody>\n",
              "    <tr>\n",
              "      <th>0</th>\n",
              "      <td>1</td>\n",
              "      <td>nyc, new york, usa</td>\n",
              "      <td>NaN</td>\n",
              "    </tr>\n",
              "    <tr>\n",
              "      <th>1</th>\n",
              "      <td>2</td>\n",
              "      <td>stockton, california, usa</td>\n",
              "      <td>18.0</td>\n",
              "    </tr>\n",
              "    <tr>\n",
              "      <th>2</th>\n",
              "      <td>3</td>\n",
              "      <td>moscow, yukon territory, russia</td>\n",
              "      <td>NaN</td>\n",
              "    </tr>\n",
              "    <tr>\n",
              "      <th>3</th>\n",
              "      <td>4</td>\n",
              "      <td>porto, v.n.gaia, portugal</td>\n",
              "      <td>17.0</td>\n",
              "    </tr>\n",
              "    <tr>\n",
              "      <th>4</th>\n",
              "      <td>5</td>\n",
              "      <td>farnborough, hants, united kingdom</td>\n",
              "      <td>NaN</td>\n",
              "    </tr>\n",
              "  </tbody>\n",
              "</table>\n",
              "</div>\n",
              "      <button class=\"colab-df-convert\" onclick=\"convertToInteractive('df-5ebb5db2-e5c4-4e81-803f-f581a10146e6')\"\n",
              "              title=\"Convert this dataframe to an interactive table.\"\n",
              "              style=\"display:none;\">\n",
              "        \n",
              "  <svg xmlns=\"http://www.w3.org/2000/svg\" height=\"24px\"viewBox=\"0 0 24 24\"\n",
              "       width=\"24px\">\n",
              "    <path d=\"M0 0h24v24H0V0z\" fill=\"none\"/>\n",
              "    <path d=\"M18.56 5.44l.94 2.06.94-2.06 2.06-.94-2.06-.94-.94-2.06-.94 2.06-2.06.94zm-11 1L8.5 8.5l.94-2.06 2.06-.94-2.06-.94L8.5 2.5l-.94 2.06-2.06.94zm10 10l.94 2.06.94-2.06 2.06-.94-2.06-.94-.94-2.06-.94 2.06-2.06.94z\"/><path d=\"M17.41 7.96l-1.37-1.37c-.4-.4-.92-.59-1.43-.59-.52 0-1.04.2-1.43.59L10.3 9.45l-7.72 7.72c-.78.78-.78 2.05 0 2.83L4 21.41c.39.39.9.59 1.41.59.51 0 1.02-.2 1.41-.59l7.78-7.78 2.81-2.81c.8-.78.8-2.07 0-2.86zM5.41 20L4 18.59l7.72-7.72 1.47 1.35L5.41 20z\"/>\n",
              "  </svg>\n",
              "      </button>\n",
              "      \n",
              "  <style>\n",
              "    .colab-df-container {\n",
              "      display:flex;\n",
              "      flex-wrap:wrap;\n",
              "      gap: 12px;\n",
              "    }\n",
              "\n",
              "    .colab-df-convert {\n",
              "      background-color: #E8F0FE;\n",
              "      border: none;\n",
              "      border-radius: 50%;\n",
              "      cursor: pointer;\n",
              "      display: none;\n",
              "      fill: #1967D2;\n",
              "      height: 32px;\n",
              "      padding: 0 0 0 0;\n",
              "      width: 32px;\n",
              "    }\n",
              "\n",
              "    .colab-df-convert:hover {\n",
              "      background-color: #E2EBFA;\n",
              "      box-shadow: 0px 1px 2px rgba(60, 64, 67, 0.3), 0px 1px 3px 1px rgba(60, 64, 67, 0.15);\n",
              "      fill: #174EA6;\n",
              "    }\n",
              "\n",
              "    [theme=dark] .colab-df-convert {\n",
              "      background-color: #3B4455;\n",
              "      fill: #D2E3FC;\n",
              "    }\n",
              "\n",
              "    [theme=dark] .colab-df-convert:hover {\n",
              "      background-color: #434B5C;\n",
              "      box-shadow: 0px 1px 3px 1px rgba(0, 0, 0, 0.15);\n",
              "      filter: drop-shadow(0px 1px 2px rgba(0, 0, 0, 0.3));\n",
              "      fill: #FFFFFF;\n",
              "    }\n",
              "  </style>\n",
              "\n",
              "      <script>\n",
              "        const buttonEl =\n",
              "          document.querySelector('#df-5ebb5db2-e5c4-4e81-803f-f581a10146e6 button.colab-df-convert');\n",
              "        buttonEl.style.display =\n",
              "          google.colab.kernel.accessAllowed ? 'block' : 'none';\n",
              "\n",
              "        async function convertToInteractive(key) {\n",
              "          const element = document.querySelector('#df-5ebb5db2-e5c4-4e81-803f-f581a10146e6');\n",
              "          const dataTable =\n",
              "            await google.colab.kernel.invokeFunction('convertToInteractive',\n",
              "                                                     [key], {});\n",
              "          if (!dataTable) return;\n",
              "\n",
              "          const docLinkHtml = 'Like what you see? Visit the ' +\n",
              "            '<a target=\"_blank\" href=https://colab.research.google.com/notebooks/data_table.ipynb>data table notebook</a>'\n",
              "            + ' to learn more about interactive tables.';\n",
              "          element.innerHTML = '';\n",
              "          dataTable['output_type'] = 'display_data';\n",
              "          await google.colab.output.renderOutput(dataTable, element);\n",
              "          const docLink = document.createElement('div');\n",
              "          docLink.innerHTML = docLinkHtml;\n",
              "          element.appendChild(docLink);\n",
              "        }\n",
              "      </script>\n",
              "    </div>\n",
              "  </div>\n",
              "  "
            ]
          },
          "metadata": {},
          "execution_count": 27
        }
      ]
    },
    {
      "cell_type": "code",
      "source": [
        "users_df.isna().sum()"
      ],
      "metadata": {
        "colab": {
          "base_uri": "https://localhost:8080/"
        },
        "id": "vHvZxaW1CLP6",
        "outputId": "09716aae-79fe-43be-f8a0-c142cfdfe35e"
      },
      "execution_count": null,
      "outputs": [
        {
          "output_type": "execute_result",
          "data": {
            "text/plain": [
              "User-ID          0\n",
              "Location         0\n",
              "Age         110762\n",
              "dtype: int64"
            ]
          },
          "metadata": {},
          "execution_count": 28
        }
      ]
    },
    {
      "cell_type": "markdown",
      "source": [
        "*Many null values in Age column*"
      ],
      "metadata": {
        "id": "IEBm5QoFCRvN"
      }
    },
    {
      "cell_type": "code",
      "source": [
        "users_df['Age'].nunique()"
      ],
      "metadata": {
        "colab": {
          "base_uri": "https://localhost:8080/"
        },
        "id": "qQFf77VrCQsH",
        "outputId": "e9946266-ef6a-4ad9-fa73-a91e58ca6640"
      },
      "execution_count": null,
      "outputs": [
        {
          "output_type": "execute_result",
          "data": {
            "text/plain": [
              "165"
            ]
          },
          "metadata": {},
          "execution_count": 29
        }
      ]
    },
    {
      "cell_type": "code",
      "source": [
        "users_df['Age'].unique()"
      ],
      "metadata": {
        "colab": {
          "base_uri": "https://localhost:8080/"
        },
        "id": "QL9k0O7MCYeE",
        "outputId": "387e78e0-3908-425c-88a7-ebfeb6bd4a6d"
      },
      "execution_count": null,
      "outputs": [
        {
          "output_type": "execute_result",
          "data": {
            "text/plain": [
              "array([ nan,  18.,  17.,  61.,  26.,  14.,  25.,  19.,  46.,  55.,  32.,\n",
              "        24.,  20.,  34.,  23.,  51.,  31.,  21.,  44.,  30.,  57.,  43.,\n",
              "        37.,  41.,  54.,  42.,  50.,  39.,  53.,  47.,  36.,  28.,  35.,\n",
              "        13.,  58.,  49.,  38.,  45.,  62.,  63.,  27.,  33.,  29.,  66.,\n",
              "        40.,  15.,  60.,   0.,  79.,  22.,  16.,  65.,  59.,  48.,  72.,\n",
              "        56.,  67.,   1.,  80.,  52.,  69.,  71.,  73.,  78.,   9.,  64.,\n",
              "       103., 104.,  12.,  74.,  75., 231.,   3.,  76.,  83.,  68., 119.,\n",
              "        11.,  77.,   2.,  70.,  93.,   8.,   7.,   4.,  81., 114., 230.,\n",
              "       239.,  10.,   5., 148., 151.,   6., 101., 201.,  96.,  84.,  82.,\n",
              "        90., 123., 244., 133.,  91., 128.,  94.,  85., 141., 110.,  97.,\n",
              "       219.,  86., 124.,  92., 175., 172., 209., 212., 237.,  87., 162.,\n",
              "       100., 156., 136.,  95.,  89., 106.,  99., 108., 210.,  88., 199.,\n",
              "       147., 168., 132., 159., 186., 152., 102., 116., 200., 115., 226.,\n",
              "       137., 207., 229., 138., 109., 105., 228., 183., 204.,  98., 223.,\n",
              "       113., 208., 107., 157., 111., 146., 118., 220., 143., 140., 189.,\n",
              "       127.])"
            ]
          },
          "metadata": {},
          "execution_count": 30
        }
      ]
    },
    {
      "cell_type": "markdown",
      "source": [
        "*165 unique values for Age column with many misleaging values such as 239, 103, 104 and so on. Thus, we can replace this values with the mean but before that let's handle the NaN values.*"
      ],
      "metadata": {
        "id": "ldM6JfvOCdLw"
      }
    },
    {
      "cell_type": "code",
      "source": [
        "users_df['Age'].fillna(round(users_df['Age'].mean()), inplace = True)"
      ],
      "metadata": {
        "id": "ywh26a3ACbTP"
      },
      "execution_count": null,
      "outputs": []
    },
    {
      "cell_type": "code",
      "source": [
        "users_df.isna().sum()"
      ],
      "metadata": {
        "colab": {
          "base_uri": "https://localhost:8080/"
        },
        "id": "qlFLTB2AC7U-",
        "outputId": "d1e1cbec-c632-4fbc-b857-8e9963671ead"
      },
      "execution_count": null,
      "outputs": [
        {
          "output_type": "execute_result",
          "data": {
            "text/plain": [
              "User-ID     0\n",
              "Location    0\n",
              "Age         0\n",
              "dtype: int64"
            ]
          },
          "metadata": {},
          "execution_count": 32
        }
      ]
    },
    {
      "cell_type": "markdown",
      "source": [
        "*No null values now*"
      ],
      "metadata": {
        "id": "eJ6920riC_7x"
      }
    },
    {
      "cell_type": "code",
      "source": [
        "users_df['Age'].describe()"
      ],
      "metadata": {
        "colab": {
          "base_uri": "https://localhost:8080/"
        },
        "id": "a8ebLn7aC_Eo",
        "outputId": "986043a1-9d8b-46b2-88a8-402ef2ca19a0"
      },
      "execution_count": null,
      "outputs": [
        {
          "output_type": "execute_result",
          "data": {
            "text/plain": [
              "count    278858.000000\n",
              "mean         34.850164\n",
              "std          11.202663\n",
              "min           0.000000\n",
              "25%          29.000000\n",
              "50%          35.000000\n",
              "75%          35.000000\n",
              "max         244.000000\n",
              "Name: Age, dtype: float64"
            ]
          },
          "metadata": {},
          "execution_count": 33
        }
      ]
    },
    {
      "cell_type": "code",
      "source": [
        "sns.displot(users_df['Age'], kind='kde')"
      ],
      "metadata": {
        "colab": {
          "base_uri": "https://localhost:8080/",
          "height": 386
        },
        "id": "mUzZoF17DJYR",
        "outputId": "d18f4de9-22af-401a-8eb5-d2c5e4c879f8"
      },
      "execution_count": null,
      "outputs": [
        {
          "output_type": "execute_result",
          "data": {
            "text/plain": [
              "<seaborn.axisgrid.FacetGrid at 0x7f34f3dfd290>"
            ]
          },
          "metadata": {},
          "execution_count": 34
        },
        {
          "output_type": "display_data",
          "data": {
            "text/plain": [
              "<Figure size 360x360 with 1 Axes>"
            ],
            "image/png": "[encoded data removed]"
          },
          "metadata": {
            "needs_background": "light"
          }
        }
      ]
    },
    {
      "cell_type": "markdown",
      "source": [
        "*Let's handle Age column by replacing values with mean of Age columns where age is less than 6 and greater than 75*"
      ],
      "metadata": {
        "id": "1G53OpoBDnR6"
      }
    },
    {
      "cell_type": "code",
      "source": [
        "users_df.loc[(users_df['Age'] < 6) | (users_df['Age'] > 75)]"
      ],
      "metadata": {
        "colab": {
          "base_uri": "https://localhost:8080/",
          "height": 423
        },
        "id": "cSSrAMKWDSoc",
        "outputId": "83aba355-a23b-436b-cf7a-f5991e439fb7"
      },
      "execution_count": null,
      "outputs": [
        {
          "output_type": "execute_result",
          "data": {
            "text/plain": [
              "        User-ID                                       Location    Age\n",
              "219         220                       bogota, bogota, colombia    0.0\n",
              "220         221                       palm beach, florida, usa   79.0\n",
              "469         470                     indianapolis, indiana, usa    0.0\n",
              "561         562  adfdaf, australian capital territory, albania    0.0\n",
              "612         613                            ankara, n/a, turkey    1.0\n",
              "...         ...                                            ...    ...\n",
              "278301   278302       düsseldorf, nordrhein-westfalen, germany  104.0\n",
              "278317   278318                   studio city, california, usa   77.0\n",
              "278348   278349                            carlin, nevada, usa   76.0\n",
              "278412   278413                     kansas city, missouri, usa   76.0\n",
              "278471   278472   biel-benken bl/schweiz, alabama, switzerland   81.0\n",
              "\n",
              "[1873 rows x 3 columns]"
            ],
            "text/html": [
              "\n",
              "  <div id=\"df-2eb4035f-4cb1-4157-8898-130e054a4570\">\n",
              "    <div class=\"colab-df-container\">\n",
              "      <div>\n",
              "<style scoped>\n",
              "    .dataframe tbody tr th:only-of-type {\n",
              "        vertical-align: middle;\n",
              "    }\n",
              "\n",
              "    .dataframe tbody tr th {\n",
              "        vertical-align: top;\n",
              "    }\n",
              "\n",
              "    .dataframe thead th {\n",
              "        text-align: right;\n",
              "    }\n",
              "</style>\n",
              "<table border=\"1\" class=\"dataframe\">\n",
              "  <thead>\n",
              "    <tr style=\"text-align: right;\">\n",
              "      <th></th>\n",
              "      <th>User-ID</th>\n",
              "      <th>Location</th>\n",
              "      <th>Age</th>\n",
              "    </tr>\n",
              "  </thead>\n",
              "  <tbody>\n",
              "    <tr>\n",
              "      <th>219</th>\n",
              "      <td>220</td>\n",
              "      <td>bogota, bogota, colombia</td>\n",
              "      <td>0.0</td>\n",
              "    </tr>\n",
              "    <tr>\n",
              "      <th>220</th>\n",
              "      <td>221</td>\n",
              "      <td>palm beach, florida, usa</td>\n",
              "      <td>79.0</td>\n",
              "    </tr>\n",
              "    <tr>\n",
              "      <th>469</th>\n",
              "      <td>470</td>\n",
              "      <td>indianapolis, indiana, usa</td>\n",
              "      <td>0.0</td>\n",
              "    </tr>\n",
              "    <tr>\n",
              "      <th>561</th>\n",
              "      <td>562</td>\n",
              "      <td>adfdaf, australian capital territory, albania</td>\n",
              "      <td>0.0</td>\n",
              "    </tr>\n",
              "    <tr>\n",
              "      <th>612</th>\n",
              "      <td>613</td>\n",
              "      <td>ankara, n/a, turkey</td>\n",
              "      <td>1.0</td>\n",
              "    </tr>\n",
              "    <tr>\n",
              "      <th>...</th>\n",
              "      <td>...</td>\n",
              "      <td>...</td>\n",
              "      <td>...</td>\n",
              "    </tr>\n",
              "    <tr>\n",
              "      <th>278301</th>\n",
              "      <td>278302</td>\n",
              "      <td>düsseldorf, nordrhein-westfalen, germany</td>\n",
              "      <td>104.0</td>\n",
              "    </tr>\n",
              "    <tr>\n",
              "      <th>278317</th>\n",
              "      <td>278318</td>\n",
              "      <td>studio city, california, usa</td>\n",
              "      <td>77.0</td>\n",
              "    </tr>\n",
              "    <tr>\n",
              "      <th>278348</th>\n",
              "      <td>278349</td>\n",
              "      <td>carlin, nevada, usa</td>\n",
              "      <td>76.0</td>\n",
              "    </tr>\n",
              "    <tr>\n",
              "      <th>278412</th>\n",
              "      <td>278413</td>\n",
              "      <td>kansas city, missouri, usa</td>\n",
              "      <td>76.0</td>\n",
              "    </tr>\n",
              "    <tr>\n",
              "      <th>278471</th>\n",
              "      <td>278472</td>\n",
              "      <td>biel-benken bl/schweiz, alabama, switzerland</td>\n",
              "      <td>81.0</td>\n",
              "    </tr>\n",
              "  </tbody>\n",
              "</table>\n",
              "<p>1873 rows × 3 columns</p>\n",
              "</div>\n",
              "      <button class=\"colab-df-convert\" onclick=\"convertToInteractive('df-2eb4035f-4cb1-4157-8898-130e054a4570')\"\n",
              "              title=\"Convert this dataframe to an interactive table.\"\n",
              "              style=\"display:none;\">\n",
              "        \n",
              "  <svg xmlns=\"http://www.w3.org/2000/svg\" height=\"24px\"viewBox=\"0 0 24 24\"\n",
              "       width=\"24px\">\n",
              "    <path d=\"M0 0h24v24H0V0z\" fill=\"none\"/>\n",
              "    <path d=\"M18.56 5.44l.94 2.06.94-2.06 2.06-.94-2.06-.94-.94-2.06-.94 2.06-2.06.94zm-11 1L8.5 8.5l.94-2.06 2.06-.94-2.06-.94L8.5 2.5l-.94 2.06-2.06.94zm10 10l.94 2.06.94-2.06 2.06-.94-2.06-.94-.94-2.06-.94 2.06-2.06.94z\"/><path d=\"M17.41 7.96l-1.37-1.37c-.4-.4-.92-.59-1.43-.59-.52 0-1.04.2-1.43.59L10.3 9.45l-7.72 7.72c-.78.78-.78 2.05 0 2.83L4 21.41c.39.39.9.59 1.41.59.51 0 1.02-.2 1.41-.59l7.78-7.78 2.81-2.81c.8-.78.8-2.07 0-2.86zM5.41 20L4 18.59l7.72-7.72 1.47 1.35L5.41 20z\"/>\n",
              "  </svg>\n",
              "      </button>\n",
              "      \n",
              "  <style>\n",
              "    .colab-df-container {\n",
              "      display:flex;\n",
              "      flex-wrap:wrap;\n",
              "      gap: 12px;\n",
              "    }\n",
              "\n",
              "    .colab-df-convert {\n",
              "      background-color: #E8F0FE;\n",
              "      border: none;\n",
              "      border-radius: 50%;\n",
              "      cursor: pointer;\n",
              "      display: none;\n",
              "      fill: #1967D2;\n",
              "      height: 32px;\n",
              "      padding: 0 0 0 0;\n",
              "      width: 32px;\n",
              "    }\n",
              "\n",
              "    .colab-df-convert:hover {\n",
              "      background-color: #E2EBFA;\n",
              "      box-shadow: 0px 1px 2px rgba(60, 64, 67, 0.3), 0px 1px 3px 1px rgba(60, 64, 67, 0.15);\n",
              "      fill: #174EA6;\n",
              "    }\n",
              "\n",
              "    [theme=dark] .colab-df-convert {\n",
              "      background-color: #3B4455;\n",
              "      fill: #D2E3FC;\n",
              "    }\n",
              "\n",
              "    [theme=dark] .colab-df-convert:hover {\n",
              "      background-color: #434B5C;\n",
              "      box-shadow: 0px 1px 3px 1px rgba(0, 0, 0, 0.15);\n",
              "      filter: drop-shadow(0px 1px 2px rgba(0, 0, 0, 0.3));\n",
              "      fill: #FFFFFF;\n",
              "    }\n",
              "  </style>\n",
              "\n",
              "      <script>\n",
              "        const buttonEl =\n",
              "          document.querySelector('#df-2eb4035f-4cb1-4157-8898-130e054a4570 button.colab-df-convert');\n",
              "        buttonEl.style.display =\n",
              "          google.colab.kernel.accessAllowed ? 'block' : 'none';\n",
              "\n",
              "        async function convertToInteractive(key) {\n",
              "          const element = document.querySelector('#df-2eb4035f-4cb1-4157-8898-130e054a4570');\n",
              "          const dataTable =\n",
              "            await google.colab.kernel.invokeFunction('convertToInteractive',\n",
              "                                                     [key], {});\n",
              "          if (!dataTable) return;\n",
              "\n",
              "          const docLinkHtml = 'Like what you see? Visit the ' +\n",
              "            '<a target=\"_blank\" href=https://colab.research.google.com/notebooks/data_table.ipynb>data table notebook</a>'\n",
              "            + ' to learn more about interactive tables.';\n",
              "          element.innerHTML = '';\n",
              "          dataTable['output_type'] = 'display_data';\n",
              "          await google.colab.output.renderOutput(dataTable, element);\n",
              "          const docLink = document.createElement('div');\n",
              "          docLink.innerHTML = docLinkHtml;\n",
              "          element.appendChild(docLink);\n",
              "        }\n",
              "      </script>\n",
              "    </div>\n",
              "  </div>\n",
              "  "
            ]
          },
          "metadata": {},
          "execution_count": 35
        }
      ]
    },
    {
      "cell_type": "code",
      "source": [
        "users_df.loc[(users_df['Age'] < 6) | (users_df['Age'] > 75), 'Age'] = 34"
      ],
      "metadata": {
        "id": "BLnYz3p-D6jE"
      },
      "execution_count": null,
      "outputs": []
    },
    {
      "cell_type": "code",
      "source": [
        "users_df['Age'].nunique()"
      ],
      "metadata": {
        "colab": {
          "base_uri": "https://localhost:8080/"
        },
        "id": "zN0IgHSBEKc7",
        "outputId": "41988f12-8ebd-4876-e865-410d76078186"
      },
      "execution_count": null,
      "outputs": [
        {
          "output_type": "execute_result",
          "data": {
            "text/plain": [
              "70"
            ]
          },
          "metadata": {},
          "execution_count": 37
        }
      ]
    },
    {
      "cell_type": "code",
      "source": [
        "users_df['Age'].unique()"
      ],
      "metadata": {
        "colab": {
          "base_uri": "https://localhost:8080/"
        },
        "id": "oEr_OtYiEn5h",
        "outputId": "3f713b0f-1134-4d58-f709-b4281331ccde"
      },
      "execution_count": null,
      "outputs": [
        {
          "output_type": "execute_result",
          "data": {
            "text/plain": [
              "array([35., 18., 17., 61., 26., 14., 25., 19., 46., 55., 32., 24., 20.,\n",
              "       34., 23., 51., 31., 21., 44., 30., 57., 43., 37., 41., 54., 42.,\n",
              "       50., 39., 53., 47., 36., 28., 13., 58., 49., 38., 45., 62., 63.,\n",
              "       27., 33., 29., 66., 40., 15., 60., 22., 16., 65., 59., 48., 72.,\n",
              "       56., 67., 52., 69., 71., 73.,  9., 64., 12., 74., 75., 68., 11.,\n",
              "       70.,  8.,  7., 10.,  6.])"
            ]
          },
          "metadata": {},
          "execution_count": 38
        }
      ]
    },
    {
      "cell_type": "code",
      "source": [
        "sns.displot(x='Age', data=users_df, kind='kde')"
      ],
      "metadata": {
        "colab": {
          "base_uri": "https://localhost:8080/",
          "height": 386
        },
        "id": "ozdtdVstEsS2",
        "outputId": "3541c538-6547-4b59-c909-f378db8359ef"
      },
      "execution_count": null,
      "outputs": [
        {
          "output_type": "execute_result",
          "data": {
            "text/plain": [
              "<seaborn.axisgrid.FacetGrid at 0x7f34e7725310>"
            ]
          },
          "metadata": {},
          "execution_count": 39
        },
        {
          "output_type": "display_data",
          "data": {
            "text/plain": [
              "<Figure size 360x360 with 1 Axes>"
            ],
            "image/png": "[encoded data removed]"
          },
          "metadata": {
            "needs_background": "light"
          }
        }
      ]
    },
    {
      "cell_type": "code",
      "source": [
        "users_df.duplicated().any()"
      ],
      "metadata": {
        "colab": {
          "base_uri": "https://localhost:8080/"
        },
        "id": "-MkuAcEmGEqd",
        "outputId": "93d5e6ca-0d09-4f45-a740-3a2471d25b4a"
      },
      "execution_count": null,
      "outputs": [
        {
          "output_type": "execute_result",
          "data": {
            "text/plain": [
              "False"
            ]
          },
          "metadata": {},
          "execution_count": 40
        }
      ]
    },
    {
      "cell_type": "markdown",
      "source": [
        "*No Duplicated records in Users Dataframe*"
      ],
      "metadata": {
        "id": "P-yEdrMMGIGO"
      }
    },
    {
      "cell_type": "markdown",
      "source": [
        "**Ratings Dataframe**"
      ],
      "metadata": {
        "id": "xFQ7jsDxFFma"
      }
    },
    {
      "cell_type": "code",
      "source": [
        "ratings_df.head()"
      ],
      "metadata": {
        "colab": {
          "base_uri": "https://localhost:8080/",
          "height": 206
        },
        "id": "PF-OqeQGE1aA",
        "outputId": "2034c4bc-65f4-42a2-fa71-efa355b4540d"
      },
      "execution_count": null,
      "outputs": [
        {
          "output_type": "execute_result",
          "data": {
            "text/plain": [
              "   User-ID        ISBN  Book-Rating\n",
              "0   276725  034545104X            0\n",
              "1   276726  0155061224            5\n",
              "2   276727  0446520802            0\n",
              "3   276729  052165615X            3\n",
              "4   276729  0521795028            6"
            ],
            "text/html": [
              "\n",
              "  <div id=\"df-6c12e9d9-7971-4550-95a1-feab555fb904\">\n",
              "    <div class=\"colab-df-container\">\n",
              "      <div>\n",
              "<style scoped>\n",
              "    .dataframe tbody tr th:only-of-type {\n",
              "        vertical-align: middle;\n",
              "    }\n",
              "\n",
              "    .dataframe tbody tr th {\n",
              "        vertical-align: top;\n",
              "    }\n",
              "\n",
              "    .dataframe thead th {\n",
              "        text-align: right;\n",
              "    }\n",
              "</style>\n",
              "<table border=\"1\" class=\"dataframe\">\n",
              "  <thead>\n",
              "    <tr style=\"text-align: right;\">\n",
              "      <th></th>\n",
              "      <th>User-ID</th>\n",
              "      <th>ISBN</th>\n",
              "      <th>Book-Rating</th>\n",
              "    </tr>\n",
              "  </thead>\n",
              "  <tbody>\n",
              "    <tr>\n",
              "      <th>0</th>\n",
              "      <td>276725</td>\n",
              "      <td>034545104X</td>\n",
              "      <td>0</td>\n",
              "    </tr>\n",
              "    <tr>\n",
              "      <th>1</th>\n",
              "      <td>276726</td>\n",
              "      <td>0155061224</td>\n",
              "      <td>5</td>\n",
              "    </tr>\n",
              "    <tr>\n",
              "      <th>2</th>\n",
              "      <td>276727</td>\n",
              "      <td>0446520802</td>\n",
              "      <td>0</td>\n",
              "    </tr>\n",
              "    <tr>\n",
              "      <th>3</th>\n",
              "      <td>276729</td>\n",
              "      <td>052165615X</td>\n",
              "      <td>3</td>\n",
              "    </tr>\n",
              "    <tr>\n",
              "      <th>4</th>\n",
              "      <td>276729</td>\n",
              "      <td>0521795028</td>\n",
              "      <td>6</td>\n",
              "    </tr>\n",
              "  </tbody>\n",
              "</table>\n",
              "</div>\n",
              "      <button class=\"colab-df-convert\" onclick=\"convertToInteractive('df-6c12e9d9-7971-4550-95a1-feab555fb904')\"\n",
              "              title=\"Convert this dataframe to an interactive table.\"\n",
              "              style=\"display:none;\">\n",
              "        \n",
              "  <svg xmlns=\"http://www.w3.org/2000/svg\" height=\"24px\"viewBox=\"0 0 24 24\"\n",
              "       width=\"24px\">\n",
              "    <path d=\"M0 0h24v24H0V0z\" fill=\"none\"/>\n",
              "    <path d=\"M18.56 5.44l.94 2.06.94-2.06 2.06-.94-2.06-.94-.94-2.06-.94 2.06-2.06.94zm-11 1L8.5 8.5l.94-2.06 2.06-.94-2.06-.94L8.5 2.5l-.94 2.06-2.06.94zm10 10l.94 2.06.94-2.06 2.06-.94-2.06-.94-.94-2.06-.94 2.06-2.06.94z\"/><path d=\"M17.41 7.96l-1.37-1.37c-.4-.4-.92-.59-1.43-.59-.52 0-1.04.2-1.43.59L10.3 9.45l-7.72 7.72c-.78.78-.78 2.05 0 2.83L4 21.41c.39.39.9.59 1.41.59.51 0 1.02-.2 1.41-.59l7.78-7.78 2.81-2.81c.8-.78.8-2.07 0-2.86zM5.41 20L4 18.59l7.72-7.72 1.47 1.35L5.41 20z\"/>\n",
              "  </svg>\n",
              "      </button>\n",
              "      \n",
              "  <style>\n",
              "    .colab-df-container {\n",
              "      display:flex;\n",
              "      flex-wrap:wrap;\n",
              "      gap: 12px;\n",
              "    }\n",
              "\n",
              "    .colab-df-convert {\n",
              "      background-color: #E8F0FE;\n",
              "      border: none;\n",
              "      border-radius: 50%;\n",
              "      cursor: pointer;\n",
              "      display: none;\n",
              "      fill: #1967D2;\n",
              "      height: 32px;\n",
              "      padding: 0 0 0 0;\n",
              "      width: 32px;\n",
              "    }\n",
              "\n",
              "    .colab-df-convert:hover {\n",
              "      background-color: #E2EBFA;\n",
              "      box-shadow: 0px 1px 2px rgba(60, 64, 67, 0.3), 0px 1px 3px 1px rgba(60, 64, 67, 0.15);\n",
              "      fill: #174EA6;\n",
              "    }\n",
              "\n",
              "    [theme=dark] .colab-df-convert {\n",
              "      background-color: #3B4455;\n",
              "      fill: #D2E3FC;\n",
              "    }\n",
              "\n",
              "    [theme=dark] .colab-df-convert:hover {\n",
              "      background-color: #434B5C;\n",
              "      box-shadow: 0px 1px 3px 1px rgba(0, 0, 0, 0.15);\n",
              "      filter: drop-shadow(0px 1px 2px rgba(0, 0, 0, 0.3));\n",
              "      fill: #FFFFFF;\n",
              "    }\n",
              "  </style>\n",
              "\n",
              "      <script>\n",
              "        const buttonEl =\n",
              "          document.querySelector('#df-6c12e9d9-7971-4550-95a1-feab555fb904 button.colab-df-convert');\n",
              "        buttonEl.style.display =\n",
              "          google.colab.kernel.accessAllowed ? 'block' : 'none';\n",
              "\n",
              "        async function convertToInteractive(key) {\n",
              "          const element = document.querySelector('#df-6c12e9d9-7971-4550-95a1-feab555fb904');\n",
              "          const dataTable =\n",
              "            await google.colab.kernel.invokeFunction('convertToInteractive',\n",
              "                                                     [key], {});\n",
              "          if (!dataTable) return;\n",
              "\n",
              "          const docLinkHtml = 'Like what you see? Visit the ' +\n",
              "            '<a target=\"_blank\" href=https://colab.research.google.com/notebooks/data_table.ipynb>data table notebook</a>'\n",
              "            + ' to learn more about interactive tables.';\n",
              "          element.innerHTML = '';\n",
              "          dataTable['output_type'] = 'display_data';\n",
              "          await google.colab.output.renderOutput(dataTable, element);\n",
              "          const docLink = document.createElement('div');\n",
              "          docLink.innerHTML = docLinkHtml;\n",
              "          element.appendChild(docLink);\n",
              "        }\n",
              "      </script>\n",
              "    </div>\n",
              "  </div>\n",
              "  "
            ]
          },
          "metadata": {},
          "execution_count": 41
        }
      ]
    },
    {
      "cell_type": "code",
      "source": [
        "ratings_df['Book-Rating'].nunique()"
      ],
      "metadata": {
        "colab": {
          "base_uri": "https://localhost:8080/"
        },
        "id": "VeD8gt-dFNcc",
        "outputId": "06d4718d-d277-4f42-a322-d76a3770eed8"
      },
      "execution_count": null,
      "outputs": [
        {
          "output_type": "execute_result",
          "data": {
            "text/plain": [
              "11"
            ]
          },
          "metadata": {},
          "execution_count": 42
        }
      ]
    },
    {
      "cell_type": "code",
      "source": [
        "ratings_df['Book-Rating'].unique()"
      ],
      "metadata": {
        "colab": {
          "base_uri": "https://localhost:8080/"
        },
        "id": "RkLBq8MXFRpX",
        "outputId": "e965ae57-6539-4778-ba57-6e37a0ea960f"
      },
      "execution_count": null,
      "outputs": [
        {
          "output_type": "execute_result",
          "data": {
            "text/plain": [
              "array([ 0,  5,  3,  6,  8,  7, 10,  9,  4,  1,  2])"
            ]
          },
          "metadata": {},
          "execution_count": 43
        }
      ]
    },
    {
      "cell_type": "code",
      "source": [
        "ratings_df.isna().sum()"
      ],
      "metadata": {
        "colab": {
          "base_uri": "https://localhost:8080/"
        },
        "id": "CDw9hiRPFUg4",
        "outputId": "1822dc72-4660-4b3e-9eea-90d4fd0d55e8"
      },
      "execution_count": null,
      "outputs": [
        {
          "output_type": "execute_result",
          "data": {
            "text/plain": [
              "User-ID        0\n",
              "ISBN           0\n",
              "Book-Rating    0\n",
              "dtype: int64"
            ]
          },
          "metadata": {},
          "execution_count": 44
        }
      ]
    },
    {
      "cell_type": "code",
      "source": [
        "ratings_df.duplicated().any()"
      ],
      "metadata": {
        "colab": {
          "base_uri": "https://localhost:8080/"
        },
        "id": "TrTWB9MdF8ca",
        "outputId": "e8e9a38a-cc61-48e4-98b5-6bec4349d5a7"
      },
      "execution_count": null,
      "outputs": [
        {
          "output_type": "execute_result",
          "data": {
            "text/plain": [
              "False"
            ]
          },
          "metadata": {},
          "execution_count": 45
        }
      ]
    },
    {
      "cell_type": "markdown",
      "source": [
        "*No null or duplicated values present in a Ratings dataframe. Thus, now we can go ahead with Exploratory Data Analysis*"
      ],
      "metadata": {
        "id": "AwdfwsouFbpr"
      }
    },
    {
      "cell_type": "markdown",
      "source": [
        "**-------------------------------------------------------------EXPLORATORY DATA ANALYSIS--------------------------------------------------------------**"
      ],
      "metadata": {
        "id": "fLkwNjmeFkqN"
      }
    },
    {
      "cell_type": "markdown",
      "source": [
        "**Books Dataframe**"
      ],
      "metadata": {
        "id": "yQ9Yj893HIog"
      }
    },
    {
      "cell_type": "code",
      "source": [
        "books_df.head()"
      ],
      "metadata": {
        "colab": {
          "base_uri": "https://localhost:8080/",
          "height": 206
        },
        "id": "bAIY1VDhFaxb",
        "outputId": "fda3fc43-8977-42e4-fcaf-37636f87af30"
      },
      "execution_count": null,
      "outputs": [
        {
          "output_type": "execute_result",
          "data": {
            "text/plain": [
              "         ISBN                                         Book-Title  \\\n",
              "0  0195153448                                Classical Mythology   \n",
              "1  0002005018                                       Clara Callan   \n",
              "2  0060973129                               Decision in Normandy   \n",
              "3  0374157065  Flu: The Story of the Great Influenza Pandemic...   \n",
              "4  0393045218                             The Mummies of Urumchi   \n",
              "\n",
              "            Book-Author  Year-Of-Publication                   Publisher  \n",
              "0    Mark P. O. Morford               2002.0     Oxford University Press  \n",
              "1  Richard Bruce Wright               2001.0       HarperFlamingo Canada  \n",
              "2          Carlo D'Este               1991.0             HarperPerennial  \n",
              "3      Gina Bari Kolata               1999.0        Farrar Straus Giroux  \n",
              "4       E. J. W. Barber               1999.0  W. W. Norton &amp; Company  "
            ],
            "text/html": [
              "\n",
              "  <div id=\"df-5bd12138-d49f-434b-a1d8-e0219582097b\">\n",
              "    <div class=\"colab-df-container\">\n",
              "      <div>\n",
              "<style scoped>\n",
              "    .dataframe tbody tr th:only-of-type {\n",
              "        vertical-align: middle;\n",
              "    }\n",
              "\n",
              "    .dataframe tbody tr th {\n",
              "        vertical-align: top;\n",
              "    }\n",
              "\n",
              "    .dataframe thead th {\n",
              "        text-align: right;\n",
              "    }\n",
              "</style>\n",
              "<table border=\"1\" class=\"dataframe\">\n",
              "  <thead>\n",
              "    <tr style=\"text-align: right;\">\n",
              "      <th></th>\n",
              "      <th>ISBN</th>\n",
              "      <th>Book-Title</th>\n",
              "      <th>Book-Author</th>\n",
              "      <th>Year-Of-Publication</th>\n",
              "      <th>Publisher</th>\n",
              "    </tr>\n",
              "  </thead>\n",
              "  <tbody>\n",
              "    <tr>\n",
              "      <th>0</th>\n",
              "      <td>0195153448</td>\n",
              "      <td>Classical Mythology</td>\n",
              "      <td>Mark P. O. Morford</td>\n",
              "      <td>2002.0</td>\n",
              "      <td>Oxford University Press</td>\n",
              "    </tr>\n",
              "    <tr>\n",
              "      <th>1</th>\n",
              "      <td>0002005018</td>\n",
              "      <td>Clara Callan</td>\n",
              "      <td>Richard Bruce Wright</td>\n",
              "      <td>2001.0</td>\n",
              "      <td>HarperFlamingo Canada</td>\n",
              "    </tr>\n",
              "    <tr>\n",
              "      <th>2</th>\n",
              "      <td>0060973129</td>\n",
              "      <td>Decision in Normandy</td>\n",
              "      <td>Carlo D'Este</td>\n",
              "      <td>1991.0</td>\n",
              "      <td>HarperPerennial</td>\n",
              "    </tr>\n",
              "    <tr>\n",
              "      <th>3</th>\n",
              "      <td>0374157065</td>\n",
              "      <td>Flu: The Story of the Great Influenza Pandemic...</td>\n",
              "      <td>Gina Bari Kolata</td>\n",
              "      <td>1999.0</td>\n",
              "      <td>Farrar Straus Giroux</td>\n",
              "    </tr>\n",
              "    <tr>\n",
              "      <th>4</th>\n",
              "      <td>0393045218</td>\n",
              "      <td>The Mummies of Urumchi</td>\n",
              "      <td>E. J. W. Barber</td>\n",
              "      <td>1999.0</td>\n",
              "      <td>W. W. Norton &amp;amp; Company</td>\n",
              "    </tr>\n",
              "  </tbody>\n",
              "</table>\n",
              "</div>\n",
              "      <button class=\"colab-df-convert\" onclick=\"convertToInteractive('df-5bd12138-d49f-434b-a1d8-e0219582097b')\"\n",
              "              title=\"Convert this dataframe to an interactive table.\"\n",
              "              style=\"display:none;\">\n",
              "        \n",
              "  <svg xmlns=\"http://www.w3.org/2000/svg\" height=\"24px\"viewBox=\"0 0 24 24\"\n",
              "       width=\"24px\">\n",
              "    <path d=\"M0 0h24v24H0V0z\" fill=\"none\"/>\n",
              "    <path d=\"M18.56 5.44l.94 2.06.94-2.06 2.06-.94-2.06-.94-.94-2.06-.94 2.06-2.06.94zm-11 1L8.5 8.5l.94-2.06 2.06-.94-2.06-.94L8.5 2.5l-.94 2.06-2.06.94zm10 10l.94 2.06.94-2.06 2.06-.94-2.06-.94-.94-2.06-.94 2.06-2.06.94z\"/><path d=\"M17.41 7.96l-1.37-1.37c-.4-.4-.92-.59-1.43-.59-.52 0-1.04.2-1.43.59L10.3 9.45l-7.72 7.72c-.78.78-.78 2.05 0 2.83L4 21.41c.39.39.9.59 1.41.59.51 0 1.02-.2 1.41-.59l7.78-7.78 2.81-2.81c.8-.78.8-2.07 0-2.86zM5.41 20L4 18.59l7.72-7.72 1.47 1.35L5.41 20z\"/>\n",
              "  </svg>\n",
              "      </button>\n",
              "      \n",
              "  <style>\n",
              "    .colab-df-container {\n",
              "      display:flex;\n",
              "      flex-wrap:wrap;\n",
              "      gap: 12px;\n",
              "    }\n",
              "\n",
              "    .colab-df-convert {\n",
              "      background-color: #E8F0FE;\n",
              "      border: none;\n",
              "      border-radius: 50%;\n",
              "      cursor: pointer;\n",
              "      display: none;\n",
              "      fill: #1967D2;\n",
              "      height: 32px;\n",
              "      padding: 0 0 0 0;\n",
              "      width: 32px;\n",
              "    }\n",
              "\n",
              "    .colab-df-convert:hover {\n",
              "      background-color: #E2EBFA;\n",
              "      box-shadow: 0px 1px 2px rgba(60, 64, 67, 0.3), 0px 1px 3px 1px rgba(60, 64, 67, 0.15);\n",
              "      fill: #174EA6;\n",
              "    }\n",
              "\n",
              "    [theme=dark] .colab-df-convert {\n",
              "      background-color: #3B4455;\n",
              "      fill: #D2E3FC;\n",
              "    }\n",
              "\n",
              "    [theme=dark] .colab-df-convert:hover {\n",
              "      background-color: #434B5C;\n",
              "      box-shadow: 0px 1px 3px 1px rgba(0, 0, 0, 0.15);\n",
              "      filter: drop-shadow(0px 1px 2px rgba(0, 0, 0, 0.3));\n",
              "      fill: #FFFFFF;\n",
              "    }\n",
              "  </style>\n",
              "\n",
              "      <script>\n",
              "        const buttonEl =\n",
              "          document.querySelector('#df-5bd12138-d49f-434b-a1d8-e0219582097b button.colab-df-convert');\n",
              "        buttonEl.style.display =\n",
              "          google.colab.kernel.accessAllowed ? 'block' : 'none';\n",
              "\n",
              "        async function convertToInteractive(key) {\n",
              "          const element = document.querySelector('#df-5bd12138-d49f-434b-a1d8-e0219582097b');\n",
              "          const dataTable =\n",
              "            await google.colab.kernel.invokeFunction('convertToInteractive',\n",
              "                                                     [key], {});\n",
              "          if (!dataTable) return;\n",
              "\n",
              "          const docLinkHtml = 'Like what you see? Visit the ' +\n",
              "            '<a target=\"_blank\" href=https://colab.research.google.com/notebooks/data_table.ipynb>data table notebook</a>'\n",
              "            + ' to learn more about interactive tables.';\n",
              "          element.innerHTML = '';\n",
              "          dataTable['output_type'] = 'display_data';\n",
              "          await google.colab.output.renderOutput(dataTable, element);\n",
              "          const docLink = document.createElement('div');\n",
              "          docLink.innerHTML = docLinkHtml;\n",
              "          element.appendChild(docLink);\n",
              "        }\n",
              "      </script>\n",
              "    </div>\n",
              "  </div>\n",
              "  "
            ]
          },
          "metadata": {},
          "execution_count": 46
        }
      ]
    },
    {
      "cell_type": "code",
      "source": [
        "plt.figure(figsize=(15,8))\n",
        "books_df['Year-Of-Publication'].value_counts().head().plot(kind='pie', autopct='%1.2f%%')\n",
        "plt.show()"
      ],
      "metadata": {
        "colab": {
          "base_uri": "https://localhost:8080/",
          "height": 466
        },
        "id": "U6mQ_EW1HQ7l",
        "outputId": "66efc9a9-6f65-486c-b643-950e11302c92"
      },
      "execution_count": null,
      "outputs": [
        {
          "output_type": "display_data",
          "data": {
            "text/plain": [
              "<Figure size 1080x576 with 1 Axes>"
            ],
            "image/png": "[encoded data removed]"
          },
          "metadata": {}
        }
      ]
    },
    {
      "cell_type": "markdown",
      "source": [
        "Top 5 years with highest number of books published - \n",
        "\n",
        "2002 | 1999 | 2001 | 2000 | 1994"
      ],
      "metadata": {
        "id": "Wq5sdn1fJMsu"
      }
    },
    {
      "cell_type": "code",
      "source": [
        "books_df['Book-Title'].value_counts().head(10).sort_values().plot(kind='barh', title='Top 10 Books by Count')"
      ],
      "metadata": {
        "id": "GAz2cOEGI1Ns",
        "colab": {
          "base_uri": "https://localhost:8080/",
          "height": 298
        },
        "outputId": "f7ad0806-54ed-41a6-e4d1-a699f0eee886"
      },
      "execution_count": null,
      "outputs": [
        {
          "output_type": "execute_result",
          "data": {
            "text/plain": [
              "<matplotlib.axes._subplots.AxesSubplot at 0x7f34e713c990>"
            ]
          },
          "metadata": {},
          "execution_count": 48
        },
        {
          "output_type": "display_data",
          "data": {
            "text/plain": [
              "<Figure size 432x288 with 1 Axes>"
            ],
            "image/png": "[encoded data removed]"
          },
          "metadata": {
            "needs_background": "light"
          }
        }
      ]
    },
    {
      "cell_type": "markdown",
      "source": [
        "*Selected Poems is the book having most number of readers.*"
      ],
      "metadata": {
        "id": "UbqLG_aDl6QE"
      }
    },
    {
      "cell_type": "code",
      "source": [
        "books_df['Publisher'].value_counts().head(10).sort_values().plot(kind='barh', title='Top 10 Publisher by Count')"
      ],
      "metadata": {
        "colab": {
          "base_uri": "https://localhost:8080/",
          "height": 298
        },
        "id": "RTRI-jyzR45x",
        "outputId": "502e1eea-c5e4-4b23-8bb2-b7939cf243d8"
      },
      "execution_count": null,
      "outputs": [
        {
          "output_type": "execute_result",
          "data": {
            "text/plain": [
              "<matplotlib.axes._subplots.AxesSubplot at 0x7f34e705f510>"
            ]
          },
          "metadata": {},
          "execution_count": 49
        },
        {
          "output_type": "display_data",
          "data": {
            "text/plain": [
              "<Figure size 432x288 with 1 Axes>"
            ],
            "image/png": "[encoded data removed]"
          },
          "metadata": {
            "needs_background": "light"
          }
        }
      ]
    },
    {
      "cell_type": "markdown",
      "source": [
        "*Harlequin is the publisher for approximately around 7500 books.*"
      ],
      "metadata": {
        "id": "BGWY_himmDvq"
      }
    },
    {
      "cell_type": "code",
      "source": [
        "books_df['Book-Author'].value_counts().head(10).sort_values().plot(kind='barh', title='Top 10 Book Authors by Count')"
      ],
      "metadata": {
        "colab": {
          "base_uri": "https://localhost:8080/",
          "height": 298
        },
        "id": "cB9X3QyMScVY",
        "outputId": "3fe003b9-e920-4584-fdcf-501061b4b99d"
      },
      "execution_count": null,
      "outputs": [
        {
          "output_type": "execute_result",
          "data": {
            "text/plain": [
              "<matplotlib.axes._subplots.AxesSubplot at 0x7f34e6ff9090>"
            ]
          },
          "metadata": {},
          "execution_count": 50
        },
        {
          "output_type": "display_data",
          "data": {
            "text/plain": [
              "<Figure size 432x288 with 1 Axes>"
            ],
            "image/png": "[encoded data removed]"
          },
          "metadata": {
            "needs_background": "light"
          }
        }
      ]
    },
    {
      "cell_type": "markdown",
      "source": [
        "*Agatha Christie is the Author having most number of book.*"
      ],
      "metadata": {
        "id": "d7ZDplajmPiJ"
      }
    },
    {
      "cell_type": "markdown",
      "source": [
        "**Users Dataframe**"
      ],
      "metadata": {
        "id": "wj1l3SlLTQS5"
      }
    },
    {
      "cell_type": "code",
      "source": [
        "users_df.head()"
      ],
      "metadata": {
        "colab": {
          "base_uri": "https://localhost:8080/",
          "height": 206
        },
        "id": "NMz-x2K9SrtH",
        "outputId": "1c567569-603e-4109-e924-1325214cee62"
      },
      "execution_count": null,
      "outputs": [
        {
          "output_type": "execute_result",
          "data": {
            "text/plain": [
              "   User-ID                            Location   Age\n",
              "0        1                  nyc, new york, usa  35.0\n",
              "1        2           stockton, california, usa  18.0\n",
              "2        3     moscow, yukon territory, russia  35.0\n",
              "3        4           porto, v.n.gaia, portugal  17.0\n",
              "4        5  farnborough, hants, united kingdom  35.0"
            ],
            "text/html": [
              "\n",
              "  <div id=\"df-ca585968-4ea5-431f-9353-21b1ce7fbd0a\">\n",
              "    <div class=\"colab-df-container\">\n",
              "      <div>\n",
              "<style scoped>\n",
              "    .dataframe tbody tr th:only-of-type {\n",
              "        vertical-align: middle;\n",
              "    }\n",
              "\n",
              "    .dataframe tbody tr th {\n",
              "        vertical-align: top;\n",
              "    }\n",
              "\n",
              "    .dataframe thead th {\n",
              "        text-align: right;\n",
              "    }\n",
              "</style>\n",
              "<table border=\"1\" class=\"dataframe\">\n",
              "  <thead>\n",
              "    <tr style=\"text-align: right;\">\n",
              "      <th></th>\n",
              "      <th>User-ID</th>\n",
              "      <th>Location</th>\n",
              "      <th>Age</th>\n",
              "    </tr>\n",
              "  </thead>\n",
              "  <tbody>\n",
              "    <tr>\n",
              "      <th>0</th>\n",
              "      <td>1</td>\n",
              "      <td>nyc, new york, usa</td>\n",
              "      <td>35.0</td>\n",
              "    </tr>\n",
              "    <tr>\n",
              "      <th>1</th>\n",
              "      <td>2</td>\n",
              "      <td>stockton, california, usa</td>\n",
              "      <td>18.0</td>\n",
              "    </tr>\n",
              "    <tr>\n",
              "      <th>2</th>\n",
              "      <td>3</td>\n",
              "      <td>moscow, yukon territory, russia</td>\n",
              "      <td>35.0</td>\n",
              "    </tr>\n",
              "    <tr>\n",
              "      <th>3</th>\n",
              "      <td>4</td>\n",
              "      <td>porto, v.n.gaia, portugal</td>\n",
              "      <td>17.0</td>\n",
              "    </tr>\n",
              "    <tr>\n",
              "      <th>4</th>\n",
              "      <td>5</td>\n",
              "      <td>farnborough, hants, united kingdom</td>\n",
              "      <td>35.0</td>\n",
              "    </tr>\n",
              "  </tbody>\n",
              "</table>\n",
              "</div>\n",
              "      <button class=\"colab-df-convert\" onclick=\"convertToInteractive('df-ca585968-4ea5-431f-9353-21b1ce7fbd0a')\"\n",
              "              title=\"Convert this dataframe to an interactive table.\"\n",
              "              style=\"display:none;\">\n",
              "        \n",
              "  <svg xmlns=\"http://www.w3.org/2000/svg\" height=\"24px\"viewBox=\"0 0 24 24\"\n",
              "       width=\"24px\">\n",
              "    <path d=\"M0 0h24v24H0V0z\" fill=\"none\"/>\n",
              "    <path d=\"M18.56 5.44l.94 2.06.94-2.06 2.06-.94-2.06-.94-.94-2.06-.94 2.06-2.06.94zm-11 1L8.5 8.5l.94-2.06 2.06-.94-2.06-.94L8.5 2.5l-.94 2.06-2.06.94zm10 10l.94 2.06.94-2.06 2.06-.94-2.06-.94-.94-2.06-.94 2.06-2.06.94z\"/><path d=\"M17.41 7.96l-1.37-1.37c-.4-.4-.92-.59-1.43-.59-.52 0-1.04.2-1.43.59L10.3 9.45l-7.72 7.72c-.78.78-.78 2.05 0 2.83L4 21.41c.39.39.9.59 1.41.59.51 0 1.02-.2 1.41-.59l7.78-7.78 2.81-2.81c.8-.78.8-2.07 0-2.86zM5.41 20L4 18.59l7.72-7.72 1.47 1.35L5.41 20z\"/>\n",
              "  </svg>\n",
              "      </button>\n",
              "      \n",
              "  <style>\n",
              "    .colab-df-container {\n",
              "      display:flex;\n",
              "      flex-wrap:wrap;\n",
              "      gap: 12px;\n",
              "    }\n",
              "\n",
              "    .colab-df-convert {\n",
              "      background-color: #E8F0FE;\n",
              "      border: none;\n",
              "      border-radius: 50%;\n",
              "      cursor: pointer;\n",
              "      display: none;\n",
              "      fill: #1967D2;\n",
              "      height: 32px;\n",
              "      padding: 0 0 0 0;\n",
              "      width: 32px;\n",
              "    }\n",
              "\n",
              "    .colab-df-convert:hover {\n",
              "      background-color: #E2EBFA;\n",
              "      box-shadow: 0px 1px 2px rgba(60, 64, 67, 0.3), 0px 1px 3px 1px rgba(60, 64, 67, 0.15);\n",
              "      fill: #174EA6;\n",
              "    }\n",
              "\n",
              "    [theme=dark] .colab-df-convert {\n",
              "      background-color: #3B4455;\n",
              "      fill: #D2E3FC;\n",
              "    }\n",
              "\n",
              "    [theme=dark] .colab-df-convert:hover {\n",
              "      background-color: #434B5C;\n",
              "      box-shadow: 0px 1px 3px 1px rgba(0, 0, 0, 0.15);\n",
              "      filter: drop-shadow(0px 1px 2px rgba(0, 0, 0, 0.3));\n",
              "      fill: #FFFFFF;\n",
              "    }\n",
              "  </style>\n",
              "\n",
              "      <script>\n",
              "        const buttonEl =\n",
              "          document.querySelector('#df-ca585968-4ea5-431f-9353-21b1ce7fbd0a button.colab-df-convert');\n",
              "        buttonEl.style.display =\n",
              "          google.colab.kernel.accessAllowed ? 'block' : 'none';\n",
              "\n",
              "        async function convertToInteractive(key) {\n",
              "          const element = document.querySelector('#df-ca585968-4ea5-431f-9353-21b1ce7fbd0a');\n",
              "          const dataTable =\n",
              "            await google.colab.kernel.invokeFunction('convertToInteractive',\n",
              "                                                     [key], {});\n",
              "          if (!dataTable) return;\n",
              "\n",
              "          const docLinkHtml = 'Like what you see? Visit the ' +\n",
              "            '<a target=\"_blank\" href=https://colab.research.google.com/notebooks/data_table.ipynb>data table notebook</a>'\n",
              "            + ' to learn more about interactive tables.';\n",
              "          element.innerHTML = '';\n",
              "          dataTable['output_type'] = 'display_data';\n",
              "          await google.colab.output.renderOutput(dataTable, element);\n",
              "          const docLink = document.createElement('div');\n",
              "          docLink.innerHTML = docLinkHtml;\n",
              "          element.appendChild(docLink);\n",
              "        }\n",
              "      </script>\n",
              "    </div>\n",
              "  </div>\n",
              "  "
            ]
          },
          "metadata": {},
          "execution_count": 51
        }
      ]
    },
    {
      "cell_type": "code",
      "source": [
        "users_df['Age'].value_counts().head(10).sort_values().plot(kind='barh',title='Most number of Users by Age')"
      ],
      "metadata": {
        "colab": {
          "base_uri": "https://localhost:8080/",
          "height": 298
        },
        "id": "Ocjaw4wRTTVf",
        "outputId": "f2043497-2a0e-4999-8616-f1073ce3eb70"
      },
      "execution_count": null,
      "outputs": [
        {
          "output_type": "execute_result",
          "data": {
            "text/plain": [
              "<matplotlib.axes._subplots.AxesSubplot at 0x7f34e6f7a1d0>"
            ]
          },
          "metadata": {},
          "execution_count": 52
        },
        {
          "output_type": "display_data",
          "data": {
            "text/plain": [
              "<Figure size 432x288 with 1 Axes>"
            ],
            "image/png": "[encoded data removed]"
          },
          "metadata": {
            "needs_background": "light"
          }
        }
      ]
    },
    {
      "cell_type": "code",
      "source": [
        "sns.boxplot(x='Age', data=users_df)"
      ],
      "metadata": {
        "colab": {
          "base_uri": "https://localhost:8080/",
          "height": 296
        },
        "id": "gK6W2w0gTrNR",
        "outputId": "4812e0f9-b477-4d0d-c690-9245d77be09e"
      },
      "execution_count": null,
      "outputs": [
        {
          "output_type": "execute_result",
          "data": {
            "text/plain": [
              "<matplotlib.axes._subplots.AxesSubplot at 0x7f34e2679f90>"
            ]
          },
          "metadata": {},
          "execution_count": 53
        },
        {
          "output_type": "display_data",
          "data": {
            "text/plain": [
              "<Figure size 432x288 with 1 Axes>"
            ],
            "image/png": "[encoded data removed]"
          },
          "metadata": {
            "needs_background": "light"
          }
        }
      ]
    },
    {
      "cell_type": "markdown",
      "source": [
        "*We can observe is the observation is below 20 or Above 45 then that observation is considered as an outlier*"
      ],
      "metadata": {
        "id": "vxXKSTQnUnQx"
      }
    },
    {
      "cell_type": "markdown",
      "source": [
        "**Ratings Dataframe**"
      ],
      "metadata": {
        "id": "s9ZdfoZYVUa5"
      }
    },
    {
      "cell_type": "code",
      "source": [
        "ratings_df.head()"
      ],
      "metadata": {
        "colab": {
          "base_uri": "https://localhost:8080/",
          "height": 206
        },
        "id": "9CYU6LtsUj9W",
        "outputId": "9dcbbfdd-0c87-410f-e5c4-1e6e6d6a0be3"
      },
      "execution_count": null,
      "outputs": [
        {
          "output_type": "execute_result",
          "data": {
            "text/plain": [
              "   User-ID        ISBN  Book-Rating\n",
              "0   276725  034545104X            0\n",
              "1   276726  0155061224            5\n",
              "2   276727  0446520802            0\n",
              "3   276729  052165615X            3\n",
              "4   276729  0521795028            6"
            ],
            "text/html": [
              "\n",
              "  <div id=\"df-e26897dc-f561-43d2-bd40-0b38f3e3f5fb\">\n",
              "    <div class=\"colab-df-container\">\n",
              "      <div>\n",
              "<style scoped>\n",
              "    .dataframe tbody tr th:only-of-type {\n",
              "        vertical-align: middle;\n",
              "    }\n",
              "\n",
              "    .dataframe tbody tr th {\n",
              "        vertical-align: top;\n",
              "    }\n",
              "\n",
              "    .dataframe thead th {\n",
              "        text-align: right;\n",
              "    }\n",
              "</style>\n",
              "<table border=\"1\" class=\"dataframe\">\n",
              "  <thead>\n",
              "    <tr style=\"text-align: right;\">\n",
              "      <th></th>\n",
              "      <th>User-ID</th>\n",
              "      <th>ISBN</th>\n",
              "      <th>Book-Rating</th>\n",
              "    </tr>\n",
              "  </thead>\n",
              "  <tbody>\n",
              "    <tr>\n",
              "      <th>0</th>\n",
              "      <td>276725</td>\n",
              "      <td>034545104X</td>\n",
              "      <td>0</td>\n",
              "    </tr>\n",
              "    <tr>\n",
              "      <th>1</th>\n",
              "      <td>276726</td>\n",
              "      <td>0155061224</td>\n",
              "      <td>5</td>\n",
              "    </tr>\n",
              "    <tr>\n",
              "      <th>2</th>\n",
              "      <td>276727</td>\n",
              "      <td>0446520802</td>\n",
              "      <td>0</td>\n",
              "    </tr>\n",
              "    <tr>\n",
              "      <th>3</th>\n",
              "      <td>276729</td>\n",
              "      <td>052165615X</td>\n",
              "      <td>3</td>\n",
              "    </tr>\n",
              "    <tr>\n",
              "      <th>4</th>\n",
              "      <td>276729</td>\n",
              "      <td>0521795028</td>\n",
              "      <td>6</td>\n",
              "    </tr>\n",
              "  </tbody>\n",
              "</table>\n",
              "</div>\n",
              "      <button class=\"colab-df-convert\" onclick=\"convertToInteractive('df-e26897dc-f561-43d2-bd40-0b38f3e3f5fb')\"\n",
              "              title=\"Convert this dataframe to an interactive table.\"\n",
              "              style=\"display:none;\">\n",
              "        \n",
              "  <svg xmlns=\"http://www.w3.org/2000/svg\" height=\"24px\"viewBox=\"0 0 24 24\"\n",
              "       width=\"24px\">\n",
              "    <path d=\"M0 0h24v24H0V0z\" fill=\"none\"/>\n",
              "    <path d=\"M18.56 5.44l.94 2.06.94-2.06 2.06-.94-2.06-.94-.94-2.06-.94 2.06-2.06.94zm-11 1L8.5 8.5l.94-2.06 2.06-.94-2.06-.94L8.5 2.5l-.94 2.06-2.06.94zm10 10l.94 2.06.94-2.06 2.06-.94-2.06-.94-.94-2.06-.94 2.06-2.06.94z\"/><path d=\"M17.41 7.96l-1.37-1.37c-.4-.4-.92-.59-1.43-.59-.52 0-1.04.2-1.43.59L10.3 9.45l-7.72 7.72c-.78.78-.78 2.05 0 2.83L4 21.41c.39.39.9.59 1.41.59.51 0 1.02-.2 1.41-.59l7.78-7.78 2.81-2.81c.8-.78.8-2.07 0-2.86zM5.41 20L4 18.59l7.72-7.72 1.47 1.35L5.41 20z\"/>\n",
              "  </svg>\n",
              "      </button>\n",
              "      \n",
              "  <style>\n",
              "    .colab-df-container {\n",
              "      display:flex;\n",
              "      flex-wrap:wrap;\n",
              "      gap: 12px;\n",
              "    }\n",
              "\n",
              "    .colab-df-convert {\n",
              "      background-color: #E8F0FE;\n",
              "      border: none;\n",
              "      border-radius: 50%;\n",
              "      cursor: pointer;\n",
              "      display: none;\n",
              "      fill: #1967D2;\n",
              "      height: 32px;\n",
              "      padding: 0 0 0 0;\n",
              "      width: 32px;\n",
              "    }\n",
              "\n",
              "    .colab-df-convert:hover {\n",
              "      background-color: #E2EBFA;\n",
              "      box-shadow: 0px 1px 2px rgba(60, 64, 67, 0.3), 0px 1px 3px 1px rgba(60, 64, 67, 0.15);\n",
              "      fill: #174EA6;\n",
              "    }\n",
              "\n",
              "    [theme=dark] .colab-df-convert {\n",
              "      background-color: #3B4455;\n",
              "      fill: #D2E3FC;\n",
              "    }\n",
              "\n",
              "    [theme=dark] .colab-df-convert:hover {\n",
              "      background-color: #434B5C;\n",
              "      box-shadow: 0px 1px 3px 1px rgba(0, 0, 0, 0.15);\n",
              "      filter: drop-shadow(0px 1px 2px rgba(0, 0, 0, 0.3));\n",
              "      fill: #FFFFFF;\n",
              "    }\n",
              "  </style>\n",
              "\n",
              "      <script>\n",
              "        const buttonEl =\n",
              "          document.querySelector('#df-e26897dc-f561-43d2-bd40-0b38f3e3f5fb button.colab-df-convert');\n",
              "        buttonEl.style.display =\n",
              "          google.colab.kernel.accessAllowed ? 'block' : 'none';\n",
              "\n",
              "        async function convertToInteractive(key) {\n",
              "          const element = document.querySelector('#df-e26897dc-f561-43d2-bd40-0b38f3e3f5fb');\n",
              "          const dataTable =\n",
              "            await google.colab.kernel.invokeFunction('convertToInteractive',\n",
              "                                                     [key], {});\n",
              "          if (!dataTable) return;\n",
              "\n",
              "          const docLinkHtml = 'Like what you see? Visit the ' +\n",
              "            '<a target=\"_blank\" href=https://colab.research.google.com/notebooks/data_table.ipynb>data table notebook</a>'\n",
              "            + ' to learn more about interactive tables.';\n",
              "          element.innerHTML = '';\n",
              "          dataTable['output_type'] = 'display_data';\n",
              "          await google.colab.output.renderOutput(dataTable, element);\n",
              "          const docLink = document.createElement('div');\n",
              "          docLink.innerHTML = docLinkHtml;\n",
              "          element.appendChild(docLink);\n",
              "        }\n",
              "      </script>\n",
              "    </div>\n",
              "  </div>\n",
              "  "
            ]
          },
          "metadata": {},
          "execution_count": 54
        }
      ]
    },
    {
      "cell_type": "code",
      "source": [
        "sns.countplot(x='Book-Rating', data=ratings_df)"
      ],
      "metadata": {
        "colab": {
          "base_uri": "https://localhost:8080/",
          "height": 296
        },
        "id": "-STS4Z25VXtE",
        "outputId": "de5b2aad-f567-47a1-9dce-82daf0513eb7"
      },
      "execution_count": null,
      "outputs": [
        {
          "output_type": "execute_result",
          "data": {
            "text/plain": [
              "<matplotlib.axes._subplots.AxesSubplot at 0x7f34e2605f10>"
            ]
          },
          "metadata": {},
          "execution_count": 55
        },
        {
          "output_type": "display_data",
          "data": {
            "text/plain": [
              "<Figure size 432x288 with 1 Axes>"
            ],
            "image/png": "[encoded data removed]"
          },
          "metadata": {
            "needs_background": "light"
          }
        }
      ]
    },
    {
      "cell_type": "markdown",
      "source": [
        "Highest rating is 8  out of 10. Which means most of the books are rated 8 by most of the users. 1 & 2 are on the lowest side."
      ],
      "metadata": {
        "id": "Uidl--POWDvK"
      }
    },
    {
      "cell_type": "code",
      "source": [
        "users_df['User-ID'].shape"
      ],
      "metadata": {
        "colab": {
          "base_uri": "https://localhost:8080/"
        },
        "id": "A70DNvhyVg17",
        "outputId": "55284050-9781-4652-ecf0-527edb4a9d12"
      },
      "execution_count": null,
      "outputs": [
        {
          "output_type": "execute_result",
          "data": {
            "text/plain": [
              "(278858,)"
            ]
          },
          "metadata": {},
          "execution_count": 56
        }
      ]
    },
    {
      "cell_type": "code",
      "source": [
        "ratings_df['User-ID'].nunique()"
      ],
      "metadata": {
        "colab": {
          "base_uri": "https://localhost:8080/"
        },
        "id": "7YhBT-GaXY90",
        "outputId": "8fb6eb48-ccdf-46dd-f642-fa98dbdbbe4d"
      },
      "execution_count": null,
      "outputs": [
        {
          "output_type": "execute_result",
          "data": {
            "text/plain": [
              "105283"
            ]
          },
          "metadata": {},
          "execution_count": 57
        }
      ]
    },
    {
      "cell_type": "markdown",
      "source": [
        "*We can observe in total there are 278858 users but out of them only 105283 have omly opted to give ratings for book.*"
      ],
      "metadata": {
        "id": "Nf3WSA7BXpu2"
      }
    },
    {
      "cell_type": "code",
      "source": [
        "ratings_df['User-ID'].shape"
      ],
      "metadata": {
        "colab": {
          "base_uri": "https://localhost:8080/"
        },
        "id": "zJKMtf4sYBLW",
        "outputId": "bbc4e4fa-adba-4120-c4e7-f54a2c0f4bd7"
      },
      "execution_count": null,
      "outputs": [
        {
          "output_type": "execute_result",
          "data": {
            "text/plain": [
              "(1149780,)"
            ]
          },
          "metadata": {},
          "execution_count": 58
        }
      ]
    },
    {
      "cell_type": "markdown",
      "source": [
        "*We can observe total ratings by users giving rate is 1149780.*"
      ],
      "metadata": {
        "id": "1rlxOtd6YF6D"
      }
    },
    {
      "cell_type": "markdown",
      "source": [
        "*Let's begin with building a Recommendation System.*"
      ],
      "metadata": {
        "id": "jtwYEnxQYN4F"
      }
    },
    {
      "cell_type": "markdown",
      "source": [
        "**---------------------------------------------Collaborative Filtering Using k - Nearest Neighbors----------------------------------------------------------**"
      ],
      "metadata": {
        "id": "ku3Xnka2YkGV"
      }
    },
    {
      "cell_type": "markdown",
      "source": [
        "Checking how many times individual user have rated the different books & also how many times individual book got ratings from different users."
      ],
      "metadata": {
        "id": "EssjgooOIhvK"
      }
    },
    {
      "cell_type": "code",
      "source": [
        "user_ratings_count = ratings_df['User-ID'].value_counts()"
      ],
      "metadata": {
        "id": "RlTMNodAXm8K"
      },
      "execution_count": null,
      "outputs": []
    },
    {
      "cell_type": "code",
      "source": [
        "user_ratings_count.describe()"
      ],
      "metadata": {
        "colab": {
          "base_uri": "https://localhost:8080/"
        },
        "id": "dkSbF9ImHuYp",
        "outputId": "b0963d73-2b0b-4a35-f28a-752145d21cf0"
      },
      "execution_count": null,
      "outputs": [
        {
          "output_type": "execute_result",
          "data": {
            "text/plain": [
              "count    105283.000000\n",
              "mean         10.920851\n",
              "std          90.562825\n",
              "min           1.000000\n",
              "25%           1.000000\n",
              "50%           1.000000\n",
              "75%           4.000000\n",
              "max       13602.000000\n",
              "Name: User-ID, dtype: float64"
            ]
          },
          "metadata": {},
          "execution_count": 60
        }
      ]
    },
    {
      "cell_type": "code",
      "source": [
        "book_ratings_count = ratings_df['ISBN'].value_counts()"
      ],
      "metadata": {
        "id": "Avajmz1AIM03"
      },
      "execution_count": null,
      "outputs": []
    },
    {
      "cell_type": "code",
      "source": [
        "book_ratings_count.describe()"
      ],
      "metadata": {
        "colab": {
          "base_uri": "https://localhost:8080/"
        },
        "id": "rofWxCnDITQ2",
        "outputId": "41141a71-178f-4644-b7f0-bf3fba02c1db"
      },
      "execution_count": null,
      "outputs": [
        {
          "output_type": "execute_result",
          "data": {
            "text/plain": [
              "count    340556.000000\n",
              "mean          3.376185\n",
              "std          12.436252\n",
              "min           1.000000\n",
              "25%           1.000000\n",
              "50%           1.000000\n",
              "75%           2.000000\n",
              "max        2502.000000\n",
              "Name: ISBN, dtype: float64"
            ]
          },
          "metadata": {},
          "execution_count": 62
        }
      ]
    },
    {
      "cell_type": "code",
      "source": [
        "user_ratings_count.quantile(q=0.99)"
      ],
      "metadata": {
        "colab": {
          "base_uri": "https://localhost:8080/"
        },
        "id": "q_fNFftTJHC1",
        "outputId": "111f98f2-45cc-4c65-9834-149eb78e2dce"
      },
      "execution_count": null,
      "outputs": [
        {
          "output_type": "execute_result",
          "data": {
            "text/plain": [
              "174.0"
            ]
          },
          "metadata": {},
          "execution_count": 63
        }
      ]
    },
    {
      "cell_type": "code",
      "source": [
        "user_ratings_count[user_ratings_count > 174]"
      ],
      "metadata": {
        "colab": {
          "base_uri": "https://localhost:8080/"
        },
        "id": "xFM-wrFzKaWG",
        "outputId": "7bfd4f85-ea42-4a25-e608-98177ef5abd4"
      },
      "execution_count": null,
      "outputs": [
        {
          "output_type": "execute_result",
          "data": {
            "text/plain": [
              "11676     13602\n",
              "198711     7550\n",
              "153662     6109\n",
              "98391      5891\n",
              "35859      5850\n",
              "          ...  \n",
              "9908        175\n",
              "173481      175\n",
              "93426       175\n",
              "41227       175\n",
              "181076      175\n",
              "Name: User-ID, Length: 1050, dtype: int64"
            ]
          },
          "metadata": {},
          "execution_count": 64
        }
      ]
    },
    {
      "cell_type": "markdown",
      "source": [
        "*We can observe that 99% of users have given total rating 29 or less times. There are 1050 such users. So let's keep a threshold of 174 for users to ensure statistical significance.*"
      ],
      "metadata": {
        "id": "u0IyOmkKJqyV"
      }
    },
    {
      "cell_type": "code",
      "source": [
        "book_ratings_count.quantile(q=0.99)"
      ],
      "metadata": {
        "colab": {
          "base_uri": "https://localhost:8080/"
        },
        "id": "FCLXF84oJ1IO",
        "outputId": "08b6ba95-3b91-4f1e-c70f-9319f8e8074a"
      },
      "execution_count": null,
      "outputs": [
        {
          "output_type": "execute_result",
          "data": {
            "text/plain": [
              "36.0"
            ]
          },
          "metadata": {},
          "execution_count": 65
        }
      ]
    },
    {
      "cell_type": "code",
      "source": [
        "book_ratings_count[book_ratings_count > 26]"
      ],
      "metadata": {
        "colab": {
          "base_uri": "https://localhost:8080/"
        },
        "id": "alMzoepULJmo",
        "outputId": "23548d0d-9515-43ea-c165-5a5a6acdf8c5"
      },
      "execution_count": null,
      "outputs": [
        {
          "output_type": "execute_result",
          "data": {
            "text/plain": [
              "0971880107    2502\n",
              "0316666343    1295\n",
              "0385504209     883\n",
              "0060928336     732\n",
              "0312195516     723\n",
              "              ... \n",
              "0553270222      27\n",
              "0590568752      27\n",
              "0140430105      27\n",
              "880781210X      27\n",
              "0345333756      27\n",
              "Name: ISBN, Length: 5048, dtype: int64"
            ]
          },
          "metadata": {},
          "execution_count": 66
        }
      ]
    },
    {
      "cell_type": "markdown",
      "source": [
        "*We can observe that 99% of the books have total numbver of rating count given by user as 26 or less. Keeping threshold for statistical significance as 26 for Books. There are 2377 such books.*"
      ],
      "metadata": {
        "id": "J8YJT6O-KYGB"
      }
    },
    {
      "cell_type": "markdown",
      "source": [
        "**To ensure statistical significance, users with less than 50 ratings, and books with less than 50 ratings are excluded.**"
      ],
      "metadata": {
        "id": "8Qj6crC0G5PL"
      }
    },
    {
      "cell_type": "markdown",
      "source": [
        "Filtering users with only 50 or more ratings."
      ],
      "metadata": {
        "id": "8ZyO0NLKLXs6"
      }
    },
    {
      "cell_type": "code",
      "source": [
        "ratings_df = ratings_df[ratings_df['User-ID'].isin(user_ratings_count[user_ratings_count >= 50].index)]"
      ],
      "metadata": {
        "id": "qFeJiEXXHR4y"
      },
      "execution_count": null,
      "outputs": []
    },
    {
      "cell_type": "code",
      "source": [
        "ratings_df"
      ],
      "metadata": {
        "colab": {
          "base_uri": "https://localhost:8080/",
          "height": 423
        },
        "id": "QwuN3VIOHkBJ",
        "outputId": "ce3541eb-219b-4bc2-889e-28cc6746c59e"
      },
      "execution_count": null,
      "outputs": [
        {
          "output_type": "execute_result",
          "data": {
            "text/plain": [
              "         User-ID        ISBN  Book-Rating\n",
              "1456      277427  002542730X           10\n",
              "1468      277427  006092988X            0\n",
              "1469      277427  0060930535            0\n",
              "1470      277427  0060932139            0\n",
              "1471      277427  0060934417            0\n",
              "...          ...         ...          ...\n",
              "1149604   276680  0743486226            6\n",
              "1149616   276680  0812969812            0\n",
              "1149628   276680  1573222267            0\n",
              "1149629   276680  1573229083            7\n",
              "1149637   276680  1931561648            9\n",
              "\n",
              "[97897 rows x 3 columns]"
            ],
            "text/html": [
              "\n",
              "  <div id=\"df-85e03e6f-2b3c-4dd0-859c-73d19c846a30\">\n",
              "    <div class=\"colab-df-container\">\n",
              "      <div>\n",
              "<style scoped>\n",
              "    .dataframe tbody tr th:only-of-type {\n",
              "        vertical-align: middle;\n",
              "    }\n",
              "\n",
              "    .dataframe tbody tr th {\n",
              "        vertical-align: top;\n",
              "    }\n",
              "\n",
              "    .dataframe thead th {\n",
              "        text-align: right;\n",
              "    }\n",
              "</style>\n",
              "<table border=\"1\" class=\"dataframe\">\n",
              "  <thead>\n",
              "    <tr style=\"text-align: right;\">\n",
              "      <th></th>\n",
              "      <th>User-ID</th>\n",
              "      <th>ISBN</th>\n",
              "      <th>Book-Rating</th>\n",
              "    </tr>\n",
              "  </thead>\n",
              "  <tbody>\n",
              "    <tr>\n",
              "      <th>1456</th>\n",
              "      <td>277427</td>\n",
              "      <td>002542730X</td>\n",
              "      <td>10</td>\n",
              "    </tr>\n",
              "    <tr>\n",
              "      <th>1468</th>\n",
              "      <td>277427</td>\n",
              "      <td>006092988X</td>\n",
              "      <td>0</td>\n",
              "    </tr>\n",
              "    <tr>\n",
              "      <th>1469</th>\n",
              "      <td>277427</td>\n",
              "      <td>0060930535</td>\n",
              "      <td>0</td>\n",
              "    </tr>\n",
              "    <tr>\n",
              "      <th>1470</th>\n",
              "      <td>277427</td>\n",
              "      <td>0060932139</td>\n",
              "      <td>0</td>\n",
              "    </tr>\n",
              "    <tr>\n",
              "      <th>1471</th>\n",
              "      <td>277427</td>\n",
              "      <td>0060934417</td>\n",
              "      <td>0</td>\n",
              "    </tr>\n",
              "    <tr>\n",
              "      <th>...</th>\n",
              "      <td>...</td>\n",
              "      <td>...</td>\n",
              "      <td>...</td>\n",
              "    </tr>\n",
              "    <tr>\n",
              "      <th>1149604</th>\n",
              "      <td>276680</td>\n",
              "      <td>0743486226</td>\n",
              "      <td>6</td>\n",
              "    </tr>\n",
              "    <tr>\n",
              "      <th>1149616</th>\n",
              "      <td>276680</td>\n",
              "      <td>0812969812</td>\n",
              "      <td>0</td>\n",
              "    </tr>\n",
              "    <tr>\n",
              "      <th>1149628</th>\n",
              "      <td>276680</td>\n",
              "      <td>1573222267</td>\n",
              "      <td>0</td>\n",
              "    </tr>\n",
              "    <tr>\n",
              "      <th>1149629</th>\n",
              "      <td>276680</td>\n",
              "      <td>1573229083</td>\n",
              "      <td>7</td>\n",
              "    </tr>\n",
              "    <tr>\n",
              "      <th>1149637</th>\n",
              "      <td>276680</td>\n",
              "      <td>1931561648</td>\n",
              "      <td>9</td>\n",
              "    </tr>\n",
              "  </tbody>\n",
              "</table>\n",
              "<p>97897 rows × 3 columns</p>\n",
              "</div>\n",
              "      <button class=\"colab-df-convert\" onclick=\"convertToInteractive('df-85e03e6f-2b3c-4dd0-859c-73d19c846a30')\"\n",
              "              title=\"Convert this dataframe to an interactive table.\"\n",
              "              style=\"display:none;\">\n",
              "        \n",
              "  <svg xmlns=\"http://www.w3.org/2000/svg\" height=\"24px\"viewBox=\"0 0 24 24\"\n",
              "       width=\"24px\">\n",
              "    <path d=\"M0 0h24v24H0V0z\" fill=\"none\"/>\n",
              "    <path d=\"M18.56 5.44l.94 2.06.94-2.06 2.06-.94-2.06-.94-.94-2.06-.94 2.06-2.06.94zm-11 1L8.5 8.5l.94-2.06 2.06-.94-2.06-.94L8.5 2.5l-.94 2.06-2.06.94zm10 10l.94 2.06.94-2.06 2.06-.94-2.06-.94-.94-2.06-.94 2.06-2.06.94z\"/><path d=\"M17.41 7.96l-1.37-1.37c-.4-.4-.92-.59-1.43-.59-.52 0-1.04.2-1.43.59L10.3 9.45l-7.72 7.72c-.78.78-.78 2.05 0 2.83L4 21.41c.39.39.9.59 1.41.59.51 0 1.02-.2 1.41-.59l7.78-7.78 2.81-2.81c.8-.78.8-2.07 0-2.86zM5.41 20L4 18.59l7.72-7.72 1.47 1.35L5.41 20z\"/>\n",
              "  </svg>\n",
              "      </button>\n",
              "      \n",
              "  <style>\n",
              "    .colab-df-container {\n",
              "      display:flex;\n",
              "      flex-wrap:wrap;\n",
              "      gap: 12px;\n",
              "    }\n",
              "\n",
              "    .colab-df-convert {\n",
              "      background-color: #E8F0FE;\n",
              "      border: none;\n",
              "      border-radius: 50%;\n",
              "      cursor: pointer;\n",
              "      display: none;\n",
              "      fill: #1967D2;\n",
              "      height: 32px;\n",
              "      padding: 0 0 0 0;\n",
              "      width: 32px;\n",
              "    }\n",
              "\n",
              "    .colab-df-convert:hover {\n",
              "      background-color: #E2EBFA;\n",
              "      box-shadow: 0px 1px 2px rgba(60, 64, 67, 0.3), 0px 1px 3px 1px rgba(60, 64, 67, 0.15);\n",
              "      fill: #174EA6;\n",
              "    }\n",
              "\n",
              "    [theme=dark] .colab-df-convert {\n",
              "      background-color: #3B4455;\n",
              "      fill: #D2E3FC;\n",
              "    }\n",
              "\n",
              "    [theme=dark] .colab-df-convert:hover {\n",
              "      background-color: #434B5C;\n",
              "      box-shadow: 0px 1px 3px 1px rgba(0, 0, 0, 0.15);\n",
              "      filter: drop-shadow(0px 1px 2px rgba(0, 0, 0, 0.3));\n",
              "      fill: #FFFFFF;\n",
              "    }\n",
              "  </style>\n",
              "\n",
              "      <script>\n",
              "        const buttonEl =\n",
              "          document.querySelector('#df-85e03e6f-2b3c-4dd0-859c-73d19c846a30 button.colab-df-convert');\n",
              "        buttonEl.style.display =\n",
              "          google.colab.kernel.accessAllowed ? 'block' : 'none';\n",
              "\n",
              "        async function convertToInteractive(key) {\n",
              "          const element = document.querySelector('#df-85e03e6f-2b3c-4dd0-859c-73d19c846a30');\n",
              "          const dataTable =\n",
              "            await google.colab.kernel.invokeFunction('convertToInteractive',\n",
              "                                                     [key], {});\n",
              "          if (!dataTable) return;\n",
              "\n",
              "          const docLinkHtml = 'Like what you see? Visit the ' +\n",
              "            '<a target=\"_blank\" href=https://colab.research.google.com/notebooks/data_table.ipynb>data table notebook</a>'\n",
              "            + ' to learn more about interactive tables.';\n",
              "          element.innerHTML = '';\n",
              "          dataTable['output_type'] = 'display_data';\n",
              "          await google.colab.output.renderOutput(dataTable, element);\n",
              "          const docLink = document.createElement('div');\n",
              "          docLink.innerHTML = docLinkHtml;\n",
              "          element.appendChild(docLink);\n",
              "        }\n",
              "      </script>\n",
              "    </div>\n",
              "  </div>\n",
              "  "
            ]
          },
          "metadata": {},
          "execution_count": 228
        }
      ]
    },
    {
      "cell_type": "markdown",
      "source": [
        "Filtering books with 50 or more ratings."
      ],
      "metadata": {
        "id": "cvkKhI22LdGh"
      }
    },
    {
      "cell_type": "code",
      "source": [
        "ratings_df = ratings_df[ratings_df['ISBN'].isin(book_ratings_count[book_ratings_count >= 50].index)]"
      ],
      "metadata": {
        "id": "DmOjdhb5HlNt"
      },
      "execution_count": null,
      "outputs": []
    },
    {
      "cell_type": "code",
      "source": [
        "ratings_df"
      ],
      "metadata": {
        "colab": {
          "base_uri": "https://localhost:8080/",
          "height": 423
        },
        "id": "pm6P9q8ZLvWx",
        "outputId": "45155230-74e0-45ca-c44f-cf8cf4625f18"
      },
      "execution_count": null,
      "outputs": [
        {
          "output_type": "execute_result",
          "data": {
            "text/plain": [
              "         User-ID        ISBN  Book-Rating\n",
              "1456      277427  002542730X           10\n",
              "1468      277427  006092988X            0\n",
              "1469      277427  0060930535            0\n",
              "1470      277427  0060932139            0\n",
              "1471      277427  0060934417            0\n",
              "...          ...         ...          ...\n",
              "1149604   276680  0743486226            6\n",
              "1149616   276680  0812969812            0\n",
              "1149628   276680  1573222267            0\n",
              "1149629   276680  1573229083            7\n",
              "1149637   276680  1931561648            9\n",
              "\n",
              "[97897 rows x 3 columns]"
            ],
            "text/html": [
              "\n",
              "  <div id=\"df-b12da42b-388a-4b04-a9d3-88abc34444b2\">\n",
              "    <div class=\"colab-df-container\">\n",
              "      <div>\n",
              "<style scoped>\n",
              "    .dataframe tbody tr th:only-of-type {\n",
              "        vertical-align: middle;\n",
              "    }\n",
              "\n",
              "    .dataframe tbody tr th {\n",
              "        vertical-align: top;\n",
              "    }\n",
              "\n",
              "    .dataframe thead th {\n",
              "        text-align: right;\n",
              "    }\n",
              "</style>\n",
              "<table border=\"1\" class=\"dataframe\">\n",
              "  <thead>\n",
              "    <tr style=\"text-align: right;\">\n",
              "      <th></th>\n",
              "      <th>User-ID</th>\n",
              "      <th>ISBN</th>\n",
              "      <th>Book-Rating</th>\n",
              "    </tr>\n",
              "  </thead>\n",
              "  <tbody>\n",
              "    <tr>\n",
              "      <th>1456</th>\n",
              "      <td>277427</td>\n",
              "      <td>002542730X</td>\n",
              "      <td>10</td>\n",
              "    </tr>\n",
              "    <tr>\n",
              "      <th>1468</th>\n",
              "      <td>277427</td>\n",
              "      <td>006092988X</td>\n",
              "      <td>0</td>\n",
              "    </tr>\n",
              "    <tr>\n",
              "      <th>1469</th>\n",
              "      <td>277427</td>\n",
              "      <td>0060930535</td>\n",
              "      <td>0</td>\n",
              "    </tr>\n",
              "    <tr>\n",
              "      <th>1470</th>\n",
              "      <td>277427</td>\n",
              "      <td>0060932139</td>\n",
              "      <td>0</td>\n",
              "    </tr>\n",
              "    <tr>\n",
              "      <th>1471</th>\n",
              "      <td>277427</td>\n",
              "      <td>0060934417</td>\n",
              "      <td>0</td>\n",
              "    </tr>\n",
              "    <tr>\n",
              "      <th>...</th>\n",
              "      <td>...</td>\n",
              "      <td>...</td>\n",
              "      <td>...</td>\n",
              "    </tr>\n",
              "    <tr>\n",
              "      <th>1149604</th>\n",
              "      <td>276680</td>\n",
              "      <td>0743486226</td>\n",
              "      <td>6</td>\n",
              "    </tr>\n",
              "    <tr>\n",
              "      <th>1149616</th>\n",
              "      <td>276680</td>\n",
              "      <td>0812969812</td>\n",
              "      <td>0</td>\n",
              "    </tr>\n",
              "    <tr>\n",
              "      <th>1149628</th>\n",
              "      <td>276680</td>\n",
              "      <td>1573222267</td>\n",
              "      <td>0</td>\n",
              "    </tr>\n",
              "    <tr>\n",
              "      <th>1149629</th>\n",
              "      <td>276680</td>\n",
              "      <td>1573229083</td>\n",
              "      <td>7</td>\n",
              "    </tr>\n",
              "    <tr>\n",
              "      <th>1149637</th>\n",
              "      <td>276680</td>\n",
              "      <td>1931561648</td>\n",
              "      <td>9</td>\n",
              "    </tr>\n",
              "  </tbody>\n",
              "</table>\n",
              "<p>97897 rows × 3 columns</p>\n",
              "</div>\n",
              "      <button class=\"colab-df-convert\" onclick=\"convertToInteractive('df-b12da42b-388a-4b04-a9d3-88abc34444b2')\"\n",
              "              title=\"Convert this dataframe to an interactive table.\"\n",
              "              style=\"display:none;\">\n",
              "        \n",
              "  <svg xmlns=\"http://www.w3.org/2000/svg\" height=\"24px\"viewBox=\"0 0 24 24\"\n",
              "       width=\"24px\">\n",
              "    <path d=\"M0 0h24v24H0V0z\" fill=\"none\"/>\n",
              "    <path d=\"M18.56 5.44l.94 2.06.94-2.06 2.06-.94-2.06-.94-.94-2.06-.94 2.06-2.06.94zm-11 1L8.5 8.5l.94-2.06 2.06-.94-2.06-.94L8.5 2.5l-.94 2.06-2.06.94zm10 10l.94 2.06.94-2.06 2.06-.94-2.06-.94-.94-2.06-.94 2.06-2.06.94z\"/><path d=\"M17.41 7.96l-1.37-1.37c-.4-.4-.92-.59-1.43-.59-.52 0-1.04.2-1.43.59L10.3 9.45l-7.72 7.72c-.78.78-.78 2.05 0 2.83L4 21.41c.39.39.9.59 1.41.59.51 0 1.02-.2 1.41-.59l7.78-7.78 2.81-2.81c.8-.78.8-2.07 0-2.86zM5.41 20L4 18.59l7.72-7.72 1.47 1.35L5.41 20z\"/>\n",
              "  </svg>\n",
              "      </button>\n",
              "      \n",
              "  <style>\n",
              "    .colab-df-container {\n",
              "      display:flex;\n",
              "      flex-wrap:wrap;\n",
              "      gap: 12px;\n",
              "    }\n",
              "\n",
              "    .colab-df-convert {\n",
              "      background-color: #E8F0FE;\n",
              "      border: none;\n",
              "      border-radius: 50%;\n",
              "      cursor: pointer;\n",
              "      display: none;\n",
              "      fill: #1967D2;\n",
              "      height: 32px;\n",
              "      padding: 0 0 0 0;\n",
              "      width: 32px;\n",
              "    }\n",
              "\n",
              "    .colab-df-convert:hover {\n",
              "      background-color: #E2EBFA;\n",
              "      box-shadow: 0px 1px 2px rgba(60, 64, 67, 0.3), 0px 1px 3px 1px rgba(60, 64, 67, 0.15);\n",
              "      fill: #174EA6;\n",
              "    }\n",
              "\n",
              "    [theme=dark] .colab-df-convert {\n",
              "      background-color: #3B4455;\n",
              "      fill: #D2E3FC;\n",
              "    }\n",
              "\n",
              "    [theme=dark] .colab-df-convert:hover {\n",
              "      background-color: #434B5C;\n",
              "      box-shadow: 0px 1px 3px 1px rgba(0, 0, 0, 0.15);\n",
              "      filter: drop-shadow(0px 1px 2px rgba(0, 0, 0, 0.3));\n",
              "      fill: #FFFFFF;\n",
              "    }\n",
              "  </style>\n",
              "\n",
              "      <script>\n",
              "        const buttonEl =\n",
              "          document.querySelector('#df-b12da42b-388a-4b04-a9d3-88abc34444b2 button.colab-df-convert');\n",
              "        buttonEl.style.display =\n",
              "          google.colab.kernel.accessAllowed ? 'block' : 'none';\n",
              "\n",
              "        async function convertToInteractive(key) {\n",
              "          const element = document.querySelector('#df-b12da42b-388a-4b04-a9d3-88abc34444b2');\n",
              "          const dataTable =\n",
              "            await google.colab.kernel.invokeFunction('convertToInteractive',\n",
              "                                                     [key], {});\n",
              "          if (!dataTable) return;\n",
              "\n",
              "          const docLinkHtml = 'Like what you see? Visit the ' +\n",
              "            '<a target=\"_blank\" href=https://colab.research.google.com/notebooks/data_table.ipynb>data table notebook</a>'\n",
              "            + ' to learn more about interactive tables.';\n",
              "          element.innerHTML = '';\n",
              "          dataTable['output_type'] = 'display_data';\n",
              "          await google.colab.output.renderOutput(dataTable, element);\n",
              "          const docLink = document.createElement('div');\n",
              "          docLink.innerHTML = docLinkHtml;\n",
              "          element.appendChild(docLink);\n",
              "        }\n",
              "      </script>\n",
              "    </div>\n",
              "  </div>\n",
              "  "
            ]
          },
          "metadata": {},
          "execution_count": 230
        }
      ]
    },
    {
      "cell_type": "markdown",
      "source": [
        "**k - Nearest Neighbor is a popular machine learning algorithm which in this case will help us to find clusters of similar users based on common book ratings & make predictions using the average rating of top-k nearest neighbor.**"
      ],
      "metadata": {
        "id": "6-ASNezpMFtn"
      }
    },
    {
      "cell_type": "markdown",
      "source": [
        "Combining **Rating** and **Book** dataframe using **ISBN** feature which is common in both."
      ],
      "metadata": {
        "id": "e2K1WXXDMxId"
      }
    },
    {
      "cell_type": "code",
      "source": [
        "combined_book_rating_df = pd.merge(ratings_df, books_df, on='ISBN')"
      ],
      "metadata": {
        "id": "lBAKSdigLwoG"
      },
      "execution_count": null,
      "outputs": []
    },
    {
      "cell_type": "code",
      "source": [
        "combined_book_rating_df"
      ],
      "metadata": {
        "colab": {
          "base_uri": "https://localhost:8080/",
          "height": 423
        },
        "id": "MpxE9evaNJ-B",
        "outputId": "b8a561d5-437b-4913-f68a-05af07eb4bad"
      },
      "execution_count": null,
      "outputs": [
        {
          "output_type": "execute_result",
          "data": {
            "text/plain": [
              "       User-ID        ISBN  Book-Rating  \\\n",
              "0       277427  002542730X           10   \n",
              "1         3363  002542730X            0   \n",
              "2        11676  002542730X            6   \n",
              "3        12538  002542730X           10   \n",
              "4        13552  002542730X            0   \n",
              "...        ...         ...          ...   \n",
              "97246   234828  0345333926            8   \n",
              "97247   236283  0345333926            0   \n",
              "97248   249628  0345333926            0   \n",
              "97249   261829  0345333926            0   \n",
              "97250   264321  0345333926            8   \n",
              "\n",
              "                                              Book-Title        Book-Author  \\\n",
              "0      Politically Correct Bedtime Stories: Modern Ta...  James Finn Garner   \n",
              "1      Politically Correct Bedtime Stories: Modern Ta...  James Finn Garner   \n",
              "2      Politically Correct Bedtime Stories: Modern Ta...  James Finn Garner   \n",
              "3      Politically Correct Bedtime Stories: Modern Ta...  James Finn Garner   \n",
              "4      Politically Correct Bedtime Stories: Modern Ta...  James Finn Garner   \n",
              "...                                                  ...                ...   \n",
              "97246                                          Ringworld        Larry Niven   \n",
              "97247                                          Ringworld        Larry Niven   \n",
              "97248                                          Ringworld        Larry Niven   \n",
              "97249                                          Ringworld        Larry Niven   \n",
              "97250                                          Ringworld        Larry Niven   \n",
              "\n",
              "       Year-Of-Publication                  Publisher  \n",
              "0                   1994.0  John Wiley &amp; Sons Inc  \n",
              "1                   1994.0  John Wiley &amp; Sons Inc  \n",
              "2                   1994.0  John Wiley &amp; Sons Inc  \n",
              "3                   1994.0  John Wiley &amp; Sons Inc  \n",
              "4                   1994.0  John Wiley &amp; Sons Inc  \n",
              "...                    ...                        ...  \n",
              "97246               1990.0              Del Rey Books  \n",
              "97247               1990.0              Del Rey Books  \n",
              "97248               1990.0              Del Rey Books  \n",
              "97249               1990.0              Del Rey Books  \n",
              "97250               1990.0              Del Rey Books  \n",
              "\n",
              "[97251 rows x 7 columns]"
            ],
            "text/html": [
              "\n",
              "  <div id=\"df-6b244fbc-46d0-42f4-826d-8a939373792c\">\n",
              "    <div class=\"colab-df-container\">\n",
              "      <div>\n",
              "<style scoped>\n",
              "    .dataframe tbody tr th:only-of-type {\n",
              "        vertical-align: middle;\n",
              "    }\n",
              "\n",
              "    .dataframe tbody tr th {\n",
              "        vertical-align: top;\n",
              "    }\n",
              "\n",
              "    .dataframe thead th {\n",
              "        text-align: right;\n",
              "    }\n",
              "</style>\n",
              "<table border=\"1\" class=\"dataframe\">\n",
              "  <thead>\n",
              "    <tr style=\"text-align: right;\">\n",
              "      <th></th>\n",
              "      <th>User-ID</th>\n",
              "      <th>ISBN</th>\n",
              "      <th>Book-Rating</th>\n",
              "      <th>Book-Title</th>\n",
              "      <th>Book-Author</th>\n",
              "      <th>Year-Of-Publication</th>\n",
              "      <th>Publisher</th>\n",
              "    </tr>\n",
              "  </thead>\n",
              "  <tbody>\n",
              "    <tr>\n",
              "      <th>0</th>\n",
              "      <td>277427</td>\n",
              "      <td>002542730X</td>\n",
              "      <td>10</td>\n",
              "      <td>Politically Correct Bedtime Stories: Modern Ta...</td>\n",
              "      <td>James Finn Garner</td>\n",
              "      <td>1994.0</td>\n",
              "      <td>John Wiley &amp;amp; Sons Inc</td>\n",
              "    </tr>\n",
              "    <tr>\n",
              "      <th>1</th>\n",
              "      <td>3363</td>\n",
              "      <td>002542730X</td>\n",
              "      <td>0</td>\n",
              "      <td>Politically Correct Bedtime Stories: Modern Ta...</td>\n",
              "      <td>James Finn Garner</td>\n",
              "      <td>1994.0</td>\n",
              "      <td>John Wiley &amp;amp; Sons Inc</td>\n",
              "    </tr>\n",
              "    <tr>\n",
              "      <th>2</th>\n",
              "      <td>11676</td>\n",
              "      <td>002542730X</td>\n",
              "      <td>6</td>\n",
              "      <td>Politically Correct Bedtime Stories: Modern Ta...</td>\n",
              "      <td>James Finn Garner</td>\n",
              "      <td>1994.0</td>\n",
              "      <td>John Wiley &amp;amp; Sons Inc</td>\n",
              "    </tr>\n",
              "    <tr>\n",
              "      <th>3</th>\n",
              "      <td>12538</td>\n",
              "      <td>002542730X</td>\n",
              "      <td>10</td>\n",
              "      <td>Politically Correct Bedtime Stories: Modern Ta...</td>\n",
              "      <td>James Finn Garner</td>\n",
              "      <td>1994.0</td>\n",
              "      <td>John Wiley &amp;amp; Sons Inc</td>\n",
              "    </tr>\n",
              "    <tr>\n",
              "      <th>4</th>\n",
              "      <td>13552</td>\n",
              "      <td>002542730X</td>\n",
              "      <td>0</td>\n",
              "      <td>Politically Correct Bedtime Stories: Modern Ta...</td>\n",
              "      <td>James Finn Garner</td>\n",
              "      <td>1994.0</td>\n",
              "      <td>John Wiley &amp;amp; Sons Inc</td>\n",
              "    </tr>\n",
              "    <tr>\n",
              "      <th>...</th>\n",
              "      <td>...</td>\n",
              "      <td>...</td>\n",
              "      <td>...</td>\n",
              "      <td>...</td>\n",
              "      <td>...</td>\n",
              "      <td>...</td>\n",
              "      <td>...</td>\n",
              "    </tr>\n",
              "    <tr>\n",
              "      <th>97246</th>\n",
              "      <td>234828</td>\n",
              "      <td>0345333926</td>\n",
              "      <td>8</td>\n",
              "      <td>Ringworld</td>\n",
              "      <td>Larry Niven</td>\n",
              "      <td>1990.0</td>\n",
              "      <td>Del Rey Books</td>\n",
              "    </tr>\n",
              "    <tr>\n",
              "      <th>97247</th>\n",
              "      <td>236283</td>\n",
              "      <td>0345333926</td>\n",
              "      <td>0</td>\n",
              "      <td>Ringworld</td>\n",
              "      <td>Larry Niven</td>\n",
              "      <td>1990.0</td>\n",
              "      <td>Del Rey Books</td>\n",
              "    </tr>\n",
              "    <tr>\n",
              "      <th>97248</th>\n",
              "      <td>249628</td>\n",
              "      <td>0345333926</td>\n",
              "      <td>0</td>\n",
              "      <td>Ringworld</td>\n",
              "      <td>Larry Niven</td>\n",
              "      <td>1990.0</td>\n",
              "      <td>Del Rey Books</td>\n",
              "    </tr>\n",
              "    <tr>\n",
              "      <th>97249</th>\n",
              "      <td>261829</td>\n",
              "      <td>0345333926</td>\n",
              "      <td>0</td>\n",
              "      <td>Ringworld</td>\n",
              "      <td>Larry Niven</td>\n",
              "      <td>1990.0</td>\n",
              "      <td>Del Rey Books</td>\n",
              "    </tr>\n",
              "    <tr>\n",
              "      <th>97250</th>\n",
              "      <td>264321</td>\n",
              "      <td>0345333926</td>\n",
              "      <td>8</td>\n",
              "      <td>Ringworld</td>\n",
              "      <td>Larry Niven</td>\n",
              "      <td>1990.0</td>\n",
              "      <td>Del Rey Books</td>\n",
              "    </tr>\n",
              "  </tbody>\n",
              "</table>\n",
              "<p>97251 rows × 7 columns</p>\n",
              "</div>\n",
              "      <button class=\"colab-df-convert\" onclick=\"convertToInteractive('df-6b244fbc-46d0-42f4-826d-8a939373792c')\"\n",
              "              title=\"Convert this dataframe to an interactive table.\"\n",
              "              style=\"display:none;\">\n",
              "        \n",
              "  <svg xmlns=\"http://www.w3.org/2000/svg\" height=\"24px\"viewBox=\"0 0 24 24\"\n",
              "       width=\"24px\">\n",
              "    <path d=\"M0 0h24v24H0V0z\" fill=\"none\"/>\n",
              "    <path d=\"M18.56 5.44l.94 2.06.94-2.06 2.06-.94-2.06-.94-.94-2.06-.94 2.06-2.06.94zm-11 1L8.5 8.5l.94-2.06 2.06-.94-2.06-.94L8.5 2.5l-.94 2.06-2.06.94zm10 10l.94 2.06.94-2.06 2.06-.94-2.06-.94-.94-2.06-.94 2.06-2.06.94z\"/><path d=\"M17.41 7.96l-1.37-1.37c-.4-.4-.92-.59-1.43-.59-.52 0-1.04.2-1.43.59L10.3 9.45l-7.72 7.72c-.78.78-.78 2.05 0 2.83L4 21.41c.39.39.9.59 1.41.59.51 0 1.02-.2 1.41-.59l7.78-7.78 2.81-2.81c.8-.78.8-2.07 0-2.86zM5.41 20L4 18.59l7.72-7.72 1.47 1.35L5.41 20z\"/>\n",
              "  </svg>\n",
              "      </button>\n",
              "      \n",
              "  <style>\n",
              "    .colab-df-container {\n",
              "      display:flex;\n",
              "      flex-wrap:wrap;\n",
              "      gap: 12px;\n",
              "    }\n",
              "\n",
              "    .colab-df-convert {\n",
              "      background-color: #E8F0FE;\n",
              "      border: none;\n",
              "      border-radius: 50%;\n",
              "      cursor: pointer;\n",
              "      display: none;\n",
              "      fill: #1967D2;\n",
              "      height: 32px;\n",
              "      padding: 0 0 0 0;\n",
              "      width: 32px;\n",
              "    }\n",
              "\n",
              "    .colab-df-convert:hover {\n",
              "      background-color: #E2EBFA;\n",
              "      box-shadow: 0px 1px 2px rgba(60, 64, 67, 0.3), 0px 1px 3px 1px rgba(60, 64, 67, 0.15);\n",
              "      fill: #174EA6;\n",
              "    }\n",
              "\n",
              "    [theme=dark] .colab-df-convert {\n",
              "      background-color: #3B4455;\n",
              "      fill: #D2E3FC;\n",
              "    }\n",
              "\n",
              "    [theme=dark] .colab-df-convert:hover {\n",
              "      background-color: #434B5C;\n",
              "      box-shadow: 0px 1px 3px 1px rgba(0, 0, 0, 0.15);\n",
              "      filter: drop-shadow(0px 1px 2px rgba(0, 0, 0, 0.3));\n",
              "      fill: #FFFFFF;\n",
              "    }\n",
              "  </style>\n",
              "\n",
              "      <script>\n",
              "        const buttonEl =\n",
              "          document.querySelector('#df-6b244fbc-46d0-42f4-826d-8a939373792c button.colab-df-convert');\n",
              "        buttonEl.style.display =\n",
              "          google.colab.kernel.accessAllowed ? 'block' : 'none';\n",
              "\n",
              "        async function convertToInteractive(key) {\n",
              "          const element = document.querySelector('#df-6b244fbc-46d0-42f4-826d-8a939373792c');\n",
              "          const dataTable =\n",
              "            await google.colab.kernel.invokeFunction('convertToInteractive',\n",
              "                                                     [key], {});\n",
              "          if (!dataTable) return;\n",
              "\n",
              "          const docLinkHtml = 'Like what you see? Visit the ' +\n",
              "            '<a target=\"_blank\" href=https://colab.research.google.com/notebooks/data_table.ipynb>data table notebook</a>'\n",
              "            + ' to learn more about interactive tables.';\n",
              "          element.innerHTML = '';\n",
              "          dataTable['output_type'] = 'display_data';\n",
              "          await google.colab.output.renderOutput(dataTable, element);\n",
              "          const docLink = document.createElement('div');\n",
              "          docLink.innerHTML = docLinkHtml;\n",
              "          element.appendChild(docLink);\n",
              "        }\n",
              "      </script>\n",
              "    </div>\n",
              "  </div>\n",
              "  "
            ]
          },
          "metadata": {},
          "execution_count": 232
        }
      ]
    },
    {
      "cell_type": "markdown",
      "source": [
        "We cam drop **Book-Author** ,**Year of Publication** & **Publisher** as we will not be needing that features."
      ],
      "metadata": {
        "id": "UwzUFGrDNOyp"
      }
    },
    {
      "cell_type": "code",
      "source": [
        "combined_book_rating_df = combined_book_rating_df.drop(columns=['Book-Author', 'Year-Of-Publication', 'Publisher'], axis=1)"
      ],
      "metadata": {
        "id": "pm4hd42uNMdW"
      },
      "execution_count": null,
      "outputs": []
    },
    {
      "cell_type": "code",
      "source": [
        "combined_book_rating_df.head()"
      ],
      "metadata": {
        "colab": {
          "base_uri": "https://localhost:8080/",
          "height": 206
        },
        "id": "J5_Ji9snNnct",
        "outputId": "6b9403ae-f7ab-4fc1-fec3-0152f9c5902c"
      },
      "execution_count": null,
      "outputs": [
        {
          "output_type": "execute_result",
          "data": {
            "text/plain": [
              "   User-ID        ISBN  Book-Rating  \\\n",
              "0   277427  002542730X           10   \n",
              "1     3363  002542730X            0   \n",
              "2    11676  002542730X            6   \n",
              "3    12538  002542730X           10   \n",
              "4    13552  002542730X            0   \n",
              "\n",
              "                                          Book-Title  \n",
              "0  Politically Correct Bedtime Stories: Modern Ta...  \n",
              "1  Politically Correct Bedtime Stories: Modern Ta...  \n",
              "2  Politically Correct Bedtime Stories: Modern Ta...  \n",
              "3  Politically Correct Bedtime Stories: Modern Ta...  \n",
              "4  Politically Correct Bedtime Stories: Modern Ta...  "
            ],
            "text/html": [
              "\n",
              "  <div id=\"df-40f1c70f-7725-4f00-834f-ecb6f2675a09\">\n",
              "    <div class=\"colab-df-container\">\n",
              "      <div>\n",
              "<style scoped>\n",
              "    .dataframe tbody tr th:only-of-type {\n",
              "        vertical-align: middle;\n",
              "    }\n",
              "\n",
              "    .dataframe tbody tr th {\n",
              "        vertical-align: top;\n",
              "    }\n",
              "\n",
              "    .dataframe thead th {\n",
              "        text-align: right;\n",
              "    }\n",
              "</style>\n",
              "<table border=\"1\" class=\"dataframe\">\n",
              "  <thead>\n",
              "    <tr style=\"text-align: right;\">\n",
              "      <th></th>\n",
              "      <th>User-ID</th>\n",
              "      <th>ISBN</th>\n",
              "      <th>Book-Rating</th>\n",
              "      <th>Book-Title</th>\n",
              "    </tr>\n",
              "  </thead>\n",
              "  <tbody>\n",
              "    <tr>\n",
              "      <th>0</th>\n",
              "      <td>277427</td>\n",
              "      <td>002542730X</td>\n",
              "      <td>10</td>\n",
              "      <td>Politically Correct Bedtime Stories: Modern Ta...</td>\n",
              "    </tr>\n",
              "    <tr>\n",
              "      <th>1</th>\n",
              "      <td>3363</td>\n",
              "      <td>002542730X</td>\n",
              "      <td>0</td>\n",
              "      <td>Politically Correct Bedtime Stories: Modern Ta...</td>\n",
              "    </tr>\n",
              "    <tr>\n",
              "      <th>2</th>\n",
              "      <td>11676</td>\n",
              "      <td>002542730X</td>\n",
              "      <td>6</td>\n",
              "      <td>Politically Correct Bedtime Stories: Modern Ta...</td>\n",
              "    </tr>\n",
              "    <tr>\n",
              "      <th>3</th>\n",
              "      <td>12538</td>\n",
              "      <td>002542730X</td>\n",
              "      <td>10</td>\n",
              "      <td>Politically Correct Bedtime Stories: Modern Ta...</td>\n",
              "    </tr>\n",
              "    <tr>\n",
              "      <th>4</th>\n",
              "      <td>13552</td>\n",
              "      <td>002542730X</td>\n",
              "      <td>0</td>\n",
              "      <td>Politically Correct Bedtime Stories: Modern Ta...</td>\n",
              "    </tr>\n",
              "  </tbody>\n",
              "</table>\n",
              "</div>\n",
              "      <button class=\"colab-df-convert\" onclick=\"convertToInteractive('df-40f1c70f-7725-4f00-834f-ecb6f2675a09')\"\n",
              "              title=\"Convert this dataframe to an interactive table.\"\n",
              "              style=\"display:none;\">\n",
              "        \n",
              "  <svg xmlns=\"http://www.w3.org/2000/svg\" height=\"24px\"viewBox=\"0 0 24 24\"\n",
              "       width=\"24px\">\n",
              "    <path d=\"M0 0h24v24H0V0z\" fill=\"none\"/>\n",
              "    <path d=\"M18.56 5.44l.94 2.06.94-2.06 2.06-.94-2.06-.94-.94-2.06-.94 2.06-2.06.94zm-11 1L8.5 8.5l.94-2.06 2.06-.94-2.06-.94L8.5 2.5l-.94 2.06-2.06.94zm10 10l.94 2.06.94-2.06 2.06-.94-2.06-.94-.94-2.06-.94 2.06-2.06.94z\"/><path d=\"M17.41 7.96l-1.37-1.37c-.4-.4-.92-.59-1.43-.59-.52 0-1.04.2-1.43.59L10.3 9.45l-7.72 7.72c-.78.78-.78 2.05 0 2.83L4 21.41c.39.39.9.59 1.41.59.51 0 1.02-.2 1.41-.59l7.78-7.78 2.81-2.81c.8-.78.8-2.07 0-2.86zM5.41 20L4 18.59l7.72-7.72 1.47 1.35L5.41 20z\"/>\n",
              "  </svg>\n",
              "      </button>\n",
              "      \n",
              "  <style>\n",
              "    .colab-df-container {\n",
              "      display:flex;\n",
              "      flex-wrap:wrap;\n",
              "      gap: 12px;\n",
              "    }\n",
              "\n",
              "    .colab-df-convert {\n",
              "      background-color: #E8F0FE;\n",
              "      border: none;\n",
              "      border-radius: 50%;\n",
              "      cursor: pointer;\n",
              "      display: none;\n",
              "      fill: #1967D2;\n",
              "      height: 32px;\n",
              "      padding: 0 0 0 0;\n",
              "      width: 32px;\n",
              "    }\n",
              "\n",
              "    .colab-df-convert:hover {\n",
              "      background-color: #E2EBFA;\n",
              "      box-shadow: 0px 1px 2px rgba(60, 64, 67, 0.3), 0px 1px 3px 1px rgba(60, 64, 67, 0.15);\n",
              "      fill: #174EA6;\n",
              "    }\n",
              "\n",
              "    [theme=dark] .colab-df-convert {\n",
              "      background-color: #3B4455;\n",
              "      fill: #D2E3FC;\n",
              "    }\n",
              "\n",
              "    [theme=dark] .colab-df-convert:hover {\n",
              "      background-color: #434B5C;\n",
              "      box-shadow: 0px 1px 3px 1px rgba(0, 0, 0, 0.15);\n",
              "      filter: drop-shadow(0px 1px 2px rgba(0, 0, 0, 0.3));\n",
              "      fill: #FFFFFF;\n",
              "    }\n",
              "  </style>\n",
              "\n",
              "      <script>\n",
              "        const buttonEl =\n",
              "          document.querySelector('#df-40f1c70f-7725-4f00-834f-ecb6f2675a09 button.colab-df-convert');\n",
              "        buttonEl.style.display =\n",
              "          google.colab.kernel.accessAllowed ? 'block' : 'none';\n",
              "\n",
              "        async function convertToInteractive(key) {\n",
              "          const element = document.querySelector('#df-40f1c70f-7725-4f00-834f-ecb6f2675a09');\n",
              "          const dataTable =\n",
              "            await google.colab.kernel.invokeFunction('convertToInteractive',\n",
              "                                                     [key], {});\n",
              "          if (!dataTable) return;\n",
              "\n",
              "          const docLinkHtml = 'Like what you see? Visit the ' +\n",
              "            '<a target=\"_blank\" href=https://colab.research.google.com/notebooks/data_table.ipynb>data table notebook</a>'\n",
              "            + ' to learn more about interactive tables.';\n",
              "          element.innerHTML = '';\n",
              "          dataTable['output_type'] = 'display_data';\n",
              "          await google.colab.output.renderOutput(dataTable, element);\n",
              "          const docLink = document.createElement('div');\n",
              "          docLink.innerHTML = docLinkHtml;\n",
              "          element.appendChild(docLink);\n",
              "        }\n",
              "      </script>\n",
              "    </div>\n",
              "  </div>\n",
              "  "
            ]
          },
          "metadata": {},
          "execution_count": 234
        }
      ]
    },
    {
      "cell_type": "markdown",
      "source": [
        "Grouping by book titles and creating a new column for total rating count."
      ],
      "metadata": {
        "id": "v3ivY1-2d91S"
      }
    },
    {
      "cell_type": "code",
      "source": [
        "combined_book_rating_df.isna().sum()"
      ],
      "metadata": {
        "colab": {
          "base_uri": "https://localhost:8080/"
        },
        "id": "aSorxHKgeWbm",
        "outputId": "20998356-2954-43be-ebf1-5a70724792b6"
      },
      "execution_count": null,
      "outputs": [
        {
          "output_type": "execute_result",
          "data": {
            "text/plain": [
              "User-ID        0\n",
              "ISBN           0\n",
              "Book-Rating    0\n",
              "Book-Title     0\n",
              "dtype: int64"
            ]
          },
          "metadata": {},
          "execution_count": 235
        }
      ]
    },
    {
      "cell_type": "code",
      "source": [
        "combined_book_rating_df.head()"
      ],
      "metadata": {
        "colab": {
          "base_uri": "https://localhost:8080/",
          "height": 206
        },
        "id": "weLEz6xde50N",
        "outputId": "b0a975d5-ff41-4131-81da-1535b68b1c0a"
      },
      "execution_count": null,
      "outputs": [
        {
          "output_type": "execute_result",
          "data": {
            "text/plain": [
              "   User-ID        ISBN  Book-Rating  \\\n",
              "0   277427  002542730X           10   \n",
              "1     3363  002542730X            0   \n",
              "2    11676  002542730X            6   \n",
              "3    12538  002542730X           10   \n",
              "4    13552  002542730X            0   \n",
              "\n",
              "                                          Book-Title  \n",
              "0  Politically Correct Bedtime Stories: Modern Ta...  \n",
              "1  Politically Correct Bedtime Stories: Modern Ta...  \n",
              "2  Politically Correct Bedtime Stories: Modern Ta...  \n",
              "3  Politically Correct Bedtime Stories: Modern Ta...  \n",
              "4  Politically Correct Bedtime Stories: Modern Ta...  "
            ],
            "text/html": [
              "\n",
              "  <div id=\"df-e76790be-b9e1-4db3-ae87-21ba714e2ef6\">\n",
              "    <div class=\"colab-df-container\">\n",
              "      <div>\n",
              "<style scoped>\n",
              "    .dataframe tbody tr th:only-of-type {\n",
              "        vertical-align: middle;\n",
              "    }\n",
              "\n",
              "    .dataframe tbody tr th {\n",
              "        vertical-align: top;\n",
              "    }\n",
              "\n",
              "    .dataframe thead th {\n",
              "        text-align: right;\n",
              "    }\n",
              "</style>\n",
              "<table border=\"1\" class=\"dataframe\">\n",
              "  <thead>\n",
              "    <tr style=\"text-align: right;\">\n",
              "      <th></th>\n",
              "      <th>User-ID</th>\n",
              "      <th>ISBN</th>\n",
              "      <th>Book-Rating</th>\n",
              "      <th>Book-Title</th>\n",
              "    </tr>\n",
              "  </thead>\n",
              "  <tbody>\n",
              "    <tr>\n",
              "      <th>0</th>\n",
              "      <td>277427</td>\n",
              "      <td>002542730X</td>\n",
              "      <td>10</td>\n",
              "      <td>Politically Correct Bedtime Stories: Modern Ta...</td>\n",
              "    </tr>\n",
              "    <tr>\n",
              "      <th>1</th>\n",
              "      <td>3363</td>\n",
              "      <td>002542730X</td>\n",
              "      <td>0</td>\n",
              "      <td>Politically Correct Bedtime Stories: Modern Ta...</td>\n",
              "    </tr>\n",
              "    <tr>\n",
              "      <th>2</th>\n",
              "      <td>11676</td>\n",
              "      <td>002542730X</td>\n",
              "      <td>6</td>\n",
              "      <td>Politically Correct Bedtime Stories: Modern Ta...</td>\n",
              "    </tr>\n",
              "    <tr>\n",
              "      <th>3</th>\n",
              "      <td>12538</td>\n",
              "      <td>002542730X</td>\n",
              "      <td>10</td>\n",
              "      <td>Politically Correct Bedtime Stories: Modern Ta...</td>\n",
              "    </tr>\n",
              "    <tr>\n",
              "      <th>4</th>\n",
              "      <td>13552</td>\n",
              "      <td>002542730X</td>\n",
              "      <td>0</td>\n",
              "      <td>Politically Correct Bedtime Stories: Modern Ta...</td>\n",
              "    </tr>\n",
              "  </tbody>\n",
              "</table>\n",
              "</div>\n",
              "      <button class=\"colab-df-convert\" onclick=\"convertToInteractive('df-e76790be-b9e1-4db3-ae87-21ba714e2ef6')\"\n",
              "              title=\"Convert this dataframe to an interactive table.\"\n",
              "              style=\"display:none;\">\n",
              "        \n",
              "  <svg xmlns=\"http://www.w3.org/2000/svg\" height=\"24px\"viewBox=\"0 0 24 24\"\n",
              "       width=\"24px\">\n",
              "    <path d=\"M0 0h24v24H0V0z\" fill=\"none\"/>\n",
              "    <path d=\"M18.56 5.44l.94 2.06.94-2.06 2.06-.94-2.06-.94-.94-2.06-.94 2.06-2.06.94zm-11 1L8.5 8.5l.94-2.06 2.06-.94-2.06-.94L8.5 2.5l-.94 2.06-2.06.94zm10 10l.94 2.06.94-2.06 2.06-.94-2.06-.94-.94-2.06-.94 2.06-2.06.94z\"/><path d=\"M17.41 7.96l-1.37-1.37c-.4-.4-.92-.59-1.43-.59-.52 0-1.04.2-1.43.59L10.3 9.45l-7.72 7.72c-.78.78-.78 2.05 0 2.83L4 21.41c.39.39.9.59 1.41.59.51 0 1.02-.2 1.41-.59l7.78-7.78 2.81-2.81c.8-.78.8-2.07 0-2.86zM5.41 20L4 18.59l7.72-7.72 1.47 1.35L5.41 20z\"/>\n",
              "  </svg>\n",
              "      </button>\n",
              "      \n",
              "  <style>\n",
              "    .colab-df-container {\n",
              "      display:flex;\n",
              "      flex-wrap:wrap;\n",
              "      gap: 12px;\n",
              "    }\n",
              "\n",
              "    .colab-df-convert {\n",
              "      background-color: #E8F0FE;\n",
              "      border: none;\n",
              "      border-radius: 50%;\n",
              "      cursor: pointer;\n",
              "      display: none;\n",
              "      fill: #1967D2;\n",
              "      height: 32px;\n",
              "      padding: 0 0 0 0;\n",
              "      width: 32px;\n",
              "    }\n",
              "\n",
              "    .colab-df-convert:hover {\n",
              "      background-color: #E2EBFA;\n",
              "      box-shadow: 0px 1px 2px rgba(60, 64, 67, 0.3), 0px 1px 3px 1px rgba(60, 64, 67, 0.15);\n",
              "      fill: #174EA6;\n",
              "    }\n",
              "\n",
              "    [theme=dark] .colab-df-convert {\n",
              "      background-color: #3B4455;\n",
              "      fill: #D2E3FC;\n",
              "    }\n",
              "\n",
              "    [theme=dark] .colab-df-convert:hover {\n",
              "      background-color: #434B5C;\n",
              "      box-shadow: 0px 1px 3px 1px rgba(0, 0, 0, 0.15);\n",
              "      filter: drop-shadow(0px 1px 2px rgba(0, 0, 0, 0.3));\n",
              "      fill: #FFFFFF;\n",
              "    }\n",
              "  </style>\n",
              "\n",
              "      <script>\n",
              "        const buttonEl =\n",
              "          document.querySelector('#df-e76790be-b9e1-4db3-ae87-21ba714e2ef6 button.colab-df-convert');\n",
              "        buttonEl.style.display =\n",
              "          google.colab.kernel.accessAllowed ? 'block' : 'none';\n",
              "\n",
              "        async function convertToInteractive(key) {\n",
              "          const element = document.querySelector('#df-e76790be-b9e1-4db3-ae87-21ba714e2ef6');\n",
              "          const dataTable =\n",
              "            await google.colab.kernel.invokeFunction('convertToInteractive',\n",
              "                                                     [key], {});\n",
              "          if (!dataTable) return;\n",
              "\n",
              "          const docLinkHtml = 'Like what you see? Visit the ' +\n",
              "            '<a target=\"_blank\" href=https://colab.research.google.com/notebooks/data_table.ipynb>data table notebook</a>'\n",
              "            + ' to learn more about interactive tables.';\n",
              "          element.innerHTML = '';\n",
              "          dataTable['output_type'] = 'display_data';\n",
              "          await google.colab.output.renderOutput(dataTable, element);\n",
              "          const docLink = document.createElement('div');\n",
              "          docLink.innerHTML = docLinkHtml;\n",
              "          element.appendChild(docLink);\n",
              "        }\n",
              "      </script>\n",
              "    </div>\n",
              "  </div>\n",
              "  "
            ]
          },
          "metadata": {},
          "execution_count": 236
        }
      ]
    },
    {
      "cell_type": "code",
      "source": [
        "book_rating_count_df = (combined_book_rating_df.\n",
        "                        groupby(by=['Book-Title'])['Book-Rating'].\n",
        "                        count().\n",
        "                        reset_index().\n",
        "                        rename(columns = {'Book-Rating' : 'Total Rating Count'})\n",
        "                        [['Book-Title', 'Total Rating Count']]\n",
        "                        )"
      ],
      "metadata": {
        "id": "vpa6zk4Medna"
      },
      "execution_count": null,
      "outputs": []
    },
    {
      "cell_type": "code",
      "source": [
        "book_rating_count_df.head()"
      ],
      "metadata": {
        "colab": {
          "base_uri": "https://localhost:8080/",
          "height": 206
        },
        "id": "6xZyt-cQfTa6",
        "outputId": "4c749add-2b90-403e-8a6f-f8d90da39d14"
      },
      "execution_count": null,
      "outputs": [
        {
          "output_type": "execute_result",
          "data": {
            "text/plain": [
              "            Book-Title  Total Rating Count\n",
              "0   16 Lighthouse Road                  42\n",
              "1                 1984                  61\n",
              "2  1st to Die: A Novel                 173\n",
              "3    2010: Odyssey Two                  44\n",
              "4    204 Rosewood Lane                  45"
            ],
            "text/html": [
              "\n",
              "  <div id=\"df-350f7bf3-e764-40b0-8335-04ad0ebba446\">\n",
              "    <div class=\"colab-df-container\">\n",
              "      <div>\n",
              "<style scoped>\n",
              "    .dataframe tbody tr th:only-of-type {\n",
              "        vertical-align: middle;\n",
              "    }\n",
              "\n",
              "    .dataframe tbody tr th {\n",
              "        vertical-align: top;\n",
              "    }\n",
              "\n",
              "    .dataframe thead th {\n",
              "        text-align: right;\n",
              "    }\n",
              "</style>\n",
              "<table border=\"1\" class=\"dataframe\">\n",
              "  <thead>\n",
              "    <tr style=\"text-align: right;\">\n",
              "      <th></th>\n",
              "      <th>Book-Title</th>\n",
              "      <th>Total Rating Count</th>\n",
              "    </tr>\n",
              "  </thead>\n",
              "  <tbody>\n",
              "    <tr>\n",
              "      <th>0</th>\n",
              "      <td>16 Lighthouse Road</td>\n",
              "      <td>42</td>\n",
              "    </tr>\n",
              "    <tr>\n",
              "      <th>1</th>\n",
              "      <td>1984</td>\n",
              "      <td>61</td>\n",
              "    </tr>\n",
              "    <tr>\n",
              "      <th>2</th>\n",
              "      <td>1st to Die: A Novel</td>\n",
              "      <td>173</td>\n",
              "    </tr>\n",
              "    <tr>\n",
              "      <th>3</th>\n",
              "      <td>2010: Odyssey Two</td>\n",
              "      <td>44</td>\n",
              "    </tr>\n",
              "    <tr>\n",
              "      <th>4</th>\n",
              "      <td>204 Rosewood Lane</td>\n",
              "      <td>45</td>\n",
              "    </tr>\n",
              "  </tbody>\n",
              "</table>\n",
              "</div>\n",
              "      <button class=\"colab-df-convert\" onclick=\"convertToInteractive('df-350f7bf3-e764-40b0-8335-04ad0ebba446')\"\n",
              "              title=\"Convert this dataframe to an interactive table.\"\n",
              "              style=\"display:none;\">\n",
              "        \n",
              "  <svg xmlns=\"http://www.w3.org/2000/svg\" height=\"24px\"viewBox=\"0 0 24 24\"\n",
              "       width=\"24px\">\n",
              "    <path d=\"M0 0h24v24H0V0z\" fill=\"none\"/>\n",
              "    <path d=\"M18.56 5.44l.94 2.06.94-2.06 2.06-.94-2.06-.94-.94-2.06-.94 2.06-2.06.94zm-11 1L8.5 8.5l.94-2.06 2.06-.94-2.06-.94L8.5 2.5l-.94 2.06-2.06.94zm10 10l.94 2.06.94-2.06 2.06-.94-2.06-.94-.94-2.06-.94 2.06-2.06.94z\"/><path d=\"M17.41 7.96l-1.37-1.37c-.4-.4-.92-.59-1.43-.59-.52 0-1.04.2-1.43.59L10.3 9.45l-7.72 7.72c-.78.78-.78 2.05 0 2.83L4 21.41c.39.39.9.59 1.41.59.51 0 1.02-.2 1.41-.59l7.78-7.78 2.81-2.81c.8-.78.8-2.07 0-2.86zM5.41 20L4 18.59l7.72-7.72 1.47 1.35L5.41 20z\"/>\n",
              "  </svg>\n",
              "      </button>\n",
              "      \n",
              "  <style>\n",
              "    .colab-df-container {\n",
              "      display:flex;\n",
              "      flex-wrap:wrap;\n",
              "      gap: 12px;\n",
              "    }\n",
              "\n",
              "    .colab-df-convert {\n",
              "      background-color: #E8F0FE;\n",
              "      border: none;\n",
              "      border-radius: 50%;\n",
              "      cursor: pointer;\n",
              "      display: none;\n",
              "      fill: #1967D2;\n",
              "      height: 32px;\n",
              "      padding: 0 0 0 0;\n",
              "      width: 32px;\n",
              "    }\n",
              "\n",
              "    .colab-df-convert:hover {\n",
              "      background-color: #E2EBFA;\n",
              "      box-shadow: 0px 1px 2px rgba(60, 64, 67, 0.3), 0px 1px 3px 1px rgba(60, 64, 67, 0.15);\n",
              "      fill: #174EA6;\n",
              "    }\n",
              "\n",
              "    [theme=dark] .colab-df-convert {\n",
              "      background-color: #3B4455;\n",
              "      fill: #D2E3FC;\n",
              "    }\n",
              "\n",
              "    [theme=dark] .colab-df-convert:hover {\n",
              "      background-color: #434B5C;\n",
              "      box-shadow: 0px 1px 3px 1px rgba(0, 0, 0, 0.15);\n",
              "      filter: drop-shadow(0px 1px 2px rgba(0, 0, 0, 0.3));\n",
              "      fill: #FFFFFF;\n",
              "    }\n",
              "  </style>\n",
              "\n",
              "      <script>\n",
              "        const buttonEl =\n",
              "          document.querySelector('#df-350f7bf3-e764-40b0-8335-04ad0ebba446 button.colab-df-convert');\n",
              "        buttonEl.style.display =\n",
              "          google.colab.kernel.accessAllowed ? 'block' : 'none';\n",
              "\n",
              "        async function convertToInteractive(key) {\n",
              "          const element = document.querySelector('#df-350f7bf3-e764-40b0-8335-04ad0ebba446');\n",
              "          const dataTable =\n",
              "            await google.colab.kernel.invokeFunction('convertToInteractive',\n",
              "                                                     [key], {});\n",
              "          if (!dataTable) return;\n",
              "\n",
              "          const docLinkHtml = 'Like what you see? Visit the ' +\n",
              "            '<a target=\"_blank\" href=https://colab.research.google.com/notebooks/data_table.ipynb>data table notebook</a>'\n",
              "            + ' to learn more about interactive tables.';\n",
              "          element.innerHTML = '';\n",
              "          dataTable['output_type'] = 'display_data';\n",
              "          await google.colab.output.renderOutput(dataTable, element);\n",
              "          const docLink = document.createElement('div');\n",
              "          docLink.innerHTML = docLinkHtml;\n",
              "          element.appendChild(docLink);\n",
              "        }\n",
              "      </script>\n",
              "    </div>\n",
              "  </div>\n",
              "  "
            ]
          },
          "metadata": {},
          "execution_count": 238
        }
      ]
    },
    {
      "cell_type": "markdown",
      "source": [
        "Combining the combined_book_rating with the book_rating_count to get the total rating counts. This gives us exactly what we need to find out which books are popular and filter out the lesser-known books."
      ],
      "metadata": {
        "id": "vj-YayTVfhNx"
      }
    },
    {
      "cell_type": "code",
      "source": [
        "bookRating_with_totalRatingCount_df =  combined_book_rating_df.merge(book_rating_count_df, on='Book-Title', how='left')"
      ],
      "metadata": {
        "id": "4Ebb-VYrfWAS"
      },
      "execution_count": null,
      "outputs": []
    },
    {
      "cell_type": "code",
      "source": [
        "bookRating_with_totalRatingCount_df.tail()"
      ],
      "metadata": {
        "colab": {
          "base_uri": "https://localhost:8080/",
          "height": 206
        },
        "id": "iCLsU9A5gYho",
        "outputId": "c6721a9c-07ef-4c0f-a577-3f317e4fe9ee"
      },
      "execution_count": null,
      "outputs": [
        {
          "output_type": "execute_result",
          "data": {
            "text/plain": [
              "       User-ID        ISBN  Book-Rating Book-Title  Total Rating Count\n",
              "97246   234828  0345333926            8  Ringworld                  22\n",
              "97247   236283  0345333926            0  Ringworld                  22\n",
              "97248   249628  0345333926            0  Ringworld                  22\n",
              "97249   261829  0345333926            0  Ringworld                  22\n",
              "97250   264321  0345333926            8  Ringworld                  22"
            ],
            "text/html": [
              "\n",
              "  <div id=\"df-77345870-4911-444d-8cae-fcd67b27aa99\">\n",
              "    <div class=\"colab-df-container\">\n",
              "      <div>\n",
              "<style scoped>\n",
              "    .dataframe tbody tr th:only-of-type {\n",
              "        vertical-align: middle;\n",
              "    }\n",
              "\n",
              "    .dataframe tbody tr th {\n",
              "        vertical-align: top;\n",
              "    }\n",
              "\n",
              "    .dataframe thead th {\n",
              "        text-align: right;\n",
              "    }\n",
              "</style>\n",
              "<table border=\"1\" class=\"dataframe\">\n",
              "  <thead>\n",
              "    <tr style=\"text-align: right;\">\n",
              "      <th></th>\n",
              "      <th>User-ID</th>\n",
              "      <th>ISBN</th>\n",
              "      <th>Book-Rating</th>\n",
              "      <th>Book-Title</th>\n",
              "      <th>Total Rating Count</th>\n",
              "    </tr>\n",
              "  </thead>\n",
              "  <tbody>\n",
              "    <tr>\n",
              "      <th>97246</th>\n",
              "      <td>234828</td>\n",
              "      <td>0345333926</td>\n",
              "      <td>8</td>\n",
              "      <td>Ringworld</td>\n",
              "      <td>22</td>\n",
              "    </tr>\n",
              "    <tr>\n",
              "      <th>97247</th>\n",
              "      <td>236283</td>\n",
              "      <td>0345333926</td>\n",
              "      <td>0</td>\n",
              "      <td>Ringworld</td>\n",
              "      <td>22</td>\n",
              "    </tr>\n",
              "    <tr>\n",
              "      <th>97248</th>\n",
              "      <td>249628</td>\n",
              "      <td>0345333926</td>\n",
              "      <td>0</td>\n",
              "      <td>Ringworld</td>\n",
              "      <td>22</td>\n",
              "    </tr>\n",
              "    <tr>\n",
              "      <th>97249</th>\n",
              "      <td>261829</td>\n",
              "      <td>0345333926</td>\n",
              "      <td>0</td>\n",
              "      <td>Ringworld</td>\n",
              "      <td>22</td>\n",
              "    </tr>\n",
              "    <tr>\n",
              "      <th>97250</th>\n",
              "      <td>264321</td>\n",
              "      <td>0345333926</td>\n",
              "      <td>8</td>\n",
              "      <td>Ringworld</td>\n",
              "      <td>22</td>\n",
              "    </tr>\n",
              "  </tbody>\n",
              "</table>\n",
              "</div>\n",
              "      <button class=\"colab-df-convert\" onclick=\"convertToInteractive('df-77345870-4911-444d-8cae-fcd67b27aa99')\"\n",
              "              title=\"Convert this dataframe to an interactive table.\"\n",
              "              style=\"display:none;\">\n",
              "        \n",
              "  <svg xmlns=\"http://www.w3.org/2000/svg\" height=\"24px\"viewBox=\"0 0 24 24\"\n",
              "       width=\"24px\">\n",
              "    <path d=\"M0 0h24v24H0V0z\" fill=\"none\"/>\n",
              "    <path d=\"M18.56 5.44l.94 2.06.94-2.06 2.06-.94-2.06-.94-.94-2.06-.94 2.06-2.06.94zm-11 1L8.5 8.5l.94-2.06 2.06-.94-2.06-.94L8.5 2.5l-.94 2.06-2.06.94zm10 10l.94 2.06.94-2.06 2.06-.94-2.06-.94-.94-2.06-.94 2.06-2.06.94z\"/><path d=\"M17.41 7.96l-1.37-1.37c-.4-.4-.92-.59-1.43-.59-.52 0-1.04.2-1.43.59L10.3 9.45l-7.72 7.72c-.78.78-.78 2.05 0 2.83L4 21.41c.39.39.9.59 1.41.59.51 0 1.02-.2 1.41-.59l7.78-7.78 2.81-2.81c.8-.78.8-2.07 0-2.86zM5.41 20L4 18.59l7.72-7.72 1.47 1.35L5.41 20z\"/>\n",
              "  </svg>\n",
              "      </button>\n",
              "      \n",
              "  <style>\n",
              "    .colab-df-container {\n",
              "      display:flex;\n",
              "      flex-wrap:wrap;\n",
              "      gap: 12px;\n",
              "    }\n",
              "\n",
              "    .colab-df-convert {\n",
              "      background-color: #E8F0FE;\n",
              "      border: none;\n",
              "      border-radius: 50%;\n",
              "      cursor: pointer;\n",
              "      display: none;\n",
              "      fill: #1967D2;\n",
              "      height: 32px;\n",
              "      padding: 0 0 0 0;\n",
              "      width: 32px;\n",
              "    }\n",
              "\n",
              "    .colab-df-convert:hover {\n",
              "      background-color: #E2EBFA;\n",
              "      box-shadow: 0px 1px 2px rgba(60, 64, 67, 0.3), 0px 1px 3px 1px rgba(60, 64, 67, 0.15);\n",
              "      fill: #174EA6;\n",
              "    }\n",
              "\n",
              "    [theme=dark] .colab-df-convert {\n",
              "      background-color: #3B4455;\n",
              "      fill: #D2E3FC;\n",
              "    }\n",
              "\n",
              "    [theme=dark] .colab-df-convert:hover {\n",
              "      background-color: #434B5C;\n",
              "      box-shadow: 0px 1px 3px 1px rgba(0, 0, 0, 0.15);\n",
              "      filter: drop-shadow(0px 1px 2px rgba(0, 0, 0, 0.3));\n",
              "      fill: #FFFFFF;\n",
              "    }\n",
              "  </style>\n",
              "\n",
              "      <script>\n",
              "        const buttonEl =\n",
              "          document.querySelector('#df-77345870-4911-444d-8cae-fcd67b27aa99 button.colab-df-convert');\n",
              "        buttonEl.style.display =\n",
              "          google.colab.kernel.accessAllowed ? 'block' : 'none';\n",
              "\n",
              "        async function convertToInteractive(key) {\n",
              "          const element = document.querySelector('#df-77345870-4911-444d-8cae-fcd67b27aa99');\n",
              "          const dataTable =\n",
              "            await google.colab.kernel.invokeFunction('convertToInteractive',\n",
              "                                                     [key], {});\n",
              "          if (!dataTable) return;\n",
              "\n",
              "          const docLinkHtml = 'Like what you see? Visit the ' +\n",
              "            '<a target=\"_blank\" href=https://colab.research.google.com/notebooks/data_table.ipynb>data table notebook</a>'\n",
              "            + ' to learn more about interactive tables.';\n",
              "          element.innerHTML = '';\n",
              "          dataTable['output_type'] = 'display_data';\n",
              "          await google.colab.output.renderOutput(dataTable, element);\n",
              "          const docLink = document.createElement('div');\n",
              "          docLink.innerHTML = docLinkHtml;\n",
              "          element.appendChild(docLink);\n",
              "        }\n",
              "      </script>\n",
              "    </div>\n",
              "  </div>\n",
              "  "
            ]
          },
          "metadata": {},
          "execution_count": 240
        }
      ]
    },
    {
      "cell_type": "code",
      "source": [
        "bookRating_with_totalRatingCount_df.head()"
      ],
      "metadata": {
        "colab": {
          "base_uri": "https://localhost:8080/",
          "height": 206
        },
        "id": "3kYt_LURgbWl",
        "outputId": "ee5174b6-db29-41c2-f300-116bb2e285d5"
      },
      "execution_count": null,
      "outputs": [
        {
          "output_type": "execute_result",
          "data": {
            "text/plain": [
              "   User-ID        ISBN  Book-Rating  \\\n",
              "0   277427  002542730X           10   \n",
              "1     3363  002542730X            0   \n",
              "2    11676  002542730X            6   \n",
              "3    12538  002542730X           10   \n",
              "4    13552  002542730X            0   \n",
              "\n",
              "                                          Book-Title  Total Rating Count  \n",
              "0  Politically Correct Bedtime Stories: Modern Ta...                  83  \n",
              "1  Politically Correct Bedtime Stories: Modern Ta...                  83  \n",
              "2  Politically Correct Bedtime Stories: Modern Ta...                  83  \n",
              "3  Politically Correct Bedtime Stories: Modern Ta...                  83  \n",
              "4  Politically Correct Bedtime Stories: Modern Ta...                  83  "
            ],
            "text/html": [
              "\n",
              "  <div id=\"df-902e96be-e348-45b8-ae9b-a992e2e2192b\">\n",
              "    <div class=\"colab-df-container\">\n",
              "      <div>\n",
              "<style scoped>\n",
              "    .dataframe tbody tr th:only-of-type {\n",
              "        vertical-align: middle;\n",
              "    }\n",
              "\n",
              "    .dataframe tbody tr th {\n",
              "        vertical-align: top;\n",
              "    }\n",
              "\n",
              "    .dataframe thead th {\n",
              "        text-align: right;\n",
              "    }\n",
              "</style>\n",
              "<table border=\"1\" class=\"dataframe\">\n",
              "  <thead>\n",
              "    <tr style=\"text-align: right;\">\n",
              "      <th></th>\n",
              "      <th>User-ID</th>\n",
              "      <th>ISBN</th>\n",
              "      <th>Book-Rating</th>\n",
              "      <th>Book-Title</th>\n",
              "      <th>Total Rating Count</th>\n",
              "    </tr>\n",
              "  </thead>\n",
              "  <tbody>\n",
              "    <tr>\n",
              "      <th>0</th>\n",
              "      <td>277427</td>\n",
              "      <td>002542730X</td>\n",
              "      <td>10</td>\n",
              "      <td>Politically Correct Bedtime Stories: Modern Ta...</td>\n",
              "      <td>83</td>\n",
              "    </tr>\n",
              "    <tr>\n",
              "      <th>1</th>\n",
              "      <td>3363</td>\n",
              "      <td>002542730X</td>\n",
              "      <td>0</td>\n",
              "      <td>Politically Correct Bedtime Stories: Modern Ta...</td>\n",
              "      <td>83</td>\n",
              "    </tr>\n",
              "    <tr>\n",
              "      <th>2</th>\n",
              "      <td>11676</td>\n",
              "      <td>002542730X</td>\n",
              "      <td>6</td>\n",
              "      <td>Politically Correct Bedtime Stories: Modern Ta...</td>\n",
              "      <td>83</td>\n",
              "    </tr>\n",
              "    <tr>\n",
              "      <th>3</th>\n",
              "      <td>12538</td>\n",
              "      <td>002542730X</td>\n",
              "      <td>10</td>\n",
              "      <td>Politically Correct Bedtime Stories: Modern Ta...</td>\n",
              "      <td>83</td>\n",
              "    </tr>\n",
              "    <tr>\n",
              "      <th>4</th>\n",
              "      <td>13552</td>\n",
              "      <td>002542730X</td>\n",
              "      <td>0</td>\n",
              "      <td>Politically Correct Bedtime Stories: Modern Ta...</td>\n",
              "      <td>83</td>\n",
              "    </tr>\n",
              "  </tbody>\n",
              "</table>\n",
              "</div>\n",
              "      <button class=\"colab-df-convert\" onclick=\"convertToInteractive('df-902e96be-e348-45b8-ae9b-a992e2e2192b')\"\n",
              "              title=\"Convert this dataframe to an interactive table.\"\n",
              "              style=\"display:none;\">\n",
              "        \n",
              "  <svg xmlns=\"http://www.w3.org/2000/svg\" height=\"24px\"viewBox=\"0 0 24 24\"\n",
              "       width=\"24px\">\n",
              "    <path d=\"M0 0h24v24H0V0z\" fill=\"none\"/>\n",
              "    <path d=\"M18.56 5.44l.94 2.06.94-2.06 2.06-.94-2.06-.94-.94-2.06-.94 2.06-2.06.94zm-11 1L8.5 8.5l.94-2.06 2.06-.94-2.06-.94L8.5 2.5l-.94 2.06-2.06.94zm10 10l.94 2.06.94-2.06 2.06-.94-2.06-.94-.94-2.06-.94 2.06-2.06.94z\"/><path d=\"M17.41 7.96l-1.37-1.37c-.4-.4-.92-.59-1.43-.59-.52 0-1.04.2-1.43.59L10.3 9.45l-7.72 7.72c-.78.78-.78 2.05 0 2.83L4 21.41c.39.39.9.59 1.41.59.51 0 1.02-.2 1.41-.59l7.78-7.78 2.81-2.81c.8-.78.8-2.07 0-2.86zM5.41 20L4 18.59l7.72-7.72 1.47 1.35L5.41 20z\"/>\n",
              "  </svg>\n",
              "      </button>\n",
              "      \n",
              "  <style>\n",
              "    .colab-df-container {\n",
              "      display:flex;\n",
              "      flex-wrap:wrap;\n",
              "      gap: 12px;\n",
              "    }\n",
              "\n",
              "    .colab-df-convert {\n",
              "      background-color: #E8F0FE;\n",
              "      border: none;\n",
              "      border-radius: 50%;\n",
              "      cursor: pointer;\n",
              "      display: none;\n",
              "      fill: #1967D2;\n",
              "      height: 32px;\n",
              "      padding: 0 0 0 0;\n",
              "      width: 32px;\n",
              "    }\n",
              "\n",
              "    .colab-df-convert:hover {\n",
              "      background-color: #E2EBFA;\n",
              "      box-shadow: 0px 1px 2px rgba(60, 64, 67, 0.3), 0px 1px 3px 1px rgba(60, 64, 67, 0.15);\n",
              "      fill: #174EA6;\n",
              "    }\n",
              "\n",
              "    [theme=dark] .colab-df-convert {\n",
              "      background-color: #3B4455;\n",
              "      fill: #D2E3FC;\n",
              "    }\n",
              "\n",
              "    [theme=dark] .colab-df-convert:hover {\n",
              "      background-color: #434B5C;\n",
              "      box-shadow: 0px 1px 3px 1px rgba(0, 0, 0, 0.15);\n",
              "      filter: drop-shadow(0px 1px 2px rgba(0, 0, 0, 0.3));\n",
              "      fill: #FFFFFF;\n",
              "    }\n",
              "  </style>\n",
              "\n",
              "      <script>\n",
              "        const buttonEl =\n",
              "          document.querySelector('#df-902e96be-e348-45b8-ae9b-a992e2e2192b button.colab-df-convert');\n",
              "        buttonEl.style.display =\n",
              "          google.colab.kernel.accessAllowed ? 'block' : 'none';\n",
              "\n",
              "        async function convertToInteractive(key) {\n",
              "          const element = document.querySelector('#df-902e96be-e348-45b8-ae9b-a992e2e2192b');\n",
              "          const dataTable =\n",
              "            await google.colab.kernel.invokeFunction('convertToInteractive',\n",
              "                                                     [key], {});\n",
              "          if (!dataTable) return;\n",
              "\n",
              "          const docLinkHtml = 'Like what you see? Visit the ' +\n",
              "            '<a target=\"_blank\" href=https://colab.research.google.com/notebooks/data_table.ipynb>data table notebook</a>'\n",
              "            + ' to learn more about interactive tables.';\n",
              "          element.innerHTML = '';\n",
              "          dataTable['output_type'] = 'display_data';\n",
              "          await google.colab.output.renderOutput(dataTable, element);\n",
              "          const docLink = document.createElement('div');\n",
              "          docLink.innerHTML = docLinkHtml;\n",
              "          element.appendChild(docLink);\n",
              "        }\n",
              "      </script>\n",
              "    </div>\n",
              "  </div>\n",
              "  "
            ]
          },
          "metadata": {},
          "execution_count": 241
        }
      ]
    },
    {
      "cell_type": "markdown",
      "source": [
        "Keeping a threshold value to get book with 50 or more ratings only. Which will be just 1% as we saw above."
      ],
      "metadata": {
        "id": "RI_5TluSgr2a"
      }
    },
    {
      "cell_type": "code",
      "source": [
        "bookRating_with_totalRatingCount_df.describe()"
      ],
      "metadata": {
        "colab": {
          "base_uri": "https://localhost:8080/",
          "height": 300
        },
        "id": "Py3j6U44hhF3",
        "outputId": "fd55ba28-986b-46dc-ca57-3adec0f5978a"
      },
      "execution_count": null,
      "outputs": [
        {
          "output_type": "execute_result",
          "data": {
            "text/plain": [
              "             User-ID   Book-Rating  Total Rating Count\n",
              "count   97251.000000  97251.000000        97251.000000\n",
              "mean   140468.579716      1.970478           75.793822\n",
              "std     80654.052121      3.533342           57.335084\n",
              "min       254.000000      0.000000            1.000000\n",
              "25%     69808.000000      0.000000           36.000000\n",
              "50%    141444.000000      0.000000           56.000000\n",
              "75%    212645.000000      0.000000           98.000000\n",
              "max    278418.000000     10.000000          407.000000"
            ],
            "text/html": [
              "\n",
              "  <div id=\"df-3eb9968f-85c6-4b6b-86bf-2a70220a189f\">\n",
              "    <div class=\"colab-df-container\">\n",
              "      <div>\n",
              "<style scoped>\n",
              "    .dataframe tbody tr th:only-of-type {\n",
              "        vertical-align: middle;\n",
              "    }\n",
              "\n",
              "    .dataframe tbody tr th {\n",
              "        vertical-align: top;\n",
              "    }\n",
              "\n",
              "    .dataframe thead th {\n",
              "        text-align: right;\n",
              "    }\n",
              "</style>\n",
              "<table border=\"1\" class=\"dataframe\">\n",
              "  <thead>\n",
              "    <tr style=\"text-align: right;\">\n",
              "      <th></th>\n",
              "      <th>User-ID</th>\n",
              "      <th>Book-Rating</th>\n",
              "      <th>Total Rating Count</th>\n",
              "    </tr>\n",
              "  </thead>\n",
              "  <tbody>\n",
              "    <tr>\n",
              "      <th>count</th>\n",
              "      <td>97251.000000</td>\n",
              "      <td>97251.000000</td>\n",
              "      <td>97251.000000</td>\n",
              "    </tr>\n",
              "    <tr>\n",
              "      <th>mean</th>\n",
              "      <td>140468.579716</td>\n",
              "      <td>1.970478</td>\n",
              "      <td>75.793822</td>\n",
              "    </tr>\n",
              "    <tr>\n",
              "      <th>std</th>\n",
              "      <td>80654.052121</td>\n",
              "      <td>3.533342</td>\n",
              "      <td>57.335084</td>\n",
              "    </tr>\n",
              "    <tr>\n",
              "      <th>min</th>\n",
              "      <td>254.000000</td>\n",
              "      <td>0.000000</td>\n",
              "      <td>1.000000</td>\n",
              "    </tr>\n",
              "    <tr>\n",
              "      <th>25%</th>\n",
              "      <td>69808.000000</td>\n",
              "      <td>0.000000</td>\n",
              "      <td>36.000000</td>\n",
              "    </tr>\n",
              "    <tr>\n",
              "      <th>50%</th>\n",
              "      <td>141444.000000</td>\n",
              "      <td>0.000000</td>\n",
              "      <td>56.000000</td>\n",
              "    </tr>\n",
              "    <tr>\n",
              "      <th>75%</th>\n",
              "      <td>212645.000000</td>\n",
              "      <td>0.000000</td>\n",
              "      <td>98.000000</td>\n",
              "    </tr>\n",
              "    <tr>\n",
              "      <th>max</th>\n",
              "      <td>278418.000000</td>\n",
              "      <td>10.000000</td>\n",
              "      <td>407.000000</td>\n",
              "    </tr>\n",
              "  </tbody>\n",
              "</table>\n",
              "</div>\n",
              "      <button class=\"colab-df-convert\" onclick=\"convertToInteractive('df-3eb9968f-85c6-4b6b-86bf-2a70220a189f')\"\n",
              "              title=\"Convert this dataframe to an interactive table.\"\n",
              "              style=\"display:none;\">\n",
              "        \n",
              "  <svg xmlns=\"http://www.w3.org/2000/svg\" height=\"24px\"viewBox=\"0 0 24 24\"\n",
              "       width=\"24px\">\n",
              "    <path d=\"M0 0h24v24H0V0z\" fill=\"none\"/>\n",
              "    <path d=\"M18.56 5.44l.94 2.06.94-2.06 2.06-.94-2.06-.94-.94-2.06-.94 2.06-2.06.94zm-11 1L8.5 8.5l.94-2.06 2.06-.94-2.06-.94L8.5 2.5l-.94 2.06-2.06.94zm10 10l.94 2.06.94-2.06 2.06-.94-2.06-.94-.94-2.06-.94 2.06-2.06.94z\"/><path d=\"M17.41 7.96l-1.37-1.37c-.4-.4-.92-.59-1.43-.59-.52 0-1.04.2-1.43.59L10.3 9.45l-7.72 7.72c-.78.78-.78 2.05 0 2.83L4 21.41c.39.39.9.59 1.41.59.51 0 1.02-.2 1.41-.59l7.78-7.78 2.81-2.81c.8-.78.8-2.07 0-2.86zM5.41 20L4 18.59l7.72-7.72 1.47 1.35L5.41 20z\"/>\n",
              "  </svg>\n",
              "      </button>\n",
              "      \n",
              "  <style>\n",
              "    .colab-df-container {\n",
              "      display:flex;\n",
              "      flex-wrap:wrap;\n",
              "      gap: 12px;\n",
              "    }\n",
              "\n",
              "    .colab-df-convert {\n",
              "      background-color: #E8F0FE;\n",
              "      border: none;\n",
              "      border-radius: 50%;\n",
              "      cursor: pointer;\n",
              "      display: none;\n",
              "      fill: #1967D2;\n",
              "      height: 32px;\n",
              "      padding: 0 0 0 0;\n",
              "      width: 32px;\n",
              "    }\n",
              "\n",
              "    .colab-df-convert:hover {\n",
              "      background-color: #E2EBFA;\n",
              "      box-shadow: 0px 1px 2px rgba(60, 64, 67, 0.3), 0px 1px 3px 1px rgba(60, 64, 67, 0.15);\n",
              "      fill: #174EA6;\n",
              "    }\n",
              "\n",
              "    [theme=dark] .colab-df-convert {\n",
              "      background-color: #3B4455;\n",
              "      fill: #D2E3FC;\n",
              "    }\n",
              "\n",
              "    [theme=dark] .colab-df-convert:hover {\n",
              "      background-color: #434B5C;\n",
              "      box-shadow: 0px 1px 3px 1px rgba(0, 0, 0, 0.15);\n",
              "      filter: drop-shadow(0px 1px 2px rgba(0, 0, 0, 0.3));\n",
              "      fill: #FFFFFF;\n",
              "    }\n",
              "  </style>\n",
              "\n",
              "      <script>\n",
              "        const buttonEl =\n",
              "          document.querySelector('#df-3eb9968f-85c6-4b6b-86bf-2a70220a189f button.colab-df-convert');\n",
              "        buttonEl.style.display =\n",
              "          google.colab.kernel.accessAllowed ? 'block' : 'none';\n",
              "\n",
              "        async function convertToInteractive(key) {\n",
              "          const element = document.querySelector('#df-3eb9968f-85c6-4b6b-86bf-2a70220a189f');\n",
              "          const dataTable =\n",
              "            await google.colab.kernel.invokeFunction('convertToInteractive',\n",
              "                                                     [key], {});\n",
              "          if (!dataTable) return;\n",
              "\n",
              "          const docLinkHtml = 'Like what you see? Visit the ' +\n",
              "            '<a target=\"_blank\" href=https://colab.research.google.com/notebooks/data_table.ipynb>data table notebook</a>'\n",
              "            + ' to learn more about interactive tables.';\n",
              "          element.innerHTML = '';\n",
              "          dataTable['output_type'] = 'display_data';\n",
              "          await google.colab.output.renderOutput(dataTable, element);\n",
              "          const docLink = document.createElement('div');\n",
              "          docLink.innerHTML = docLinkHtml;\n",
              "          element.appendChild(docLink);\n",
              "        }\n",
              "      </script>\n",
              "    </div>\n",
              "  </div>\n",
              "  "
            ]
          },
          "metadata": {},
          "execution_count": 242
        }
      ]
    },
    {
      "cell_type": "code",
      "source": [
        "popularity_threshold = 50\n",
        "highly_rated_books_df = bookRating_with_totalRatingCount_df[bookRating_with_totalRatingCount_df['Total Rating Count'] > popularity_threshold]"
      ],
      "metadata": {
        "id": "JcGM5-f7gkml"
      },
      "execution_count": null,
      "outputs": []
    },
    {
      "cell_type": "code",
      "source": [
        "highly_rated_books_df.head(10)"
      ],
      "metadata": {
        "colab": {
          "base_uri": "https://localhost:8080/",
          "height": 363
        },
        "id": "UuIpER-KhF7X",
        "outputId": "45f7a627-d680-474e-e78e-810dc2ca46e1"
      },
      "execution_count": null,
      "outputs": [
        {
          "output_type": "execute_result",
          "data": {
            "text/plain": [
              "   User-ID        ISBN  Book-Rating  \\\n",
              "0   277427  002542730X           10   \n",
              "1     3363  002542730X            0   \n",
              "2    11676  002542730X            6   \n",
              "3    12538  002542730X           10   \n",
              "4    13552  002542730X            0   \n",
              "5    16795  002542730X            0   \n",
              "6    24194  002542730X            0   \n",
              "7    25981  002542730X            0   \n",
              "8    26535  002542730X            0   \n",
              "9    28204  002542730X            0   \n",
              "\n",
              "                                          Book-Title  Total Rating Count  \n",
              "0  Politically Correct Bedtime Stories: Modern Ta...                  83  \n",
              "1  Politically Correct Bedtime Stories: Modern Ta...                  83  \n",
              "2  Politically Correct Bedtime Stories: Modern Ta...                  83  \n",
              "3  Politically Correct Bedtime Stories: Modern Ta...                  83  \n",
              "4  Politically Correct Bedtime Stories: Modern Ta...                  83  \n",
              "5  Politically Correct Bedtime Stories: Modern Ta...                  83  \n",
              "6  Politically Correct Bedtime Stories: Modern Ta...                  83  \n",
              "7  Politically Correct Bedtime Stories: Modern Ta...                  83  \n",
              "8  Politically Correct Bedtime Stories: Modern Ta...                  83  \n",
              "9  Politically Correct Bedtime Stories: Modern Ta...                  83  "
            ],
            "text/html": [
              "\n",
              "  <div id=\"df-72dcce41-3672-41e9-8b8b-a995c7654c94\">\n",
              "    <div class=\"colab-df-container\">\n",
              "      <div>\n",
              "<style scoped>\n",
              "    .dataframe tbody tr th:only-of-type {\n",
              "        vertical-align: middle;\n",
              "    }\n",
              "\n",
              "    .dataframe tbody tr th {\n",
              "        vertical-align: top;\n",
              "    }\n",
              "\n",
              "    .dataframe thead th {\n",
              "        text-align: right;\n",
              "    }\n",
              "</style>\n",
              "<table border=\"1\" class=\"dataframe\">\n",
              "  <thead>\n",
              "    <tr style=\"text-align: right;\">\n",
              "      <th></th>\n",
              "      <th>User-ID</th>\n",
              "      <th>ISBN</th>\n",
              "      <th>Book-Rating</th>\n",
              "      <th>Book-Title</th>\n",
              "      <th>Total Rating Count</th>\n",
              "    </tr>\n",
              "  </thead>\n",
              "  <tbody>\n",
              "    <tr>\n",
              "      <th>0</th>\n",
              "      <td>277427</td>\n",
              "      <td>002542730X</td>\n",
              "      <td>10</td>\n",
              "      <td>Politically Correct Bedtime Stories: Modern Ta...</td>\n",
              "      <td>83</td>\n",
              "    </tr>\n",
              "    <tr>\n",
              "      <th>1</th>\n",
              "      <td>3363</td>\n",
              "      <td>002542730X</td>\n",
              "      <td>0</td>\n",
              "      <td>Politically Correct Bedtime Stories: Modern Ta...</td>\n",
              "      <td>83</td>\n",
              "    </tr>\n",
              "    <tr>\n",
              "      <th>2</th>\n",
              "      <td>11676</td>\n",
              "      <td>002542730X</td>\n",
              "      <td>6</td>\n",
              "      <td>Politically Correct Bedtime Stories: Modern Ta...</td>\n",
              "      <td>83</td>\n",
              "    </tr>\n",
              "    <tr>\n",
              "      <th>3</th>\n",
              "      <td>12538</td>\n",
              "      <td>002542730X</td>\n",
              "      <td>10</td>\n",
              "      <td>Politically Correct Bedtime Stories: Modern Ta...</td>\n",
              "      <td>83</td>\n",
              "    </tr>\n",
              "    <tr>\n",
              "      <th>4</th>\n",
              "      <td>13552</td>\n",
              "      <td>002542730X</td>\n",
              "      <td>0</td>\n",
              "      <td>Politically Correct Bedtime Stories: Modern Ta...</td>\n",
              "      <td>83</td>\n",
              "    </tr>\n",
              "    <tr>\n",
              "      <th>5</th>\n",
              "      <td>16795</td>\n",
              "      <td>002542730X</td>\n",
              "      <td>0</td>\n",
              "      <td>Politically Correct Bedtime Stories: Modern Ta...</td>\n",
              "      <td>83</td>\n",
              "    </tr>\n",
              "    <tr>\n",
              "      <th>6</th>\n",
              "      <td>24194</td>\n",
              "      <td>002542730X</td>\n",
              "      <td>0</td>\n",
              "      <td>Politically Correct Bedtime Stories: Modern Ta...</td>\n",
              "      <td>83</td>\n",
              "    </tr>\n",
              "    <tr>\n",
              "      <th>7</th>\n",
              "      <td>25981</td>\n",
              "      <td>002542730X</td>\n",
              "      <td>0</td>\n",
              "      <td>Politically Correct Bedtime Stories: Modern Ta...</td>\n",
              "      <td>83</td>\n",
              "    </tr>\n",
              "    <tr>\n",
              "      <th>8</th>\n",
              "      <td>26535</td>\n",
              "      <td>002542730X</td>\n",
              "      <td>0</td>\n",
              "      <td>Politically Correct Bedtime Stories: Modern Ta...</td>\n",
              "      <td>83</td>\n",
              "    </tr>\n",
              "    <tr>\n",
              "      <th>9</th>\n",
              "      <td>28204</td>\n",
              "      <td>002542730X</td>\n",
              "      <td>0</td>\n",
              "      <td>Politically Correct Bedtime Stories: Modern Ta...</td>\n",
              "      <td>83</td>\n",
              "    </tr>\n",
              "  </tbody>\n",
              "</table>\n",
              "</div>\n",
              "      <button class=\"colab-df-convert\" onclick=\"convertToInteractive('df-72dcce41-3672-41e9-8b8b-a995c7654c94')\"\n",
              "              title=\"Convert this dataframe to an interactive table.\"\n",
              "              style=\"display:none;\">\n",
              "        \n",
              "  <svg xmlns=\"http://www.w3.org/2000/svg\" height=\"24px\"viewBox=\"0 0 24 24\"\n",
              "       width=\"24px\">\n",
              "    <path d=\"M0 0h24v24H0V0z\" fill=\"none\"/>\n",
              "    <path d=\"M18.56 5.44l.94 2.06.94-2.06 2.06-.94-2.06-.94-.94-2.06-.94 2.06-2.06.94zm-11 1L8.5 8.5l.94-2.06 2.06-.94-2.06-.94L8.5 2.5l-.94 2.06-2.06.94zm10 10l.94 2.06.94-2.06 2.06-.94-2.06-.94-.94-2.06-.94 2.06-2.06.94z\"/><path d=\"M17.41 7.96l-1.37-1.37c-.4-.4-.92-.59-1.43-.59-.52 0-1.04.2-1.43.59L10.3 9.45l-7.72 7.72c-.78.78-.78 2.05 0 2.83L4 21.41c.39.39.9.59 1.41.59.51 0 1.02-.2 1.41-.59l7.78-7.78 2.81-2.81c.8-.78.8-2.07 0-2.86zM5.41 20L4 18.59l7.72-7.72 1.47 1.35L5.41 20z\"/>\n",
              "  </svg>\n",
              "      </button>\n",
              "      \n",
              "  <style>\n",
              "    .colab-df-container {\n",
              "      display:flex;\n",
              "      flex-wrap:wrap;\n",
              "      gap: 12px;\n",
              "    }\n",
              "\n",
              "    .colab-df-convert {\n",
              "      background-color: #E8F0FE;\n",
              "      border: none;\n",
              "      border-radius: 50%;\n",
              "      cursor: pointer;\n",
              "      display: none;\n",
              "      fill: #1967D2;\n",
              "      height: 32px;\n",
              "      padding: 0 0 0 0;\n",
              "      width: 32px;\n",
              "    }\n",
              "\n",
              "    .colab-df-convert:hover {\n",
              "      background-color: #E2EBFA;\n",
              "      box-shadow: 0px 1px 2px rgba(60, 64, 67, 0.3), 0px 1px 3px 1px rgba(60, 64, 67, 0.15);\n",
              "      fill: #174EA6;\n",
              "    }\n",
              "\n",
              "    [theme=dark] .colab-df-convert {\n",
              "      background-color: #3B4455;\n",
              "      fill: #D2E3FC;\n",
              "    }\n",
              "\n",
              "    [theme=dark] .colab-df-convert:hover {\n",
              "      background-color: #434B5C;\n",
              "      box-shadow: 0px 1px 3px 1px rgba(0, 0, 0, 0.15);\n",
              "      filter: drop-shadow(0px 1px 2px rgba(0, 0, 0, 0.3));\n",
              "      fill: #FFFFFF;\n",
              "    }\n",
              "  </style>\n",
              "\n",
              "      <script>\n",
              "        const buttonEl =\n",
              "          document.querySelector('#df-72dcce41-3672-41e9-8b8b-a995c7654c94 button.colab-df-convert');\n",
              "        buttonEl.style.display =\n",
              "          google.colab.kernel.accessAllowed ? 'block' : 'none';\n",
              "\n",
              "        async function convertToInteractive(key) {\n",
              "          const element = document.querySelector('#df-72dcce41-3672-41e9-8b8b-a995c7654c94');\n",
              "          const dataTable =\n",
              "            await google.colab.kernel.invokeFunction('convertToInteractive',\n",
              "                                                     [key], {});\n",
              "          if (!dataTable) return;\n",
              "\n",
              "          const docLinkHtml = 'Like what you see? Visit the ' +\n",
              "            '<a target=\"_blank\" href=https://colab.research.google.com/notebooks/data_table.ipynb>data table notebook</a>'\n",
              "            + ' to learn more about interactive tables.';\n",
              "          element.innerHTML = '';\n",
              "          dataTable['output_type'] = 'display_data';\n",
              "          await google.colab.output.renderOutput(dataTable, element);\n",
              "          const docLink = document.createElement('div');\n",
              "          docLink.innerHTML = docLinkHtml;\n",
              "          element.appendChild(docLink);\n",
              "        }\n",
              "      </script>\n",
              "    </div>\n",
              "  </div>\n",
              "  "
            ]
          },
          "metadata": {},
          "execution_count": 244
        }
      ]
    },
    {
      "cell_type": "code",
      "source": [
        "highly_rated_books_df.tail(10)"
      ],
      "metadata": {
        "colab": {
          "base_uri": "https://localhost:8080/",
          "height": 363
        },
        "id": "W0ayOss8i8bn",
        "outputId": "cb30322f-0c99-4c8c-cc14-c79afad59129"
      },
      "execution_count": null,
      "outputs": [
        {
          "output_type": "execute_result",
          "data": {
            "text/plain": [
              "       User-ID        ISBN  Book-Rating  \\\n",
              "97191    81560  0590112899            8   \n",
              "97192   137397  0590112899            9   \n",
              "97193   147451  0590112899            8   \n",
              "97194   170184  0590112899            0   \n",
              "97195   174092  0590112899            0   \n",
              "97196   180651  0590112899            0   \n",
              "97197   200978  0590112899            0   \n",
              "97198   208410  0590112899            0   \n",
              "97199   266866  0590112899            0   \n",
              "97200   271705  0590112899            0   \n",
              "\n",
              "                                          Book-Title  Total Rating Count  \n",
              "97191  The Subtle Knife (His Dark Materials, Book 2)                  53  \n",
              "97192  The Subtle Knife (His Dark Materials, Book 2)                  53  \n",
              "97193  The Subtle Knife (His Dark Materials, Book 2)                  53  \n",
              "97194  The Subtle Knife (His Dark Materials, Book 2)                  53  \n",
              "97195  The Subtle Knife (His Dark Materials, Book 2)                  53  \n",
              "97196  The Subtle Knife (His Dark Materials, Book 2)                  53  \n",
              "97197  The Subtle Knife (His Dark Materials, Book 2)                  53  \n",
              "97198  The Subtle Knife (His Dark Materials, Book 2)                  53  \n",
              "97199  The Subtle Knife (His Dark Materials, Book 2)                  53  \n",
              "97200  The Subtle Knife (His Dark Materials, Book 2)                  53  "
            ],
            "text/html": [
              "\n",
              "  <div id=\"df-c9c8c2bc-5749-4e02-9ec1-9877c6d05741\">\n",
              "    <div class=\"colab-df-container\">\n",
              "      <div>\n",
              "<style scoped>\n",
              "    .dataframe tbody tr th:only-of-type {\n",
              "        vertical-align: middle;\n",
              "    }\n",
              "\n",
              "    .dataframe tbody tr th {\n",
              "        vertical-align: top;\n",
              "    }\n",
              "\n",
              "    .dataframe thead th {\n",
              "        text-align: right;\n",
              "    }\n",
              "</style>\n",
              "<table border=\"1\" class=\"dataframe\">\n",
              "  <thead>\n",
              "    <tr style=\"text-align: right;\">\n",
              "      <th></th>\n",
              "      <th>User-ID</th>\n",
              "      <th>ISBN</th>\n",
              "      <th>Book-Rating</th>\n",
              "      <th>Book-Title</th>\n",
              "      <th>Total Rating Count</th>\n",
              "    </tr>\n",
              "  </thead>\n",
              "  <tbody>\n",
              "    <tr>\n",
              "      <th>97191</th>\n",
              "      <td>81560</td>\n",
              "      <td>0590112899</td>\n",
              "      <td>8</td>\n",
              "      <td>The Subtle Knife (His Dark Materials, Book 2)</td>\n",
              "      <td>53</td>\n",
              "    </tr>\n",
              "    <tr>\n",
              "      <th>97192</th>\n",
              "      <td>137397</td>\n",
              "      <td>0590112899</td>\n",
              "      <td>9</td>\n",
              "      <td>The Subtle Knife (His Dark Materials, Book 2)</td>\n",
              "      <td>53</td>\n",
              "    </tr>\n",
              "    <tr>\n",
              "      <th>97193</th>\n",
              "      <td>147451</td>\n",
              "      <td>0590112899</td>\n",
              "      <td>8</td>\n",
              "      <td>The Subtle Knife (His Dark Materials, Book 2)</td>\n",
              "      <td>53</td>\n",
              "    </tr>\n",
              "    <tr>\n",
              "      <th>97194</th>\n",
              "      <td>170184</td>\n",
              "      <td>0590112899</td>\n",
              "      <td>0</td>\n",
              "      <td>The Subtle Knife (His Dark Materials, Book 2)</td>\n",
              "      <td>53</td>\n",
              "    </tr>\n",
              "    <tr>\n",
              "      <th>97195</th>\n",
              "      <td>174092</td>\n",
              "      <td>0590112899</td>\n",
              "      <td>0</td>\n",
              "      <td>The Subtle Knife (His Dark Materials, Book 2)</td>\n",
              "      <td>53</td>\n",
              "    </tr>\n",
              "    <tr>\n",
              "      <th>97196</th>\n",
              "      <td>180651</td>\n",
              "      <td>0590112899</td>\n",
              "      <td>0</td>\n",
              "      <td>The Subtle Knife (His Dark Materials, Book 2)</td>\n",
              "      <td>53</td>\n",
              "    </tr>\n",
              "    <tr>\n",
              "      <th>97197</th>\n",
              "      <td>200978</td>\n",
              "      <td>0590112899</td>\n",
              "      <td>0</td>\n",
              "      <td>The Subtle Knife (His Dark Materials, Book 2)</td>\n",
              "      <td>53</td>\n",
              "    </tr>\n",
              "    <tr>\n",
              "      <th>97198</th>\n",
              "      <td>208410</td>\n",
              "      <td>0590112899</td>\n",
              "      <td>0</td>\n",
              "      <td>The Subtle Knife (His Dark Materials, Book 2)</td>\n",
              "      <td>53</td>\n",
              "    </tr>\n",
              "    <tr>\n",
              "      <th>97199</th>\n",
              "      <td>266866</td>\n",
              "      <td>0590112899</td>\n",
              "      <td>0</td>\n",
              "      <td>The Subtle Knife (His Dark Materials, Book 2)</td>\n",
              "      <td>53</td>\n",
              "    </tr>\n",
              "    <tr>\n",
              "      <th>97200</th>\n",
              "      <td>271705</td>\n",
              "      <td>0590112899</td>\n",
              "      <td>0</td>\n",
              "      <td>The Subtle Knife (His Dark Materials, Book 2)</td>\n",
              "      <td>53</td>\n",
              "    </tr>\n",
              "  </tbody>\n",
              "</table>\n",
              "</div>\n",
              "      <button class=\"colab-df-convert\" onclick=\"convertToInteractive('df-c9c8c2bc-5749-4e02-9ec1-9877c6d05741')\"\n",
              "              title=\"Convert this dataframe to an interactive table.\"\n",
              "              style=\"display:none;\">\n",
              "        \n",
              "  <svg xmlns=\"http://www.w3.org/2000/svg\" height=\"24px\"viewBox=\"0 0 24 24\"\n",
              "       width=\"24px\">\n",
              "    <path d=\"M0 0h24v24H0V0z\" fill=\"none\"/>\n",
              "    <path d=\"M18.56 5.44l.94 2.06.94-2.06 2.06-.94-2.06-.94-.94-2.06-.94 2.06-2.06.94zm-11 1L8.5 8.5l.94-2.06 2.06-.94-2.06-.94L8.5 2.5l-.94 2.06-2.06.94zm10 10l.94 2.06.94-2.06 2.06-.94-2.06-.94-.94-2.06-.94 2.06-2.06.94z\"/><path d=\"M17.41 7.96l-1.37-1.37c-.4-.4-.92-.59-1.43-.59-.52 0-1.04.2-1.43.59L10.3 9.45l-7.72 7.72c-.78.78-.78 2.05 0 2.83L4 21.41c.39.39.9.59 1.41.59.51 0 1.02-.2 1.41-.59l7.78-7.78 2.81-2.81c.8-.78.8-2.07 0-2.86zM5.41 20L4 18.59l7.72-7.72 1.47 1.35L5.41 20z\"/>\n",
              "  </svg>\n",
              "      </button>\n",
              "      \n",
              "  <style>\n",
              "    .colab-df-container {\n",
              "      display:flex;\n",
              "      flex-wrap:wrap;\n",
              "      gap: 12px;\n",
              "    }\n",
              "\n",
              "    .colab-df-convert {\n",
              "      background-color: #E8F0FE;\n",
              "      border: none;\n",
              "      border-radius: 50%;\n",
              "      cursor: pointer;\n",
              "      display: none;\n",
              "      fill: #1967D2;\n",
              "      height: 32px;\n",
              "      padding: 0 0 0 0;\n",
              "      width: 32px;\n",
              "    }\n",
              "\n",
              "    .colab-df-convert:hover {\n",
              "      background-color: #E2EBFA;\n",
              "      box-shadow: 0px 1px 2px rgba(60, 64, 67, 0.3), 0px 1px 3px 1px rgba(60, 64, 67, 0.15);\n",
              "      fill: #174EA6;\n",
              "    }\n",
              "\n",
              "    [theme=dark] .colab-df-convert {\n",
              "      background-color: #3B4455;\n",
              "      fill: #D2E3FC;\n",
              "    }\n",
              "\n",
              "    [theme=dark] .colab-df-convert:hover {\n",
              "      background-color: #434B5C;\n",
              "      box-shadow: 0px 1px 3px 1px rgba(0, 0, 0, 0.15);\n",
              "      filter: drop-shadow(0px 1px 2px rgba(0, 0, 0, 0.3));\n",
              "      fill: #FFFFFF;\n",
              "    }\n",
              "  </style>\n",
              "\n",
              "      <script>\n",
              "        const buttonEl =\n",
              "          document.querySelector('#df-c9c8c2bc-5749-4e02-9ec1-9877c6d05741 button.colab-df-convert');\n",
              "        buttonEl.style.display =\n",
              "          google.colab.kernel.accessAllowed ? 'block' : 'none';\n",
              "\n",
              "        async function convertToInteractive(key) {\n",
              "          const element = document.querySelector('#df-c9c8c2bc-5749-4e02-9ec1-9877c6d05741');\n",
              "          const dataTable =\n",
              "            await google.colab.kernel.invokeFunction('convertToInteractive',\n",
              "                                                     [key], {});\n",
              "          if (!dataTable) return;\n",
              "\n",
              "          const docLinkHtml = 'Like what you see? Visit the ' +\n",
              "            '<a target=\"_blank\" href=https://colab.research.google.com/notebooks/data_table.ipynb>data table notebook</a>'\n",
              "            + ' to learn more about interactive tables.';\n",
              "          element.innerHTML = '';\n",
              "          dataTable['output_type'] = 'display_data';\n",
              "          await google.colab.output.renderOutput(dataTable, element);\n",
              "          const docLink = document.createElement('div');\n",
              "          docLink.innerHTML = docLinkHtml;\n",
              "          element.appendChild(docLink);\n",
              "        }\n",
              "      </script>\n",
              "    </div>\n",
              "  </div>\n",
              "  "
            ]
          },
          "metadata": {},
          "execution_count": 245
        }
      ]
    },
    {
      "cell_type": "code",
      "source": [
        "highly_rated_books_df.shape"
      ],
      "metadata": {
        "colab": {
          "base_uri": "https://localhost:8080/"
        },
        "id": "Vdw8hiFRjAE_",
        "outputId": "6fdbbfd3-2037-4b50-9092-796087cf8a12"
      },
      "execution_count": null,
      "outputs": [
        {
          "output_type": "execute_result",
          "data": {
            "text/plain": [
              "(54242, 5)"
            ]
          },
          "metadata": {},
          "execution_count": 246
        }
      ]
    },
    {
      "cell_type": "code",
      "source": [
        "highly_rated_books_df['Book-Title'].nunique()"
      ],
      "metadata": {
        "id": "ZzH0Pri2jFap",
        "colab": {
          "base_uri": "https://localhost:8080/"
        },
        "outputId": "51b56791-c86f-44b8-e588-fe1fcce12537"
      },
      "execution_count": null,
      "outputs": [
        {
          "output_type": "execute_result",
          "data": {
            "text/plain": [
              "615"
            ]
          },
          "metadata": {},
          "execution_count": 247
        }
      ]
    },
    {
      "cell_type": "markdown",
      "source": [
        "*We have 615 highly rated unqiue books.*"
      ],
      "metadata": {
        "id": "Tfg9HMWlq597"
      }
    },
    {
      "cell_type": "code",
      "source": [
        "highly_rated_books_df['User-ID'].nunique()"
      ],
      "metadata": {
        "colab": {
          "base_uri": "https://localhost:8080/"
        },
        "id": "JFwJA49CqsUv",
        "outputId": "37427530-ac35-4732-f411-c96fb0e39002"
      },
      "execution_count": null,
      "outputs": [
        {
          "output_type": "execute_result",
          "data": {
            "text/plain": [
              "1034"
            ]
          },
          "metadata": {},
          "execution_count": 248
        }
      ]
    },
    {
      "cell_type": "code",
      "source": [
        "highly_rated_books_df['ISBN'].nunique()"
      ],
      "metadata": {
        "colab": {
          "base_uri": "https://localhost:8080/"
        },
        "id": "l61fXEnsrD2y",
        "outputId": "dd9f174e-3d23-4034-cc66-691be769a13a"
      },
      "execution_count": null,
      "outputs": [
        {
          "output_type": "execute_result",
          "data": {
            "text/plain": [
              "801"
            ]
          },
          "metadata": {},
          "execution_count": 249
        }
      ]
    },
    {
      "cell_type": "markdown",
      "source": [
        "**------------------------------------------------------k - Nearest Neigbor Algorithm-------------------------------------------------------------**"
      ],
      "metadata": {
        "id": "Ic3U0x3grX1z"
      }
    },
    {
      "cell_type": "markdown",
      "source": [
        "k Nearest Neighbors (kNN) is a simple ML algorithm for classification and regression.kNN algorithm stores all the available data and classifies a new data point based on the similarity. This means when new data appears then it can be easily classified into a well suite category by using kNN algorithm. But one issue with kNN is that it is quiet slow.\n",
        "\n",
        "**Why kNN is slow?**\n",
        " \n",
        " The reason kNN is slow is that - \n",
        "\n",
        "It as a lazy learner algorithm because it does not learn from the training set immediately instead it stores the dataset and at the time of classification, it performs an action on the dataset.\n",
        "\n",
        "Hence, to avoid this problem we will only take users from **USA** & **Canada** only.\n"
      ],
      "metadata": {
        "id": "3yZZfsgmrvPZ"
      }
    },
    {
      "cell_type": "code",
      "source": [
        "combined_df = highly_rated_books_df.merge(users_df, on='User-ID', how='left')"
      ],
      "metadata": {
        "id": "rA_IcRqzrHxx"
      },
      "execution_count": null,
      "outputs": []
    },
    {
      "cell_type": "code",
      "source": [
        "combined_df.head()"
      ],
      "metadata": {
        "colab": {
          "base_uri": "https://localhost:8080/",
          "height": 206
        },
        "id": "HzFpqlaY6HDx",
        "outputId": "fa6cd093-4f7d-4534-8573-1a69f6dc3ec5"
      },
      "execution_count": null,
      "outputs": [
        {
          "output_type": "execute_result",
          "data": {
            "text/plain": [
              "   User-ID        ISBN  Book-Rating  \\\n",
              "0   277427  002542730X           10   \n",
              "1     3363  002542730X            0   \n",
              "2    11676  002542730X            6   \n",
              "3    12538  002542730X           10   \n",
              "4    13552  002542730X            0   \n",
              "\n",
              "                                          Book-Title  Total Rating Count  \\\n",
              "0  Politically Correct Bedtime Stories: Modern Ta...                  83   \n",
              "1  Politically Correct Bedtime Stories: Modern Ta...                  83   \n",
              "2  Politically Correct Bedtime Stories: Modern Ta...                  83   \n",
              "3  Politically Correct Bedtime Stories: Modern Ta...                  83   \n",
              "4  Politically Correct Bedtime Stories: Modern Ta...                  83   \n",
              "\n",
              "                    Location   Age  \n",
              "0      gilbert, arizona, usa  48.0  \n",
              "1  knoxville, tennessee, usa  29.0  \n",
              "2              n/a, n/a, n/a  35.0  \n",
              "3      byron, minnesota, usa  18.0  \n",
              "4    cordova, tennessee, usa  32.0  "
            ],
            "text/html": [
              "\n",
              "  <div id=\"df-8737eb49-98ba-40b3-b06c-a3b52e8982a2\">\n",
              "    <div class=\"colab-df-container\">\n",
              "      <div>\n",
              "<style scoped>\n",
              "    .dataframe tbody tr th:only-of-type {\n",
              "        vertical-align: middle;\n",
              "    }\n",
              "\n",
              "    .dataframe tbody tr th {\n",
              "        vertical-align: top;\n",
              "    }\n",
              "\n",
              "    .dataframe thead th {\n",
              "        text-align: right;\n",
              "    }\n",
              "</style>\n",
              "<table border=\"1\" class=\"dataframe\">\n",
              "  <thead>\n",
              "    <tr style=\"text-align: right;\">\n",
              "      <th></th>\n",
              "      <th>User-ID</th>\n",
              "      <th>ISBN</th>\n",
              "      <th>Book-Rating</th>\n",
              "      <th>Book-Title</th>\n",
              "      <th>Total Rating Count</th>\n",
              "      <th>Location</th>\n",
              "      <th>Age</th>\n",
              "    </tr>\n",
              "  </thead>\n",
              "  <tbody>\n",
              "    <tr>\n",
              "      <th>0</th>\n",
              "      <td>277427</td>\n",
              "      <td>002542730X</td>\n",
              "      <td>10</td>\n",
              "      <td>Politically Correct Bedtime Stories: Modern Ta...</td>\n",
              "      <td>83</td>\n",
              "      <td>gilbert, arizona, usa</td>\n",
              "      <td>48.0</td>\n",
              "    </tr>\n",
              "    <tr>\n",
              "      <th>1</th>\n",
              "      <td>3363</td>\n",
              "      <td>002542730X</td>\n",
              "      <td>0</td>\n",
              "      <td>Politically Correct Bedtime Stories: Modern Ta...</td>\n",
              "      <td>83</td>\n",
              "      <td>knoxville, tennessee, usa</td>\n",
              "      <td>29.0</td>\n",
              "    </tr>\n",
              "    <tr>\n",
              "      <th>2</th>\n",
              "      <td>11676</td>\n",
              "      <td>002542730X</td>\n",
              "      <td>6</td>\n",
              "      <td>Politically Correct Bedtime Stories: Modern Ta...</td>\n",
              "      <td>83</td>\n",
              "      <td>n/a, n/a, n/a</td>\n",
              "      <td>35.0</td>\n",
              "    </tr>\n",
              "    <tr>\n",
              "      <th>3</th>\n",
              "      <td>12538</td>\n",
              "      <td>002542730X</td>\n",
              "      <td>10</td>\n",
              "      <td>Politically Correct Bedtime Stories: Modern Ta...</td>\n",
              "      <td>83</td>\n",
              "      <td>byron, minnesota, usa</td>\n",
              "      <td>18.0</td>\n",
              "    </tr>\n",
              "    <tr>\n",
              "      <th>4</th>\n",
              "      <td>13552</td>\n",
              "      <td>002542730X</td>\n",
              "      <td>0</td>\n",
              "      <td>Politically Correct Bedtime Stories: Modern Ta...</td>\n",
              "      <td>83</td>\n",
              "      <td>cordova, tennessee, usa</td>\n",
              "      <td>32.0</td>\n",
              "    </tr>\n",
              "  </tbody>\n",
              "</table>\n",
              "</div>\n",
              "      <button class=\"colab-df-convert\" onclick=\"convertToInteractive('df-8737eb49-98ba-40b3-b06c-a3b52e8982a2')\"\n",
              "              title=\"Convert this dataframe to an interactive table.\"\n",
              "              style=\"display:none;\">\n",
              "        \n",
              "  <svg xmlns=\"http://www.w3.org/2000/svg\" height=\"24px\"viewBox=\"0 0 24 24\"\n",
              "       width=\"24px\">\n",
              "    <path d=\"M0 0h24v24H0V0z\" fill=\"none\"/>\n",
              "    <path d=\"M18.56 5.44l.94 2.06.94-2.06 2.06-.94-2.06-.94-.94-2.06-.94 2.06-2.06.94zm-11 1L8.5 8.5l.94-2.06 2.06-.94-2.06-.94L8.5 2.5l-.94 2.06-2.06.94zm10 10l.94 2.06.94-2.06 2.06-.94-2.06-.94-.94-2.06-.94 2.06-2.06.94z\"/><path d=\"M17.41 7.96l-1.37-1.37c-.4-.4-.92-.59-1.43-.59-.52 0-1.04.2-1.43.59L10.3 9.45l-7.72 7.72c-.78.78-.78 2.05 0 2.83L4 21.41c.39.39.9.59 1.41.59.51 0 1.02-.2 1.41-.59l7.78-7.78 2.81-2.81c.8-.78.8-2.07 0-2.86zM5.41 20L4 18.59l7.72-7.72 1.47 1.35L5.41 20z\"/>\n",
              "  </svg>\n",
              "      </button>\n",
              "      \n",
              "  <style>\n",
              "    .colab-df-container {\n",
              "      display:flex;\n",
              "      flex-wrap:wrap;\n",
              "      gap: 12px;\n",
              "    }\n",
              "\n",
              "    .colab-df-convert {\n",
              "      background-color: #E8F0FE;\n",
              "      border: none;\n",
              "      border-radius: 50%;\n",
              "      cursor: pointer;\n",
              "      display: none;\n",
              "      fill: #1967D2;\n",
              "      height: 32px;\n",
              "      padding: 0 0 0 0;\n",
              "      width: 32px;\n",
              "    }\n",
              "\n",
              "    .colab-df-convert:hover {\n",
              "      background-color: #E2EBFA;\n",
              "      box-shadow: 0px 1px 2px rgba(60, 64, 67, 0.3), 0px 1px 3px 1px rgba(60, 64, 67, 0.15);\n",
              "      fill: #174EA6;\n",
              "    }\n",
              "\n",
              "    [theme=dark] .colab-df-convert {\n",
              "      background-color: #3B4455;\n",
              "      fill: #D2E3FC;\n",
              "    }\n",
              "\n",
              "    [theme=dark] .colab-df-convert:hover {\n",
              "      background-color: #434B5C;\n",
              "      box-shadow: 0px 1px 3px 1px rgba(0, 0, 0, 0.15);\n",
              "      filter: drop-shadow(0px 1px 2px rgba(0, 0, 0, 0.3));\n",
              "      fill: #FFFFFF;\n",
              "    }\n",
              "  </style>\n",
              "\n",
              "      <script>\n",
              "        const buttonEl =\n",
              "          document.querySelector('#df-8737eb49-98ba-40b3-b06c-a3b52e8982a2 button.colab-df-convert');\n",
              "        buttonEl.style.display =\n",
              "          google.colab.kernel.accessAllowed ? 'block' : 'none';\n",
              "\n",
              "        async function convertToInteractive(key) {\n",
              "          const element = document.querySelector('#df-8737eb49-98ba-40b3-b06c-a3b52e8982a2');\n",
              "          const dataTable =\n",
              "            await google.colab.kernel.invokeFunction('convertToInteractive',\n",
              "                                                     [key], {});\n",
              "          if (!dataTable) return;\n",
              "\n",
              "          const docLinkHtml = 'Like what you see? Visit the ' +\n",
              "            '<a target=\"_blank\" href=https://colab.research.google.com/notebooks/data_table.ipynb>data table notebook</a>'\n",
              "            + ' to learn more about interactive tables.';\n",
              "          element.innerHTML = '';\n",
              "          dataTable['output_type'] = 'display_data';\n",
              "          await google.colab.output.renderOutput(dataTable, element);\n",
              "          const docLink = document.createElement('div');\n",
              "          docLink.innerHTML = docLinkHtml;\n",
              "          element.appendChild(docLink);\n",
              "        }\n",
              "      </script>\n",
              "    </div>\n",
              "  </div>\n",
              "  "
            ]
          },
          "metadata": {},
          "execution_count": 251
        }
      ]
    },
    {
      "cell_type": "code",
      "source": [
        "usa_canada_users_df = combined_df[combined_df['Location'].str.contains(\"usa|canada\")] "
      ],
      "metadata": {
        "id": "kpPmAxsv6Is_"
      },
      "execution_count": null,
      "outputs": []
    },
    {
      "cell_type": "code",
      "source": [
        "usa_canada_users_df.head()"
      ],
      "metadata": {
        "colab": {
          "base_uri": "https://localhost:8080/",
          "height": 206
        },
        "id": "RE2KwfRf6Y8j",
        "outputId": "32c8caa3-1ca3-4aec-f336-914ebee89b75"
      },
      "execution_count": null,
      "outputs": [
        {
          "output_type": "execute_result",
          "data": {
            "text/plain": [
              "   User-ID        ISBN  Book-Rating  \\\n",
              "0   277427  002542730X           10   \n",
              "1     3363  002542730X            0   \n",
              "3    12538  002542730X           10   \n",
              "4    13552  002542730X            0   \n",
              "5    16795  002542730X            0   \n",
              "\n",
              "                                          Book-Title  Total Rating Count  \\\n",
              "0  Politically Correct Bedtime Stories: Modern Ta...                  83   \n",
              "1  Politically Correct Bedtime Stories: Modern Ta...                  83   \n",
              "3  Politically Correct Bedtime Stories: Modern Ta...                  83   \n",
              "4  Politically Correct Bedtime Stories: Modern Ta...                  83   \n",
              "5  Politically Correct Bedtime Stories: Modern Ta...                  83   \n",
              "\n",
              "                        Location   Age  \n",
              "0          gilbert, arizona, usa  48.0  \n",
              "1      knoxville, tennessee, usa  29.0  \n",
              "3          byron, minnesota, usa  18.0  \n",
              "4        cordova, tennessee, usa  32.0  \n",
              "5  mechanicsville, maryland, usa  47.0  "
            ],
            "text/html": [
              "\n",
              "  <div id=\"df-bdaea717-85a0-4288-8e51-c1d4f23fd834\">\n",
              "    <div class=\"colab-df-container\">\n",
              "      <div>\n",
              "<style scoped>\n",
              "    .dataframe tbody tr th:only-of-type {\n",
              "        vertical-align: middle;\n",
              "    }\n",
              "\n",
              "    .dataframe tbody tr th {\n",
              "        vertical-align: top;\n",
              "    }\n",
              "\n",
              "    .dataframe thead th {\n",
              "        text-align: right;\n",
              "    }\n",
              "</style>\n",
              "<table border=\"1\" class=\"dataframe\">\n",
              "  <thead>\n",
              "    <tr style=\"text-align: right;\">\n",
              "      <th></th>\n",
              "      <th>User-ID</th>\n",
              "      <th>ISBN</th>\n",
              "      <th>Book-Rating</th>\n",
              "      <th>Book-Title</th>\n",
              "      <th>Total Rating Count</th>\n",
              "      <th>Location</th>\n",
              "      <th>Age</th>\n",
              "    </tr>\n",
              "  </thead>\n",
              "  <tbody>\n",
              "    <tr>\n",
              "      <th>0</th>\n",
              "      <td>277427</td>\n",
              "      <td>002542730X</td>\n",
              "      <td>10</td>\n",
              "      <td>Politically Correct Bedtime Stories: Modern Ta...</td>\n",
              "      <td>83</td>\n",
              "      <td>gilbert, arizona, usa</td>\n",
              "      <td>48.0</td>\n",
              "    </tr>\n",
              "    <tr>\n",
              "      <th>1</th>\n",
              "      <td>3363</td>\n",
              "      <td>002542730X</td>\n",
              "      <td>0</td>\n",
              "      <td>Politically Correct Bedtime Stories: Modern Ta...</td>\n",
              "      <td>83</td>\n",
              "      <td>knoxville, tennessee, usa</td>\n",
              "      <td>29.0</td>\n",
              "    </tr>\n",
              "    <tr>\n",
              "      <th>3</th>\n",
              "      <td>12538</td>\n",
              "      <td>002542730X</td>\n",
              "      <td>10</td>\n",
              "      <td>Politically Correct Bedtime Stories: Modern Ta...</td>\n",
              "      <td>83</td>\n",
              "      <td>byron, minnesota, usa</td>\n",
              "      <td>18.0</td>\n",
              "    </tr>\n",
              "    <tr>\n",
              "      <th>4</th>\n",
              "      <td>13552</td>\n",
              "      <td>002542730X</td>\n",
              "      <td>0</td>\n",
              "      <td>Politically Correct Bedtime Stories: Modern Ta...</td>\n",
              "      <td>83</td>\n",
              "      <td>cordova, tennessee, usa</td>\n",
              "      <td>32.0</td>\n",
              "    </tr>\n",
              "    <tr>\n",
              "      <th>5</th>\n",
              "      <td>16795</td>\n",
              "      <td>002542730X</td>\n",
              "      <td>0</td>\n",
              "      <td>Politically Correct Bedtime Stories: Modern Ta...</td>\n",
              "      <td>83</td>\n",
              "      <td>mechanicsville, maryland, usa</td>\n",
              "      <td>47.0</td>\n",
              "    </tr>\n",
              "  </tbody>\n",
              "</table>\n",
              "</div>\n",
              "      <button class=\"colab-df-convert\" onclick=\"convertToInteractive('df-bdaea717-85a0-4288-8e51-c1d4f23fd834')\"\n",
              "              title=\"Convert this dataframe to an interactive table.\"\n",
              "              style=\"display:none;\">\n",
              "        \n",
              "  <svg xmlns=\"http://www.w3.org/2000/svg\" height=\"24px\"viewBox=\"0 0 24 24\"\n",
              "       width=\"24px\">\n",
              "    <path d=\"M0 0h24v24H0V0z\" fill=\"none\"/>\n",
              "    <path d=\"M18.56 5.44l.94 2.06.94-2.06 2.06-.94-2.06-.94-.94-2.06-.94 2.06-2.06.94zm-11 1L8.5 8.5l.94-2.06 2.06-.94-2.06-.94L8.5 2.5l-.94 2.06-2.06.94zm10 10l.94 2.06.94-2.06 2.06-.94-2.06-.94-.94-2.06-.94 2.06-2.06.94z\"/><path d=\"M17.41 7.96l-1.37-1.37c-.4-.4-.92-.59-1.43-.59-.52 0-1.04.2-1.43.59L10.3 9.45l-7.72 7.72c-.78.78-.78 2.05 0 2.83L4 21.41c.39.39.9.59 1.41.59.51 0 1.02-.2 1.41-.59l7.78-7.78 2.81-2.81c.8-.78.8-2.07 0-2.86zM5.41 20L4 18.59l7.72-7.72 1.47 1.35L5.41 20z\"/>\n",
              "  </svg>\n",
              "      </button>\n",
              "      \n",
              "  <style>\n",
              "    .colab-df-container {\n",
              "      display:flex;\n",
              "      flex-wrap:wrap;\n",
              "      gap: 12px;\n",
              "    }\n",
              "\n",
              "    .colab-df-convert {\n",
              "      background-color: #E8F0FE;\n",
              "      border: none;\n",
              "      border-radius: 50%;\n",
              "      cursor: pointer;\n",
              "      display: none;\n",
              "      fill: #1967D2;\n",
              "      height: 32px;\n",
              "      padding: 0 0 0 0;\n",
              "      width: 32px;\n",
              "    }\n",
              "\n",
              "    .colab-df-convert:hover {\n",
              "      background-color: #E2EBFA;\n",
              "      box-shadow: 0px 1px 2px rgba(60, 64, 67, 0.3), 0px 1px 3px 1px rgba(60, 64, 67, 0.15);\n",
              "      fill: #174EA6;\n",
              "    }\n",
              "\n",
              "    [theme=dark] .colab-df-convert {\n",
              "      background-color: #3B4455;\n",
              "      fill: #D2E3FC;\n",
              "    }\n",
              "\n",
              "    [theme=dark] .colab-df-convert:hover {\n",
              "      background-color: #434B5C;\n",
              "      box-shadow: 0px 1px 3px 1px rgba(0, 0, 0, 0.15);\n",
              "      filter: drop-shadow(0px 1px 2px rgba(0, 0, 0, 0.3));\n",
              "      fill: #FFFFFF;\n",
              "    }\n",
              "  </style>\n",
              "\n",
              "      <script>\n",
              "        const buttonEl =\n",
              "          document.querySelector('#df-bdaea717-85a0-4288-8e51-c1d4f23fd834 button.colab-df-convert');\n",
              "        buttonEl.style.display =\n",
              "          google.colab.kernel.accessAllowed ? 'block' : 'none';\n",
              "\n",
              "        async function convertToInteractive(key) {\n",
              "          const element = document.querySelector('#df-bdaea717-85a0-4288-8e51-c1d4f23fd834');\n",
              "          const dataTable =\n",
              "            await google.colab.kernel.invokeFunction('convertToInteractive',\n",
              "                                                     [key], {});\n",
              "          if (!dataTable) return;\n",
              "\n",
              "          const docLinkHtml = 'Like what you see? Visit the ' +\n",
              "            '<a target=\"_blank\" href=https://colab.research.google.com/notebooks/data_table.ipynb>data table notebook</a>'\n",
              "            + ' to learn more about interactive tables.';\n",
              "          element.innerHTML = '';\n",
              "          dataTable['output_type'] = 'display_data';\n",
              "          await google.colab.output.renderOutput(dataTable, element);\n",
              "          const docLink = document.createElement('div');\n",
              "          docLink.innerHTML = docLinkHtml;\n",
              "          element.appendChild(docLink);\n",
              "        }\n",
              "      </script>\n",
              "    </div>\n",
              "  </div>\n",
              "  "
            ]
          },
          "metadata": {},
          "execution_count": 253
        }
      ]
    },
    {
      "cell_type": "code",
      "source": [
        "usa_canada_users_df.shape"
      ],
      "metadata": {
        "colab": {
          "base_uri": "https://localhost:8080/"
        },
        "id": "wmHFgRK06bFI",
        "outputId": "d52070c4-c629-4146-9cd5-e8c5ef5c942b"
      },
      "execution_count": null,
      "outputs": [
        {
          "output_type": "execute_result",
          "data": {
            "text/plain": [
              "(49112, 7)"
            ]
          },
          "metadata": {},
          "execution_count": 254
        }
      ]
    },
    {
      "cell_type": "code",
      "source": [
        "usa_canada_users_df.drop(columns=['Age'], axis = 1, inplace = True)"
      ],
      "metadata": {
        "colab": {
          "base_uri": "https://localhost:8080/"
        },
        "id": "wy5UqMKX6fIL",
        "outputId": "63e36e1e-3f23-4627-aa2f-f05b0aeb2c2e"
      },
      "execution_count": null,
      "outputs": [
        {
          "output_type": "stream",
          "name": "stderr",
          "text": [
            "/usr/local/lib/python3.7/dist-packages/pandas/core/frame.py:4913: SettingWithCopyWarning: \n",
            "A value is trying to be set on a copy of a slice from a DataFrame\n",
            "\n",
            "See the caveats in the documentation: https://pandas.pydata.org/pandas-docs/stable/user_guide/indexing.html#returning-a-view-versus-a-copy\n",
            "  errors=errors,\n"
          ]
        }
      ]
    },
    {
      "cell_type": "code",
      "source": [
        "usa_canada_users_df.head()"
      ],
      "metadata": {
        "colab": {
          "base_uri": "https://localhost:8080/",
          "height": 206
        },
        "id": "09e-NYzn6nkW",
        "outputId": "eb139c8d-e2c4-4159-938f-2eba07bbd114"
      },
      "execution_count": null,
      "outputs": [
        {
          "output_type": "execute_result",
          "data": {
            "text/plain": [
              "   User-ID        ISBN  Book-Rating  \\\n",
              "0   277427  002542730X           10   \n",
              "1     3363  002542730X            0   \n",
              "3    12538  002542730X           10   \n",
              "4    13552  002542730X            0   \n",
              "5    16795  002542730X            0   \n",
              "\n",
              "                                          Book-Title  Total Rating Count  \\\n",
              "0  Politically Correct Bedtime Stories: Modern Ta...                  83   \n",
              "1  Politically Correct Bedtime Stories: Modern Ta...                  83   \n",
              "3  Politically Correct Bedtime Stories: Modern Ta...                  83   \n",
              "4  Politically Correct Bedtime Stories: Modern Ta...                  83   \n",
              "5  Politically Correct Bedtime Stories: Modern Ta...                  83   \n",
              "\n",
              "                        Location  \n",
              "0          gilbert, arizona, usa  \n",
              "1      knoxville, tennessee, usa  \n",
              "3          byron, minnesota, usa  \n",
              "4        cordova, tennessee, usa  \n",
              "5  mechanicsville, maryland, usa  "
            ],
            "text/html": [
              "\n",
              "  <div id=\"df-0c9f989e-4623-4421-b979-8923c603285c\">\n",
              "    <div class=\"colab-df-container\">\n",
              "      <div>\n",
              "<style scoped>\n",
              "    .dataframe tbody tr th:only-of-type {\n",
              "        vertical-align: middle;\n",
              "    }\n",
              "\n",
              "    .dataframe tbody tr th {\n",
              "        vertical-align: top;\n",
              "    }\n",
              "\n",
              "    .dataframe thead th {\n",
              "        text-align: right;\n",
              "    }\n",
              "</style>\n",
              "<table border=\"1\" class=\"dataframe\">\n",
              "  <thead>\n",
              "    <tr style=\"text-align: right;\">\n",
              "      <th></th>\n",
              "      <th>User-ID</th>\n",
              "      <th>ISBN</th>\n",
              "      <th>Book-Rating</th>\n",
              "      <th>Book-Title</th>\n",
              "      <th>Total Rating Count</th>\n",
              "      <th>Location</th>\n",
              "    </tr>\n",
              "  </thead>\n",
              "  <tbody>\n",
              "    <tr>\n",
              "      <th>0</th>\n",
              "      <td>277427</td>\n",
              "      <td>002542730X</td>\n",
              "      <td>10</td>\n",
              "      <td>Politically Correct Bedtime Stories: Modern Ta...</td>\n",
              "      <td>83</td>\n",
              "      <td>gilbert, arizona, usa</td>\n",
              "    </tr>\n",
              "    <tr>\n",
              "      <th>1</th>\n",
              "      <td>3363</td>\n",
              "      <td>002542730X</td>\n",
              "      <td>0</td>\n",
              "      <td>Politically Correct Bedtime Stories: Modern Ta...</td>\n",
              "      <td>83</td>\n",
              "      <td>knoxville, tennessee, usa</td>\n",
              "    </tr>\n",
              "    <tr>\n",
              "      <th>3</th>\n",
              "      <td>12538</td>\n",
              "      <td>002542730X</td>\n",
              "      <td>10</td>\n",
              "      <td>Politically Correct Bedtime Stories: Modern Ta...</td>\n",
              "      <td>83</td>\n",
              "      <td>byron, minnesota, usa</td>\n",
              "    </tr>\n",
              "    <tr>\n",
              "      <th>4</th>\n",
              "      <td>13552</td>\n",
              "      <td>002542730X</td>\n",
              "      <td>0</td>\n",
              "      <td>Politically Correct Bedtime Stories: Modern Ta...</td>\n",
              "      <td>83</td>\n",
              "      <td>cordova, tennessee, usa</td>\n",
              "    </tr>\n",
              "    <tr>\n",
              "      <th>5</th>\n",
              "      <td>16795</td>\n",
              "      <td>002542730X</td>\n",
              "      <td>0</td>\n",
              "      <td>Politically Correct Bedtime Stories: Modern Ta...</td>\n",
              "      <td>83</td>\n",
              "      <td>mechanicsville, maryland, usa</td>\n",
              "    </tr>\n",
              "  </tbody>\n",
              "</table>\n",
              "</div>\n",
              "      <button class=\"colab-df-convert\" onclick=\"convertToInteractive('df-0c9f989e-4623-4421-b979-8923c603285c')\"\n",
              "              title=\"Convert this dataframe to an interactive table.\"\n",
              "              style=\"display:none;\">\n",
              "        \n",
              "  <svg xmlns=\"http://www.w3.org/2000/svg\" height=\"24px\"viewBox=\"0 0 24 24\"\n",
              "       width=\"24px\">\n",
              "    <path d=\"M0 0h24v24H0V0z\" fill=\"none\"/>\n",
              "    <path d=\"M18.56 5.44l.94 2.06.94-2.06 2.06-.94-2.06-.94-.94-2.06-.94 2.06-2.06.94zm-11 1L8.5 8.5l.94-2.06 2.06-.94-2.06-.94L8.5 2.5l-.94 2.06-2.06.94zm10 10l.94 2.06.94-2.06 2.06-.94-2.06-.94-.94-2.06-.94 2.06-2.06.94z\"/><path d=\"M17.41 7.96l-1.37-1.37c-.4-.4-.92-.59-1.43-.59-.52 0-1.04.2-1.43.59L10.3 9.45l-7.72 7.72c-.78.78-.78 2.05 0 2.83L4 21.41c.39.39.9.59 1.41.59.51 0 1.02-.2 1.41-.59l7.78-7.78 2.81-2.81c.8-.78.8-2.07 0-2.86zM5.41 20L4 18.59l7.72-7.72 1.47 1.35L5.41 20z\"/>\n",
              "  </svg>\n",
              "      </button>\n",
              "      \n",
              "  <style>\n",
              "    .colab-df-container {\n",
              "      display:flex;\n",
              "      flex-wrap:wrap;\n",
              "      gap: 12px;\n",
              "    }\n",
              "\n",
              "    .colab-df-convert {\n",
              "      background-color: #E8F0FE;\n",
              "      border: none;\n",
              "      border-radius: 50%;\n",
              "      cursor: pointer;\n",
              "      display: none;\n",
              "      fill: #1967D2;\n",
              "      height: 32px;\n",
              "      padding: 0 0 0 0;\n",
              "      width: 32px;\n",
              "    }\n",
              "\n",
              "    .colab-df-convert:hover {\n",
              "      background-color: #E2EBFA;\n",
              "      box-shadow: 0px 1px 2px rgba(60, 64, 67, 0.3), 0px 1px 3px 1px rgba(60, 64, 67, 0.15);\n",
              "      fill: #174EA6;\n",
              "    }\n",
              "\n",
              "    [theme=dark] .colab-df-convert {\n",
              "      background-color: #3B4455;\n",
              "      fill: #D2E3FC;\n",
              "    }\n",
              "\n",
              "    [theme=dark] .colab-df-convert:hover {\n",
              "      background-color: #434B5C;\n",
              "      box-shadow: 0px 1px 3px 1px rgba(0, 0, 0, 0.15);\n",
              "      filter: drop-shadow(0px 1px 2px rgba(0, 0, 0, 0.3));\n",
              "      fill: #FFFFFF;\n",
              "    }\n",
              "  </style>\n",
              "\n",
              "      <script>\n",
              "        const buttonEl =\n",
              "          document.querySelector('#df-0c9f989e-4623-4421-b979-8923c603285c button.colab-df-convert');\n",
              "        buttonEl.style.display =\n",
              "          google.colab.kernel.accessAllowed ? 'block' : 'none';\n",
              "\n",
              "        async function convertToInteractive(key) {\n",
              "          const element = document.querySelector('#df-0c9f989e-4623-4421-b979-8923c603285c');\n",
              "          const dataTable =\n",
              "            await google.colab.kernel.invokeFunction('convertToInteractive',\n",
              "                                                     [key], {});\n",
              "          if (!dataTable) return;\n",
              "\n",
              "          const docLinkHtml = 'Like what you see? Visit the ' +\n",
              "            '<a target=\"_blank\" href=https://colab.research.google.com/notebooks/data_table.ipynb>data table notebook</a>'\n",
              "            + ' to learn more about interactive tables.';\n",
              "          element.innerHTML = '';\n",
              "          dataTable['output_type'] = 'display_data';\n",
              "          await google.colab.output.renderOutput(dataTable, element);\n",
              "          const docLink = document.createElement('div');\n",
              "          docLink.innerHTML = docLinkHtml;\n",
              "          element.appendChild(docLink);\n",
              "        }\n",
              "      </script>\n",
              "    </div>\n",
              "  </div>\n",
              "  "
            ]
          },
          "metadata": {},
          "execution_count": 256
        }
      ]
    },
    {
      "cell_type": "markdown",
      "source": [
        "**Cosine Similarity**\n",
        "\n",
        "We will use cosine similarity with respect to kNN. kNN helps us to compute the distance between two points (consider books as a point here). So, we can use cosine to find the angle of line between two distance. Cosine similarity gives us the similarity score between two points(books in this case)."
      ],
      "metadata": {
        "id": "3gwBXe867SCA"
      }
    },
    {
      "cell_type": "markdown",
      "source": [
        "We will convert dataframe into array."
      ],
      "metadata": {
        "id": "0FWcZnRC78Q4"
      }
    },
    {
      "cell_type": "code",
      "source": [
        "from scipy.sparse import csr_matrix\n",
        "\n",
        "usa_canada_users_df = usa_canada_users_df.drop_duplicates(['User-ID', 'Book-Title'])\n",
        "usa_canada_users_pivot = usa_canada_users_df.pivot(index = 'Book-Title', columns = 'User-ID', values = 'Book-Rating').fillna(0)"
      ],
      "metadata": {
        "id": "mnOY0CUU6tua"
      },
      "execution_count": null,
      "outputs": []
    },
    {
      "cell_type": "code",
      "source": [
        "usa_canada_users_pivot"
      ],
      "metadata": {
        "colab": {
          "base_uri": "https://localhost:8080/",
          "height": 516
        },
        "id": "EoWbQ_Wd9CM7",
        "outputId": "6344655c-a8cc-4b05-d996-9ce1b22c5b13"
      },
      "execution_count": null,
      "outputs": [
        {
          "output_type": "execute_result",
          "data": {
            "text/plain": [
              "User-ID                                             254     2033    2276    \\\n",
              "Book-Title                                                                   \n",
              "1984                                                   9.0     0.0     0.0   \n",
              "1st to Die: A Novel                                    0.0     0.0     0.0   \n",
              "2nd Chance                                             0.0     0.0    10.0   \n",
              "4 Blondes                                              0.0     0.0     0.0   \n",
              "84 Charing Cross Road                                  0.0     0.0     0.0   \n",
              "...                                                    ...     ...     ...   \n",
              "Year of Wonders                                        0.0     0.0     0.0   \n",
              "You Belong To Me                                       0.0     0.0     0.0   \n",
              "Zen and the Art of Motorcycle Maintenance: An I...     0.0     0.0     0.0   \n",
              "Zoya                                                   0.0     0.0     0.0   \n",
              "\\O\\\" Is for Outlaw\"                                    0.0     0.0     0.0   \n",
              "\n",
              "User-ID                                             2766    2977    3363    \\\n",
              "Book-Title                                                                   \n",
              "1984                                                   0.0     0.0     0.0   \n",
              "1st to Die: A Novel                                    0.0     0.0     0.0   \n",
              "2nd Chance                                             0.0     0.0     0.0   \n",
              "4 Blondes                                              0.0     0.0     0.0   \n",
              "84 Charing Cross Road                                  0.0     0.0     0.0   \n",
              "...                                                    ...     ...     ...   \n",
              "Year of Wonders                                        0.0     7.0     0.0   \n",
              "You Belong To Me                                       0.0     0.0     0.0   \n",
              "Zen and the Art of Motorcycle Maintenance: An I...     0.0     0.0     0.0   \n",
              "Zoya                                                   0.0     0.0     0.0   \n",
              "\\O\\\" Is for Outlaw\"                                    0.0     0.0     0.0   \n",
              "\n",
              "User-ID                                             4017    4385    6242    \\\n",
              "Book-Title                                                                   \n",
              "1984                                                   0.0     0.0     0.0   \n",
              "1st to Die: A Novel                                    0.0     0.0     0.0   \n",
              "2nd Chance                                             0.0     0.0     0.0   \n",
              "4 Blondes                                              0.0     0.0     0.0   \n",
              "84 Charing Cross Road                                  0.0     0.0     0.0   \n",
              "...                                                    ...     ...     ...   \n",
              "Year of Wonders                                        0.0     0.0     7.0   \n",
              "You Belong To Me                                       0.0     0.0     0.0   \n",
              "Zen and the Art of Motorcycle Maintenance: An I...     0.0     0.0     0.0   \n",
              "Zoya                                                   0.0     0.0     0.0   \n",
              "\\O\\\" Is for Outlaw\"                                    0.0     0.0     0.0   \n",
              "\n",
              "User-ID                                             6251    ...  273979  \\\n",
              "Book-Title                                                  ...           \n",
              "1984                                                   0.0  ...     0.0   \n",
              "1st to Die: A Novel                                    0.0  ...     0.0   \n",
              "2nd Chance                                             0.0  ...     0.0   \n",
              "4 Blondes                                              0.0  ...     0.0   \n",
              "84 Charing Cross Road                                  0.0  ...     0.0   \n",
              "...                                                    ...  ...     ...   \n",
              "Year of Wonders                                        0.0  ...     9.0   \n",
              "You Belong To Me                                       0.0  ...     0.0   \n",
              "Zen and the Art of Motorcycle Maintenance: An I...     0.0  ...     0.0   \n",
              "Zoya                                                   0.0  ...     0.0   \n",
              "\\O\\\" Is for Outlaw\"                                    0.0  ...     0.0   \n",
              "\n",
              "User-ID                                             274061  274308  274808  \\\n",
              "Book-Title                                                                   \n",
              "1984                                                   0.0     0.0     0.0   \n",
              "1st to Die: A Novel                                    0.0     0.0     0.0   \n",
              "2nd Chance                                             0.0     0.0     0.0   \n",
              "4 Blondes                                              0.0     0.0     0.0   \n",
              "84 Charing Cross Road                                  0.0     0.0     0.0   \n",
              "...                                                    ...     ...     ...   \n",
              "Year of Wonders                                        0.0     0.0     0.0   \n",
              "You Belong To Me                                       0.0     0.0     0.0   \n",
              "Zen and the Art of Motorcycle Maintenance: An I...     0.0     0.0     0.0   \n",
              "Zoya                                                   0.0     0.0     0.0   \n",
              "\\O\\\" Is for Outlaw\"                                    0.0     0.0     0.0   \n",
              "\n",
              "User-ID                                             275970  276680  277427  \\\n",
              "Book-Title                                                                   \n",
              "1984                                                   0.0     0.0     0.0   \n",
              "1st to Die: A Novel                                    0.0     0.0     0.0   \n",
              "2nd Chance                                             0.0     0.0     0.0   \n",
              "4 Blondes                                              0.0     0.0     0.0   \n",
              "84 Charing Cross Road                                 10.0     0.0     0.0   \n",
              "...                                                    ...     ...     ...   \n",
              "Year of Wonders                                        0.0     0.0     0.0   \n",
              "You Belong To Me                                       0.0     0.0     0.0   \n",
              "Zen and the Art of Motorcycle Maintenance: An I...     0.0     0.0     0.0   \n",
              "Zoya                                                   0.0     0.0     0.0   \n",
              "\\O\\\" Is for Outlaw\"                                    0.0     0.0     0.0   \n",
              "\n",
              "User-ID                                             277639  278188  278418  \n",
              "Book-Title                                                                  \n",
              "1984                                                   0.0     0.0     0.0  \n",
              "1st to Die: A Novel                                    0.0     0.0     0.0  \n",
              "2nd Chance                                             0.0     0.0     0.0  \n",
              "4 Blondes                                              0.0     0.0     0.0  \n",
              "84 Charing Cross Road                                  0.0     0.0     0.0  \n",
              "...                                                    ...     ...     ...  \n",
              "Year of Wonders                                        0.0     0.0     0.0  \n",
              "You Belong To Me                                       0.0     0.0     0.0  \n",
              "Zen and the Art of Motorcycle Maintenance: An I...     0.0     0.0     0.0  \n",
              "Zoya                                                   0.0     0.0     0.0  \n",
              "\\O\\\" Is for Outlaw\"                                    0.0     0.0     0.0  \n",
              "\n",
              "[615 rows x 844 columns]"
            ],
            "text/html": [
              "\n",
              "  <div id=\"df-8e567f03-3962-4fae-aaba-236437428dd5\">\n",
              "    <div class=\"colab-df-container\">\n",
              "      <div>\n",
              "<style scoped>\n",
              "    .dataframe tbody tr th:only-of-type {\n",
              "        vertical-align: middle;\n",
              "    }\n",
              "\n",
              "    .dataframe tbody tr th {\n",
              "        vertical-align: top;\n",
              "    }\n",
              "\n",
              "    .dataframe thead th {\n",
              "        text-align: right;\n",
              "    }\n",
              "</style>\n",
              "<table border=\"1\" class=\"dataframe\">\n",
              "  <thead>\n",
              "    <tr style=\"text-align: right;\">\n",
              "      <th>User-ID</th>\n",
              "      <th>254</th>\n",
              "      <th>2033</th>\n",
              "      <th>2276</th>\n",
              "      <th>2766</th>\n",
              "      <th>2977</th>\n",
              "      <th>3363</th>\n",
              "      <th>4017</th>\n",
              "      <th>4385</th>\n",
              "      <th>6242</th>\n",
              "      <th>6251</th>\n",
              "      <th>...</th>\n",
              "      <th>273979</th>\n",
              "      <th>274061</th>\n",
              "      <th>274308</th>\n",
              "      <th>274808</th>\n",
              "      <th>275970</th>\n",
              "      <th>276680</th>\n",
              "      <th>277427</th>\n",
              "      <th>277639</th>\n",
              "      <th>278188</th>\n",
              "      <th>278418</th>\n",
              "    </tr>\n",
              "    <tr>\n",
              "      <th>Book-Title</th>\n",
              "      <th></th>\n",
              "      <th></th>\n",
              "      <th></th>\n",
              "      <th></th>\n",
              "      <th></th>\n",
              "      <th></th>\n",
              "      <th></th>\n",
              "      <th></th>\n",
              "      <th></th>\n",
              "      <th></th>\n",
              "      <th></th>\n",
              "      <th></th>\n",
              "      <th></th>\n",
              "      <th></th>\n",
              "      <th></th>\n",
              "      <th></th>\n",
              "      <th></th>\n",
              "      <th></th>\n",
              "      <th></th>\n",
              "      <th></th>\n",
              "      <th></th>\n",
              "    </tr>\n",
              "  </thead>\n",
              "  <tbody>\n",
              "    <tr>\n",
              "      <th>1984</th>\n",
              "      <td>9.0</td>\n",
              "      <td>0.0</td>\n",
              "      <td>0.0</td>\n",
              "      <td>0.0</td>\n",
              "      <td>0.0</td>\n",
              "      <td>0.0</td>\n",
              "      <td>0.0</td>\n",
              "      <td>0.0</td>\n",
              "      <td>0.0</td>\n",
              "      <td>0.0</td>\n",
              "      <td>...</td>\n",
              "      <td>0.0</td>\n",
              "      <td>0.0</td>\n",
              "      <td>0.0</td>\n",
              "      <td>0.0</td>\n",
              "      <td>0.0</td>\n",
              "      <td>0.0</td>\n",
              "      <td>0.0</td>\n",
              "      <td>0.0</td>\n",
              "      <td>0.0</td>\n",
              "      <td>0.0</td>\n",
              "    </tr>\n",
              "    <tr>\n",
              "      <th>1st to Die: A Novel</th>\n",
              "      <td>0.0</td>\n",
              "      <td>0.0</td>\n",
              "      <td>0.0</td>\n",
              "      <td>0.0</td>\n",
              "      <td>0.0</td>\n",
              "      <td>0.0</td>\n",
              "      <td>0.0</td>\n",
              "      <td>0.0</td>\n",
              "      <td>0.0</td>\n",
              "      <td>0.0</td>\n",
              "      <td>...</td>\n",
              "      <td>0.0</td>\n",
              "      <td>0.0</td>\n",
              "      <td>0.0</td>\n",
              "      <td>0.0</td>\n",
              "      <td>0.0</td>\n",
              "      <td>0.0</td>\n",
              "      <td>0.0</td>\n",
              "      <td>0.0</td>\n",
              "      <td>0.0</td>\n",
              "      <td>0.0</td>\n",
              "    </tr>\n",
              "    <tr>\n",
              "      <th>2nd Chance</th>\n",
              "      <td>0.0</td>\n",
              "      <td>0.0</td>\n",
              "      <td>10.0</td>\n",
              "      <td>0.0</td>\n",
              "      <td>0.0</td>\n",
              "      <td>0.0</td>\n",
              "      <td>0.0</td>\n",
              "      <td>0.0</td>\n",
              "      <td>0.0</td>\n",
              "      <td>0.0</td>\n",
              "      <td>...</td>\n",
              "      <td>0.0</td>\n",
              "      <td>0.0</td>\n",
              "      <td>0.0</td>\n",
              "      <td>0.0</td>\n",
              "      <td>0.0</td>\n",
              "      <td>0.0</td>\n",
              "      <td>0.0</td>\n",
              "      <td>0.0</td>\n",
              "      <td>0.0</td>\n",
              "      <td>0.0</td>\n",
              "    </tr>\n",
              "    <tr>\n",
              "      <th>4 Blondes</th>\n",
              "      <td>0.0</td>\n",
              "      <td>0.0</td>\n",
              "      <td>0.0</td>\n",
              "      <td>0.0</td>\n",
              "      <td>0.0</td>\n",
              "      <td>0.0</td>\n",
              "      <td>0.0</td>\n",
              "      <td>0.0</td>\n",
              "      <td>0.0</td>\n",
              "      <td>0.0</td>\n",
              "      <td>...</td>\n",
              "      <td>0.0</td>\n",
              "      <td>0.0</td>\n",
              "      <td>0.0</td>\n",
              "      <td>0.0</td>\n",
              "      <td>0.0</td>\n",
              "      <td>0.0</td>\n",
              "      <td>0.0</td>\n",
              "      <td>0.0</td>\n",
              "      <td>0.0</td>\n",
              "      <td>0.0</td>\n",
              "    </tr>\n",
              "    <tr>\n",
              "      <th>84 Charing Cross Road</th>\n",
              "      <td>0.0</td>\n",
              "      <td>0.0</td>\n",
              "      <td>0.0</td>\n",
              "      <td>0.0</td>\n",
              "      <td>0.0</td>\n",
              "      <td>0.0</td>\n",
              "      <td>0.0</td>\n",
              "      <td>0.0</td>\n",
              "      <td>0.0</td>\n",
              "      <td>0.0</td>\n",
              "      <td>...</td>\n",
              "      <td>0.0</td>\n",
              "      <td>0.0</td>\n",
              "      <td>0.0</td>\n",
              "      <td>0.0</td>\n",
              "      <td>10.0</td>\n",
              "      <td>0.0</td>\n",
              "      <td>0.0</td>\n",
              "      <td>0.0</td>\n",
              "      <td>0.0</td>\n",
              "      <td>0.0</td>\n",
              "    </tr>\n",
              "    <tr>\n",
              "      <th>...</th>\n",
              "      <td>...</td>\n",
              "      <td>...</td>\n",
              "      <td>...</td>\n",
              "      <td>...</td>\n",
              "      <td>...</td>\n",
              "      <td>...</td>\n",
              "      <td>...</td>\n",
              "      <td>...</td>\n",
              "      <td>...</td>\n",
              "      <td>...</td>\n",
              "      <td>...</td>\n",
              "      <td>...</td>\n",
              "      <td>...</td>\n",
              "      <td>...</td>\n",
              "      <td>...</td>\n",
              "      <td>...</td>\n",
              "      <td>...</td>\n",
              "      <td>...</td>\n",
              "      <td>...</td>\n",
              "      <td>...</td>\n",
              "      <td>...</td>\n",
              "    </tr>\n",
              "    <tr>\n",
              "      <th>Year of Wonders</th>\n",
              "      <td>0.0</td>\n",
              "      <td>0.0</td>\n",
              "      <td>0.0</td>\n",
              "      <td>0.0</td>\n",
              "      <td>7.0</td>\n",
              "      <td>0.0</td>\n",
              "      <td>0.0</td>\n",
              "      <td>0.0</td>\n",
              "      <td>7.0</td>\n",
              "      <td>0.0</td>\n",
              "      <td>...</td>\n",
              "      <td>9.0</td>\n",
              "      <td>0.0</td>\n",
              "      <td>0.0</td>\n",
              "      <td>0.0</td>\n",
              "      <td>0.0</td>\n",
              "      <td>0.0</td>\n",
              "      <td>0.0</td>\n",
              "      <td>0.0</td>\n",
              "      <td>0.0</td>\n",
              "      <td>0.0</td>\n",
              "    </tr>\n",
              "    <tr>\n",
              "      <th>You Belong To Me</th>\n",
              "      <td>0.0</td>\n",
              "      <td>0.0</td>\n",
              "      <td>0.0</td>\n",
              "      <td>0.0</td>\n",
              "      <td>0.0</td>\n",
              "      <td>0.0</td>\n",
              "      <td>0.0</td>\n",
              "      <td>0.0</td>\n",
              "      <td>0.0</td>\n",
              "      <td>0.0</td>\n",
              "      <td>...</td>\n",
              "      <td>0.0</td>\n",
              "      <td>0.0</td>\n",
              "      <td>0.0</td>\n",
              "      <td>0.0</td>\n",
              "      <td>0.0</td>\n",
              "      <td>0.0</td>\n",
              "      <td>0.0</td>\n",
              "      <td>0.0</td>\n",
              "      <td>0.0</td>\n",
              "      <td>0.0</td>\n",
              "    </tr>\n",
              "    <tr>\n",
              "      <th>Zen and the Art of Motorcycle Maintenance: An Inquiry into Values</th>\n",
              "      <td>0.0</td>\n",
              "      <td>0.0</td>\n",
              "      <td>0.0</td>\n",
              "      <td>0.0</td>\n",
              "      <td>0.0</td>\n",
              "      <td>0.0</td>\n",
              "      <td>0.0</td>\n",
              "      <td>0.0</td>\n",
              "      <td>0.0</td>\n",
              "      <td>0.0</td>\n",
              "      <td>...</td>\n",
              "      <td>0.0</td>\n",
              "      <td>0.0</td>\n",
              "      <td>0.0</td>\n",
              "      <td>0.0</td>\n",
              "      <td>0.0</td>\n",
              "      <td>0.0</td>\n",
              "      <td>0.0</td>\n",
              "      <td>0.0</td>\n",
              "      <td>0.0</td>\n",
              "      <td>0.0</td>\n",
              "    </tr>\n",
              "    <tr>\n",
              "      <th>Zoya</th>\n",
              "      <td>0.0</td>\n",
              "      <td>0.0</td>\n",
              "      <td>0.0</td>\n",
              "      <td>0.0</td>\n",
              "      <td>0.0</td>\n",
              "      <td>0.0</td>\n",
              "      <td>0.0</td>\n",
              "      <td>0.0</td>\n",
              "      <td>0.0</td>\n",
              "      <td>0.0</td>\n",
              "      <td>...</td>\n",
              "      <td>0.0</td>\n",
              "      <td>0.0</td>\n",
              "      <td>0.0</td>\n",
              "      <td>0.0</td>\n",
              "      <td>0.0</td>\n",
              "      <td>0.0</td>\n",
              "      <td>0.0</td>\n",
              "      <td>0.0</td>\n",
              "      <td>0.0</td>\n",
              "      <td>0.0</td>\n",
              "    </tr>\n",
              "    <tr>\n",
              "      <th>\\O\\\" Is for Outlaw\"</th>\n",
              "      <td>0.0</td>\n",
              "      <td>0.0</td>\n",
              "      <td>0.0</td>\n",
              "      <td>0.0</td>\n",
              "      <td>0.0</td>\n",
              "      <td>0.0</td>\n",
              "      <td>0.0</td>\n",
              "      <td>0.0</td>\n",
              "      <td>0.0</td>\n",
              "      <td>0.0</td>\n",
              "      <td>...</td>\n",
              "      <td>0.0</td>\n",
              "      <td>0.0</td>\n",
              "      <td>0.0</td>\n",
              "      <td>0.0</td>\n",
              "      <td>0.0</td>\n",
              "      <td>0.0</td>\n",
              "      <td>0.0</td>\n",
              "      <td>0.0</td>\n",
              "      <td>0.0</td>\n",
              "      <td>0.0</td>\n",
              "    </tr>\n",
              "  </tbody>\n",
              "</table>\n",
              "<p>615 rows × 844 columns</p>\n",
              "</div>\n",
              "      <button class=\"colab-df-convert\" onclick=\"convertToInteractive('df-8e567f03-3962-4fae-aaba-236437428dd5')\"\n",
              "              title=\"Convert this dataframe to an interactive table.\"\n",
              "              style=\"display:none;\">\n",
              "        \n",
              "  <svg xmlns=\"http://www.w3.org/2000/svg\" height=\"24px\"viewBox=\"0 0 24 24\"\n",
              "       width=\"24px\">\n",
              "    <path d=\"M0 0h24v24H0V0z\" fill=\"none\"/>\n",
              "    <path d=\"M18.56 5.44l.94 2.06.94-2.06 2.06-.94-2.06-.94-.94-2.06-.94 2.06-2.06.94zm-11 1L8.5 8.5l.94-2.06 2.06-.94-2.06-.94L8.5 2.5l-.94 2.06-2.06.94zm10 10l.94 2.06.94-2.06 2.06-.94-2.06-.94-.94-2.06-.94 2.06-2.06.94z\"/><path d=\"M17.41 7.96l-1.37-1.37c-.4-.4-.92-.59-1.43-.59-.52 0-1.04.2-1.43.59L10.3 9.45l-7.72 7.72c-.78.78-.78 2.05 0 2.83L4 21.41c.39.39.9.59 1.41.59.51 0 1.02-.2 1.41-.59l7.78-7.78 2.81-2.81c.8-.78.8-2.07 0-2.86zM5.41 20L4 18.59l7.72-7.72 1.47 1.35L5.41 20z\"/>\n",
              "  </svg>\n",
              "      </button>\n",
              "      \n",
              "  <style>\n",
              "    .colab-df-container {\n",
              "      display:flex;\n",
              "      flex-wrap:wrap;\n",
              "      gap: 12px;\n",
              "    }\n",
              "\n",
              "    .colab-df-convert {\n",
              "      background-color: #E8F0FE;\n",
              "      border: none;\n",
              "      border-radius: 50%;\n",
              "      cursor: pointer;\n",
              "      display: none;\n",
              "      fill: #1967D2;\n",
              "      height: 32px;\n",
              "      padding: 0 0 0 0;\n",
              "      width: 32px;\n",
              "    }\n",
              "\n",
              "    .colab-df-convert:hover {\n",
              "      background-color: #E2EBFA;\n",
              "      box-shadow: 0px 1px 2px rgba(60, 64, 67, 0.3), 0px 1px 3px 1px rgba(60, 64, 67, 0.15);\n",
              "      fill: #174EA6;\n",
              "    }\n",
              "\n",
              "    [theme=dark] .colab-df-convert {\n",
              "      background-color: #3B4455;\n",
              "      fill: #D2E3FC;\n",
              "    }\n",
              "\n",
              "    [theme=dark] .colab-df-convert:hover {\n",
              "      background-color: #434B5C;\n",
              "      box-shadow: 0px 1px 3px 1px rgba(0, 0, 0, 0.15);\n",
              "      filter: drop-shadow(0px 1px 2px rgba(0, 0, 0, 0.3));\n",
              "      fill: #FFFFFF;\n",
              "    }\n",
              "  </style>\n",
              "\n",
              "      <script>\n",
              "        const buttonEl =\n",
              "          document.querySelector('#df-8e567f03-3962-4fae-aaba-236437428dd5 button.colab-df-convert');\n",
              "        buttonEl.style.display =\n",
              "          google.colab.kernel.accessAllowed ? 'block' : 'none';\n",
              "\n",
              "        async function convertToInteractive(key) {\n",
              "          const element = document.querySelector('#df-8e567f03-3962-4fae-aaba-236437428dd5');\n",
              "          const dataTable =\n",
              "            await google.colab.kernel.invokeFunction('convertToInteractive',\n",
              "                                                     [key], {});\n",
              "          if (!dataTable) return;\n",
              "\n",
              "          const docLinkHtml = 'Like what you see? Visit the ' +\n",
              "            '<a target=\"_blank\" href=https://colab.research.google.com/notebooks/data_table.ipynb>data table notebook</a>'\n",
              "            + ' to learn more about interactive tables.';\n",
              "          element.innerHTML = '';\n",
              "          dataTable['output_type'] = 'display_data';\n",
              "          await google.colab.output.renderOutput(dataTable, element);\n",
              "          const docLink = document.createElement('div');\n",
              "          docLink.innerHTML = docLinkHtml;\n",
              "          element.appendChild(docLink);\n",
              "        }\n",
              "      </script>\n",
              "    </div>\n",
              "  </div>\n",
              "  "
            ]
          },
          "metadata": {},
          "execution_count": 258
        }
      ]
    },
    {
      "cell_type": "code",
      "source": [
        "usa_canada_users_matrix = csr_matrix(usa_canada_users_pivot.values)"
      ],
      "metadata": {
        "id": "UeACXuXz9RAW"
      },
      "execution_count": null,
      "outputs": []
    },
    {
      "cell_type": "code",
      "source": [
        "usa_canada_users_matrix"
      ],
      "metadata": {
        "colab": {
          "base_uri": "https://localhost:8080/"
        },
        "id": "KExaH6b39cb5",
        "outputId": "86e851b9-a51f-496c-c871-2cc1f51389fa"
      },
      "execution_count": null,
      "outputs": [
        {
          "output_type": "execute_result",
          "data": {
            "text/plain": [
              "<615x844 sparse matrix of type '<class 'numpy.float64'>'\n",
              "\twith 11816 stored elements in Compressed Sparse Row format>"
            ]
          },
          "metadata": {},
          "execution_count": 260
        }
      ]
    },
    {
      "cell_type": "markdown",
      "source": [
        "Finding Nearest Neighbors"
      ],
      "metadata": {
        "id": "SDIsL-ea9i1G"
      }
    },
    {
      "cell_type": "code",
      "source": [
        "from sklearn.neighbors import NearestNeighbors\n",
        "\n",
        "model_knn = NearestNeighbors(metric = 'cosine', algorithm = 'brute')\n",
        "model_knn.fit(usa_canada_users_matrix)"
      ],
      "metadata": {
        "colab": {
          "base_uri": "https://localhost:8080/"
        },
        "id": "wt62zg0_9ejt",
        "outputId": "b5475d61-4e5d-4f62-9381-ae1f2493cff9"
      },
      "execution_count": null,
      "outputs": [
        {
          "output_type": "execute_result",
          "data": {
            "text/plain": [
              "NearestNeighbors(algorithm='brute', metric='cosine')"
            ]
          },
          "metadata": {},
          "execution_count": 261
        }
      ]
    },
    {
      "cell_type": "markdown",
      "source": [
        "Selecting the one movie to test. Taking the whole row in pivot and finding out nearest neighbors using *model_knn.kneighbors*."
      ],
      "metadata": {
        "id": "2fvLnv5v-tv7"
      }
    },
    {
      "cell_type": "code",
      "source": [
        "query_index = np.random.choice(usa_canada_users_pivot.shape[0])\n",
        "print(query_index)\n",
        "distances, indices = model_knn.kneighbors(usa_canada_users_pivot.iloc[query_index, :].values.reshape(1, -1), n_neighbors = 5)"
      ],
      "metadata": {
        "colab": {
          "base_uri": "https://localhost:8080/"
        },
        "id": "4O4V1BxP-lmP",
        "outputId": "a91c5217-8f14-4248-d63e-4b69f6982363"
      },
      "execution_count": null,
      "outputs": [
        {
          "output_type": "stream",
          "name": "stdout",
          "text": [
            "143\n"
          ]
        }
      ]
    },
    {
      "cell_type": "markdown",
      "source": [
        "Checking the values of movie selected by query_index."
      ],
      "metadata": {
        "id": "KG0k7z0mBV_r"
      }
    },
    {
      "cell_type": "code",
      "source": [
        "usa_canada_users_pivot.iloc[query_index, :].values.reshape(1, -1)"
      ],
      "metadata": {
        "colab": {
          "base_uri": "https://localhost:8080/"
        },
        "id": "zuv072Z7912s",
        "outputId": "197dc4d0-a177-465d-b4d7-127cdc6cb66a"
      },
      "execution_count": null,
      "outputs": [
        {
          "output_type": "execute_result",
          "data": {
            "text/plain": [
              "array([[ 0.,  0.,  0.,  0.,  0.,  0.,  0.,  0.,  0.,  0.,  0.,  0.,  0.,\n",
              "         0.,  0.,  0.,  0.,  0.,  0.,  0.,  0.,  0.,  0.,  0.,  0.,  0.,\n",
              "         0.,  0.,  0.,  0.,  0.,  0.,  0.,  0.,  0.,  0.,  0.,  0.,  0.,\n",
              "         0.,  0.,  0.,  0.,  0.,  0.,  0.,  0.,  0.,  0.,  0.,  0.,  0.,\n",
              "         0., 10.,  0.,  0.,  0.,  0.,  0.,  0.,  0.,  0.,  0.,  0.,  0.,\n",
              "         0.,  0.,  0., 10.,  0.,  0.,  0.,  0.,  0.,  0.,  0.,  0.,  0.,\n",
              "         0.,  0.,  0.,  0.,  0.,  0.,  0.,  0.,  0.,  0.,  0.,  0.,  0.,\n",
              "         0.,  0.,  0.,  0.,  0.,  0.,  0.,  0.,  0.,  0.,  0.,  0.,  0.,\n",
              "         0.,  0.,  0.,  0.,  0.,  0.,  0.,  0.,  0.,  0.,  0.,  0.,  0.,\n",
              "         0.,  0.,  0.,  0.,  0.,  0.,  9.,  0.,  0.,  0.,  0.,  0.,  0.,\n",
              "         0.,  0.,  0.,  0.,  0.,  0., 10.,  0.,  0.,  0.,  0.,  0.,  0.,\n",
              "         0.,  0.,  0.,  0.,  0.,  0.,  0.,  0.,  0.,  0.,  0.,  0.,  0.,\n",
              "         0.,  0.,  0.,  0.,  0.,  0.,  0.,  0.,  0.,  0.,  0.,  0., 10.,\n",
              "         0.,  0.,  0.,  0.,  0.,  0.,  0.,  0.,  0.,  0.,  0.,  0.,  0.,\n",
              "         0.,  0.,  0.,  0.,  0.,  0.,  0.,  0.,  0.,  0.,  0.,  0.,  0.,\n",
              "         0.,  8.,  0.,  0.,  0.,  0.,  0.,  0.,  0.,  0.,  0.,  0.,  0.,\n",
              "         0.,  0.,  0.,  0.,  0.,  0.,  0.,  0.,  0.,  0.,  0.,  0.,  0.,\n",
              "         0.,  0.,  0.,  0.,  0.,  0.,  0.,  0.,  0.,  8.,  0.,  0.,  0.,\n",
              "         0.,  0.,  0.,  0.,  0.,  0.,  0.,  0.,  0.,  0.,  0.,  0.,  0.,\n",
              "         0.,  0.,  0.,  0.,  8.,  0.,  0.,  8.,  0.,  0.,  0.,  0.,  0.,\n",
              "         0.,  0.,  0.,  0.,  0.,  0.,  0.,  0.,  0.,  0.,  0.,  0.,  0.,\n",
              "         0.,  0.,  0.,  0.,  0.,  0.,  0.,  0.,  0.,  0.,  0.,  0.,  0.,\n",
              "         0.,  0.,  0.,  0.,  0.,  0.,  0.,  0.,  0.,  0.,  0.,  0.,  0.,\n",
              "         0.,  0.,  0.,  0.,  0.,  0.,  0.,  0.,  0.,  0.,  0.,  0.,  0.,\n",
              "         0.,  0.,  0.,  0.,  0.,  0.,  0.,  0.,  0.,  0.,  0.,  0.,  0.,\n",
              "         0.,  0.,  0.,  0.,  0.,  0.,  0.,  0.,  0.,  0.,  0.,  0.,  0.,\n",
              "         0.,  0.,  0.,  0.,  0.,  0.,  0.,  0.,  0.,  0.,  0.,  0.,  0.,\n",
              "         0.,  0.,  0.,  0.,  0.,  0.,  0.,  0.,  0.,  0.,  0.,  0.,  0.,\n",
              "         0.,  8.,  0.,  0.,  0.,  0.,  0.,  0.,  9.,  0.,  0.,  0.,  0.,\n",
              "         0.,  0.,  0.,  0.,  0.,  0.,  0.,  0.,  0.,  0.,  0.,  0.,  0.,\n",
              "         0.,  0.,  0.,  0.,  0.,  0.,  0.,  0.,  0.,  0.,  0.,  0.,  0.,\n",
              "         0.,  0.,  0.,  0.,  0.,  0.,  0.,  0.,  0.,  0.,  0.,  0.,  0.,\n",
              "         0.,  0.,  0.,  0.,  0.,  0.,  0.,  0.,  0.,  0.,  0.,  0.,  0.,\n",
              "         7.,  0.,  0.,  0.,  0.,  0.,  0.,  0.,  0.,  0.,  0.,  0.,  0.,\n",
              "         0.,  0.,  0.,  0.,  0.,  0.,  0.,  0.,  0.,  0.,  0.,  0.,  0.,\n",
              "         0.,  0.,  0.,  0.,  0., 10.,  0.,  0.,  0.,  0.,  0.,  0.,  0.,\n",
              "         0.,  0.,  0.,  0.,  0.,  0.,  0.,  0.,  0.,  0.,  0.,  0.,  0.,\n",
              "         0.,  0.,  0.,  0.,  0.,  0.,  0.,  0.,  0.,  0.,  0.,  0.,  0.,\n",
              "         0.,  0.,  0.,  0.,  0.,  0.,  0.,  0.,  0.,  8.,  0.,  0.,  0.,\n",
              "         0.,  0.,  0.,  0.,  0.,  0.,  0.,  0.,  0.,  0.,  0.,  0.,  0.,\n",
              "         0.,  0.,  0.,  0.,  0.,  0.,  0.,  0.,  0.,  0.,  0.,  0.,  0.,\n",
              "         0.,  0.,  0.,  0.,  0.,  0.,  0.,  0.,  0.,  0.,  0.,  0.,  0.,\n",
              "         0.,  0.,  0.,  0.,  0.,  0.,  0.,  0.,  0.,  0.,  0.,  0.,  0.,\n",
              "         0.,  0.,  0.,  0.,  0.,  0.,  0.,  0.,  0.,  0.,  0.,  0.,  0.,\n",
              "         0.,  0.,  0.,  0.,  0.,  0.,  0.,  0.,  0.,  0.,  0.,  0.,  0.,\n",
              "         0.,  0.,  0.,  0.,  0.,  0.,  0.,  0.,  0.,  0.,  0.,  0.,  0.,\n",
              "         0.,  0.,  0.,  0.,  0.,  0.,  0.,  0.,  0.,  0.,  0.,  0.,  0.,\n",
              "         0.,  0.,  0.,  0.,  0.,  0.,  0.,  0.,  0.,  0.,  0.,  0.,  0.,\n",
              "         0.,  0.,  8.,  0.,  0.,  0.,  0.,  0.,  0.,  0.,  0.,  0.,  0.,\n",
              "         0.,  0.,  0.,  0.,  0.,  0.,  0.,  0.,  0.,  0.,  0.,  0.,  0.,\n",
              "         0.,  0.,  0.,  0.,  0.,  0.,  0.,  0.,  0.,  0.,  0.,  0.,  0.,\n",
              "         0.,  0.,  0.,  0.,  0.,  0.,  0.,  0.,  0.,  0.,  0.,  0.,  0.,\n",
              "         0.,  0.,  0.,  0.,  0.,  0.,  0.,  0.,  0.,  0.,  0.,  0.,  0.,\n",
              "         0.,  0.,  0.,  0.,  0.,  0.,  0.,  0.,  0.,  0.,  0.,  0.,  0.,\n",
              "         0.,  0.,  0.,  0.,  0.,  0.,  0.,  0.,  0.,  0.,  0.,  0.,  0.,\n",
              "         0.,  0.,  0.,  0.,  0.,  0.,  0.,  0.,  0.,  0.,  0.,  0.,  0.,\n",
              "         0.,  0.,  0.,  0.,  0.,  0.,  0.,  8.,  0.,  0.,  0.,  0.,  0.,\n",
              "         0.,  0.,  0.,  0.,  0.,  0.,  0.,  0.,  0.,  0.,  0.,  0.,  0.,\n",
              "         0.,  8.,  0., 10.,  0.,  0.,  0.,  0.,  0.,  0.,  0.,  0.,  0.,\n",
              "         0.,  0.,  0.,  0.,  0.,  0.,  0.,  0.,  0.,  0.,  0.,  0.,  0.,\n",
              "         0.,  0.,  0.,  0.,  0.,  0.,  0.,  0.,  0.,  0.,  0.,  0.,  0.,\n",
              "         0.,  0.,  0.,  0.,  0.,  0.,  0.,  0.,  0.,  0.,  0.,  0.,  0.,\n",
              "         0.,  0.,  0.,  0.,  0.,  0.,  0.,  0.,  0.,  0.,  0.,  0.,  0.,\n",
              "         0.,  0.,  0.,  0.,  0.,  0.,  0.,  0.,  0.,  0.,  0.,  0.,  0.,\n",
              "        10.,  0.,  0.,  0.,  0.,  0.,  0.,  0.,  0.,  0.,  0.,  0.]])"
            ]
          },
          "metadata": {},
          "execution_count": 263
        }
      ]
    },
    {
      "cell_type": "markdown",
      "source": [
        "Checking the name of movie."
      ],
      "metadata": {
        "id": "t8zv5dEFBcN2"
      }
    },
    {
      "cell_type": "code",
      "source": [
        "usa_canada_users_pivot.index[query_index]"
      ],
      "metadata": {
        "colab": {
          "base_uri": "https://localhost:8080/",
          "height": 35
        },
        "id": "Us2KqtqB_eq7",
        "outputId": "3e0d1da2-ef8b-4374-af89-3c26be6c3a74"
      },
      "execution_count": null,
      "outputs": [
        {
          "output_type": "execute_result",
          "data": {
            "text/plain": [
              "'Eats, Shoots &amp; Leaves: The Zero Tolerance Approach to Punctuation'"
            ],
            "application/vnd.google.colaboratory.intrinsic+json": {
              "type": "string"
            }
          },
          "metadata": {},
          "execution_count": 264
        }
      ]
    },
    {
      "cell_type": "markdown",
      "source": [
        "Top 5 movies recommended based on similarity."
      ],
      "metadata": {
        "id": "8UQOcACgBeeh"
      }
    },
    {
      "cell_type": "code",
      "source": [
        "for i in range(0, len(distances.flatten())):\n",
        "    if i == 0:\n",
        "        print(f\"Recommendation for {usa_canada_users_pivot.index[query_index]}\")\n",
        "    else:\n",
        "        print(f\"{i}) {usa_canada_users_pivot.index[indices.flatten()[i]]} , with similarity of {round((1 - distances.flatten()[i]) * 100, 2)} %\" )"
      ],
      "metadata": {
        "colab": {
          "base_uri": "https://localhost:8080/"
        },
        "id": "Q0Il0Nfw_s2h",
        "outputId": "d29dbeb1-7ec9-4494-d1e0-5d6d1b65840d"
      },
      "execution_count": null,
      "outputs": [
        {
          "output_type": "stream",
          "name": "stdout",
          "text": [
            "Recommendation for Eats, Shoots &amp; Leaves: The Zero Tolerance Approach to Punctuation\n",
            "1) Tears of the Giraffe (No.1 Ladies Detective Agency) , with similarity of 20.71 %\n",
            "2) Big Cherry Holler: A Big Stone Gap Novel (Ballantine Reader's Circle) , with similarity of 20.54 %\n",
            "3) How to Make an American Quilt , with similarity of 18.47 %\n",
            "4) Where the Red Fern Grows , with similarity of 16.93 %\n"
          ]
        }
      ]
    },
    {
      "cell_type": "code",
      "source": [
        "usa_canada_users_df"
      ],
      "metadata": {
        "id": "2QHMY3x_Au59",
        "colab": {
          "base_uri": "https://localhost:8080/",
          "height": 423
        },
        "outputId": "d1426fe9-1a05-4307-9cf4-52ae729b5e5e"
      },
      "execution_count": null,
      "outputs": [
        {
          "output_type": "execute_result",
          "data": {
            "text/plain": [
              "       User-ID        ISBN  Book-Rating  \\\n",
              "0       277427  002542730X           10   \n",
              "1         3363  002542730X            0   \n",
              "3        12538  002542730X           10   \n",
              "4        13552  002542730X            0   \n",
              "5        16795  002542730X            0   \n",
              "...        ...         ...          ...   \n",
              "54222   238781  0743406184           10   \n",
              "54225   274308  0743406184            0   \n",
              "54226   275970  0743406184            0   \n",
              "54229    55548  0590112899            0   \n",
              "54241   271705  0590112899            0   \n",
              "\n",
              "                                              Book-Title  Total Rating Count  \\\n",
              "0      Politically Correct Bedtime Stories: Modern Ta...                  83   \n",
              "1      Politically Correct Bedtime Stories: Modern Ta...                  83   \n",
              "3      Politically Correct Bedtime Stories: Modern Ta...                  83   \n",
              "4      Politically Correct Bedtime Stories: Modern Ta...                  83   \n",
              "5      Politically Correct Bedtime Stories: Modern Ta...                  83   \n",
              "...                                                  ...                 ...   \n",
              "54222                               If Only It Were True                  52   \n",
              "54225                               If Only It Were True                  52   \n",
              "54226                               If Only It Were True                  52   \n",
              "54229      The Subtle Knife (His Dark Materials, Book 2)                  53   \n",
              "54241      The Subtle Knife (His Dark Materials, Book 2)                  53   \n",
              "\n",
              "                            Location  \n",
              "0              gilbert, arizona, usa  \n",
              "1          knoxville, tennessee, usa  \n",
              "3              byron, minnesota, usa  \n",
              "4            cordova, tennessee, usa  \n",
              "5      mechanicsville, maryland, usa  \n",
              "...                              ...  \n",
              "54222  yucca valley, california, usa  \n",
              "54225     delray beach, florida, usa  \n",
              "54226  pittsburgh, pennsylvania, usa  \n",
              "54229         chamblee, georgia, usa  \n",
              "54241          atlanta, georgia, usa  \n",
              "\n",
              "[48349 rows x 6 columns]"
            ],
            "text/html": [
              "\n",
              "  <div id=\"df-a43bbe86-c39c-46ea-98b0-e6c386f7bcf3\">\n",
              "    <div class=\"colab-df-container\">\n",
              "      <div>\n",
              "<style scoped>\n",
              "    .dataframe tbody tr th:only-of-type {\n",
              "        vertical-align: middle;\n",
              "    }\n",
              "\n",
              "    .dataframe tbody tr th {\n",
              "        vertical-align: top;\n",
              "    }\n",
              "\n",
              "    .dataframe thead th {\n",
              "        text-align: right;\n",
              "    }\n",
              "</style>\n",
              "<table border=\"1\" class=\"dataframe\">\n",
              "  <thead>\n",
              "    <tr style=\"text-align: right;\">\n",
              "      <th></th>\n",
              "      <th>User-ID</th>\n",
              "      <th>ISBN</th>\n",
              "      <th>Book-Rating</th>\n",
              "      <th>Book-Title</th>\n",
              "      <th>Total Rating Count</th>\n",
              "      <th>Location</th>\n",
              "    </tr>\n",
              "  </thead>\n",
              "  <tbody>\n",
              "    <tr>\n",
              "      <th>0</th>\n",
              "      <td>277427</td>\n",
              "      <td>002542730X</td>\n",
              "      <td>10</td>\n",
              "      <td>Politically Correct Bedtime Stories: Modern Ta...</td>\n",
              "      <td>83</td>\n",
              "      <td>gilbert, arizona, usa</td>\n",
              "    </tr>\n",
              "    <tr>\n",
              "      <th>1</th>\n",
              "      <td>3363</td>\n",
              "      <td>002542730X</td>\n",
              "      <td>0</td>\n",
              "      <td>Politically Correct Bedtime Stories: Modern Ta...</td>\n",
              "      <td>83</td>\n",
              "      <td>knoxville, tennessee, usa</td>\n",
              "    </tr>\n",
              "    <tr>\n",
              "      <th>3</th>\n",
              "      <td>12538</td>\n",
              "      <td>002542730X</td>\n",
              "      <td>10</td>\n",
              "      <td>Politically Correct Bedtime Stories: Modern Ta...</td>\n",
              "      <td>83</td>\n",
              "      <td>byron, minnesota, usa</td>\n",
              "    </tr>\n",
              "    <tr>\n",
              "      <th>4</th>\n",
              "      <td>13552</td>\n",
              "      <td>002542730X</td>\n",
              "      <td>0</td>\n",
              "      <td>Politically Correct Bedtime Stories: Modern Ta...</td>\n",
              "      <td>83</td>\n",
              "      <td>cordova, tennessee, usa</td>\n",
              "    </tr>\n",
              "    <tr>\n",
              "      <th>5</th>\n",
              "      <td>16795</td>\n",
              "      <td>002542730X</td>\n",
              "      <td>0</td>\n",
              "      <td>Politically Correct Bedtime Stories: Modern Ta...</td>\n",
              "      <td>83</td>\n",
              "      <td>mechanicsville, maryland, usa</td>\n",
              "    </tr>\n",
              "    <tr>\n",
              "      <th>...</th>\n",
              "      <td>...</td>\n",
              "      <td>...</td>\n",
              "      <td>...</td>\n",
              "      <td>...</td>\n",
              "      <td>...</td>\n",
              "      <td>...</td>\n",
              "    </tr>\n",
              "    <tr>\n",
              "      <th>54222</th>\n",
              "      <td>238781</td>\n",
              "      <td>0743406184</td>\n",
              "      <td>10</td>\n",
              "      <td>If Only It Were True</td>\n",
              "      <td>52</td>\n",
              "      <td>yucca valley, california, usa</td>\n",
              "    </tr>\n",
              "    <tr>\n",
              "      <th>54225</th>\n",
              "      <td>274308</td>\n",
              "      <td>0743406184</td>\n",
              "      <td>0</td>\n",
              "      <td>If Only It Were True</td>\n",
              "      <td>52</td>\n",
              "      <td>delray beach, florida, usa</td>\n",
              "    </tr>\n",
              "    <tr>\n",
              "      <th>54226</th>\n",
              "      <td>275970</td>\n",
              "      <td>0743406184</td>\n",
              "      <td>0</td>\n",
              "      <td>If Only It Were True</td>\n",
              "      <td>52</td>\n",
              "      <td>pittsburgh, pennsylvania, usa</td>\n",
              "    </tr>\n",
              "    <tr>\n",
              "      <th>54229</th>\n",
              "      <td>55548</td>\n",
              "      <td>0590112899</td>\n",
              "      <td>0</td>\n",
              "      <td>The Subtle Knife (His Dark Materials, Book 2)</td>\n",
              "      <td>53</td>\n",
              "      <td>chamblee, georgia, usa</td>\n",
              "    </tr>\n",
              "    <tr>\n",
              "      <th>54241</th>\n",
              "      <td>271705</td>\n",
              "      <td>0590112899</td>\n",
              "      <td>0</td>\n",
              "      <td>The Subtle Knife (His Dark Materials, Book 2)</td>\n",
              "      <td>53</td>\n",
              "      <td>atlanta, georgia, usa</td>\n",
              "    </tr>\n",
              "  </tbody>\n",
              "</table>\n",
              "<p>48349 rows × 6 columns</p>\n",
              "</div>\n",
              "      <button class=\"colab-df-convert\" onclick=\"convertToInteractive('df-a43bbe86-c39c-46ea-98b0-e6c386f7bcf3')\"\n",
              "              title=\"Convert this dataframe to an interactive table.\"\n",
              "              style=\"display:none;\">\n",
              "        \n",
              "  <svg xmlns=\"http://www.w3.org/2000/svg\" height=\"24px\"viewBox=\"0 0 24 24\"\n",
              "       width=\"24px\">\n",
              "    <path d=\"M0 0h24v24H0V0z\" fill=\"none\"/>\n",
              "    <path d=\"M18.56 5.44l.94 2.06.94-2.06 2.06-.94-2.06-.94-.94-2.06-.94 2.06-2.06.94zm-11 1L8.5 8.5l.94-2.06 2.06-.94-2.06-.94L8.5 2.5l-.94 2.06-2.06.94zm10 10l.94 2.06.94-2.06 2.06-.94-2.06-.94-.94-2.06-.94 2.06-2.06.94z\"/><path d=\"M17.41 7.96l-1.37-1.37c-.4-.4-.92-.59-1.43-.59-.52 0-1.04.2-1.43.59L10.3 9.45l-7.72 7.72c-.78.78-.78 2.05 0 2.83L4 21.41c.39.39.9.59 1.41.59.51 0 1.02-.2 1.41-.59l7.78-7.78 2.81-2.81c.8-.78.8-2.07 0-2.86zM5.41 20L4 18.59l7.72-7.72 1.47 1.35L5.41 20z\"/>\n",
              "  </svg>\n",
              "      </button>\n",
              "      \n",
              "  <style>\n",
              "    .colab-df-container {\n",
              "      display:flex;\n",
              "      flex-wrap:wrap;\n",
              "      gap: 12px;\n",
              "    }\n",
              "\n",
              "    .colab-df-convert {\n",
              "      background-color: #E8F0FE;\n",
              "      border: none;\n",
              "      border-radius: 50%;\n",
              "      cursor: pointer;\n",
              "      display: none;\n",
              "      fill: #1967D2;\n",
              "      height: 32px;\n",
              "      padding: 0 0 0 0;\n",
              "      width: 32px;\n",
              "    }\n",
              "\n",
              "    .colab-df-convert:hover {\n",
              "      background-color: #E2EBFA;\n",
              "      box-shadow: 0px 1px 2px rgba(60, 64, 67, 0.3), 0px 1px 3px 1px rgba(60, 64, 67, 0.15);\n",
              "      fill: #174EA6;\n",
              "    }\n",
              "\n",
              "    [theme=dark] .colab-df-convert {\n",
              "      background-color: #3B4455;\n",
              "      fill: #D2E3FC;\n",
              "    }\n",
              "\n",
              "    [theme=dark] .colab-df-convert:hover {\n",
              "      background-color: #434B5C;\n",
              "      box-shadow: 0px 1px 3px 1px rgba(0, 0, 0, 0.15);\n",
              "      filter: drop-shadow(0px 1px 2px rgba(0, 0, 0, 0.3));\n",
              "      fill: #FFFFFF;\n",
              "    }\n",
              "  </style>\n",
              "\n",
              "      <script>\n",
              "        const buttonEl =\n",
              "          document.querySelector('#df-a43bbe86-c39c-46ea-98b0-e6c386f7bcf3 button.colab-df-convert');\n",
              "        buttonEl.style.display =\n",
              "          google.colab.kernel.accessAllowed ? 'block' : 'none';\n",
              "\n",
              "        async function convertToInteractive(key) {\n",
              "          const element = document.querySelector('#df-a43bbe86-c39c-46ea-98b0-e6c386f7bcf3');\n",
              "          const dataTable =\n",
              "            await google.colab.kernel.invokeFunction('convertToInteractive',\n",
              "                                                     [key], {});\n",
              "          if (!dataTable) return;\n",
              "\n",
              "          const docLinkHtml = 'Like what you see? Visit the ' +\n",
              "            '<a target=\"_blank\" href=https://colab.research.google.com/notebooks/data_table.ipynb>data table notebook</a>'\n",
              "            + ' to learn more about interactive tables.';\n",
              "          element.innerHTML = '';\n",
              "          dataTable['output_type'] = 'display_data';\n",
              "          await google.colab.output.renderOutput(dataTable, element);\n",
              "          const docLink = document.createElement('div');\n",
              "          docLink.innerHTML = docLinkHtml;\n",
              "          element.appendChild(docLink);\n",
              "        }\n",
              "      </script>\n",
              "    </div>\n",
              "  </div>\n",
              "  "
            ]
          },
          "metadata": {},
          "execution_count": 266
        }
      ]
    },
    {
      "cell_type": "code",
      "source": [
        "# Keeping records where ratings are not 0.\n",
        "usa_canada_users_df= usa_canada_users_df[usa_canada_users_df['Book-Rating'] != 0]"
      ],
      "metadata": {
        "id": "iUyn0OOfEtBs"
      },
      "execution_count": null,
      "outputs": []
    },
    {
      "cell_type": "markdown",
      "source": [
        "**Model Building & Training**"
      ],
      "metadata": {
        "id": "H3AT-D8TapOF"
      }
    },
    {
      "cell_type": "markdown",
      "source": [
        "Recommender systems have a problem known as user cold-start, in which it is hard to provide personalized recommendations for users with none or a very few number of consumed items, due to the lack of information to model their preferences.  \n",
        "\n",
        "For this reason, we are keeping in the dataset only users with at least 10 interactions."
      ],
      "metadata": {
        "id": "6TQLxG8mB7pC"
      }
    },
    {
      "cell_type": "code",
      "source": [
        "user_interactions_count_df = usa_canada_users_df.groupby(['ISBN', 'User-ID']).size().groupby('User-ID').size()\n",
        "print('Number of users: %d' % len(user_interactions_count_df))\n",
        "\n",
        "users_with_enough_interactions_df = user_interactions_count_df[user_interactions_count_df >= 10].reset_index()[['User-ID']]\n",
        "print('Number of users with at least 10 interactions: %d' % len(users_with_enough_interactions_df))"
      ],
      "metadata": {
        "colab": {
          "base_uri": "https://localhost:8080/"
        },
        "id": "dsxZv1TcCAyV",
        "outputId": "f9b4596a-7f5c-431c-e5ce-15a1fde94f74"
      },
      "execution_count": null,
      "outputs": [
        {
          "output_type": "stream",
          "name": "stdout",
          "text": [
            "Number of users: 805\n",
            "Number of users with at least 10 interactions: 444\n"
          ]
        }
      ]
    },
    {
      "cell_type": "code",
      "source": [
        "print('Number of interactions: %d' % len(usa_canada_users_df))\n",
        "interactions_from_selected_users_df = usa_canada_users_df.merge(users_with_enough_interactions_df, \n",
        "               how = 'right',\n",
        "               left_on = 'User-ID',\n",
        "               right_on = 'User-ID')\n",
        "print('Number of interactions from users with at least 10 interactions: %d' % len(interactions_from_selected_users_df))"
      ],
      "metadata": {
        "colab": {
          "base_uri": "https://localhost:8080/"
        },
        "id": "jl2CHDRwCc80",
        "outputId": "f70149c3-7d18-42bc-dba3-f1c8c9566bc6"
      },
      "execution_count": null,
      "outputs": [
        {
          "output_type": "stream",
          "name": "stdout",
          "text": [
            "Number of interactions: 11816\n",
            "Number of interactions from users with at least 10 interactions: 10056\n"
          ]
        }
      ]
    },
    {
      "cell_type": "code",
      "source": [
        "interactions_from_selected_users_df.head(10)"
      ],
      "metadata": {
        "colab": {
          "base_uri": "https://localhost:8080/",
          "height": 363
        },
        "id": "_FJmeUxaCvYM",
        "outputId": "3168e9ad-0a53-4b2f-fc56-d6a468f36b37"
      },
      "execution_count": null,
      "outputs": [
        {
          "output_type": "execute_result",
          "data": {
            "text/plain": [
              "   User-ID        ISBN  Book-Rating  \\\n",
              "0      254  0142001740            9   \n",
              "1      254  0439064872            9   \n",
              "2      254  0439136369            9   \n",
              "3      254  0380789035           10   \n",
              "4      254  0399146431            9   \n",
              "5      254  0439139597            9   \n",
              "6      254  0451167317            8   \n",
              "7      254  0451524934            9   \n",
              "8      254  0590353403            9   \n",
              "9      254  0618002227            8   \n",
              "\n",
              "                                          Book-Title  Total Rating Count  \\\n",
              "0                            The Secret Life of Bees                 221   \n",
              "1   Harry Potter and the Chamber of Secrets (Book 2)                 177   \n",
              "2  Harry Potter and the Prisoner of Azkaban (Book 3)                 147   \n",
              "3                                      American Gods                 102   \n",
              "4                          The Bonesetter's Daughter                 142   \n",
              "5       Harry Potter and the Goblet of Fire (Book 4)                 137   \n",
              "6                                      The Dark Half                  70   \n",
              "7                                               1984                  61   \n",
              "8     Harry Potter and the Sorcerer's Stone (Book 1)                  90   \n",
              "9  The Fellowship of the Ring (The Lord of the Ri...                  97   \n",
              "\n",
              "                      Location  \n",
              "0  minneapolis, minnesota, usa  \n",
              "1  minneapolis, minnesota, usa  \n",
              "2  minneapolis, minnesota, usa  \n",
              "3  minneapolis, minnesota, usa  \n",
              "4  minneapolis, minnesota, usa  \n",
              "5  minneapolis, minnesota, usa  \n",
              "6  minneapolis, minnesota, usa  \n",
              "7  minneapolis, minnesota, usa  \n",
              "8  minneapolis, minnesota, usa  \n",
              "9  minneapolis, minnesota, usa  "
            ],
            "text/html": [
              "\n",
              "  <div id=\"df-5a918bd0-2b5a-4846-86e9-a486e9ea2af9\">\n",
              "    <div class=\"colab-df-container\">\n",
              "      <div>\n",
              "<style scoped>\n",
              "    .dataframe tbody tr th:only-of-type {\n",
              "        vertical-align: middle;\n",
              "    }\n",
              "\n",
              "    .dataframe tbody tr th {\n",
              "        vertical-align: top;\n",
              "    }\n",
              "\n",
              "    .dataframe thead th {\n",
              "        text-align: right;\n",
              "    }\n",
              "</style>\n",
              "<table border=\"1\" class=\"dataframe\">\n",
              "  <thead>\n",
              "    <tr style=\"text-align: right;\">\n",
              "      <th></th>\n",
              "      <th>User-ID</th>\n",
              "      <th>ISBN</th>\n",
              "      <th>Book-Rating</th>\n",
              "      <th>Book-Title</th>\n",
              "      <th>Total Rating Count</th>\n",
              "      <th>Location</th>\n",
              "    </tr>\n",
              "  </thead>\n",
              "  <tbody>\n",
              "    <tr>\n",
              "      <th>0</th>\n",
              "      <td>254</td>\n",
              "      <td>0142001740</td>\n",
              "      <td>9</td>\n",
              "      <td>The Secret Life of Bees</td>\n",
              "      <td>221</td>\n",
              "      <td>minneapolis, minnesota, usa</td>\n",
              "    </tr>\n",
              "    <tr>\n",
              "      <th>1</th>\n",
              "      <td>254</td>\n",
              "      <td>0439064872</td>\n",
              "      <td>9</td>\n",
              "      <td>Harry Potter and the Chamber of Secrets (Book 2)</td>\n",
              "      <td>177</td>\n",
              "      <td>minneapolis, minnesota, usa</td>\n",
              "    </tr>\n",
              "    <tr>\n",
              "      <th>2</th>\n",
              "      <td>254</td>\n",
              "      <td>0439136369</td>\n",
              "      <td>9</td>\n",
              "      <td>Harry Potter and the Prisoner of Azkaban (Book 3)</td>\n",
              "      <td>147</td>\n",
              "      <td>minneapolis, minnesota, usa</td>\n",
              "    </tr>\n",
              "    <tr>\n",
              "      <th>3</th>\n",
              "      <td>254</td>\n",
              "      <td>0380789035</td>\n",
              "      <td>10</td>\n",
              "      <td>American Gods</td>\n",
              "      <td>102</td>\n",
              "      <td>minneapolis, minnesota, usa</td>\n",
              "    </tr>\n",
              "    <tr>\n",
              "      <th>4</th>\n",
              "      <td>254</td>\n",
              "      <td>0399146431</td>\n",
              "      <td>9</td>\n",
              "      <td>The Bonesetter's Daughter</td>\n",
              "      <td>142</td>\n",
              "      <td>minneapolis, minnesota, usa</td>\n",
              "    </tr>\n",
              "    <tr>\n",
              "      <th>5</th>\n",
              "      <td>254</td>\n",
              "      <td>0439139597</td>\n",
              "      <td>9</td>\n",
              "      <td>Harry Potter and the Goblet of Fire (Book 4)</td>\n",
              "      <td>137</td>\n",
              "      <td>minneapolis, minnesota, usa</td>\n",
              "    </tr>\n",
              "    <tr>\n",
              "      <th>6</th>\n",
              "      <td>254</td>\n",
              "      <td>0451167317</td>\n",
              "      <td>8</td>\n",
              "      <td>The Dark Half</td>\n",
              "      <td>70</td>\n",
              "      <td>minneapolis, minnesota, usa</td>\n",
              "    </tr>\n",
              "    <tr>\n",
              "      <th>7</th>\n",
              "      <td>254</td>\n",
              "      <td>0451524934</td>\n",
              "      <td>9</td>\n",
              "      <td>1984</td>\n",
              "      <td>61</td>\n",
              "      <td>minneapolis, minnesota, usa</td>\n",
              "    </tr>\n",
              "    <tr>\n",
              "      <th>8</th>\n",
              "      <td>254</td>\n",
              "      <td>0590353403</td>\n",
              "      <td>9</td>\n",
              "      <td>Harry Potter and the Sorcerer's Stone (Book 1)</td>\n",
              "      <td>90</td>\n",
              "      <td>minneapolis, minnesota, usa</td>\n",
              "    </tr>\n",
              "    <tr>\n",
              "      <th>9</th>\n",
              "      <td>254</td>\n",
              "      <td>0618002227</td>\n",
              "      <td>8</td>\n",
              "      <td>The Fellowship of the Ring (The Lord of the Ri...</td>\n",
              "      <td>97</td>\n",
              "      <td>minneapolis, minnesota, usa</td>\n",
              "    </tr>\n",
              "  </tbody>\n",
              "</table>\n",
              "</div>\n",
              "      <button class=\"colab-df-convert\" onclick=\"convertToInteractive('df-5a918bd0-2b5a-4846-86e9-a486e9ea2af9')\"\n",
              "              title=\"Convert this dataframe to an interactive table.\"\n",
              "              style=\"display:none;\">\n",
              "        \n",
              "  <svg xmlns=\"http://www.w3.org/2000/svg\" height=\"24px\"viewBox=\"0 0 24 24\"\n",
              "       width=\"24px\">\n",
              "    <path d=\"M0 0h24v24H0V0z\" fill=\"none\"/>\n",
              "    <path d=\"M18.56 5.44l.94 2.06.94-2.06 2.06-.94-2.06-.94-.94-2.06-.94 2.06-2.06.94zm-11 1L8.5 8.5l.94-2.06 2.06-.94-2.06-.94L8.5 2.5l-.94 2.06-2.06.94zm10 10l.94 2.06.94-2.06 2.06-.94-2.06-.94-.94-2.06-.94 2.06-2.06.94z\"/><path d=\"M17.41 7.96l-1.37-1.37c-.4-.4-.92-.59-1.43-.59-.52 0-1.04.2-1.43.59L10.3 9.45l-7.72 7.72c-.78.78-.78 2.05 0 2.83L4 21.41c.39.39.9.59 1.41.59.51 0 1.02-.2 1.41-.59l7.78-7.78 2.81-2.81c.8-.78.8-2.07 0-2.86zM5.41 20L4 18.59l7.72-7.72 1.47 1.35L5.41 20z\"/>\n",
              "  </svg>\n",
              "      </button>\n",
              "      \n",
              "  <style>\n",
              "    .colab-df-container {\n",
              "      display:flex;\n",
              "      flex-wrap:wrap;\n",
              "      gap: 12px;\n",
              "    }\n",
              "\n",
              "    .colab-df-convert {\n",
              "      background-color: #E8F0FE;\n",
              "      border: none;\n",
              "      border-radius: 50%;\n",
              "      cursor: pointer;\n",
              "      display: none;\n",
              "      fill: #1967D2;\n",
              "      height: 32px;\n",
              "      padding: 0 0 0 0;\n",
              "      width: 32px;\n",
              "    }\n",
              "\n",
              "    .colab-df-convert:hover {\n",
              "      background-color: #E2EBFA;\n",
              "      box-shadow: 0px 1px 2px rgba(60, 64, 67, 0.3), 0px 1px 3px 1px rgba(60, 64, 67, 0.15);\n",
              "      fill: #174EA6;\n",
              "    }\n",
              "\n",
              "    [theme=dark] .colab-df-convert {\n",
              "      background-color: #3B4455;\n",
              "      fill: #D2E3FC;\n",
              "    }\n",
              "\n",
              "    [theme=dark] .colab-df-convert:hover {\n",
              "      background-color: #434B5C;\n",
              "      box-shadow: 0px 1px 3px 1px rgba(0, 0, 0, 0.15);\n",
              "      filter: drop-shadow(0px 1px 2px rgba(0, 0, 0, 0.3));\n",
              "      fill: #FFFFFF;\n",
              "    }\n",
              "  </style>\n",
              "\n",
              "      <script>\n",
              "        const buttonEl =\n",
              "          document.querySelector('#df-5a918bd0-2b5a-4846-86e9-a486e9ea2af9 button.colab-df-convert');\n",
              "        buttonEl.style.display =\n",
              "          google.colab.kernel.accessAllowed ? 'block' : 'none';\n",
              "\n",
              "        async function convertToInteractive(key) {\n",
              "          const element = document.querySelector('#df-5a918bd0-2b5a-4846-86e9-a486e9ea2af9');\n",
              "          const dataTable =\n",
              "            await google.colab.kernel.invokeFunction('convertToInteractive',\n",
              "                                                     [key], {});\n",
              "          if (!dataTable) return;\n",
              "\n",
              "          const docLinkHtml = 'Like what you see? Visit the ' +\n",
              "            '<a target=\"_blank\" href=https://colab.research.google.com/notebooks/data_table.ipynb>data table notebook</a>'\n",
              "            + ' to learn more about interactive tables.';\n",
              "          element.innerHTML = '';\n",
              "          dataTable['output_type'] = 'display_data';\n",
              "          await google.colab.output.renderOutput(dataTable, element);\n",
              "          const docLink = document.createElement('div');\n",
              "          docLink.innerHTML = docLinkHtml;\n",
              "          element.appendChild(docLink);\n",
              "        }\n",
              "      </script>\n",
              "    </div>\n",
              "  </div>\n",
              "  "
            ]
          },
          "metadata": {},
          "execution_count": 270
        }
      ]
    },
    {
      "cell_type": "code",
      "source": [
        "# Before log transformation\n",
        "plt.figure(figsize=(8, 5))\n",
        "sns.histplot(interactions_from_selected_users_df.groupby(['ISBN', 'User-ID'])['Book-Rating'].sum(), kde=True)\n",
        "plt.show()"
      ],
      "metadata": {
        "colab": {
          "base_uri": "https://localhost:8080/",
          "height": 334
        },
        "id": "HGCiyAHTDQMO",
        "outputId": "6c4d4e60-c2db-4381-c8e1-766479555477"
      },
      "execution_count": null,
      "outputs": [
        {
          "output_type": "display_data",
          "data": {
            "text/plain": [
              "<Figure size 576x360 with 1 Axes>"
            ],
            "image/png": "[encoded data removed]"
          },
          "metadata": {
            "needs_background": "light"
          }
        }
      ]
    },
    {
      "cell_type": "markdown",
      "source": [
        "Applying log transformation."
      ],
      "metadata": {
        "id": "OG4HzqWCEHT1"
      }
    },
    {
      "cell_type": "code",
      "source": [
        "import math\n",
        "def smooth_user_preference(x):\n",
        "    return math.log(1+x, 2)\n",
        "    \n",
        "interactions_full_df = interactions_from_selected_users_df.groupby(['ISBN', 'User-ID'])['Book-Rating'].sum().apply(smooth_user_preference).reset_index()\n",
        "print('Number of unique user/item interactions: %d' % len(interactions_full_df))\n",
        "interactions_full_df.head()"
      ],
      "metadata": {
        "colab": {
          "base_uri": "https://localhost:8080/",
          "height": 223
        },
        "id": "PpaFyoU6EFlR",
        "outputId": "a9dd8b45-75df-4b91-ac0a-6d7e7fcd06bb"
      },
      "execution_count": null,
      "outputs": [
        {
          "output_type": "stream",
          "name": "stdout",
          "text": [
            "Number of unique user/item interactions: 10056\n"
          ]
        },
        {
          "output_type": "execute_result",
          "data": {
            "text/plain": [
              "         ISBN  User-ID  Book-Rating\n",
              "0  002542730X    12538     3.459432\n",
              "1  002542730X    41084     3.000000\n",
              "2  002542730X    52584     3.459432\n",
              "3  002542730X   110934     2.807355\n",
              "4  002542730X   113270     2.584963"
            ],
            "text/html": [
              "\n",
              "  <div id=\"df-788fb7f9-2e1d-4454-b04c-8512dbeaae0c\">\n",
              "    <div class=\"colab-df-container\">\n",
              "      <div>\n",
              "<style scoped>\n",
              "    .dataframe tbody tr th:only-of-type {\n",
              "        vertical-align: middle;\n",
              "    }\n",
              "\n",
              "    .dataframe tbody tr th {\n",
              "        vertical-align: top;\n",
              "    }\n",
              "\n",
              "    .dataframe thead th {\n",
              "        text-align: right;\n",
              "    }\n",
              "</style>\n",
              "<table border=\"1\" class=\"dataframe\">\n",
              "  <thead>\n",
              "    <tr style=\"text-align: right;\">\n",
              "      <th></th>\n",
              "      <th>ISBN</th>\n",
              "      <th>User-ID</th>\n",
              "      <th>Book-Rating</th>\n",
              "    </tr>\n",
              "  </thead>\n",
              "  <tbody>\n",
              "    <tr>\n",
              "      <th>0</th>\n",
              "      <td>002542730X</td>\n",
              "      <td>12538</td>\n",
              "      <td>3.459432</td>\n",
              "    </tr>\n",
              "    <tr>\n",
              "      <th>1</th>\n",
              "      <td>002542730X</td>\n",
              "      <td>41084</td>\n",
              "      <td>3.000000</td>\n",
              "    </tr>\n",
              "    <tr>\n",
              "      <th>2</th>\n",
              "      <td>002542730X</td>\n",
              "      <td>52584</td>\n",
              "      <td>3.459432</td>\n",
              "    </tr>\n",
              "    <tr>\n",
              "      <th>3</th>\n",
              "      <td>002542730X</td>\n",
              "      <td>110934</td>\n",
              "      <td>2.807355</td>\n",
              "    </tr>\n",
              "    <tr>\n",
              "      <th>4</th>\n",
              "      <td>002542730X</td>\n",
              "      <td>113270</td>\n",
              "      <td>2.584963</td>\n",
              "    </tr>\n",
              "  </tbody>\n",
              "</table>\n",
              "</div>\n",
              "      <button class=\"colab-df-convert\" onclick=\"convertToInteractive('df-788fb7f9-2e1d-4454-b04c-8512dbeaae0c')\"\n",
              "              title=\"Convert this dataframe to an interactive table.\"\n",
              "              style=\"display:none;\">\n",
              "        \n",
              "  <svg xmlns=\"http://www.w3.org/2000/svg\" height=\"24px\"viewBox=\"0 0 24 24\"\n",
              "       width=\"24px\">\n",
              "    <path d=\"M0 0h24v24H0V0z\" fill=\"none\"/>\n",
              "    <path d=\"M18.56 5.44l.94 2.06.94-2.06 2.06-.94-2.06-.94-.94-2.06-.94 2.06-2.06.94zm-11 1L8.5 8.5l.94-2.06 2.06-.94-2.06-.94L8.5 2.5l-.94 2.06-2.06.94zm10 10l.94 2.06.94-2.06 2.06-.94-2.06-.94-.94-2.06-.94 2.06-2.06.94z\"/><path d=\"M17.41 7.96l-1.37-1.37c-.4-.4-.92-.59-1.43-.59-.52 0-1.04.2-1.43.59L10.3 9.45l-7.72 7.72c-.78.78-.78 2.05 0 2.83L4 21.41c.39.39.9.59 1.41.59.51 0 1.02-.2 1.41-.59l7.78-7.78 2.81-2.81c.8-.78.8-2.07 0-2.86zM5.41 20L4 18.59l7.72-7.72 1.47 1.35L5.41 20z\"/>\n",
              "  </svg>\n",
              "      </button>\n",
              "      \n",
              "  <style>\n",
              "    .colab-df-container {\n",
              "      display:flex;\n",
              "      flex-wrap:wrap;\n",
              "      gap: 12px;\n",
              "    }\n",
              "\n",
              "    .colab-df-convert {\n",
              "      background-color: #E8F0FE;\n",
              "      border: none;\n",
              "      border-radius: 50%;\n",
              "      cursor: pointer;\n",
              "      display: none;\n",
              "      fill: #1967D2;\n",
              "      height: 32px;\n",
              "      padding: 0 0 0 0;\n",
              "      width: 32px;\n",
              "    }\n",
              "\n",
              "    .colab-df-convert:hover {\n",
              "      background-color: #E2EBFA;\n",
              "      box-shadow: 0px 1px 2px rgba(60, 64, 67, 0.3), 0px 1px 3px 1px rgba(60, 64, 67, 0.15);\n",
              "      fill: #174EA6;\n",
              "    }\n",
              "\n",
              "    [theme=dark] .colab-df-convert {\n",
              "      background-color: #3B4455;\n",
              "      fill: #D2E3FC;\n",
              "    }\n",
              "\n",
              "    [theme=dark] .colab-df-convert:hover {\n",
              "      background-color: #434B5C;\n",
              "      box-shadow: 0px 1px 3px 1px rgba(0, 0, 0, 0.15);\n",
              "      filter: drop-shadow(0px 1px 2px rgba(0, 0, 0, 0.3));\n",
              "      fill: #FFFFFF;\n",
              "    }\n",
              "  </style>\n",
              "\n",
              "      <script>\n",
              "        const buttonEl =\n",
              "          document.querySelector('#df-788fb7f9-2e1d-4454-b04c-8512dbeaae0c button.colab-df-convert');\n",
              "        buttonEl.style.display =\n",
              "          google.colab.kernel.accessAllowed ? 'block' : 'none';\n",
              "\n",
              "        async function convertToInteractive(key) {\n",
              "          const element = document.querySelector('#df-788fb7f9-2e1d-4454-b04c-8512dbeaae0c');\n",
              "          const dataTable =\n",
              "            await google.colab.kernel.invokeFunction('convertToInteractive',\n",
              "                                                     [key], {});\n",
              "          if (!dataTable) return;\n",
              "\n",
              "          const docLinkHtml = 'Like what you see? Visit the ' +\n",
              "            '<a target=\"_blank\" href=https://colab.research.google.com/notebooks/data_table.ipynb>data table notebook</a>'\n",
              "            + ' to learn more about interactive tables.';\n",
              "          element.innerHTML = '';\n",
              "          dataTable['output_type'] = 'display_data';\n",
              "          await google.colab.output.renderOutput(dataTable, element);\n",
              "          const docLink = document.createElement('div');\n",
              "          docLink.innerHTML = docLinkHtml;\n",
              "          element.appendChild(docLink);\n",
              "        }\n",
              "      </script>\n",
              "    </div>\n",
              "  </div>\n",
              "  "
            ]
          },
          "metadata": {},
          "execution_count": 272
        }
      ]
    },
    {
      "cell_type": "code",
      "source": [
        "## Plot after log transformation\n",
        "plt.figure(figsize=(8, 5))\n",
        "sns.histplot(interactions_from_selected_users_df.groupby(['ISBN', 'User-ID'])['Book-Rating'].sum(), kde=True)\n",
        "plt.show()"
      ],
      "metadata": {
        "colab": {
          "base_uri": "https://localhost:8080/",
          "height": 334
        },
        "id": "HfPDWbpCEdyJ",
        "outputId": "2e82bdc5-7079-4f48-bb3a-ab0f20f66b27"
      },
      "execution_count": null,
      "outputs": [
        {
          "output_type": "display_data",
          "data": {
            "text/plain": [
              "<Figure size 576x360 with 1 Axes>"
            ],
            "image/png": "[encoded data removed]"
          },
          "metadata": {
            "needs_background": "light"
          }
        }
      ]
    },
    {
      "cell_type": "markdown",
      "source": [
        "Splitting dataset into train-test split."
      ],
      "metadata": {
        "id": "CNjFHd8xavkT"
      }
    },
    {
      "cell_type": "code",
      "source": [
        "from sklearn.model_selection import train_test_split\n",
        "\n",
        "\n",
        "train_df, test_df = train_test_split(interactions_full_df,\n",
        "                                     stratify = interactions_full_df['User-ID'],\n",
        "                                     test_size = 0.20,\n",
        "                                     random_state = 0\n",
        "                                     )\n",
        "\n",
        "print('Number of Train set: %d' % len(train_df))\n",
        "print('Number of Test set: %d' % len(test_df))"
      ],
      "metadata": {
        "colab": {
          "base_uri": "https://localhost:8080/"
        },
        "id": "3KSCWnm1aXPU",
        "outputId": "b597ecee-c8f6-4c22-ffdf-af810d04f0c8"
      },
      "execution_count": null,
      "outputs": [
        {
          "output_type": "stream",
          "name": "stdout",
          "text": [
            "Number of Train set: 8044\n",
            "Number of Test set: 2012\n"
          ]
        }
      ]
    },
    {
      "cell_type": "code",
      "source": [
        "train_df.head()"
      ],
      "metadata": {
        "colab": {
          "base_uri": "https://localhost:8080/",
          "height": 206
        },
        "id": "botbX9TIbkAO",
        "outputId": "69d91201-d8ec-414e-c71b-4f990366e6e0"
      },
      "execution_count": null,
      "outputs": [
        {
          "output_type": "execute_result",
          "data": {
            "text/plain": [
              "            ISBN  User-ID  Book-Rating\n",
              "7817  0553573136   261829     3.169925\n",
              "3     002542730X   110934     2.807355\n",
              "6597  0451142934   126492     3.000000\n",
              "4959  0440213525   240567     3.169925\n",
              "7822  0553574574   200226     2.584963"
            ],
            "text/html": [
              "\n",
              "  <div id=\"df-46a88d2e-5c5f-4859-84c0-6b1c5acf0ba6\">\n",
              "    <div class=\"colab-df-container\">\n",
              "      <div>\n",
              "<style scoped>\n",
              "    .dataframe tbody tr th:only-of-type {\n",
              "        vertical-align: middle;\n",
              "    }\n",
              "\n",
              "    .dataframe tbody tr th {\n",
              "        vertical-align: top;\n",
              "    }\n",
              "\n",
              "    .dataframe thead th {\n",
              "        text-align: right;\n",
              "    }\n",
              "</style>\n",
              "<table border=\"1\" class=\"dataframe\">\n",
              "  <thead>\n",
              "    <tr style=\"text-align: right;\">\n",
              "      <th></th>\n",
              "      <th>ISBN</th>\n",
              "      <th>User-ID</th>\n",
              "      <th>Book-Rating</th>\n",
              "    </tr>\n",
              "  </thead>\n",
              "  <tbody>\n",
              "    <tr>\n",
              "      <th>7817</th>\n",
              "      <td>0553573136</td>\n",
              "      <td>261829</td>\n",
              "      <td>3.169925</td>\n",
              "    </tr>\n",
              "    <tr>\n",
              "      <th>3</th>\n",
              "      <td>002542730X</td>\n",
              "      <td>110934</td>\n",
              "      <td>2.807355</td>\n",
              "    </tr>\n",
              "    <tr>\n",
              "      <th>6597</th>\n",
              "      <td>0451142934</td>\n",
              "      <td>126492</td>\n",
              "      <td>3.000000</td>\n",
              "    </tr>\n",
              "    <tr>\n",
              "      <th>4959</th>\n",
              "      <td>0440213525</td>\n",
              "      <td>240567</td>\n",
              "      <td>3.169925</td>\n",
              "    </tr>\n",
              "    <tr>\n",
              "      <th>7822</th>\n",
              "      <td>0553574574</td>\n",
              "      <td>200226</td>\n",
              "      <td>2.584963</td>\n",
              "    </tr>\n",
              "  </tbody>\n",
              "</table>\n",
              "</div>\n",
              "      <button class=\"colab-df-convert\" onclick=\"convertToInteractive('df-46a88d2e-5c5f-4859-84c0-6b1c5acf0ba6')\"\n",
              "              title=\"Convert this dataframe to an interactive table.\"\n",
              "              style=\"display:none;\">\n",
              "        \n",
              "  <svg xmlns=\"http://www.w3.org/2000/svg\" height=\"24px\"viewBox=\"0 0 24 24\"\n",
              "       width=\"24px\">\n",
              "    <path d=\"M0 0h24v24H0V0z\" fill=\"none\"/>\n",
              "    <path d=\"M18.56 5.44l.94 2.06.94-2.06 2.06-.94-2.06-.94-.94-2.06-.94 2.06-2.06.94zm-11 1L8.5 8.5l.94-2.06 2.06-.94-2.06-.94L8.5 2.5l-.94 2.06-2.06.94zm10 10l.94 2.06.94-2.06 2.06-.94-2.06-.94-.94-2.06-.94 2.06-2.06.94z\"/><path d=\"M17.41 7.96l-1.37-1.37c-.4-.4-.92-.59-1.43-.59-.52 0-1.04.2-1.43.59L10.3 9.45l-7.72 7.72c-.78.78-.78 2.05 0 2.83L4 21.41c.39.39.9.59 1.41.59.51 0 1.02-.2 1.41-.59l7.78-7.78 2.81-2.81c.8-.78.8-2.07 0-2.86zM5.41 20L4 18.59l7.72-7.72 1.47 1.35L5.41 20z\"/>\n",
              "  </svg>\n",
              "      </button>\n",
              "      \n",
              "  <style>\n",
              "    .colab-df-container {\n",
              "      display:flex;\n",
              "      flex-wrap:wrap;\n",
              "      gap: 12px;\n",
              "    }\n",
              "\n",
              "    .colab-df-convert {\n",
              "      background-color: #E8F0FE;\n",
              "      border: none;\n",
              "      border-radius: 50%;\n",
              "      cursor: pointer;\n",
              "      display: none;\n",
              "      fill: #1967D2;\n",
              "      height: 32px;\n",
              "      padding: 0 0 0 0;\n",
              "      width: 32px;\n",
              "    }\n",
              "\n",
              "    .colab-df-convert:hover {\n",
              "      background-color: #E2EBFA;\n",
              "      box-shadow: 0px 1px 2px rgba(60, 64, 67, 0.3), 0px 1px 3px 1px rgba(60, 64, 67, 0.15);\n",
              "      fill: #174EA6;\n",
              "    }\n",
              "\n",
              "    [theme=dark] .colab-df-convert {\n",
              "      background-color: #3B4455;\n",
              "      fill: #D2E3FC;\n",
              "    }\n",
              "\n",
              "    [theme=dark] .colab-df-convert:hover {\n",
              "      background-color: #434B5C;\n",
              "      box-shadow: 0px 1px 3px 1px rgba(0, 0, 0, 0.15);\n",
              "      filter: drop-shadow(0px 1px 2px rgba(0, 0, 0, 0.3));\n",
              "      fill: #FFFFFF;\n",
              "    }\n",
              "  </style>\n",
              "\n",
              "      <script>\n",
              "        const buttonEl =\n",
              "          document.querySelector('#df-46a88d2e-5c5f-4859-84c0-6b1c5acf0ba6 button.colab-df-convert');\n",
              "        buttonEl.style.display =\n",
              "          google.colab.kernel.accessAllowed ? 'block' : 'none';\n",
              "\n",
              "        async function convertToInteractive(key) {\n",
              "          const element = document.querySelector('#df-46a88d2e-5c5f-4859-84c0-6b1c5acf0ba6');\n",
              "          const dataTable =\n",
              "            await google.colab.kernel.invokeFunction('convertToInteractive',\n",
              "                                                     [key], {});\n",
              "          if (!dataTable) return;\n",
              "\n",
              "          const docLinkHtml = 'Like what you see? Visit the ' +\n",
              "            '<a target=\"_blank\" href=https://colab.research.google.com/notebooks/data_table.ipynb>data table notebook</a>'\n",
              "            + ' to learn more about interactive tables.';\n",
              "          element.innerHTML = '';\n",
              "          dataTable['output_type'] = 'display_data';\n",
              "          await google.colab.output.renderOutput(dataTable, element);\n",
              "          const docLink = document.createElement('div');\n",
              "          docLink.innerHTML = docLinkHtml;\n",
              "          element.appendChild(docLink);\n",
              "        }\n",
              "      </script>\n",
              "    </div>\n",
              "  </div>\n",
              "  "
            ]
          },
          "metadata": {},
          "execution_count": 275
        }
      ]
    },
    {
      "cell_type": "code",
      "source": [
        "test_df.head()"
      ],
      "metadata": {
        "colab": {
          "base_uri": "https://localhost:8080/",
          "height": 206
        },
        "id": "9AwKAHS8bn7-",
        "outputId": "af241297-2352-4d76-e39a-69e31eb24e67"
      },
      "execution_count": null,
      "outputs": [
        {
          "output_type": "execute_result",
          "data": {
            "text/plain": [
              "            ISBN  User-ID  Book-Rating\n",
              "5954  0446605484   232945     3.169925\n",
              "9369  0767902521   216466     3.169925\n",
              "9544  0804106304    69971     3.169925\n",
              "6922  0451524934    23872     3.000000\n",
              "6892  0451203771    30533     2.807355"
            ],
            "text/html": [
              "\n",
              "  <div id=\"df-4ed466e3-8c10-40ad-9c2f-a5146bbff61b\">\n",
              "    <div class=\"colab-df-container\">\n",
              "      <div>\n",
              "<style scoped>\n",
              "    .dataframe tbody tr th:only-of-type {\n",
              "        vertical-align: middle;\n",
              "    }\n",
              "\n",
              "    .dataframe tbody tr th {\n",
              "        vertical-align: top;\n",
              "    }\n",
              "\n",
              "    .dataframe thead th {\n",
              "        text-align: right;\n",
              "    }\n",
              "</style>\n",
              "<table border=\"1\" class=\"dataframe\">\n",
              "  <thead>\n",
              "    <tr style=\"text-align: right;\">\n",
              "      <th></th>\n",
              "      <th>ISBN</th>\n",
              "      <th>User-ID</th>\n",
              "      <th>Book-Rating</th>\n",
              "    </tr>\n",
              "  </thead>\n",
              "  <tbody>\n",
              "    <tr>\n",
              "      <th>5954</th>\n",
              "      <td>0446605484</td>\n",
              "      <td>232945</td>\n",
              "      <td>3.169925</td>\n",
              "    </tr>\n",
              "    <tr>\n",
              "      <th>9369</th>\n",
              "      <td>0767902521</td>\n",
              "      <td>216466</td>\n",
              "      <td>3.169925</td>\n",
              "    </tr>\n",
              "    <tr>\n",
              "      <th>9544</th>\n",
              "      <td>0804106304</td>\n",
              "      <td>69971</td>\n",
              "      <td>3.169925</td>\n",
              "    </tr>\n",
              "    <tr>\n",
              "      <th>6922</th>\n",
              "      <td>0451524934</td>\n",
              "      <td>23872</td>\n",
              "      <td>3.000000</td>\n",
              "    </tr>\n",
              "    <tr>\n",
              "      <th>6892</th>\n",
              "      <td>0451203771</td>\n",
              "      <td>30533</td>\n",
              "      <td>2.807355</td>\n",
              "    </tr>\n",
              "  </tbody>\n",
              "</table>\n",
              "</div>\n",
              "      <button class=\"colab-df-convert\" onclick=\"convertToInteractive('df-4ed466e3-8c10-40ad-9c2f-a5146bbff61b')\"\n",
              "              title=\"Convert this dataframe to an interactive table.\"\n",
              "              style=\"display:none;\">\n",
              "        \n",
              "  <svg xmlns=\"http://www.w3.org/2000/svg\" height=\"24px\"viewBox=\"0 0 24 24\"\n",
              "       width=\"24px\">\n",
              "    <path d=\"M0 0h24v24H0V0z\" fill=\"none\"/>\n",
              "    <path d=\"M18.56 5.44l.94 2.06.94-2.06 2.06-.94-2.06-.94-.94-2.06-.94 2.06-2.06.94zm-11 1L8.5 8.5l.94-2.06 2.06-.94-2.06-.94L8.5 2.5l-.94 2.06-2.06.94zm10 10l.94 2.06.94-2.06 2.06-.94-2.06-.94-.94-2.06-.94 2.06-2.06.94z\"/><path d=\"M17.41 7.96l-1.37-1.37c-.4-.4-.92-.59-1.43-.59-.52 0-1.04.2-1.43.59L10.3 9.45l-7.72 7.72c-.78.78-.78 2.05 0 2.83L4 21.41c.39.39.9.59 1.41.59.51 0 1.02-.2 1.41-.59l7.78-7.78 2.81-2.81c.8-.78.8-2.07 0-2.86zM5.41 20L4 18.59l7.72-7.72 1.47 1.35L5.41 20z\"/>\n",
              "  </svg>\n",
              "      </button>\n",
              "      \n",
              "  <style>\n",
              "    .colab-df-container {\n",
              "      display:flex;\n",
              "      flex-wrap:wrap;\n",
              "      gap: 12px;\n",
              "    }\n",
              "\n",
              "    .colab-df-convert {\n",
              "      background-color: #E8F0FE;\n",
              "      border: none;\n",
              "      border-radius: 50%;\n",
              "      cursor: pointer;\n",
              "      display: none;\n",
              "      fill: #1967D2;\n",
              "      height: 32px;\n",
              "      padding: 0 0 0 0;\n",
              "      width: 32px;\n",
              "    }\n",
              "\n",
              "    .colab-df-convert:hover {\n",
              "      background-color: #E2EBFA;\n",
              "      box-shadow: 0px 1px 2px rgba(60, 64, 67, 0.3), 0px 1px 3px 1px rgba(60, 64, 67, 0.15);\n",
              "      fill: #174EA6;\n",
              "    }\n",
              "\n",
              "    [theme=dark] .colab-df-convert {\n",
              "      background-color: #3B4455;\n",
              "      fill: #D2E3FC;\n",
              "    }\n",
              "\n",
              "    [theme=dark] .colab-df-convert:hover {\n",
              "      background-color: #434B5C;\n",
              "      box-shadow: 0px 1px 3px 1px rgba(0, 0, 0, 0.15);\n",
              "      filter: drop-shadow(0px 1px 2px rgba(0, 0, 0, 0.3));\n",
              "      fill: #FFFFFF;\n",
              "    }\n",
              "  </style>\n",
              "\n",
              "      <script>\n",
              "        const buttonEl =\n",
              "          document.querySelector('#df-4ed466e3-8c10-40ad-9c2f-a5146bbff61b button.colab-df-convert');\n",
              "        buttonEl.style.display =\n",
              "          google.colab.kernel.accessAllowed ? 'block' : 'none';\n",
              "\n",
              "        async function convertToInteractive(key) {\n",
              "          const element = document.querySelector('#df-4ed466e3-8c10-40ad-9c2f-a5146bbff61b');\n",
              "          const dataTable =\n",
              "            await google.colab.kernel.invokeFunction('convertToInteractive',\n",
              "                                                     [key], {});\n",
              "          if (!dataTable) return;\n",
              "\n",
              "          const docLinkHtml = 'Like what you see? Visit the ' +\n",
              "            '<a target=\"_blank\" href=https://colab.research.google.com/notebooks/data_table.ipynb>data table notebook</a>'\n",
              "            + ' to learn more about interactive tables.';\n",
              "          element.innerHTML = '';\n",
              "          dataTable['output_type'] = 'display_data';\n",
              "          await google.colab.output.renderOutput(dataTable, element);\n",
              "          const docLink = document.createElement('div');\n",
              "          docLink.innerHTML = docLinkHtml;\n",
              "          element.appendChild(docLink);\n",
              "        }\n",
              "      </script>\n",
              "    </div>\n",
              "  </div>\n",
              "  "
            ]
          },
          "metadata": {},
          "execution_count": 276
        }
      ]
    },
    {
      "cell_type": "markdown",
      "source": [
        "Creating a sparse pivot table with users as rows and book as columns for train_df."
      ],
      "metadata": {
        "id": "y7AejcuicEtf"
      }
    },
    {
      "cell_type": "code",
      "source": [
        "user_items_pivot = train_df.pivot(index = 'User-ID',\n",
        "                                  columns = 'ISBN',\n",
        "                                  values = 'Book-Rating'\n",
        "                                  ).fillna(0)"
      ],
      "metadata": {
        "id": "9iw9WX7hcA7W"
      },
      "execution_count": null,
      "outputs": []
    },
    {
      "cell_type": "code",
      "source": [
        "user_items_pivot.head()"
      ],
      "metadata": {
        "colab": {
          "base_uri": "https://localhost:8080/",
          "height": 348
        },
        "id": "BlbuRwIqcvsQ",
        "outputId": "64152abe-3950-4769-bb06-a3557ebb4963"
      },
      "execution_count": null,
      "outputs": [
        {
          "output_type": "execute_result",
          "data": {
            "text/plain": [
              "ISBN     002542730X  0060008032  006001203X  0060168013  006016848X  \\\n",
              "User-ID                                                               \n",
              "254             0.0         0.0         0.0         0.0         0.0   \n",
              "2766            0.0         0.0         0.0         0.0         0.0   \n",
              "4017            0.0         0.0         0.0         0.0         0.0   \n",
              "6242            0.0         0.0         0.0         0.0         0.0   \n",
              "6251            0.0         0.0         0.0         0.0         0.0   \n",
              "\n",
              "ISBN     0060175400  0060198133  0060391626  0060392452  0060502258  ...  \\\n",
              "User-ID                                                              ...   \n",
              "254             0.0         0.0         0.0    0.000000         0.0  ...   \n",
              "2766            0.0         0.0         0.0    0.000000         0.0  ...   \n",
              "4017            0.0         0.0         0.0    0.000000         0.0  ...   \n",
              "6242            0.0         0.0         0.0    0.000000         0.0  ...   \n",
              "6251            0.0         0.0         0.0    3.459432         0.0  ...   \n",
              "\n",
              "ISBN     1558743669  1558744150  1558745157  1559029838  1573221937  \\\n",
              "User-ID                                                               \n",
              "254             0.0         0.0         0.0         0.0         0.0   \n",
              "2766            0.0         0.0         0.0         0.0         0.0   \n",
              "4017            0.0         0.0         0.0         0.0         0.0   \n",
              "6242            0.0         0.0         0.0         0.0         0.0   \n",
              "6251            0.0         0.0         0.0         0.0         0.0   \n",
              "\n",
              "ISBN     1573225517  1573225789  1573228214  1573229326  1592400876  \n",
              "User-ID                                                              \n",
              "254             0.0    0.000000    0.000000         0.0         0.0  \n",
              "2766            0.0    0.000000    0.000000         0.0         0.0  \n",
              "4017            0.0    3.321928    0.000000         0.0         0.0  \n",
              "6242            0.0    0.000000    2.807355         0.0         0.0  \n",
              "6251            0.0    0.000000    0.000000         0.0         0.0  \n",
              "\n",
              "[5 rows x 792 columns]"
            ],
            "text/html": [
              "\n",
              "  <div id=\"df-133a2fc6-d16f-42db-bc43-e11c7c4ed7f0\">\n",
              "    <div class=\"colab-df-container\">\n",
              "      <div>\n",
              "<style scoped>\n",
              "    .dataframe tbody tr th:only-of-type {\n",
              "        vertical-align: middle;\n",
              "    }\n",
              "\n",
              "    .dataframe tbody tr th {\n",
              "        vertical-align: top;\n",
              "    }\n",
              "\n",
              "    .dataframe thead th {\n",
              "        text-align: right;\n",
              "    }\n",
              "</style>\n",
              "<table border=\"1\" class=\"dataframe\">\n",
              "  <thead>\n",
              "    <tr style=\"text-align: right;\">\n",
              "      <th>ISBN</th>\n",
              "      <th>002542730X</th>\n",
              "      <th>0060008032</th>\n",
              "      <th>006001203X</th>\n",
              "      <th>0060168013</th>\n",
              "      <th>006016848X</th>\n",
              "      <th>0060175400</th>\n",
              "      <th>0060198133</th>\n",
              "      <th>0060391626</th>\n",
              "      <th>0060392452</th>\n",
              "      <th>0060502258</th>\n",
              "      <th>...</th>\n",
              "      <th>1558743669</th>\n",
              "      <th>1558744150</th>\n",
              "      <th>1558745157</th>\n",
              "      <th>1559029838</th>\n",
              "      <th>1573221937</th>\n",
              "      <th>1573225517</th>\n",
              "      <th>1573225789</th>\n",
              "      <th>1573228214</th>\n",
              "      <th>1573229326</th>\n",
              "      <th>1592400876</th>\n",
              "    </tr>\n",
              "    <tr>\n",
              "      <th>User-ID</th>\n",
              "      <th></th>\n",
              "      <th></th>\n",
              "      <th></th>\n",
              "      <th></th>\n",
              "      <th></th>\n",
              "      <th></th>\n",
              "      <th></th>\n",
              "      <th></th>\n",
              "      <th></th>\n",
              "      <th></th>\n",
              "      <th></th>\n",
              "      <th></th>\n",
              "      <th></th>\n",
              "      <th></th>\n",
              "      <th></th>\n",
              "      <th></th>\n",
              "      <th></th>\n",
              "      <th></th>\n",
              "      <th></th>\n",
              "      <th></th>\n",
              "      <th></th>\n",
              "    </tr>\n",
              "  </thead>\n",
              "  <tbody>\n",
              "    <tr>\n",
              "      <th>254</th>\n",
              "      <td>0.0</td>\n",
              "      <td>0.0</td>\n",
              "      <td>0.0</td>\n",
              "      <td>0.0</td>\n",
              "      <td>0.0</td>\n",
              "      <td>0.0</td>\n",
              "      <td>0.0</td>\n",
              "      <td>0.0</td>\n",
              "      <td>0.000000</td>\n",
              "      <td>0.0</td>\n",
              "      <td>...</td>\n",
              "      <td>0.0</td>\n",
              "      <td>0.0</td>\n",
              "      <td>0.0</td>\n",
              "      <td>0.0</td>\n",
              "      <td>0.0</td>\n",
              "      <td>0.0</td>\n",
              "      <td>0.000000</td>\n",
              "      <td>0.000000</td>\n",
              "      <td>0.0</td>\n",
              "      <td>0.0</td>\n",
              "    </tr>\n",
              "    <tr>\n",
              "      <th>2766</th>\n",
              "      <td>0.0</td>\n",
              "      <td>0.0</td>\n",
              "      <td>0.0</td>\n",
              "      <td>0.0</td>\n",
              "      <td>0.0</td>\n",
              "      <td>0.0</td>\n",
              "      <td>0.0</td>\n",
              "      <td>0.0</td>\n",
              "      <td>0.000000</td>\n",
              "      <td>0.0</td>\n",
              "      <td>...</td>\n",
              "      <td>0.0</td>\n",
              "      <td>0.0</td>\n",
              "      <td>0.0</td>\n",
              "      <td>0.0</td>\n",
              "      <td>0.0</td>\n",
              "      <td>0.0</td>\n",
              "      <td>0.000000</td>\n",
              "      <td>0.000000</td>\n",
              "      <td>0.0</td>\n",
              "      <td>0.0</td>\n",
              "    </tr>\n",
              "    <tr>\n",
              "      <th>4017</th>\n",
              "      <td>0.0</td>\n",
              "      <td>0.0</td>\n",
              "      <td>0.0</td>\n",
              "      <td>0.0</td>\n",
              "      <td>0.0</td>\n",
              "      <td>0.0</td>\n",
              "      <td>0.0</td>\n",
              "      <td>0.0</td>\n",
              "      <td>0.000000</td>\n",
              "      <td>0.0</td>\n",
              "      <td>...</td>\n",
              "      <td>0.0</td>\n",
              "      <td>0.0</td>\n",
              "      <td>0.0</td>\n",
              "      <td>0.0</td>\n",
              "      <td>0.0</td>\n",
              "      <td>0.0</td>\n",
              "      <td>3.321928</td>\n",
              "      <td>0.000000</td>\n",
              "      <td>0.0</td>\n",
              "      <td>0.0</td>\n",
              "    </tr>\n",
              "    <tr>\n",
              "      <th>6242</th>\n",
              "      <td>0.0</td>\n",
              "      <td>0.0</td>\n",
              "      <td>0.0</td>\n",
              "      <td>0.0</td>\n",
              "      <td>0.0</td>\n",
              "      <td>0.0</td>\n",
              "      <td>0.0</td>\n",
              "      <td>0.0</td>\n",
              "      <td>0.000000</td>\n",
              "      <td>0.0</td>\n",
              "      <td>...</td>\n",
              "      <td>0.0</td>\n",
              "      <td>0.0</td>\n",
              "      <td>0.0</td>\n",
              "      <td>0.0</td>\n",
              "      <td>0.0</td>\n",
              "      <td>0.0</td>\n",
              "      <td>0.000000</td>\n",
              "      <td>2.807355</td>\n",
              "      <td>0.0</td>\n",
              "      <td>0.0</td>\n",
              "    </tr>\n",
              "    <tr>\n",
              "      <th>6251</th>\n",
              "      <td>0.0</td>\n",
              "      <td>0.0</td>\n",
              "      <td>0.0</td>\n",
              "      <td>0.0</td>\n",
              "      <td>0.0</td>\n",
              "      <td>0.0</td>\n",
              "      <td>0.0</td>\n",
              "      <td>0.0</td>\n",
              "      <td>3.459432</td>\n",
              "      <td>0.0</td>\n",
              "      <td>...</td>\n",
              "      <td>0.0</td>\n",
              "      <td>0.0</td>\n",
              "      <td>0.0</td>\n",
              "      <td>0.0</td>\n",
              "      <td>0.0</td>\n",
              "      <td>0.0</td>\n",
              "      <td>0.000000</td>\n",
              "      <td>0.000000</td>\n",
              "      <td>0.0</td>\n",
              "      <td>0.0</td>\n",
              "    </tr>\n",
              "  </tbody>\n",
              "</table>\n",
              "<p>5 rows × 792 columns</p>\n",
              "</div>\n",
              "      <button class=\"colab-df-convert\" onclick=\"convertToInteractive('df-133a2fc6-d16f-42db-bc43-e11c7c4ed7f0')\"\n",
              "              title=\"Convert this dataframe to an interactive table.\"\n",
              "              style=\"display:none;\">\n",
              "        \n",
              "  <svg xmlns=\"http://www.w3.org/2000/svg\" height=\"24px\"viewBox=\"0 0 24 24\"\n",
              "       width=\"24px\">\n",
              "    <path d=\"M0 0h24v24H0V0z\" fill=\"none\"/>\n",
              "    <path d=\"M18.56 5.44l.94 2.06.94-2.06 2.06-.94-2.06-.94-.94-2.06-.94 2.06-2.06.94zm-11 1L8.5 8.5l.94-2.06 2.06-.94-2.06-.94L8.5 2.5l-.94 2.06-2.06.94zm10 10l.94 2.06.94-2.06 2.06-.94-2.06-.94-.94-2.06-.94 2.06-2.06.94z\"/><path d=\"M17.41 7.96l-1.37-1.37c-.4-.4-.92-.59-1.43-.59-.52 0-1.04.2-1.43.59L10.3 9.45l-7.72 7.72c-.78.78-.78 2.05 0 2.83L4 21.41c.39.39.9.59 1.41.59.51 0 1.02-.2 1.41-.59l7.78-7.78 2.81-2.81c.8-.78.8-2.07 0-2.86zM5.41 20L4 18.59l7.72-7.72 1.47 1.35L5.41 20z\"/>\n",
              "  </svg>\n",
              "      </button>\n",
              "      \n",
              "  <style>\n",
              "    .colab-df-container {\n",
              "      display:flex;\n",
              "      flex-wrap:wrap;\n",
              "      gap: 12px;\n",
              "    }\n",
              "\n",
              "    .colab-df-convert {\n",
              "      background-color: #E8F0FE;\n",
              "      border: none;\n",
              "      border-radius: 50%;\n",
              "      cursor: pointer;\n",
              "      display: none;\n",
              "      fill: #1967D2;\n",
              "      height: 32px;\n",
              "      padding: 0 0 0 0;\n",
              "      width: 32px;\n",
              "    }\n",
              "\n",
              "    .colab-df-convert:hover {\n",
              "      background-color: #E2EBFA;\n",
              "      box-shadow: 0px 1px 2px rgba(60, 64, 67, 0.3), 0px 1px 3px 1px rgba(60, 64, 67, 0.15);\n",
              "      fill: #174EA6;\n",
              "    }\n",
              "\n",
              "    [theme=dark] .colab-df-convert {\n",
              "      background-color: #3B4455;\n",
              "      fill: #D2E3FC;\n",
              "    }\n",
              "\n",
              "    [theme=dark] .colab-df-convert:hover {\n",
              "      background-color: #434B5C;\n",
              "      box-shadow: 0px 1px 3px 1px rgba(0, 0, 0, 0.15);\n",
              "      filter: drop-shadow(0px 1px 2px rgba(0, 0, 0, 0.3));\n",
              "      fill: #FFFFFF;\n",
              "    }\n",
              "  </style>\n",
              "\n",
              "      <script>\n",
              "        const buttonEl =\n",
              "          document.querySelector('#df-133a2fc6-d16f-42db-bc43-e11c7c4ed7f0 button.colab-df-convert');\n",
              "        buttonEl.style.display =\n",
              "          google.colab.kernel.accessAllowed ? 'block' : 'none';\n",
              "\n",
              "        async function convertToInteractive(key) {\n",
              "          const element = document.querySelector('#df-133a2fc6-d16f-42db-bc43-e11c7c4ed7f0');\n",
              "          const dataTable =\n",
              "            await google.colab.kernel.invokeFunction('convertToInteractive',\n",
              "                                                     [key], {});\n",
              "          if (!dataTable) return;\n",
              "\n",
              "          const docLinkHtml = 'Like what you see? Visit the ' +\n",
              "            '<a target=\"_blank\" href=https://colab.research.google.com/notebooks/data_table.ipynb>data table notebook</a>'\n",
              "            + ' to learn more about interactive tables.';\n",
              "          element.innerHTML = '';\n",
              "          dataTable['output_type'] = 'display_data';\n",
              "          await google.colab.output.renderOutput(dataTable, element);\n",
              "          const docLink = document.createElement('div');\n",
              "          docLink.innerHTML = docLinkHtml;\n",
              "          element.appendChild(docLink);\n",
              "        }\n",
              "      </script>\n",
              "    </div>\n",
              "  </div>\n",
              "  "
            ]
          },
          "metadata": {},
          "execution_count": 278
        }
      ]
    },
    {
      "cell_type": "code",
      "source": [
        "user_ids = list(user_items_pivot.index)\n",
        "user_ids[:10]"
      ],
      "metadata": {
        "colab": {
          "base_uri": "https://localhost:8080/"
        },
        "id": "s_sMwfpWzD8f",
        "outputId": "907cdf21-9446-4c2d-87dd-249e51db8b43"
      },
      "execution_count": null,
      "outputs": [
        {
          "output_type": "execute_result",
          "data": {
            "text/plain": [
              "[254, 2766, 4017, 6242, 6251, 6543, 6563, 6575, 7158, 7346]"
            ]
          },
          "metadata": {},
          "execution_count": 279
        }
      ]
    },
    {
      "cell_type": "markdown",
      "source": [
        "Creating a sparse matrix of pivot created above."
      ],
      "metadata": {
        "id": "c2jUI4kYrBPq"
      }
    },
    {
      "cell_type": "code",
      "source": [
        "user_items_matrix = user_items_pivot.values"
      ],
      "metadata": {
        "id": "rPjHQ35ycyGi"
      },
      "execution_count": null,
      "outputs": []
    },
    {
      "cell_type": "code",
      "source": [
        "user_items_matrix"
      ],
      "metadata": {
        "colab": {
          "base_uri": "https://localhost:8080/"
        },
        "id": "a424R1sBrQET",
        "outputId": "90c2fff9-7ceb-4b96-e5f3-04f1738933d2"
      },
      "execution_count": null,
      "outputs": [
        {
          "output_type": "execute_result",
          "data": {
            "text/plain": [
              "array([[0., 0., 0., ..., 0., 0., 0.],\n",
              "       [0., 0., 0., ..., 0., 0., 0.],\n",
              "       [0., 0., 0., ..., 0., 0., 0.],\n",
              "       ...,\n",
              "       [0., 0., 0., ..., 0., 0., 0.],\n",
              "       [0., 0., 0., ..., 0., 0., 0.],\n",
              "       [0., 0., 0., ..., 0., 0., 0.]])"
            ]
          },
          "metadata": {},
          "execution_count": 281
        }
      ]
    },
    {
      "cell_type": "markdown",
      "source": [
        "**SVD - Latent Factor Model Collaborative Filtering**\n",
        "\n",
        "SVD of Singular Value Decomposition a method from linear algebra that has been generally used as a dimensionality reduction technique in machine learning. SVD is a matrix factorisation technique, which reduces the number of features of a dataset by reducing the space dimension from N-dimension to K-dimension (where K < N). In the context of the recommender system, the SVD is used as a collaborative filtering technique. It uses a matrix structure where each row represents a user(User-ID in this case), and each column represents an item(Book ISBN in this case). The elements of this matrix are the ratings that are given to items by users(Book rating given by user). It provides another way to factorize a matrix, into singular vectors and singular values."
      ],
      "metadata": {
        "id": "rdabOHw1sLGa"
      }
    },
    {
      "cell_type": "code",
      "source": [
        "from sklearn.metrics.pairwise import cosine_similarity\n",
        "from scipy.sparse.linalg import svds"
      ],
      "metadata": {
        "id": "5n-3tXfzrRmh"
      },
      "execution_count": null,
      "outputs": []
    },
    {
      "cell_type": "code",
      "source": [
        "## Number of factors tp factor the the user-item matrix\n",
        "NUMBER_OF_FACTORS = 15\n",
        "\n",
        "## Performing matrix factorization of user_items_matrix\n",
        "U, sigma, Vt = svds(user_items_matrix, k = NUMBER_OF_FACTORS)"
      ],
      "metadata": {
        "id": "uF-dPZYFt4Ut"
      },
      "execution_count": null,
      "outputs": []
    },
    {
      "cell_type": "code",
      "source": [
        "## Checking the shape of user_items_matrix and U\n",
        "\n",
        "print(user_items_matrix.shape)\n",
        "print(U.shape)"
      ],
      "metadata": {
        "colab": {
          "base_uri": "https://localhost:8080/"
        },
        "id": "_Xgdc0EYuzWk",
        "outputId": "ed95b28c-6441-4cde-82ca-b5c0071a9706"
      },
      "execution_count": null,
      "outputs": [
        {
          "output_type": "stream",
          "name": "stdout",
          "text": [
            "(444, 792)\n",
            "(444, 15)\n"
          ]
        }
      ]
    },
    {
      "cell_type": "code",
      "source": [
        "sigma = np.diag(sigma)\n",
        "sigma.shape"
      ],
      "metadata": {
        "colab": {
          "base_uri": "https://localhost:8080/"
        },
        "id": "bDSGzJYsu_ZZ",
        "outputId": "003e1b4e-4e3f-4f64-e84e-ab66a3ff8f46"
      },
      "execution_count": null,
      "outputs": [
        {
          "output_type": "execute_result",
          "data": {
            "text/plain": [
              "(15, 15)"
            ]
          },
          "metadata": {},
          "execution_count": 285
        }
      ]
    },
    {
      "cell_type": "code",
      "source": [
        "Vt.shape"
      ],
      "metadata": {
        "colab": {
          "base_uri": "https://localhost:8080/"
        },
        "id": "aiP0U4yOvLTl",
        "outputId": "d5fcc6cc-2500-42db-c233-c328d556cd56"
      },
      "execution_count": null,
      "outputs": [
        {
          "output_type": "execute_result",
          "data": {
            "text/plain": [
              "(15, 792)"
            ]
          },
          "metadata": {},
          "execution_count": 286
        }
      ]
    },
    {
      "cell_type": "markdown",
      "source": [
        "Reconstructing the original matrix by multiplying with its factors. The resulting matrix will no be sparse matrix. It is predicted values for the items user haven't yet interacted with. "
      ],
      "metadata": {
        "id": "2MhOh3S7wqkE"
      }
    },
    {
      "cell_type": "code",
      "source": [
        "predicted_user_ratings = np.dot(np.dot(U, sigma), Vt)"
      ],
      "metadata": {
        "id": "HE0ZVGRGvXEC"
      },
      "execution_count": null,
      "outputs": []
    },
    {
      "cell_type": "code",
      "source": [
        "predicted_user_ratings"
      ],
      "metadata": {
        "colab": {
          "base_uri": "https://localhost:8080/"
        },
        "id": "cVZNyvWTxe0g",
        "outputId": "d406f876-8f7b-42f7-b8cc-efae8dacf2fe"
      },
      "execution_count": null,
      "outputs": [
        {
          "output_type": "execute_result",
          "data": {
            "text/plain": [
              "array([[ 0.05084071, -0.04904318,  0.06743703, ...,  0.0539075 ,\n",
              "         0.10899535, -0.00257013],\n",
              "       [ 0.01169978,  0.01633118,  0.01776866, ...,  0.05701923,\n",
              "         0.07641531,  0.09152987],\n",
              "       [ 0.06467991,  0.02094845, -0.06030038, ..., -0.00892242,\n",
              "        -0.03056454,  0.28151921],\n",
              "       ...,\n",
              "       [ 0.00755701,  0.02214429, -0.02509294, ...,  0.09467216,\n",
              "         0.05502784,  0.10984768],\n",
              "       [ 0.031161  , -0.048175  ,  0.04345334, ...,  0.11003718,\n",
              "         0.15450936, -0.00558082],\n",
              "       [-0.00497212,  0.02315053,  0.00346912, ...,  0.09122458,\n",
              "         0.06329616, -0.0263142 ]])"
            ]
          },
          "metadata": {},
          "execution_count": 288
        }
      ]
    },
    {
      "cell_type": "code",
      "source": [
        "predicted_user_ratings.shape"
      ],
      "metadata": {
        "colab": {
          "base_uri": "https://localhost:8080/"
        },
        "id": "ruDpUfh4xgfO",
        "outputId": "3c8dcb52-88d1-440f-d259-5a0a5039445b"
      },
      "execution_count": null,
      "outputs": [
        {
          "output_type": "execute_result",
          "data": {
            "text/plain": [
              "(444, 792)"
            ]
          },
          "metadata": {},
          "execution_count": 289
        }
      ]
    },
    {
      "cell_type": "markdown",
      "source": [
        "Creating a dataframe from predicted ratings for each user."
      ],
      "metadata": {
        "id": "DI4sVGZIxm2l"
      }
    },
    {
      "cell_type": "code",
      "source": [
        "## Converting predicted ratings matrix into dataframe\n",
        "\n",
        "pred_df = pd.DataFrame(predicted_user_ratings, columns = user_items_pivot.columns, index = user_ids).transpose()"
      ],
      "metadata": {
        "id": "xpV_KjlYxkjL"
      },
      "execution_count": null,
      "outputs": []
    },
    {
      "cell_type": "code",
      "source": [
        "pred_df.head()"
      ],
      "metadata": {
        "colab": {
          "base_uri": "https://localhost:8080/",
          "height": 331
        },
        "id": "1Hen3Ppyy2BN",
        "outputId": "e6b59fc0-b21f-45d3-d7fa-1e2b01a32a40"
      },
      "execution_count": null,
      "outputs": [
        {
          "output_type": "execute_result",
          "data": {
            "text/plain": [
              "              254       2766      4017      6242      6251      6543    \\\n",
              "ISBN                                                                     \n",
              "002542730X  0.050841  0.011700  0.064680 -0.006215  0.274622  0.029956   \n",
              "0060008032 -0.049043  0.016331  0.020948  0.074390  0.010449  0.065489   \n",
              "006001203X  0.067437  0.017769 -0.060300 -0.007811 -0.034403 -0.061424   \n",
              "0060168013 -0.002913  0.001796  0.047232  0.017867  0.019987  0.025375   \n",
              "006016848X  0.024771 -0.019701  0.030190  0.112960  0.030492  0.080947   \n",
              "\n",
              "              6563      6575      7158      7346    ...    270820    271195  \\\n",
              "ISBN                                                ...                       \n",
              "002542730X  0.146478  0.259431  0.101503  0.318506  ... -0.016932  0.041728   \n",
              "0060008032  0.114533  0.276924 -0.038428  0.179986  ...  0.025030  0.062942   \n",
              "006001203X  0.097245 -0.090522  0.174260 -0.216721  ...  0.104197  0.056420   \n",
              "0060168013  0.020172  0.130697  0.048344 -0.003591  ... -0.002761  0.001187   \n",
              "006016848X  0.028142  0.246383 -0.017612  0.015855  ...  0.062537  0.015305   \n",
              "\n",
              "              271448    271705    273979    274061    274308    275970  \\\n",
              "ISBN                                                                     \n",
              "002542730X  0.029292 -0.001145  0.100627  0.028200 -0.059777  0.007557   \n",
              "0060008032  0.227312 -0.011764 -0.029306 -0.101228  0.050196  0.022144   \n",
              "006001203X  0.074478 -0.035452 -0.007708  0.081098 -0.028000 -0.025093   \n",
              "0060168013  0.035130 -0.010208  0.039179 -0.040819 -0.003786  0.013398   \n",
              "006016848X  0.126293  0.085658  0.072386  0.020771  0.010471  0.035163   \n",
              "\n",
              "              276680    277427  \n",
              "ISBN                            \n",
              "002542730X  0.031161 -0.004972  \n",
              "0060008032 -0.048175  0.023151  \n",
              "006001203X  0.043453  0.003469  \n",
              "0060168013  0.034313 -0.008184  \n",
              "006016848X -0.025964  0.015450  \n",
              "\n",
              "[5 rows x 444 columns]"
            ],
            "text/html": [
              "\n",
              "  <div id=\"df-bf746eb3-3017-4671-bea0-2deb3d2f4d36\">\n",
              "    <div class=\"colab-df-container\">\n",
              "      <div>\n",
              "<style scoped>\n",
              "    .dataframe tbody tr th:only-of-type {\n",
              "        vertical-align: middle;\n",
              "    }\n",
              "\n",
              "    .dataframe tbody tr th {\n",
              "        vertical-align: top;\n",
              "    }\n",
              "\n",
              "    .dataframe thead th {\n",
              "        text-align: right;\n",
              "    }\n",
              "</style>\n",
              "<table border=\"1\" class=\"dataframe\">\n",
              "  <thead>\n",
              "    <tr style=\"text-align: right;\">\n",
              "      <th></th>\n",
              "      <th>254</th>\n",
              "      <th>2766</th>\n",
              "      <th>4017</th>\n",
              "      <th>6242</th>\n",
              "      <th>6251</th>\n",
              "      <th>6543</th>\n",
              "      <th>6563</th>\n",
              "      <th>6575</th>\n",
              "      <th>7158</th>\n",
              "      <th>7346</th>\n",
              "      <th>...</th>\n",
              "      <th>270820</th>\n",
              "      <th>271195</th>\n",
              "      <th>271448</th>\n",
              "      <th>271705</th>\n",
              "      <th>273979</th>\n",
              "      <th>274061</th>\n",
              "      <th>274308</th>\n",
              "      <th>275970</th>\n",
              "      <th>276680</th>\n",
              "      <th>277427</th>\n",
              "    </tr>\n",
              "    <tr>\n",
              "      <th>ISBN</th>\n",
              "      <th></th>\n",
              "      <th></th>\n",
              "      <th></th>\n",
              "      <th></th>\n",
              "      <th></th>\n",
              "      <th></th>\n",
              "      <th></th>\n",
              "      <th></th>\n",
              "      <th></th>\n",
              "      <th></th>\n",
              "      <th></th>\n",
              "      <th></th>\n",
              "      <th></th>\n",
              "      <th></th>\n",
              "      <th></th>\n",
              "      <th></th>\n",
              "      <th></th>\n",
              "      <th></th>\n",
              "      <th></th>\n",
              "      <th></th>\n",
              "      <th></th>\n",
              "    </tr>\n",
              "  </thead>\n",
              "  <tbody>\n",
              "    <tr>\n",
              "      <th>002542730X</th>\n",
              "      <td>0.050841</td>\n",
              "      <td>0.011700</td>\n",
              "      <td>0.064680</td>\n",
              "      <td>-0.006215</td>\n",
              "      <td>0.274622</td>\n",
              "      <td>0.029956</td>\n",
              "      <td>0.146478</td>\n",
              "      <td>0.259431</td>\n",
              "      <td>0.101503</td>\n",
              "      <td>0.318506</td>\n",
              "      <td>...</td>\n",
              "      <td>-0.016932</td>\n",
              "      <td>0.041728</td>\n",
              "      <td>0.029292</td>\n",
              "      <td>-0.001145</td>\n",
              "      <td>0.100627</td>\n",
              "      <td>0.028200</td>\n",
              "      <td>-0.059777</td>\n",
              "      <td>0.007557</td>\n",
              "      <td>0.031161</td>\n",
              "      <td>-0.004972</td>\n",
              "    </tr>\n",
              "    <tr>\n",
              "      <th>0060008032</th>\n",
              "      <td>-0.049043</td>\n",
              "      <td>0.016331</td>\n",
              "      <td>0.020948</td>\n",
              "      <td>0.074390</td>\n",
              "      <td>0.010449</td>\n",
              "      <td>0.065489</td>\n",
              "      <td>0.114533</td>\n",
              "      <td>0.276924</td>\n",
              "      <td>-0.038428</td>\n",
              "      <td>0.179986</td>\n",
              "      <td>...</td>\n",
              "      <td>0.025030</td>\n",
              "      <td>0.062942</td>\n",
              "      <td>0.227312</td>\n",
              "      <td>-0.011764</td>\n",
              "      <td>-0.029306</td>\n",
              "      <td>-0.101228</td>\n",
              "      <td>0.050196</td>\n",
              "      <td>0.022144</td>\n",
              "      <td>-0.048175</td>\n",
              "      <td>0.023151</td>\n",
              "    </tr>\n",
              "    <tr>\n",
              "      <th>006001203X</th>\n",
              "      <td>0.067437</td>\n",
              "      <td>0.017769</td>\n",
              "      <td>-0.060300</td>\n",
              "      <td>-0.007811</td>\n",
              "      <td>-0.034403</td>\n",
              "      <td>-0.061424</td>\n",
              "      <td>0.097245</td>\n",
              "      <td>-0.090522</td>\n",
              "      <td>0.174260</td>\n",
              "      <td>-0.216721</td>\n",
              "      <td>...</td>\n",
              "      <td>0.104197</td>\n",
              "      <td>0.056420</td>\n",
              "      <td>0.074478</td>\n",
              "      <td>-0.035452</td>\n",
              "      <td>-0.007708</td>\n",
              "      <td>0.081098</td>\n",
              "      <td>-0.028000</td>\n",
              "      <td>-0.025093</td>\n",
              "      <td>0.043453</td>\n",
              "      <td>0.003469</td>\n",
              "    </tr>\n",
              "    <tr>\n",
              "      <th>0060168013</th>\n",
              "      <td>-0.002913</td>\n",
              "      <td>0.001796</td>\n",
              "      <td>0.047232</td>\n",
              "      <td>0.017867</td>\n",
              "      <td>0.019987</td>\n",
              "      <td>0.025375</td>\n",
              "      <td>0.020172</td>\n",
              "      <td>0.130697</td>\n",
              "      <td>0.048344</td>\n",
              "      <td>-0.003591</td>\n",
              "      <td>...</td>\n",
              "      <td>-0.002761</td>\n",
              "      <td>0.001187</td>\n",
              "      <td>0.035130</td>\n",
              "      <td>-0.010208</td>\n",
              "      <td>0.039179</td>\n",
              "      <td>-0.040819</td>\n",
              "      <td>-0.003786</td>\n",
              "      <td>0.013398</td>\n",
              "      <td>0.034313</td>\n",
              "      <td>-0.008184</td>\n",
              "    </tr>\n",
              "    <tr>\n",
              "      <th>006016848X</th>\n",
              "      <td>0.024771</td>\n",
              "      <td>-0.019701</td>\n",
              "      <td>0.030190</td>\n",
              "      <td>0.112960</td>\n",
              "      <td>0.030492</td>\n",
              "      <td>0.080947</td>\n",
              "      <td>0.028142</td>\n",
              "      <td>0.246383</td>\n",
              "      <td>-0.017612</td>\n",
              "      <td>0.015855</td>\n",
              "      <td>...</td>\n",
              "      <td>0.062537</td>\n",
              "      <td>0.015305</td>\n",
              "      <td>0.126293</td>\n",
              "      <td>0.085658</td>\n",
              "      <td>0.072386</td>\n",
              "      <td>0.020771</td>\n",
              "      <td>0.010471</td>\n",
              "      <td>0.035163</td>\n",
              "      <td>-0.025964</td>\n",
              "      <td>0.015450</td>\n",
              "    </tr>\n",
              "  </tbody>\n",
              "</table>\n",
              "<p>5 rows × 444 columns</p>\n",
              "</div>\n",
              "      <button class=\"colab-df-convert\" onclick=\"convertToInteractive('df-bf746eb3-3017-4671-bea0-2deb3d2f4d36')\"\n",
              "              title=\"Convert this dataframe to an interactive table.\"\n",
              "              style=\"display:none;\">\n",
              "        \n",
              "  <svg xmlns=\"http://www.w3.org/2000/svg\" height=\"24px\"viewBox=\"0 0 24 24\"\n",
              "       width=\"24px\">\n",
              "    <path d=\"M0 0h24v24H0V0z\" fill=\"none\"/>\n",
              "    <path d=\"M18.56 5.44l.94 2.06.94-2.06 2.06-.94-2.06-.94-.94-2.06-.94 2.06-2.06.94zm-11 1L8.5 8.5l.94-2.06 2.06-.94-2.06-.94L8.5 2.5l-.94 2.06-2.06.94zm10 10l.94 2.06.94-2.06 2.06-.94-2.06-.94-.94-2.06-.94 2.06-2.06.94z\"/><path d=\"M17.41 7.96l-1.37-1.37c-.4-.4-.92-.59-1.43-.59-.52 0-1.04.2-1.43.59L10.3 9.45l-7.72 7.72c-.78.78-.78 2.05 0 2.83L4 21.41c.39.39.9.59 1.41.59.51 0 1.02-.2 1.41-.59l7.78-7.78 2.81-2.81c.8-.78.8-2.07 0-2.86zM5.41 20L4 18.59l7.72-7.72 1.47 1.35L5.41 20z\"/>\n",
              "  </svg>\n",
              "      </button>\n",
              "      \n",
              "  <style>\n",
              "    .colab-df-container {\n",
              "      display:flex;\n",
              "      flex-wrap:wrap;\n",
              "      gap: 12px;\n",
              "    }\n",
              "\n",
              "    .colab-df-convert {\n",
              "      background-color: #E8F0FE;\n",
              "      border: none;\n",
              "      border-radius: 50%;\n",
              "      cursor: pointer;\n",
              "      display: none;\n",
              "      fill: #1967D2;\n",
              "      height: 32px;\n",
              "      padding: 0 0 0 0;\n",
              "      width: 32px;\n",
              "    }\n",
              "\n",
              "    .colab-df-convert:hover {\n",
              "      background-color: #E2EBFA;\n",
              "      box-shadow: 0px 1px 2px rgba(60, 64, 67, 0.3), 0px 1px 3px 1px rgba(60, 64, 67, 0.15);\n",
              "      fill: #174EA6;\n",
              "    }\n",
              "\n",
              "    [theme=dark] .colab-df-convert {\n",
              "      background-color: #3B4455;\n",
              "      fill: #D2E3FC;\n",
              "    }\n",
              "\n",
              "    [theme=dark] .colab-df-convert:hover {\n",
              "      background-color: #434B5C;\n",
              "      box-shadow: 0px 1px 3px 1px rgba(0, 0, 0, 0.15);\n",
              "      filter: drop-shadow(0px 1px 2px rgba(0, 0, 0, 0.3));\n",
              "      fill: #FFFFFF;\n",
              "    }\n",
              "  </style>\n",
              "\n",
              "      <script>\n",
              "        const buttonEl =\n",
              "          document.querySelector('#df-bf746eb3-3017-4671-bea0-2deb3d2f4d36 button.colab-df-convert');\n",
              "        buttonEl.style.display =\n",
              "          google.colab.kernel.accessAllowed ? 'block' : 'none';\n",
              "\n",
              "        async function convertToInteractive(key) {\n",
              "          const element = document.querySelector('#df-bf746eb3-3017-4671-bea0-2deb3d2f4d36');\n",
              "          const dataTable =\n",
              "            await google.colab.kernel.invokeFunction('convertToInteractive',\n",
              "                                                     [key], {});\n",
              "          if (!dataTable) return;\n",
              "\n",
              "          const docLinkHtml = 'Like what you see? Visit the ' +\n",
              "            '<a target=\"_blank\" href=https://colab.research.google.com/notebooks/data_table.ipynb>data table notebook</a>'\n",
              "            + ' to learn more about interactive tables.';\n",
              "          element.innerHTML = '';\n",
              "          dataTable['output_type'] = 'display_data';\n",
              "          await google.colab.output.renderOutput(dataTable, element);\n",
              "          const docLink = document.createElement('div');\n",
              "          docLink.innerHTML = docLinkHtml;\n",
              "          element.appendChild(docLink);\n",
              "        }\n",
              "      </script>\n",
              "    </div>\n",
              "  </div>\n",
              "  "
            ]
          },
          "metadata": {},
          "execution_count": 291
        }
      ]
    },
    {
      "cell_type": "markdown",
      "source": [
        "**Creating a Recommender Class for Collaborative Filtering**"
      ],
      "metadata": {
        "id": "pmdwbaaozfe2"
      }
    },
    {
      "cell_type": "code",
      "source": [
        "import random"
      ],
      "metadata": {
        "id": "7DE-F8AyzZvy"
      },
      "execution_count": null,
      "outputs": []
    },
    {
      "cell_type": "code",
      "source": [
        "class Recommender:\n",
        "\n",
        "    MODEL_NAME = 'Collaborative Filtering'\n",
        "\n",
        "    def __init__(self, predictions_df):\n",
        "        self.predictions_df = predictions_df\n",
        "\n",
        "    def get_model_name(self):\n",
        "        return self.MODEL_NAME\n",
        "    \n",
        "    def recommend_items(self, user_id, items_to_ignore = [], topn = 10):\n",
        "        # Get and sort the user's predictions\n",
        "        sorted_user_predictions = self.predictions_df[user_id].sort_values(ascending=False).reset_index().rename(columns={user_id: 'recStrength'})\n",
        "\n",
        "        # Recommend the highest predicted rating content that the user hasn't seen yet.\n",
        "        recommendations_df = sorted_user_predictions[~sorted_user_predictions['ISBN'].isin(items_to_ignore)].sort_values('recStrength', ascending = False).head(topn)\n",
        "        recommendations_df = recommendations_df.merge(books_df,on='ISBN',how='inner')\n",
        "        recommendations_df = recommendations_df[['ISBN','Book-Title','recStrength']]\n",
        "\n",
        "        return recommendations_df\n",
        "\n",
        "recommender_model = Recommender(pred_df)"
      ],
      "metadata": {
        "id": "N1W_qhc2ztRe"
      },
      "execution_count": null,
      "outputs": []
    },
    {
      "cell_type": "markdown",
      "source": [
        "**Recommender Model Evaluation**\n",
        "\n",
        "In Recommender Systems, there are a set metrics commonly used for evaluation. We choose to work with **Top-N accuracy metrics**, which evaluates the accuracy of the top recommendations provided to a user, comparing to the items the user has actually interacted in test set.\n",
        "\n",
        "This evaluation method works as follows:\n",
        "\n",
        "* For each user\n",
        "    *  For each item the user has interacted in test set\n",
        "        *  Sample 100 other items the user has never interacted.   \n",
        "        *  Ask the recommender model to produce a ranked list of recommended items, from a set composed of one interacted item and the 100 non-interacted items\n",
        "        *  Compute the Top-N accuracy metrics for this user and interacted item from the recommendations ranked list\n",
        "*  Aggregate the global Top-N accuracy metrics"
      ],
      "metadata": {
        "id": "t6gFwp_91kEs"
      }
    },
    {
      "cell_type": "code",
      "source": [
        "#Indexing by personId to speed up the searches during evaluation\n",
        "interactions_full_indexed_df = interactions_full_df.set_index('User-ID')\n",
        "interactions_train_indexed_df = train_df.set_index('User-ID')\n",
        "interactions_test_indexed_df = test_df.set_index('User-ID')"
      ],
      "metadata": {
        "id": "afHvr2fq1g2b"
      },
      "execution_count": null,
      "outputs": []
    },
    {
      "cell_type": "markdown",
      "source": [
        "The Top-N accuracy metric choosen was **Recall@N** which evaluates whether the interacted item is among the top N items (hit) in the ranked list of recommendations for a user."
      ],
      "metadata": {
        "id": "CNUcS2udFrsy"
      }
    },
    {
      "cell_type": "code",
      "source": [
        "def get_items_interacted(UserID, interactions_df):\n",
        "    interacted_items = interactions_df.loc[UserID]['ISBN']\n",
        "    return set(interacted_items if type(interacted_items) == pd.Series else [interacted_items])"
      ],
      "metadata": {
        "id": "UrULRd20Fnz1"
      },
      "execution_count": null,
      "outputs": []
    },
    {
      "cell_type": "code",
      "source": [
        "class ModelRecommender:\n",
        "\n",
        "    # Function for getting the set of items which a user has not interacted with\n",
        "    def get_not_interacted_items_sample(self, UserID, sample_size, seed=42):\n",
        "        interacted_items = get_items_interacted(UserID, interactions_full_indexed_df)\n",
        "        all_items = set(usa_canada_users_df['ISBN'])\n",
        "        non_interacted_items = all_items - interacted_items\n",
        "\n",
        "        random.seed(seed)\n",
        "        non_interacted_items_sample = random.sample(non_interacted_items, sample_size)\n",
        "        return set(non_interacted_items_sample)\n",
        "\n",
        "    # Function to verify whether a particular item_id was present in the set of top N recommended items\n",
        "    def _verify_hit_top_n(self, item_id, recommended_items, topn):        \n",
        "            try:\n",
        "                index = next(i for i, c in enumerate(recommended_items) if c == item_id)\n",
        "            except:\n",
        "                index = -1\n",
        "            hit = int(index in range(0, topn))\n",
        "            return hit, index\n",
        "    \n",
        "    # Function to evaluate the performance of model for each user\n",
        "    def evaluate_model_for_user(self, model, person_id):\n",
        "        \n",
        "        # Getting the items in test set\n",
        "        interacted_values_testset = interactions_test_indexed_df.loc[person_id]\n",
        "        \n",
        "        if type(interacted_values_testset['ISBN']) == pd.Series:\n",
        "            person_interacted_items_testset = set(interacted_values_testset['ISBN'])\n",
        "        else:\n",
        "            person_interacted_items_testset = set([str(interacted_values_testset['ISBN'])])\n",
        "            \n",
        "        interacted_items_count_testset = len(person_interacted_items_testset) \n",
        "\n",
        "        # Getting a ranked recommendation list from the model for a given user\n",
        "        person_recs_df = model.recommend_items(person_id, items_to_ignore=get_items_interacted(person_id, interactions_train_indexed_df),topn=10000000000)\n",
        "        print('Recommendation for User-ID = ',person_id)\n",
        "        print(person_recs_df.head(10))\n",
        "\n",
        "        # Function to evaluate the performance of model at overall level\n",
        "    def recommend_book(self, model ,userid):\n",
        "        \n",
        "        person_metrics = self.evaluate_model_for_user(model, userid)  \n",
        "        return\n",
        "\n",
        "model_recommender = ModelRecommender()"
      ],
      "metadata": {
        "id": "g7SX7q-rF10c"
      },
      "execution_count": null,
      "outputs": []
    },
    {
      "cell_type": "markdown",
      "source": [
        "Checking users having interaction of atleast 10 and present in out interaction_full_df."
      ],
      "metadata": {
        "id": "R-W3jNQPGdat"
      }
    },
    {
      "cell_type": "code",
      "source": [
        "print(list(interactions_full_indexed_df.index.values))"
      ],
      "metadata": {
        "colab": {
          "base_uri": "https://localhost:8080/"
        },
        "id": "qSRvcQGvGEQQ",
        "outputId": "ed01d4db-5db0-4d89-b2a8-edafa655ee03"
      },
      "execution_count": null,
      "outputs": [
        {
          "output_type": "stream",
          "name": "stdout",
          "text": [
            "[12538, 41084, 52584, 110934, 113270, 128835, 150979, 174216, 183995, 208671, 225763, 229741, 269566, 277427, 135149, 165308, 265115, 265889, 271705, 16795, 31315, 131046, 235282, 242106, 113270, 146803, 218608, 13850, 16634, 31556, 39281, 165308, 246513, 21014, 55187, 69078, 95359, 100459, 110912, 130571, 138578, 146803, 150979, 10447, 224349, 8253, 43910, 46398, 48046, 101876, 108005, 126604, 172742, 226965, 235282, 6251, 16634, 36907, 51883, 56856, 60244, 75591, 81977, 85757, 87555, 94347, 95359, 97874, 100459, 106007, 110912, 114868, 126604, 142524, 145641, 157273, 164323, 178199, 183995, 222296, 225763, 234828, 245410, 6575, 13850, 21576, 29259, 30735, 35859, 41841, 51450, 55492, 60244, 64436, 76818, 110934, 110973, 135045, 137589, 141710, 149069, 153662, 160819, 172742, 177090, 178667, 196077, 211344, 228764, 269890, 271705, 208829, 225087, 240567, 275970, 32773, 87555, 177432, 229741, 4017, 6563, 8253, 10447, 12538, 21014, 69078, 88733, 95359, 105979, 112026, 113270, 114868, 115003, 143415, 155147, 174216, 221445, 225087, 230522, 232131, 235935, 236757, 245371, 19664, 21014, 69078, 76499, 88937, 115003, 143415, 187256, 225087, 232131, 242299, 36606, 39281, 62891, 75591, 78783, 95359, 110912, 168064, 172742, 225087, 6575, 8253, 10447, 12824, 14422, 21014, 21576, 30972, 36606, 40889, 56447, 60244, 68555, 77809, 88733, 88937, 95932, 101606, 109574, 110912, 126492, 135045, 137589, 147141, 165308, 172512, 182993, 187256, 190925, 196077, 202277, 203240, 204864, 208829, 209373, 212923, 218552, 221445, 229741, 236757, 242299, 260897, 268032, 268110, 271448, 4017, 8253, 23768, 55490, 69078, 85526, 126492, 144531, 240567, 266865, 8253, 13273, 16795, 22625, 30533, 43619, 77809, 85526, 105979, 107784, 112001, 113270, 135149, 136382, 137589, 138844, 141493, 142121, 145641, 204864, 234828, 236757, 271195, 6242, 6575, 23768, 35859, 37712, 64436, 89602, 95359, 101305, 113270, 130571, 148744, 150979, 155147, 173415, 175052, 181687, 212923, 223087, 224764, 232131, 236757, 252695, 255489, 273979, 6242, 31826, 36907, 55927, 85526, 165308, 203240, 271195, 30487, 48046, 69078, 87555, 97874, 114868, 126604, 147141, 165319, 178667, 210485, 218552, 227447, 246513, 249894, 258534, 265313, 266865, 2766, 6242, 50225, 56447, 85526, 105517, 110934, 113519, 137688, 159033, 188010, 194600, 229741, 271705, 10447, 14422, 16795, 19664, 38273, 55927, 75591, 85757, 95359, 101606, 101876, 105979, 106007, 109574, 110912, 110973, 117251, 122429, 127233, 162639, 167471, 172512, 172742, 204864, 209756, 211344, 212923, 223154, 235935, 264031, 265115, 268622, 8253, 22625, 36907, 81977, 101305, 115003, 143415, 145449, 203240, 6242, 6543, 6563, 6575, 7346, 16106, 37712, 60244, 77809, 89602, 96448, 110934, 115003, 130571, 138844, 142524, 147141, 150979, 162639, 165308, 168047, 170513, 184299, 224430, 225763, 227520, 229741, 234359, 255489, 271448, 6563, 10447, 37644, 49460, 78783, 89602, 95359, 95932, 96448, 110934, 114444, 135149, 142121, 157273, 165308, 196466, 203240, 204864, 210485, 224430, 266865, 271195, 22625, 36907, 110934, 113270, 140358, 142256, 200226, 223154, 224764, 229313, 230522, 231210, 232131, 235282, 264031, 266056, 276680, 6251, 6543, 7915, 8067, 16795, 23768, 30276, 35859, 64436, 88793, 95359, 104636, 104665, 115003, 130571, 135149, 136010, 145641, 146113, 153662, 165308, 167471, 177458, 202277, 236757, 239584, 242299, 245410, 250184, 277427, 14521, 19664, 62891, 93047, 95932, 101305, 153662, 162052, 181176, 185233, 214786, 218608, 232131, 249628, 264031, 6563, 37712, 95359, 106225, 127826, 144531, 147847, 162639, 163804, 202277, 224138, 250184, 255489, 260897, 31556, 113519, 170513, 211426, 246311, 263163, 271195, 16106, 55187, 56959, 170513, 266056, 16795, 37712, 85526, 87555, 111174, 114988, 129716, 188010, 234359, 239584, 21014, 36907, 48494, 88733, 100459, 100906, 104399, 104636, 110934, 155014, 155147, 177458, 197659, 263163, 264321, 265313, 269566, 275970, 14521, 16795, 21014, 31556, 32773, 49460, 55492, 55892, 81977, 85426, 93047, 110934, 126492, 135149, 137688, 138844, 147141, 150979, 165308, 170634, 229741, 250184, 271448, 276680, 13273, 16795, 85426, 110934, 126492, 126604, 135149, 142524, 147141, 227447, 229741, 7346, 12538, 55892, 78834, 85426, 96448, 139742, 156150, 165308, 194600, 196077, 217375, 224430, 226545, 271448, 16795, 21014, 30735, 35859, 37712, 44728, 45557, 68555, 95359, 110973, 113519, 148744, 203240, 204864, 251422, 266056, 271195, 85526, 6251, 32773, 37950, 55187, 56447, 101851, 101876, 150979, 168064, 189835, 211426, 226965, 249894, 251422, 29855, 66680, 128835, 196160, 56447, 62891, 69078, 85526, 88937, 89602, 110912, 113270, 170513, 204864, 242299, 245371, 249894, 76818, 93047, 129716, 133747, 156269, 164323, 173415, 234359, 234828, 246311, 268110, 8253, 21014, 30487, 37712, 46398, 75591, 93629, 95359, 100906, 141710, 203240, 223154, 4017, 16795, 110973, 113270, 113519, 138844, 178199, 190459, 6543, 10447, 13273, 30533, 32773, 65258, 68555, 86189, 102275, 113270, 127359, 148744, 162639, 170634, 200226, 210485, 265115, 7346, 10447, 102275, 113270, 127826, 148744, 200226, 265115, 4017, 6575, 8067, 28634, 37712, 43246, 62891, 68555, 78834, 89602, 101305, 104636, 110912, 114868, 126604, 127233, 150968, 153662, 162639, 165308, 168064, 178199, 189973, 190925, 196077, 197364, 207782, 219546, 224430, 225763, 229313, 229741, 232131, 242106, 251140, 254465, 265115, 62891, 85526, 225763, 6242, 6575, 21014, 51450, 52584, 56554, 60244, 78783, 94347, 95359, 105979, 125692, 135149, 141493, 142121, 145641, 162738, 188010, 193499, 203240, 210485, 224430, 242299, 265889, 266056, 273979, 6575, 7346, 21014, 36606, 37712, 60244, 76499, 88793, 102967, 106225, 110912, 136348, 144531, 165308, 181687, 187256, 203240, 211426, 212923, 221445, 229011, 239584, 265115, 266056, 268622, 270713, 271705, 275970, 6575, 13552, 36907, 40943, 60244, 100906, 156150, 160819, 189973, 193458, 202277, 224430, 229011, 248718, 251140, 254465, 263877, 271705, 30972, 37644, 43246, 114868, 133747, 136139, 177072, 188010, 196077, 227705, 268032, 13552, 30735, 87555, 94347, 105979, 142524, 153718, 156150, 227447, 229011, 260897, 261829, 7158, 16795, 31315, 41841, 46398, 65258, 70052, 87555, 100459, 122429, 140358, 160819, 172742, 234359, 240567, 264031, 264082, 266865, 6242, 8245, 22625, 95359, 100906, 101305, 112001, 115003, 127359, 136348, 156150, 160819, 187256, 225763, 273979, 254, 6543, 6575, 16795, 22625, 29259, 35859, 36606, 37712, 51450, 56554, 60244, 69971, 86189, 89602, 106225, 135831, 136205, 146803, 163804, 168047, 172512, 178199, 178667, 187256, 193458, 203240, 210485, 223154, 230522, 234359, 235935, 240567, 242299, 255489, 263325, 266865, 49460, 85426, 89602, 110934, 193499, 204864, 240144, 269890, 13273, 14422, 16634, 36907, 60244, 69078, 95359, 114988, 135149, 142121, 239584, 242299, 246311, 265889, 16795, 55892, 98391, 108005, 113519, 123095, 127826, 136348, 207782, 246311, 250184, 271705, 8245, 36907, 46398, 48046, 69971, 80810, 85426, 86189, 97874, 115003, 133689, 142256, 162738, 165319, 187517, 190459, 203240, 204864, 217375, 222296, 224764, 234359, 251394, 261829, 266056, 7915, 10447, 16106, 37712, 89602, 108005, 211426, 226545, 276680, 43246, 55492, 76499, 100906, 141710, 159033, 168047, 6242, 6575, 7915, 8245, 12538, 16795, 21014, 26544, 30487, 30735, 35859, 53174, 60244, 68555, 70415, 85526, 93629, 95359, 101305, 110912, 113519, 115003, 122793, 126604, 127233, 129716, 135831, 139742, 141493, 141710, 146113, 155014, 155147, 165308, 181687, 187256, 189835, 190925, 196077, 200226, 204864, 224349, 229313, 236757, 240567, 242299, 255489, 261829, 264321, 270713, 270820, 271448, 271705, 6242, 6575, 36907, 46398, 69078, 95359, 110934, 181687, 189973, 223087, 22625, 106225, 136348, 200226, 77809, 110912, 142524, 165319, 201674, 98391, 157273, 163804, 226545, 8067, 23768, 43246, 76151, 98391, 100846, 104636, 146803, 157273, 201684, 235105, 6575, 7346, 13273, 25981, 76151, 98391, 114988, 144531, 145449, 157273, 193499, 200226, 225087, 227705, 235105, 235392, 235935, 241980, 258534, 265115, 274308, 6563, 16106, 21014, 35857, 35859, 41841, 56447, 60244, 69078, 81492, 85757, 95359, 102967, 105979, 122429, 133747, 135265, 141493, 174304, 181687, 182993, 194600, 196077, 201447, 211344, 223087, 224430, 229741, 235105, 251140, 255489, 260897, 269890, 271705, 273979, 6242, 6575, 49460, 69078, 94347, 110934, 142121, 143415, 145449, 173415, 214786, 228764, 246311, 8067, 51450, 76151, 98391, 112001, 135265, 182993, 201674, 224764, 235935, 6242, 16795, 36606, 56554, 136139, 160819, 164323, 216683, 245645, 249894, 251422, 271448, 16795, 21014, 36606, 43246, 55492, 85757, 95359, 98391, 109574, 123095, 133747, 135831, 168064, 170947, 178667, 193898, 208829, 271448, 43910, 69971, 105979, 136139, 178199, 196466, 202277, 210485, 229313, 235282, 273979, 276680, 7346, 16916, 23872, 28634, 38023, 53174, 56959, 85426, 87141, 101851, 123981, 126492, 147847, 158295, 162639, 185233, 187145, 209756, 214786, 241666, 245371, 250962, 254206, 258534, 259629, 264321, 268032, 6251, 7915, 25981, 35859, 51450, 60244, 62272, 84024, 100846, 104636, 104665, 110934, 131046, 135045, 136348, 136382, 144531, 158295, 162639, 173415, 208147, 221445, 241980, 245410, 247447, 258534, 271448, 8067, 8245, 114368, 117251, 141493, 162639, 173481, 187517, 201447, 242083, 251140, 265115, 6575, 7346, 8067, 16795, 30735, 37950, 43246, 60244, 104636, 107021, 110934, 131046, 135045, 136382, 144531, 146113, 158295, 163804, 173415, 177090, 200226, 201674, 218552, 225763, 227520, 241980, 245410, 247447, 258534, 265889, 76151, 114368, 135149, 203240, 209756, 242083, 265115, 8067, 21014, 21659, 25981, 30735, 35859, 62272, 76818, 84024, 104636, 107021, 110934, 131046, 135045, 136382, 146113, 147847, 158295, 177458, 200226, 201674, 201684, 208147, 240567, 241980, 245410, 247447, 258534, 8245, 110973, 114368, 162738, 247447, 251140, 261829, 7346, 7915, 38273, 76818, 84024, 92810, 100846, 104636, 107021, 110934, 136382, 146113, 177458, 193898, 196738, 200226, 201674, 202277, 211426, 240567, 241980, 245410, 258534, 8245, 16795, 21014, 115003, 162639, 225087, 245645, 6251, 6543, 6575, 7346, 7915, 8067, 16795, 25981, 35859, 38273, 41084, 43246, 76151, 104636, 106007, 107021, 110934, 136382, 144531, 162639, 177072, 177090, 190925, 193499, 196077, 201674, 204591, 208147, 241980, 245410, 247447, 258534, 265115, 8067, 30276, 44728, 51450, 81492, 107021, 114368, 134797, 172742, 236172, 265115, 8067, 13273, 25981, 38273, 60244, 67840, 88733, 98391, 104636, 131046, 135149, 144531, 152186, 156467, 177458, 193499, 221445, 232131, 235105, 241980, 261829, 265115, 265889, 8067, 98391, 107784, 114988, 145449, 156467, 167471, 213150, 221445, 235935, 236757, 241980, 107021, 114368, 137589, 162639, 174216, 236757, 251140, 25409, 25981, 37950, 47316, 76818, 110934, 136382, 142121, 145449, 146113, 162639, 163804, 172742, 177072, 193499, 196077, 200226, 208147, 210485, 240567, 241980, 245410, 247447, 254465, 258534, 6575, 60244, 62272, 76818, 102647, 104636, 110934, 144531, 153718, 158295, 163804, 178667, 196160, 240567, 241980, 247447, 249862, 249894, 251843, 258534, 261829, 274308, 13552, 70594, 196738, 202277, 212923, 266056, 21014, 39281, 110973, 134797, 181687, 196466, 4017, 7346, 12538, 43246, 81492, 95359, 97874, 104665, 105979, 107784, 150979, 181687, 196466, 207782, 210485, 219546, 224138, 225763, 227447, 235282, 246311, 261829, 271705, 7158, 16795, 31315, 43246, 88793, 98391, 127359, 135045, 150979, 162052, 168064, 187145, 224349, 95932, 106007, 133689, 16634, 21014, 45557, 60244, 65258, 95359, 104636, 105517, 106225, 126604, 136010, 140358, 145449, 146803, 153662, 165308, 173415, 177090, 187256, 196077, 203240, 225763, 227705, 236058, 260897, 266865, 6251, 8253, 16795, 21014, 30487, 46398, 70415, 76151, 110973, 115003, 133747, 138844, 160819, 162052, 182993, 193458, 208671, 218552, 225763, 240567, 258938, 271448, 8253, 13273, 14422, 22625, 29855, 30276, 30972, 35857, 36907, 38273, 52584, 53174, 95359, 101876, 104636, 105979, 110912, 133689, 138844, 144531, 144555, 145641, 166596, 169663, 172742, 177072, 187256, 187517, 189973, 193499, 208147, 229313, 232131, 251140, 254465, 255489, 256407, 258938, 264321, 265115, 269566, 273979, 25981, 53220, 55892, 56554, 76151, 98391, 119575, 127359, 135265, 143175, 162738, 187256, 224349, 251843, 55490, 140358, 178199, 183995, 209373, 218552, 235392, 2766, 4017, 8253, 13273, 16795, 22625, 23768, 28204, 28634, 29855, 35859, 46398, 52584, 55927, 56447, 56959, 62891, 69078, 70052, 76151, 77809, 78783, 81492, 81977, 86189, 89602, 95359, 97874, 98391, 105517, 105979, 106225, 112001, 112026, 113270, 113519, 114368, 114444, 115003, 130571, 133689, 134797, 138578, 143175, 144531, 144555, 147141, 148744, 152186, 157273, 158295, 163804, 164323, 167471, 172512, 173415, 174304, 187256, 190459, 193499, 194600, 196077, 196466, 204864, 210485, 216683, 221445, 222296, 224430, 224764, 225595, 225810, 227447, 234828, 235105, 235282, 236058, 238120, 239584, 246311, 251140, 252071, 254465, 260897, 261829, 264031, 266865, 268032, 268110, 271448, 276680, 13273, 50225, 174304, 239584, 242299, 263325, 31315, 41084, 53174, 55490, 62272, 114368, 140358, 163570, 207782, 218608, 13273, 31315, 87141, 95316, 98391, 114368, 125519, 130474, 138578, 201674, 221445, 241980, 27617, 31315, 53174, 98391, 114368, 125519, 130474, 138578, 149069, 158295, 162639, 201674, 225087, 225763, 16795, 31315, 35859, 110912, 114368, 201674, 242646, 119575, 125519, 149069, 6563, 41084, 62272, 76151, 251843, 14422, 110973, 240568, 13850, 16795, 22625, 31556, 37644, 56856, 60244, 78834, 88122, 95359, 129716, 150979, 155014, 174304, 177432, 200226, 204864, 211426, 229741, 240567, 271448, 6575, 43910, 49460, 56447, 56959, 78834, 82407, 88793, 89602, 94347, 95932, 98758, 111174, 123981, 181687, 193499, 229741, 235282, 239584, 242083, 261829, 264321, 268622, 270713, 277427, 8245, 25409, 100906, 110934, 129716, 138844, 189973, 225810, 43910, 49460, 78834, 88793, 114988, 135149, 142121, 229741, 235282, 242083, 87555, 196077, 266865, 29855, 31315, 60244, 75591, 95316, 95932, 129716, 141710, 142524, 236757, 256407, 16795, 98391, 113270, 230522, 14422, 21014, 29855, 102967, 135149, 193458, 236757, 240568, 242106, 251843, 255489, 14422, 16795, 22625, 53174, 70415, 98391, 135149, 43246, 88793, 122793, 165308, 194600, 236757, 271195, 16795, 28204, 30533, 39281, 43619, 52584, 100846, 136205, 194600, 240567, 255489, 263325, 21014, 40943, 43246, 46398, 52584, 60244, 89602, 101876, 113270, 127826, 134797, 141710, 157273, 168064, 174216, 194600, 223087, 236283, 240567, 263325, 266865, 4017, 22625, 41841, 89602, 100459, 138844, 153662, 194600, 209756, 251422, 263325, 273979, 8245, 13850, 26544, 43246, 97874, 106225, 113270, 146113, 172512, 194600, 235282, 252071, 268932, 98391, 162738, 208671, 216466, 229313, 252071, 119575, 225087, 259901, 263877, 271705, 16634, 23872, 29259, 31315, 48046, 53174, 55490, 55734, 87555, 95932, 101606, 101876, 112001, 114368, 114444, 126492, 129716, 135265, 140358, 147141, 158295, 172742, 177432, 185233, 188010, 197364, 211426, 229313, 236757, 242083, 242106, 245410, 250962, 255489, 23872, 29259, 32773, 35836, 37950, 55490, 55734, 87555, 88937, 93047, 95316, 101606, 104399, 110934, 111174, 114368, 119575, 126492, 129716, 140358, 147141, 147847, 155014, 185233, 211426, 214786, 226965, 227705, 229313, 229741, 230522, 241666, 242083, 245410, 249862, 252820, 255489, 259629, 270713, 271195, 22625, 31556, 40889, 60244, 65258, 76818, 87555, 88122, 88733, 100459, 110934, 140358, 148744, 170513, 189835, 196160, 210485, 249862, 274061, 16795, 23872, 25981, 81492, 88937, 153662, 162738, 171118, 208406, 218552, 232131, 251394, 259901, 37950, 48494, 53174, 155014, 162738, 196160, 249862, 31556, 60244, 131046, 135149, 162738, 177432, 189835, 259901, 6543, 13850, 16795, 21576, 23872, 30533, 32773, 35859, 38023, 60244, 69078, 81492, 85426, 94347, 114444, 137589, 137688, 143415, 153662, 159033, 177432, 181176, 187145, 213150, 216683, 249862, 260897, 7346, 14422, 55927, 64436, 69971, 93629, 106007, 117251, 128835, 210485, 221445, 242083, 271705, 16634, 22625, 30735, 37644, 46398, 53174, 81977, 100906, 110973, 119575, 156150, 160819, 226965, 264321, 270713, 87555, 101606, 114368, 126492, 129716, 136010, 140358, 147141, 158295, 188010, 210485, 211426, 235392, 242106, 245410, 250962, 251394, 41084, 62891, 104665, 136348, 162639, 170513, 177432, 177458, 181176, 187256, 196738, 201684, 204591, 208406, 214786, 227705, 234828, 251422, 259629, 7346, 23872, 46398, 64436, 89602, 95359, 97874, 101876, 102647, 105517, 105979, 110912, 110934, 142121, 142524, 193458, 204864, 212923, 218608, 232131, 239584, 250962, 252820, 255489, 271195, 35859, 38023, 95359, 110973, 135045, 242106, 259629, 7346, 12824, 14521, 21014, 28634, 29259, 35857, 37712, 41084, 46398, 51883, 62891, 70594, 80810, 93629, 95359, 96448, 104665, 123883, 128835, 135045, 162639, 164323, 177458, 185233, 202277, 208406, 209373, 210485, 214786, 223087, 224349, 225087, 226545, 229741, 232945, 234828, 240567, 241666, 245410, 259629, 269566, 30735, 52584, 60244, 85526, 114868, 126736, 162639, 189973, 216683, 271448, 62891, 65258, 100906, 140358, 167471, 177458, 224138, 249628, 252695, 16795, 35857, 62891, 87141, 88733, 95359, 102647, 102967, 136010, 155014, 190925, 197659, 210485, 224349, 227705, 274308, 7346, 14422, 25981, 62891, 93629, 95359, 95991, 105979, 183995, 204591, 229011, 234828, 238120, 245410, 93629, 104636, 123981, 125519, 158295, 196738, 255489, 16795, 31826, 37950, 214786, 227705, 232131, 241666, 13552, 55490, 87555, 95932, 111174, 126492, 129716, 135265, 136010, 170513, 225763, 226965, 250962, 259629, 270713, 271195, 23872, 55490, 87555, 101606, 107784, 114368, 114444, 119575, 126492, 129716, 140358, 152186, 177432, 185233, 207782, 208406, 211426, 224764, 226965, 229313, 238120, 242106, 245410, 250962, 251394, 255489, 271195, 28634, 31826, 37950, 158295, 225595, 16795, 21014, 22625, 30735, 40889, 88122, 89602, 92810, 144555, 163570, 196077, 216683, 221445, 258938, 270713, 7346, 28634, 41841, 87141, 105517, 126736, 159033, 209373, 214786, 225087, 266056, 267635, 31826, 35836, 55490, 126492, 135045, 225087, 227705, 232131, 41084, 55892, 70594, 164323, 204591, 214786, 227705, 234828, 252695, 259629, 268032, 51883, 96448, 135045, 152186, 181176, 203240, 209373, 225087, 259629, 95359, 126492, 126736, 138578, 181176, 238120, 37712, 95359, 147141, 173415, 185233, 224764, 225087, 226965, 250962, 264082, 53174, 68555, 95359, 126736, 140358, 196738, 6575, 56447, 69971, 82407, 128835, 239584, 261829, 268110, 37950, 171118, 235105, 236757, 241666, 123981, 189973, 201447, 218552, 235282, 251140, 255489, 38273, 124487, 174216, 178199, 193499, 196077, 232945, 258534, 16106, 25409, 53220, 127359, 173415, 187256, 197364, 204864, 258534, 25409, 38273, 83287, 102275, 173415, 193499, 197364, 204864, 258534, 261829, 274308, 277427, 16795, 19085, 40889, 48494, 53174, 59172, 69971, 81492, 92810, 100846, 106007, 135149, 177432, 214786, 224349, 225595, 267635, 100846, 101876, 16634, 110934, 196738, 208671, 236058, 261829, 265115, 265313, 19085, 126492, 143175, 226965, 4017, 36907, 105517, 115003, 193458, 101606, 126604, 140358, 163570, 170513, 172742, 214786, 225763, 25409, 89602, 92810, 214786, 230522, 6543, 8253, 37712, 77809, 114988, 135149, 141493, 174216, 174304, 187145, 219546, 224764, 239584, 271705, 276680, 16795, 49460, 64436, 73651, 75591, 95359, 111174, 113270, 115003, 174216, 189973, 200226, 203240, 209373, 210485, 223087, 224430, 268110, 16795, 22625, 29855, 43246, 113270, 123981, 138844, 144555, 160819, 178667, 230522, 263877, 264031, 265115, 266865, 19085, 25981, 89602, 95359, 207782, 210485, 236283, 4017, 21576, 22625, 26544, 35857, 41841, 43246, 64436, 78783, 104665, 113519, 123095, 137589, 163804, 178199, 189973, 203240, 208671, 222296, 251843, 260897, 263877, 270713, 271448, 52584, 59172, 110973, 126492, 170513, 197364, 197659, 225595, 234828, 259901, 264031, 274061, 6543, 7346, 16106, 39281, 43246, 60244, 73651, 78783, 88793, 111174, 113270, 113519, 117251, 136348, 141493, 160819, 162738, 210485, 265115, 271448, 35836, 36606, 106225, 130571, 162738, 181687, 208147, 231210, 232131, 35859, 98391, 138578, 178199, 225087, 234359, 10447, 16106, 51883, 55734, 60244, 69971, 115003, 153662, 187145, 193499, 240567, 30276, 114368, 123883, 178667, 216012, 249628, 13552, 25981, 47316, 114368, 123883, 135149, 177090, 216012, 73651, 114368, 123883, 216012, 227520, 114368, 123883, 189516, 216012, 114368, 123883, 153718, 203799, 30276, 114368, 123883, 153662, 177374, 227520, 247447, 264082, 13552, 51450, 114368, 123883, 153662, 153718, 203799, 264082, 26544, 48494, 114368, 123883, 135265, 177374, 227520, 264082, 13552, 31315, 114368, 123883, 140358, 153662, 153718, 165308, 177374, 216683, 227520, 25981, 81492, 107784, 143175, 187517, 235935, 60244, 86189, 50225, 69078, 101305, 108005, 111174, 141710, 157273, 169663, 218552, 224349, 235105, 69078, 75591, 101305, 55490, 145449, 185233, 258534, 6575, 7158, 16795, 85757, 143415, 200226, 203240, 27617, 36606, 55490, 98391, 110973, 112001, 126492, 130474, 140358, 142121, 158295, 163570, 185233, 189835, 197659, 209373, 274061, 10447, 19664, 21014, 35859, 60244, 67840, 69078, 85426, 110934, 112001, 114988, 115003, 135831, 148744, 178199, 190925, 204864, 266865, 271448, 56447, 60244, 89602, 122793, 136139, 138844, 194600, 271448, 273979, 10447, 35857, 35859, 39281, 43619, 78834, 94347, 105979, 110973, 138844, 153662, 188010, 203240, 240568, 254465, 268932, 273979, 16795, 23768, 35857, 46398, 100846, 224430, 250962, 252695, 271448, 8253, 82407, 94347, 122429, 137688, 4017, 23768, 100459, 137589, 138578, 153662, 187145, 208829, 229741, 251394, 271448, 4017, 6242, 6575, 21014, 60244, 66680, 69078, 85757, 89602, 101305, 102967, 130571, 135149, 169663, 190925, 246311, 249628, 252695, 268110, 6575, 7915, 16795, 22625, 35857, 37644, 46398, 64436, 94347, 107784, 113519, 114444, 115003, 130571, 135831, 136382, 137589, 138844, 145641, 147847, 153662, 160819, 165308, 187145, 193499, 196077, 196466, 208829, 210485, 217375, 224430, 231210, 266056, 273979, 4017, 6242, 16106, 16795, 21014, 30972, 35859, 41841, 46398, 53174, 85426, 95359, 100846, 113519, 114868, 122793, 138844, 139742, 187145, 250184, 263163, 264321, 265889, 270713, 271448, 6251, 6575, 16634, 48046, 85757, 88793, 95359, 150979, 160819, 162052, 166596, 231210, 246311, 258534, 260897, 6242, 7346, 8253, 16795, 21014, 30533, 64436, 85526, 89602, 95359, 101305, 112001, 115003, 123095, 142524, 145449, 203240, 204864, 222296, 224430, 225763, 246311, 260897, 6251, 14422, 16795, 21576, 22625, 31315, 35857, 37712, 39281, 41841, 43246, 60244, 75591, 86189, 88937, 89602, 94347, 95359, 100459, 123095, 136139, 138844, 140358, 147847, 153662, 160819, 165308, 165319, 204864, 208829, 210485, 240567, 273979, 276680, 6575, 8067, 25409, 39281, 78834, 123981, 135149, 150979, 210485, 223087, 223154, 224349, 225763, 236172, 239584, 250184, 265115, 6575, 16634, 16795, 30735, 36907, 37644, 78834, 85426, 89602, 95932, 105517, 129716, 156150, 165319, 172742, 177432, 189835, 207782, 218608, 251140, 254206, 265313, 270713, 16634, 31826, 45557, 48494, 52584, 55492, 93629, 136382, 147847, 200226, 216683, 225810, 229741, 230522, 254465, 255489, 264082, 268032, 13552, 21014, 28634, 30972, 100906, 104636, 123981, 135149, 140358, 144555, 155014, 208829, 234828, 235392, 236172, 240567, 241666, 255489, 274308, 7346, 13552, 27617, 35857, 40943, 51883, 70415, 190708, 208829, 30533, 35859, 43246, 55490, 82407, 85993, 100459, 156300, 158295, 177072, 207499, 210485, 241666, 29259, 35859, 85993, 100459, 104636, 123981, 156150, 189516, 190925, 207499, 223154, 224430, 247752, 258534, 13552, 23768, 29259, 35859, 37644, 39281, 43246, 53220, 78783, 95359, 100459, 104636, 104665, 146113, 156150, 156467, 235392, 241666, 247752, 270713, 274308, 78783, 130571, 148744, 224430, 225087, 4017, 16795, 22625, 66680, 95359, 110912, 113270, 122793, 138844, 140358, 142256, 148744, 187517, 194600, 218608, 231210, 270713, 35836, 67840, 92810, 136139, 158295, 162639, 163804, 178199, 182993, 201684, 208829, 209373, 246311, 12824, 13273, 16634, 19085, 41841, 67840, 89602, 110973, 136205, 165319, 171118, 236058, 242083, 254, 6251, 55490, 56447, 81492, 89602, 95932, 100459, 114988, 142524, 155014, 165319, 204864, 232131, 236058, 10447, 29855, 35859, 52584, 65258, 78783, 100459, 114868, 123981, 136205, 136382, 138844, 153662, 160819, 178667, 181687, 188010, 190925, 203240, 216683, 224430, 234828, 240568, 258938, 263325, 268110, 270713, 271448, 6251, 50225, 114988, 156150, 6251, 6543, 46398, 64436, 70594, 89602, 167471, 173415, 181176, 203240, 204864, 235105, 241980, 242083, 242299, 249894, 6575, 7346, 8253, 48046, 75591, 81977, 89602, 95932, 239584, 275970, 155014, 201447, 265313, 4017, 29855, 30487, 82407, 95359, 105979, 115003, 135149, 138578, 148744, 150979, 187517, 223154, 224430, 226965, 229313, 236757, 55490, 101851, 108005, 149069, 182993, 242083, 254206, 255489, 258534, 25981, 89602, 100459, 142121, 162639, 166596, 175052, 210485, 268110, 25981, 59172, 114368, 153662, 225087, 55892, 112001, 135265, 140358, 226965, 251843, 270820, 31315, 105517, 189835, 209373, 165308, 207782, 6575, 19664, 25409, 40943, 51450, 78783, 85426, 85757, 114868, 119575, 122429, 125692, 133689, 133747, 143175, 157273, 158295, 164323, 181687, 182993, 188010, 194600, 201447, 201674, 225763, 226545, 235935, 246513, 251140, 252071, 258938, 263325, 268110, 7346, 21014, 60244, 78783, 85757, 105979, 127359, 138844, 164323, 181687, 182993, 221445, 223087, 226545, 229741, 246513, 254465, 258938, 265115, 78783, 114868, 127233, 138844, 141493, 164323, 210485, 250962, 6563, 92810, 113519, 135831, 238120, 16795, 21014, 29855, 56959, 137589, 169663, 174304, 175052, 189835, 210485, 6242, 37712, 40889, 46398, 69971, 143415, 174304, 177072, 181176, 211426, 229741, 261829, 263163, 266865, 53174, 114368, 28204, 37950, 101851, 114368, 146803, 213150, 28204, 114368, 114868, 146803, 170947, 241980, 40889, 77809, 114368, 126492, 136382, 146803, 170947, 200226, 207499, 208829, 226545, 270820, 277427, 31315, 95359, 114368, 136382, 146803, 193898, 197659, 270820, 8067, 21659, 31315, 87141, 114368, 158295, 208829, 221445, 224349, 268622, 56447, 95359, 101305, 135045, 141710, 145449, 155147, 162052, 181176, 193458, 224349, 230522, 245410, 249628, 36606, 69078, 204864, 231210, 239584, 7346, 62891, 75591, 76818, 95359, 100906, 105517, 107784, 125692, 128835, 135045, 136205, 172742, 174304, 241666, 242083, 252071, 6251, 6563, 6575, 13552, 13850, 21576, 22625, 30735, 36907, 40889, 43246, 46398, 50225, 76151, 87555, 102967, 105517, 105979, 106225, 110912, 133689, 137589, 145641, 147847, 163804, 181687, 183995, 190708, 224430, 229313, 235282, 236283, 245645, 263163, 266056, 271195, 4017, 39281, 46398, 69971, 80810, 93047, 95359, 100906, 130571, 156150, 167471, 196466, 214786, 222296, 268932, 277427, 36907, 37950, 172512, 204864, 208829, 227705, 248718, 250962, 87141, 114368, 126492, 140358, 146803, 170947, 200226, 224349, 225087, 241980, 16795, 30533, 50225, 52584, 83287, 95359, 101606, 105979, 113270, 127826, 128835, 130571, 133747, 141710, 167471, 170513, 175052, 208406, 231210, 246311, 256407, 261829, 266056, 269566, 270820, 87141, 114368, 130474, 140358, 146803, 153662, 170634, 170947, 207499, 252820, 31315, 85993, 100459, 114368, 127359, 146803, 149069, 187256, 208829, 241980, 22625, 31315, 53220, 64436, 76151, 100846, 111174, 114368, 115003, 125519, 130571, 140358, 145641, 149069, 187256, 210485, 252820, 259629, 4017, 21576, 46398, 52584, 53174, 100459, 142256, 187145, 200226, 251140, 13273, 16795, 25981, 51883, 66680, 106225, 110912, 114368, 125519, 126492, 143175, 162639, 235105, 7915, 13273, 13552, 14521, 16795, 30276, 31826, 37712, 39281, 48046, 53174, 55927, 67840, 68555, 70594, 81977, 86189, 89602, 92810, 93629, 97874, 98391, 100846, 101305, 105979, 107784, 114868, 115003, 131046, 142524, 146803, 157273, 159033, 162738, 169663, 170513, 174304, 178199, 187256, 209373, 210485, 214786, 216466, 218552, 218608, 225595, 227705, 229313, 229741, 230522, 232131, 235105, 236172, 240567, 242083, 242646, 250962, 251422, 251843, 263325, 268622, 274308, 276680, 277427, 10447, 16795, 23768, 41841, 60244, 64436, 66680, 76151, 81492, 93629, 98758, 102647, 104636, 108005, 114368, 127233, 136382, 139742, 140358, 162639, 165308, 196466, 197659, 208829, 211344, 223154, 271448, 13273, 25981, 39281, 43246, 55492, 56554, 70594, 112001, 126492, 144531, 196077, 249628, 2766, 136205, 258938, 69078, 77809, 95359, 136348, 142121, 181687, 182993, 223087, 224430, 226545, 235105, 246513, 255489, 258938, 266056, 268622, 6575, 12824, 16795, 37712, 60244, 66680, 78783, 85526, 94347, 100459, 113270, 138844, 142256, 155147, 162639, 163804, 166596, 196077, 223154, 263325, 266056, 36907, 37712, 75591, 114988, 173415, 196077, 229011, 6543, 37712, 40889, 60244, 69078, 85526, 85757, 89602, 114988, 115003, 122429, 169663, 190925, 224138, 8253, 189835, 193499, 203240, 212923, 236058, 264031, 275970, 6543, 6575, 8245, 21014, 22625, 35859, 43246, 69971, 75591, 105979, 110912, 111174, 115003, 127359, 142524, 162052, 169663, 204864, 208829, 212923, 231210, 235935, 238120, 242106, 245371, 251394, 263325, 268110, 275970, 7346, 16106, 40943, 55492, 56554, 75591, 84024, 105979, 114868, 150979, 201674, 221445, 234359, 250184, 6251, 25981, 37712, 56959, 60244, 75591, 76499, 162639, 174304, 189835, 203240, 216683, 268110, 93629, 98758, 110973, 140358, 150968, 158295, 189835, 46398, 114988, 129716, 163804, 189835, 193499, 27617, 66680, 146803, 173415, 174216, 31315, 66680, 80810, 130571, 173415, 227447, 31315, 86189, 158295, 174216, 193898, 203799, 249628, 25981, 56554, 126736, 146803, 156150, 173415, 208829, 35859, 66680, 31315, 140358, 156150, 208829, 31315, 39281, 53220, 80810, 101876, 126736, 146803, 187256, 193898, 251843, 254, 30735, 46398, 69078, 95359, 101851, 110912, 129716, 136348, 142524, 235105, 76151, 114368, 123883, 140358, 207349, 227520, 66680, 98391, 16795, 21014, 35857, 39281, 43910, 44728, 98391, 129716, 190925, 223087, 235282, 255489, 264031, 76151, 98391, 123883, 130474, 153662, 177374, 187517, 207349, 216012, 31315, 76151, 84024, 98391, 163804, 13273, 30735, 46398, 98391, 100846, 158295, 225087, 232131, 235105, 236283, 252695, 16634, 32773, 35857, 37950, 41084, 55187, 56856, 78834, 88122, 95359, 101851, 126492, 133747, 135149, 148744, 174304, 178667, 187145, 211344, 218608, 219546, 225763, 230522, 231210, 240567, 265313, 277427, 35859, 136139, 153662, 158295, 185233, 227705, 95991, 127233, 234828, 245371, 248718, 249628, 254206, 255489, 93629, 133747, 181687, 232131, 245645, 276680, 35836, 37950, 114444, 162738, 209756, 70594, 93047, 109574, 127359, 128835, 149069, 125692, 126492, 135149, 173415, 197659, 227705, 232945, 254206, 259629, 13552, 31826, 41084, 114444, 214786, 270713, 43246, 163570, 184299, 209373, 252820, 254206, 16795, 28634, 31315, 52584, 87141, 107784, 273979, 13552, 16795, 31826, 35859, 41084, 56554, 98758, 100459, 102647, 123981, 133689, 135045, 142121, 158295, 177432, 190925, 216683, 227705, 234828, 270820, 87141, 88122, 114444, 127233, 177432, 232945, 234828, 235105, 248718, 259629, 265313, 13552, 16795, 25981, 31826, 107784, 135045, 158295, 168064, 184299, 208671, 216683, 68555, 88122, 188010, 232945, 235105, 248718, 265313, 277427, 7915, 60244, 105517, 127826, 141710, 152186, 153662, 166596, 223087, 223154, 234828, 265115, 25981, 227705, 235105, 85993, 123981, 158295, 163804, 214786, 227705, 235105, 258534, 261829, 227705, 232945, 248718, 254206, 259629, 274308, 13552, 31826, 37950, 55490, 59172, 104665, 135045, 156300, 158295, 177432, 178667, 227705, 232131, 255489, 261829, 13552, 31826, 35836, 158295, 194600, 203799, 227705, 39281, 55187, 107784, 143175, 197659, 227705, 232945, 265313, 13552, 19085, 30972, 31826, 95359, 104665, 114444, 123095, 156300, 158295, 177432, 227705, 234828, 270820, 31826, 35836, 40889, 41084, 55490, 104665, 123095, 124487, 156300, 158295, 168064, 170513, 207782, 242646, 6575, 8245, 16795, 44728, 78834, 135149, 221445, 223087, 226965, 232131, 235282, 269566, 271448, 48494, 73651, 124487, 184299, 189516, 209373, 232945, 235105, 248718, 254206, 265313, 28634, 35836, 47316, 55892, 59172, 126736, 194600, 225595, 227705, 241666, 53220, 55490, 225763, 234828, 245410, 19085, 102647, 249628, 31315, 31826, 55490, 225595, 227705, 95991, 123883, 196738, 197659, 209373, 232945, 248718, 7346, 21014, 28634, 29259, 29855, 78783, 140358, 162639, 193898, 223154, 225087, 234828, 241666, 247752, 258534, 270713, 8253, 36606, 37950, 97874, 268932, 7346, 13552, 29259, 43619, 100459, 106225, 140358, 189516, 203799, 207499, 223154, 225087, 241666, 247752, 258534, 19085, 123981, 126736, 21014, 30972, 100459, 171118, 190925, 227705, 235392, 252695, 270713, 143175, 232945, 235105, 265313, 44728, 70052, 95359, 104665, 136348, 158295, 171118, 187517, 16795, 21014, 22625, 35859, 43910, 75591, 94347, 122793, 125692, 138844, 166596, 189973, 196466, 234359, 240568, 263325, 16916, 21014, 30972, 43246, 43619, 78783, 123981, 124487, 140358, 225087, 227705, 247752, 258534, 264082, 19664, 21014, 22625, 26544, 43619, 43910, 66680, 95359, 105979, 138844, 162639, 224430, 226965, 234359, 235282, 13552, 21659, 31315, 78783, 135149, 162738, 204864, 225087, 245410, 247752, 261829, 264082, 264321, 270713, 274308, 13552, 28634, 78783, 101876, 131046, 147847, 152186, 165319, 185233, 258534, 28634, 35859, 66680, 114444, 144555, 227447, 227705, 258185, 267635, 30972, 37950, 66680, 80810, 156300, 247752, 2766, 89602, 135149, 214786, 30276, 43246, 114368, 123883, 140358, 153662, 170947, 218608, 225763, 227447, 227520, 236172, 247447, 256407, 269890, 28634, 37950, 38273, 55734, 140358, 162639, 247752, 258534, 16795, 112001, 193458, 85993, 104399, 112001, 156300, 190708, 241980, 16795, 38273, 66680, 124487, 158295, 193898, 197659, 214786, 232131, 255489, 258185, 258534, 267635, 28634, 35859, 38273, 53220, 56959, 83287, 92810, 101876, 167471, 232131, 256407, 258534, 6575, 76499, 136139, 173415, 212923, 263325, 268110, 271448, 8067, 30276, 98391, 114368, 123883, 142256, 153662, 156467, 158295, 177090, 227520, 235392, 245410, 247447, 258185, 30276, 47316, 114368, 123883, 153662, 153718, 156269, 177090, 227520, 247447, 258185, 38273, 66680, 124487, 158295, 235105, 25409, 78783, 89602, 104636, 164323, 165319, 175052, 190925, 267635, 22625, 23872, 55492, 75591, 85993, 88122, 93047, 100906, 101851, 102647, 104399, 110912, 110934, 114368, 162639, 168047, 170634, 181176, 211426, 226965, 232131, 254, 8245, 12824, 21014, 30735, 37950, 47316, 56447, 81492, 88733, 104636, 105517, 110973, 126736, 137589, 147141, 153662, 153718, 156150, 156269, 157273, 165308, 170513, 172512, 173415, 216466, 224138, 242083, 249628, 263163, 265313, 274308, 6251, 23872, 30735, 36907, 55492, 56959, 85993, 88122, 100906, 101851, 102647, 110934, 140358, 162639, 168047, 170513, 170634, 177374, 181176, 211426, 226965, 229741, 232131, 240144, 242106, 263163, 269566, 271705, 254, 12824, 21576, 88733, 93047, 104399, 104636, 135149, 147141, 153662, 196738, 208406, 242083, 249862, 265313, 254, 6251, 13273, 23872, 25409, 30735, 55492, 85993, 87555, 88122, 88733, 93047, 101851, 110912, 110934, 153662, 162639, 168047, 170513, 170634, 177374, 193499, 208406, 226965, 240144, 242106, 248718, 6563, 21576, 100906, 104636, 105517, 137589, 153718, 165308, 172512, 196738, 229741, 242083, 249894, 258534, 260897, 271448, 6251, 6563, 21576, 22625, 25409, 30735, 55492, 78834, 85993, 88733, 95359, 100906, 101851, 102647, 105517, 127233, 135149, 145449, 146803, 147141, 153662, 156150, 170634, 185233, 190708, 208406, 226965, 229741, 235105, 240144, 242083, 242106, 247447, 249894, 260897, 265889, 271448, 7346, 40943, 46398, 88733, 125692, 156269, 177374, 196738, 214786, 263163, 275970, 8245, 112001, 162052, 200226, 245645, 251843, 13552, 62272, 68555, 104636, 107784, 114368, 218552, 55490, 60244, 75591, 76499, 137688, 152186, 160819, 165319, 177432, 208829, 219546, 235105, 242083, 263163, 275970, 16795, 59172, 62272, 104636, 114368, 147847, 246513, 254465, 13552, 16795, 25981, 62272, 68555, 104636, 114368, 133689, 216683, 23872, 31826, 104636, 107784, 190925, 238120, 242646, 249628, 13552, 62272, 68555, 104636, 108005, 114368, 216683, 225087, 30533, 48494, 70415, 123981, 200226, 235105, 236283, 245645, 258185, 13552, 51883, 62272, 104636, 133689, 156150, 6251, 12824, 28634, 38023, 53174, 62891, 80810, 85426, 85993, 93629, 106007, 126492, 135045, 135265, 144555, 155014, 196738, 204864, 225087, 227705, 232945, 234828, 249628, 254206, 261829, 263325, 264321, 265313, 266865, 271705, 25981, 104636, 114368, 133689, 254465, 271448, 2766, 14521, 16795, 21014, 36606, 100906, 112001, 128835, 155147, 245645, 254465, 260897, 8245, 8253, 21659, 28634, 29259, 30972, 35859, 37950, 48494, 55734, 56856, 86189, 87141, 88733, 95932, 102647, 102967, 104636, 104665, 105979, 107784, 114868, 125519, 126492, 126736, 127826, 134797, 135045, 137589, 140358, 141493, 147847, 148744, 153718, 156467, 158295, 162738, 164323, 170947, 187145, 197364, 210485, 226545, 227705, 234828, 235392, 240567, 242083, 245371, 249628, 255489, 6563, 12824, 13552, 23872, 28634, 87141, 95991, 100459, 101851, 102647, 104636, 104665, 110934, 112001, 114368, 126492, 126736, 135045, 135149, 140358, 150979, 153662, 155014, 162639, 162738, 163570, 164323, 172512, 177072, 197659, 218552, 221445, 224349, 226545, 228764, 229011, 238120, 242083, 245371, 251140, 261829, 268032, 6543, 7915, 30276, 31556, 32773, 37712, 53174, 68555, 69971, 82407, 86189, 123883, 133689, 166596, 223154, 226545, 236757, 239584, 242106, 247447, 251843, 261829, 269890, 14422, 55187, 102967, 112001, 124487, 127826, 137589, 166596, 6563, 14521, 16634, 16795, 47316, 87141, 101876, 102647, 104636, 105979, 125519, 126492, 126736, 135149, 137589, 153662, 156467, 170947, 177072, 197659, 208829, 218552, 225087, 226545, 229011, 234828, 240567, 258534, 259629, 265115, 270820, 271448, 274308, 13552, 16795, 16916, 21659, 28634, 31315, 37950, 56856, 68555, 70052, 93629, 95932, 102647, 104636, 104665, 105517, 105979, 125519, 126492, 135149, 135265, 137589, 140358, 153662, 153718, 156467, 158295, 162738, 163570, 164323, 171118, 173481, 177072, 207499, 207782, 208829, 209373, 221445, 225087, 226545, 229741, 232945, 240567, 242083, 255489, 258534, 259629, 268032, 7915, 8245, 32773, 37712, 37950, 53174, 68555, 78783, 86189, 124487, 136010, 156150, 189835, 226545, 235392, 242106, 251843, 70052, 190708, 224764, 264031, 2766, 23872, 36606, 56447, 60244, 95359, 104636, 150979, 162052, 189835, 230522, 236058, 249894, 269566, 13552, 28634, 30487, 36606, 37950, 40889, 41084, 56856, 68555, 87141, 102647, 104636, 106225, 107784, 125519, 126736, 135149, 137589, 140358, 144555, 177072, 224138, 227705, 229011, 235935, 240567, 242083, 7915, 16795, 21014, 21659, 95359, 110934, 150979, 173481, 182993, 194600, 209756, 40889, 43619, 165308, 196077, 208671, 225810, 7346, 13552, 28634, 56856, 68555, 102647, 105979, 126492, 139742, 141493, 150979, 162738, 170947, 173481, 178667, 203799, 214786, 232945, 242083, 256407, 264082, 265115, 268622, 40889, 104636, 213150, 2766, 49460, 110973, 112001, 128835, 130571, 137589, 194600, 239584, 245645, 251843, 254465, 276680, 13552, 16795, 35857, 37950, 55734, 55892, 56856, 102647, 104636, 104665, 105979, 106007, 107784, 114868, 114988, 126736, 127826, 140358, 150979, 158295, 213150, 218608, 240567, 242083, 6251, 14521, 16795, 16916, 30972, 37712, 39773, 47316, 70052, 78783, 107784, 135045, 135149, 200226, 236757, 240567, 242646, 251422, 86189, 112001, 113519, 127826, 162639, 164323, 173481, 175052, 209756, 235392, 6563, 43619, 112001, 127826, 164323, 208671, 245645, 265115, 111174, 124487, 135045, 135149, 139742, 230522, 234828, 240567, 6251, 12824, 16795, 28634, 52584, 62891, 126492, 135265, 138578, 144555, 162738, 189835, 190708, 209756, 224764, 225763, 227705, 232945, 265313, 266865, 8245, 13552, 40889, 56856, 68555, 85993, 88937, 104636, 123981, 125519, 127826, 135149, 140358, 141493, 144531, 156467, 214786, 217375, 227705, 232945, 242083, 249628, 258185, 265115, 277427, 59172, 7346, 21659, 30487, 38273, 40889, 41841, 43619, 68555, 80810, 88937, 102647, 104636, 112001, 125519, 136382, 137589, 173481, 201684, 209373, 227705, 229011, 232131, 232945, 236172, 241666, 251843, 264082, 268622, 7158, 16795, 28634, 40889, 110973, 138844, 143415, 150979, 156150, 181687, 196466, 240568, 258534, 261829, 270713, 6563, 7915, 16795, 21659, 30533, 35857, 50225, 95359, 100846, 104636, 110912, 114368, 124487, 135149, 156150, 156467, 162639, 168064, 189973, 203240, 210485, 226965, 231210, 249628, 251422, 254465, 256407, 260897, 7346, 13552, 30533, 31315, 105979, 107784, 124487, 125519, 134797, 193898, 214786, 216683, 229011, 232131, 232945, 236172, 240567, 241666, 241980, 258534, 273979, 14422, 134797, 141493, 142256, 235935, 21014, 60244, 78783, 108005, 127359, 135149, 164323, 190459, 240144, 245645, 251843, 260897, 266865, 7346, 25981, 43619, 53220, 68555, 87141, 95359, 106225, 124487, 126492, 135149, 137589, 174216, 181687, 217375, 221445, 229313, 232945, 236172, 240567, 242083, 242299, 249628, 271195, 16795, 23768, 40889, 95359, 114444, 140358, 162639, 162738, 163804, 241980, 143175, 28634, 30487, 30972, 38273, 68555, 69971, 104665, 106225, 112001, 122429, 135149, 141710, 146113, 156467, 164323, 165308, 170513, 172512, 178667, 181687, 208147, 216683, 223154, 240567, 242299, 249628, 258534, 271448, 7346, 41841, 43619, 48494, 53220, 92810, 105979, 112001, 172742, 173481, 177072, 178199, 207782, 209373, 232945, 240567, 258534, 261829, 267635, 8067, 13552, 64436, 98391, 107021, 127233, 153662, 156467, 159033, 201447, 246513, 247447, 265889, 13552, 28634, 30533, 53220, 164323, 235105, 240567, 32773, 38273, 76499, 104636, 114988, 122429, 135149, 165308, 170513, 204864, 239584, 240144, 242299, 249862, 269566, 6251, 37644, 56959, 88733, 95359, 95932, 105517, 142121, 144531, 148744, 162639, 173415, 175052, 189835, 196160, 203240, 235105, 263163, 266056, 271448, 14521, 37712, 102967, 130571, 133747, 187256, 6251, 31556, 56959, 60244, 80810, 93047, 95359, 122429, 135149, 150979, 165319, 168064, 171118, 203240, 207782, 211344, 223154, 224349, 225810, 235105, 240144, 251140, 263163, 265313, 6251, 30533, 46398, 87141, 89602, 95359, 127359, 157273, 184299, 223154, 8253, 41841, 53174, 69971, 76499, 76818, 88937, 101851, 156150, 184299, 204864, 234828, 250962, 259901, 264321, 267635, 48046, 88122, 167471, 177432, 236058, 250962, 2766, 4017, 8253, 13850, 21576, 31556, 37712, 37950, 55187, 59172, 89602, 95359, 100459, 102647, 105979, 110934, 113519, 115003, 123883, 136205, 145449, 147847, 159033, 168047, 171118, 174304, 177432, 181176, 184299, 187145, 200226, 229741, 231210, 236058, 240567, 245371, 247447, 251422, 256407, 260897, 263325, 52584, 55490, 55892, 95359, 98758, 102967, 142256, 277427, 16795, 156467, 163804, 177090, 235935, 263877, 13552, 196738, 247447, 7346, 16634, 68555, 93629, 100459, 102647, 196738, 201447, 201684, 221445, 227705, 232945, 252695, 16916, 35859, 68555, 88733, 93629, 95991, 114988, 158295, 207499, 265115, 267635, 16795, 25981, 109574, 135149, 147847, 189835, 234828, 238120, 248718, 270713, 16795, 19085, 53174, 53220, 70052, 83287, 100459, 102647, 104636, 125519, 143175, 150979, 173481, 217375, 232945, 240567, 254465, 267635, 150968, 254465, 14422, 68555, 70052, 87141, 101876, 140358, 143175, 149069, 163570, 225763, 68555, 147847, 193898, 30735, 35859, 93629, 95359, 153662, 164323, 187256, 212923, 216683, 263877, 13552, 14422, 16795, 21659, 28634, 29855, 39281, 55492, 62891, 65258, 85526, 101876, 104665, 109574, 119575, 153718, 163804, 183995, 213150, 218608, 229313, 232131, 260897, 268110, 275970, 2766, 4017, 49460, 66680, 68555, 208829, 230522, 254465, 266056, 16795, 22625, 36606, 39281, 46398, 55187, 100459, 142121, 225087, 226965, 252820, 266865, 7158, 8253, 23768, 27617, 85993, 153718, 158295, 181687, 185233, 200226, 208671, 39773, 112001, 162639, 271705, 28634, 43246, 113270, 236283, 122429, 224349, 158295, 236172, 259629, 98391, 100846, 158295, 235105, 25981, 114368, 140358, 146113, 92810, 110934, 114368, 136139, 193898, 251843, 76151, 193898, 218552, 225087, 6575, 16795, 70415, 92810, 98391, 113270, 135149, 165308, 208671, 7158, 25981, 36606, 98391, 236283, 8253, 16795, 98391, 112001, 113270, 123095, 134797, 138578, 150968, 162738, 170947, 236283, 254465, 268932, 6251, 36907, 37712, 55492, 55892, 69971, 75591, 78834, 85526, 97874, 105979, 108005, 114868, 131046, 167471, 207782, 232131, 255489, 274308, 7158, 16795, 56554, 97874, 122793, 150968, 236283, 19085, 30972, 53220, 55490, 95359, 110912, 122793, 125519, 126736, 158295, 178199, 178667, 204864, 207499, 214786, 221445, 232945, 240567, 242646, 247752, 254465, 264321, 269890, 51883, 70415, 122793, 123095, 241666, 112001, 123981, 167471, 187517, 204864, 225763, 242646, 14422, 50225, 68555, 187256, 214786, 234828, 254206, 8245, 26544, 28634, 53220, 84024, 100459, 104636, 173481, 196738, 207499, 232131, 258534, 269890, 216683, 248718, 266056, 6575, 55892, 89602, 92810, 106007, 124487, 140358, 203799, 211426, 214786, 225087, 241980, 242646, 263163, 39281, 53220, 59172, 80810, 98758, 101876, 104636, 125519, 141493, 142256, 256407, 258534, 16795, 19664, 36606, 41841, 43246, 46398, 53174, 56554, 68555, 101876, 123095, 123883, 133689, 141493, 145641, 147847, 155014, 181176, 187256, 201674, 216683, 236283, 250184, 254465, 258938, 271448, 6543, 7158, 30972, 53220, 55490, 95359, 125519, 204864, 207782, 208406, 221445, 225087, 232945, 240567, 258534, 261829, 263877, 31315, 35836, 53220, 104636, 110934, 134797, 149069, 190925, 197659, 218608, 221445, 225087, 258534, 269890, 8245, 68555, 100846, 101876, 139742, 193898, 200226, 223154, 232945, 6575, 8067, 23872, 25981, 30972, 40889, 43246, 48494, 52584, 56554, 105979, 124487, 125692, 134797, 170947, 172512, 177458, 218552, 225087, 228764, 230522, 236283, 249628, 264321, 16795, 43619, 55490, 55734, 84024, 95359, 102275, 102647, 127233, 136010, 142256, 149069, 185233, 196160, 218608, 223154, 232945, 236757, 240567, 242646, 246513, 30972, 53220, 102647, 106007, 124487, 193898, 221445, 229313, 261829, 265115, 105517, 126736, 196077, 207782, 226965, 232131, 258534, 261829, 263877, 266056, 269890, 38273, 43246, 67840, 92810, 101876, 196738, 277427, 7158, 16795, 28634, 39773, 43246, 43619, 107784, 113270, 123883, 133689, 135149, 153718, 162639, 188010, 224430, 236283, 247447, 250184, 252071, 254465, 16795, 28634, 37950, 43619, 53220, 92810, 95316, 101876, 119575, 123981, 125519, 135149, 258534, 260897, 265115, 84024, 102275, 119575, 225595, 252695, 16795, 158295, 6543, 16795, 30276, 35859, 43246, 51450, 53220, 55187, 83287, 84024, 95359, 104636, 110912, 125519, 136382, 143175, 147847, 177458, 189516, 190925, 204591, 213150, 225763, 225810, 228764, 232131, 232945, 235282, 236058, 246513, 258185, 258534, 261829, 266056, 30972, 38273, 43246, 83287, 108005, 135149, 139742, 200226, 226965, 236172, 7158, 16795, 36606, 78783, 92810, 102967, 123883, 130571, 136382, 173481, 242299, 247447, 251422, 8067, 13552, 21576, 30276, 81492, 98391, 104636, 107021, 114368, 133689, 143175, 146113, 193499, 216012, 217375, 223154, 247447, 251422, 258938, 7158, 44728, 53174, 112001, 122793, 156300, 170634, 190925, 196077, 208671, 226965, 235935, 246513, 254465, 261829, 266865, 47316, 50225, 55490, 95316, 95359, 177072, 193898, 208406, 214786, 221445, 227447, 232131, 232945, 240567, 241980, 261829, 274308, 83287, 101606, 112001, 135149, 193458, 240568, 242646, 261829, 2766, 14521, 25409, 35857, 40889, 66680, 97874, 106007, 173481, 203240, 208829, 265115, 13850, 35836, 39281, 53220, 98758, 125519, 137688, 143175, 158295, 190925, 201674, 204864, 225087, 232945, 266056, 35859, 43246, 53220, 84024, 102275, 110912, 110934, 119575, 126492, 137688, 143415, 177072, 187256, 193898, 204864, 207499, 218552, 228764, 241980, 251140, 261829, 6563, 28634, 35859, 53220, 67840, 95359, 214786, 223154, 59172, 252071, 270820, 16795, 163570, 6242, 43246, 60244, 75591, 95359, 122793, 136139, 181687, 235935, 242299, 265889, 6575, 7158, 13273, 16795, 26544, 39281, 43619, 43910, 52584, 55187, 56856, 70052, 88733, 88937, 101606, 104636, 105979, 113270, 113519, 123095, 130571, 138578, 142121, 155147, 164323, 188010, 189973, 196466, 197364, 201447, 212923, 222296, 229313, 231210, 232131, 235282, 240567, 240568, 251140, 252071, 258938, 259629, 264031, 270713, 271448, 6563, 60244, 84024, 110934, 115003, 117251, 122793, 127826, 136348, 162738, 173415, 181687, 224430, 97874, 113519, 225087, 37950, 64436, 150968, 224430, 225810, 7346, 38273, 84024, 100846, 104636, 124487, 128835, 162052, 164323, 189516, 258534, 30972, 38273, 60244, 83287, 89602, 104636, 157273, 158295, 164323, 166596, 172742, 175052, 190925, 258534, 2766, 25981, 30487, 39773, 60244, 67840, 69078, 95932, 101305, 114988, 126604, 127359, 135149, 204864, 224138, 232131, 236757, 239584, 52584, 87141, 107784, 209373, 216683, 268032, 8253, 10447, 16634, 36606, 70052, 87555, 88937, 93047, 93629, 95359, 95932, 110912, 122793, 129716, 135045, 155147, 177432, 197364, 204864, 209756, 212923, 224349, 231210, 235105, 236172, 248718, 261829, 271705, 7346, 30735, 60244, 95991, 104636, 105979, 112026, 125692, 138844, 152186, 156269, 162052, 164323, 172512, 172742, 196077, 231210, 240144, 258534, 7346, 28204, 30735, 35859, 53220, 95991, 104636, 123981, 148744, 156269, 157273, 158295, 162052, 164323, 187517, 225763, 258534, 44728, 70415, 78783, 83287, 89602, 95991, 104636, 156269, 162052, 164323, 177090, 208671, 221445, 258534, 21659, 78783, 83287, 88733, 104636, 133747, 155014, 156269, 164323, 183995, 208671, 212923, 258534, 83287, 104636, 155014, 156269, 162052, 164323, 227447, 258534, 268032, 30735, 35859, 70415, 83287, 95991, 104636, 130571, 156269, 162052, 164323, 177432, 208671, 231210, 234828, 258534, 267635, 21659, 43246, 47316, 78783, 88733, 102275, 104636, 156269, 162052, 164323, 196077, 207499, 231210, 232131, 258534, 35859, 50225, 84024, 101876, 152186, 208671, 258534, 23768, 36606, 69078, 75591, 78783, 86189, 95359, 101305, 110934, 143415, 166596, 234359, 30735, 69078, 69971, 95359, 114868, 141710, 222296, 252695, 268110, 19664, 43619, 43910, 75591, 140358, 235282, 276680, 31826, 35836, 98758, 105517, 114444, 153662, 184299, 234828, 254206, 258534, 31826, 35859, 41084, 51883, 104665, 105517, 110973, 126492, 178667, 185233, 197364, 209373, 214786, 235282, 31826, 41084, 52584, 55490, 66680, 109574, 126492, 158295, 184299, 211426, 214786, 227705, 252820, 268932, 274061, 140358, 158295, 224764, 13552, 31826, 47316, 51883, 126492, 140358, 155014, 219546, 227705, 235105, 252820, 265313, 274061, 13552, 31826, 35859, 55490, 59172, 66680, 123981, 126492, 128835, 163570, 177432, 184299, 193458, 196738, 214786, 236283, 241980, 252820, 254206, 274061, 27617, 55490, 95359, 106007, 110973, 114444, 140358, 158295, 162738, 163570, 210485, 211426, 234828, 242083, 265313, 274061, 16795, 37950, 52584, 98758, 177432, 187145, 189835, 264031, 55490, 95359, 104399, 133689, 163570, 16634, 22625, 28204, 78783, 87141, 106225, 114988, 142121, 156150, 172512, 172742, 254, 31826, 35859, 37950, 59172, 105517, 107784, 126492, 140358, 158295, 163570, 177432, 178667, 214786, 216683, 234828, 241980, 254206, 37950, 87141, 104399, 135045, 163570, 197364, 241980, 259901, 270820, 16795, 31826, 62891, 87141, 104399, 107784, 153662, 177432, 184299, 189835, 197659, 204864, 258534, 259901, 274061, 16795, 35859, 55187, 59172, 87141, 98758, 104399, 189835, 197364, 230522, 245371, 259901, 21014, 56554, 60244, 104665, 112001, 126492, 133689, 170513, 185233, 193458, 197659, 204864, 242083, 251394, 268032, 31826, 37950, 51883, 53174, 59172, 98758, 102647, 107784, 133689, 153662, 162738, 163570, 184299, 196077, 219546, 241980, 254465, 258534, 259901, 31826, 37950, 56554, 98758, 104665, 123981, 126492, 177432, 189835, 196160, 204864, 219546, 235282, 254206, 259629, 259901, 270820, 274061, 16795, 31826, 37950, 55490, 95932, 104399, 123981, 163570, 177458, 242083, 259901, 270820, 31826, 56554, 123981, 155014, 158295, 165319, 174216, 227705, 25981, 35859, 56856, 104665, 173481, 194600, 201684, 208829, 218552, 241666, 259629, 16795, 31826, 52584, 59172, 98758, 109574, 140358, 163570, 184299, 190459, 219546, 227705, 241980, 259901, 264031, 31826, 66680, 109574, 110973, 177432, 184299, 193458, 236757, 241666, 258534, 264031, 274061, 148744, 150979, 232945, 258534, 19085, 31826, 112001, 140358, 170513, 189835, 258534, 274061, 27617, 66680, 136010, 162738, 163804, 177432, 189835, 196160, 200226, 224764, 236283, 252820, 258534, 123981, 178667, 83287, 126604, 168047, 201684, 209756, 16795, 127233, 141710, 142256, 189835, 263877, 266865, 271448, 136382, 160819, 190459, 224430, 271448, 273979, 30533, 51450, 73651, 127826, 135149, 139742, 164323, 178667, 200226, 209756, 10447, 16106, 26544, 105979, 125692, 160819, 210485, 229011, 260897, 264321, 160819, 112001, 225810, 261829, 21014, 112001, 164323, 249628, 254, 16795, 23872, 49460, 55490, 60244, 69078, 87555, 95359, 129716, 177432, 224349, 240567, 242083, 271705, 4017, 81977, 100459, 133747, 193458, 270713, 6242, 22625, 36907, 92810, 95932, 100459, 105517, 129716, 148744, 165319, 178667, 224138, 6575, 7915, 8245, 10447, 21014, 26544, 29259, 31556, 37712, 46398, 55492, 77809, 85526, 106225, 110973, 113519, 114988, 135149, 142256, 144555, 150979, 165319, 188010, 194600, 196077, 207782, 211426, 224349, 229313, 236757, 240567, 251422, 266056, 270713, 270820, 4017, 8245, 14422, 22625, 30972, 89602, 100459, 115003, 135831, 138844, 140358, 142256, 153718, 160819, 167471, 208147, 218608, 222296, 240567, 264031, 271448, 7346, 102647, 104636, 148744, 149069, 171118, 196466, 275970, 13552, 16795, 29855, 76151, 111174, 123883, 153662, 190708, 200226, 228764, 254465, 48494, 81492, 104636, 123883, 153662, 200226, 207349, 225087, 247447, 13552, 40889, 123883, 144531, 153662, 153718, 165308, 200226, 207349, 218552, 227520, 252695, 264082, 26544, 30276, 40889, 112001, 123883, 123981, 144531, 153662, 165308, 200226, 207349, 218552, 254465, 13552, 40889, 123883, 135149, 153662, 153718, 207349, 218552, 227520, 252695, 264031, 13552, 40889, 107021, 123883, 153662, 153718, 177090, 207349, 210485, 218552, 227520, 252695, 45557, 114368, 123883, 207349, 227520, 264031, 13552, 30276, 40889, 73651, 114368, 123883, 124487, 153662, 156467, 200226, 208829, 227520, 228764, 229011, 266056, 30276, 40889, 48494, 112001, 153662, 158295, 200226, 227520, 252695, 254465, 13552, 73651, 106007, 114368, 123883, 124487, 153662, 153718, 156467, 163804, 165308, 177374, 200226, 207349, 216683, 227520, 229011, 252695, 258185, 13552, 26544, 40889, 48494, 73651, 114368, 123883, 124487, 153662, 153718, 156467, 177374, 200226, 208671, 209756, 224764, 227520, 228764, 247447, 252695, 258185, 40889, 59172, 73651, 114368, 123883, 153662, 178667, 189835, 189973, 200226, 204591, 226965, 227520, 264031, 273979, 80810, 153662, 203799, 204591, 226545, 247447, 255489, 8245, 35836, 51450, 59172, 73651, 98391, 114368, 123883, 144531, 153662, 158295, 177090, 177374, 178667, 189516, 200226, 216683, 225087, 227520, 228764, 247447, 264082, 51450, 73651, 114368, 123883, 130571, 153662, 158295, 177090, 177374, 189516, 200226, 201674, 207349, 217375, 227520, 247447, 264031, 56447, 68555, 153718, 156467, 189516, 216466, 247447, 266056, 51450, 73651, 98391, 114368, 123883, 153662, 158295, 165308, 189516, 200226, 201674, 203799, 208829, 216012, 216683, 227520, 247447, 13552, 112001, 126736, 153662, 216683, 227520, 254465, 40889, 147141, 153718, 193499, 201674, 227520, 247447, 264031, 13552, 98391, 104636, 114368, 123883, 153662, 177090, 204591, 213150, 216012, 218608, 226965, 227520, 234359, 265889, 16795, 98391, 114368, 123883, 153662, 177090, 200226, 204591, 213150, 216012, 225087, 227520, 234359, 265889, 16795, 30276, 98391, 114368, 123883, 130474, 153662, 156467, 204591, 213150, 216012, 226965, 234359, 236283, 247447, 265889, 31826, 35859, 55892, 110973, 153662, 158295, 184299, 185233, 210485, 236283, 254206, 274061, 162639, 25981, 31315, 137589, 165308, 209756, 225763, 69971, 70594, 87555, 97874, 101305, 107784, 110973, 122429, 187145, 201674, 218552, 225595, 245371, 251140, 255489, 271705, 157273, 165308, 203240, 66680, 130474, 136205, 153662, 158295, 31556, 37712, 38023, 40943, 55492, 95359, 96448, 100906, 104636, 107784, 142524, 144531, 148744, 153662, 168064, 196077, 230522, 249862, 36606, 39773, 70415, 104636, 105517, 153662, 155147, 162639, 201684, 230522, 249862, 263163, 271705, 40943, 104636, 153662, 189835, 230522, 249862, 271705, 16795, 21014, 30735, 85526, 107784, 110912, 113270, 127359, 155014, 177432, 187145, 189973, 208829, 228764, 230522, 232945, 234828, 236757, 245371, 269566, 269890, 270713, 21014, 22625, 31315, 37950, 47316, 48494, 102967, 110912, 113270, 142256, 155014, 189973, 208671, 225087, 232945, 270713, 37712, 45557, 110934, 193458, 235105, 13552, 14422, 35836, 40943, 53174, 68555, 87141, 105979, 126492, 147847, 177432, 196738, 208829, 8245, 16795, 21014, 30972, 53174, 76151, 93629, 95316, 95359, 136382, 143415, 155147, 163804, 177432, 189835, 190708, 197364, 214786, 221445, 226965, 227705, 241666, 251843, 30735, 38273, 46398, 104636, 141710, 157273, 158295, 162052, 162738, 164323, 172742, 177432, 226965, 258534, 7915, 30533, 52584, 60244, 89602, 100906, 104636, 125519, 174304, 175052, 239584, 245645, 249862, 255489, 55927, 101305, 203240, 229011, 37644, 38273, 40943, 59172, 60244, 104399, 105979, 137589, 147847, 189835, 197364, 204864, 210485, 230522, 271448, 14521, 49460, 75591, 93629, 95359, 107784, 110934, 156467, 230522, 234828, 245410, 46398, 55490, 69078, 94347, 111174, 142524, 153662, 208406, 211426, 236757, 21014, 75591, 156269, 189973, 190925, 248718, 251843, 23872, 30276, 36606, 46398, 104636, 112001, 112026, 142256, 163804, 194600, 218608, 229741, 232131, 246311, 249894, 30735, 35859, 44728, 46398, 53220, 56959, 104636, 155014, 156269, 158295, 162052, 162738, 164323, 178667, 208671, 241666, 258534, 2766, 6575, 30735, 35836, 37712, 44728, 83287, 95359, 101876, 104636, 128835, 136382, 141710, 149069, 156269, 162052, 164323, 183995, 184299, 189973, 202277, 209373, 225810, 258534, 268032, 30735, 37950, 38023, 46398, 60244, 95991, 104636, 108005, 141710, 156269, 157273, 162052, 164323, 171118, 172742, 202277, 208406, 208671, 227447, 231210, 258534, 268032, 14422, 28204, 30735, 31556, 53220, 83287, 101876, 104636, 146113, 156269, 158295, 162052, 164323, 177432, 202277, 227447, 258534, 265115, 277427, 106007, 209756, 222296, 264082, 7346, 30735, 37950, 46398, 104636, 112026, 130571, 141710, 156269, 157273, 162052, 164323, 172512, 183995, 207499, 208671, 231210, 241666, 258534, 104665, 113270, 189973, 211426, 224764, 232945, 270713, 55734, 66680, 84024, 102275, 113270, 158295, 178199, 236757, 247447, 251843, 12538, 16795, 21014, 27617, 45557, 55927, 56959, 76499, 77809, 87555, 109574, 137589, 159033, 162052, 164323, 185233, 224138, 246311, 247447, 270713, 6251, 7346, 29259, 51450, 84024, 106225, 133689, 146113, 162639, 187517, 189973, 242106, 39281, 83287, 113270, 153662, 173481, 251843, 255489, 12824, 23872, 31315, 48046, 55892, 70052, 70415, 158295, 200226, 207349, 251843, 30972, 113270, 126736, 137688, 152186, 158295, 173481, 190459, 225087, 247752, 251843, 258185, 27617, 31315, 158295, 247447, 247752, 265115, 6543, 95359, 190925, 227447, 235105, 242106, 252695, 123981, 158295, 204864, 217375, 241666, 264082, 36606, 86189, 95359, 197659, 232131, 25981, 104636, 153662, 158295, 204591, 241666, 242646, 247752, 261829, 273979, 47316, 158295, 193898, 252695, 104636, 153662, 158295, 204591, 232131, 232945, 251843, 35859, 95316, 95359, 102647, 104636, 126492, 212923, 235935, 258534, 93047, 95359, 98758, 100906, 104636, 105517, 110973, 123981, 126736, 153662, 163570, 169663, 172742, 211344, 211426, 222296, 224349, 225087, 240567, 248718, 251843, 55734, 95359, 140358, 218608, 261829, 270820, 40889, 76818, 107021, 200226, 248718, 30276, 104636, 158295, 162639, 190925, 225087, 232945, 247752, 37950, 43246, 92810, 119575, 163570, 167471, 241980, 274308, 35836, 53220, 80810, 95359, 102275, 104636, 104665, 158295, 173481, 204591, 224764, 227705, 232945, 247447, 16795, 31826, 40889, 48046, 83287, 95359, 110912, 112001, 124487, 135149, 196160, 225595, 236757, 241980, 261829, 19085, 107784, 124487, 158295, 232945, 234359, 242106, 255489, 16795, 31826, 37950, 48046, 68555, 124487, 135149, 203799, 261829, 19085, 31826, 156300, 177458, 201674, 207782, 216466, 241666, 268032, 270820, 143175, 187256, 189835, 214786, 28634, 38273, 114444, 232945, 247752, 254465, 101606, 104665, 158295, 187256, 204591, 242106, 247447, 247752, 258185, 28634, 47316, 80810, 124487, 135149, 140358, 193898, 235935, 242646, 16916, 44728, 113270, 140358, 175052, 190925, 232945, 247752, 7158, 16795, 31826, 104399, 110973, 225810, 236283, 241666, 255489, 31826, 37950, 55734, 181176, 193458, 193499, 196160, 229313, 236283, 31826, 130474, 135149, 203799, 30276, 76151, 98391, 136010, 140358, 156467, 187256, 209373, 229011, 242646, 16795, 55490, 98391, 130474, 187256, 225595, 258938, 7158, 55892, 98391, 143175, 158295, 196160, 216466, 258938, 254, 8253, 30735, 36606, 88122, 100906, 101851, 114368, 162639, 170634, 189835, 208829, 211426, 226965, 229741, 240144, 6563, 22625, 30533, 30735, 31556, 32773, 35859, 55492, 56447, 75591, 81492, 82407, 85426, 85993, 87141, 88733, 92810, 100846, 101851, 104636, 104665, 107784, 126736, 135045, 146803, 147141, 150968, 153662, 153718, 157273, 162639, 170513, 172512, 173415, 175052, 181176, 196160, 216466, 224138, 229313, 232131, 240144, 242083, 242106, 247447, 249628, 249862, 250184, 265313, 269566, 270820, 271705, 6575, 7346, 7915, 8245, 43246, 52584, 60244, 67840, 75591, 95359, 127233, 135149, 150979, 170513, 175052, 193499, 194600, 210485, 236172, 236757, 242083, 246513, 255489, 254, 36907, 60244, 87555, 88733, 165319, 177432, 184299, 226965, 234828, 6563, 10447, 23768, 55187, 105979, 108005, 117251, 165319, 232131, 236058, 67840, 93047, 158295, 236283, 25981, 31315, 100459, 126492, 140358, 178667, 185233, 189835, 225087, 236283, 252820, 16634, 112001, 126492, 133689, 136010, 185233, 209373, 236283, 252071, 254206, 274061, 100459, 126492, 163570, 185233, 189835, 236283, 254206, 23872, 27617, 48046, 66680, 110973, 126492, 158295, 178199, 184299, 185233, 209373, 254206, 23768, 46398, 56447, 77809, 137589, 268932, 270713, 271448, 16795, 60244, 85993, 123095, 125519, 137688, 148744, 157273, 242299, 30487, 67840, 75591, 150979, 160819, 181687, 229741, 231210, 4017, 7346, 19664, 49460, 75591, 114868, 135149, 140358, 142524, 173415, 211344, 263163, 46398, 92810, 138844, 187256, 194600, 213150, 230522, 236757, 6251, 13273, 43910, 68555, 112026, 136348, 147847, 235282, 23768, 140358, 142524, 7158, 12538, 35859, 43619, 83287, 104636, 196738, 271448, 6575, 7346, 8067, 16795, 35859, 43246, 55187, 56959, 60244, 62272, 102647, 104636, 110934, 115003, 136348, 144531, 145641, 153718, 163804, 173415, 201684, 218552, 218608, 226545, 240567, 241980, 245410, 247447, 258534, 261829, 45557, 80810, 117251, 144555, 190708, 227447, 21576, 30533, 40943, 43910, 48046, 56447, 69078, 95359, 100846, 104636, 104665, 105979, 106007, 109574, 112001, 114868, 115003, 138844, 141493, 145641, 163804, 174304, 190459, 197364, 210485, 216466, 222296, 225087, 229313, 231210, 232131, 235282, 238120, 251140, 263325, 264321, 41841, 76499, 95359, 101606, 127826, 178199, 225763, 234828, 31826, 35859, 47316, 104636, 141493, 190925, 193499, 210485, 216683, 228764, 235282, 13273, 21014, 31826, 35859, 104636, 225087, 229011, 238120, 31826, 59172, 70415, 104636, 114444, 123981, 126736, 158295, 173481, 238120, 264082, 271448, 30972, 31826, 35857, 104636, 125519, 168064, 193898, 270713, 28204, 70052, 95316, 110912, 130571, 136205, 218552, 37950, 98758, 162639, 224764, 265889, 26544, 102275, 134797, 141493, 150968, 190925, 196466, 266056, 25981, 76151, 98391, 141493, 153662, 156467, 158295, 193499, 30972, 31826, 101876, 104636, 133747, 173481, 254, 6563, 8253, 12538, 16795, 30735, 36907, 56554, 76499, 77809, 100459, 101876, 115003, 126492, 138578, 152186, 164323, 167471, 182993, 190459, 218552, 218608, 221445, 240567, 251422, 263877, 12538, 31826, 43619, 51883, 104399, 126492, 128835, 140358, 158295, 163570, 177432, 184299, 187256, 209373, 274061, 19085, 28634, 31826, 40889, 53220, 89602, 95932, 98758, 106007, 126492, 135045, 148744, 184299, 224764, 13273, 16106, 28204, 37712, 39773, 44728, 50225, 55927, 65258, 70594, 85757, 89602, 92810, 95359, 100846, 110912, 110973, 142121, 156150, 159033, 164323, 190708, 193499, 196738, 207782, 209373, 211344, 212923, 218552, 223154, 225763, 232131, 235282, 236172, 240144, 240567, 245410, 251843, 255489, 261829, 263877, 92810, 105979, 196738, 197659, 223087, 255489, 263325, 37950, 47316, 67840, 95316, 95359, 225087, 227447, 265889, 4017, 7158, 8245, 22625, 30533, 30972, 100459, 113519, 138844, 139742, 145641, 236757, 239584, 240568, 271448, 10447, 16795, 21014, 28634, 35836, 56447, 68555, 107784, 109574, 126492, 134797, 153662, 214786, 236283, 241980, 242083, 259629, 259901, 274061, 16795, 35836, 92810, 110934, 204864, 209373, 225087, 225595, 227520, 268622, 43246, 70052, 78783, 113519, 200226, 218552, 230522, 269566, 31826, 38023, 56856, 95359, 102647, 107784, 112026, 184299, 193458, 207782, 210485, 216683, 254206, 258534, 274061, 211426, 221445, 229313, 4017, 7158, 16795, 21014, 30487, 37712, 56959, 75591, 84024, 85526, 95932, 101305, 110934, 111174, 137688, 162639, 197364, 250184, 252820, 259629, 16795, 30276, 70052, 104636, 123883, 126736, 153662, 193898, 226545, 247447, 28634, 137589, 209756, 252695, 23872, 31826, 104636, 125519, 229011, 241666, 264082, 7346, 32773, 95316, 155147, 173415, 181176, 197364, 211344, 211426, 230522, 240568, 269566, 13552, 16795, 114368, 152186, 190708, 200226, 254465, 13552, 25981, 37950, 59172, 104636, 114368, 216683, 254465, 28204, 31826, 55490, 104636, 126736, 141493, 158295, 6563, 26544, 31315, 62272, 78783, 78834, 105517, 114368, 140358, 147847, 178667, 189835, 194600, 210485, 245410, 252071, 254465, 8245, 16795, 109574, 110912, 110973, 140358, 181176, 208406, 236172, 252820, 270713, 78834, 94347, 105517, 109574, 117251, 140358, 156150, 189835, 234828, 258534, 31556, 104636, 107784, 126736, 31826, 37950, 102967, 104636, 147847, 190925, 193898, 201447, 225087, 229011, 68555, 76151, 123883, 229011, 247447, 264082, 30276, 31826, 70415, 88733, 102647, 104636, 125519, 135149, 173481, 216683, 225087, 226545, 234828, 235282, 246513, 249628, 249862, 259629, 263877, 93629, 101876, 241666, 255489, 269890, 13273, 23872, 95359, 104636, 107784, 125519, 147847, 158295, 226545, 240568, 8253, 31826, 40889, 102647, 104636, 105517, 119575, 135149, 147847, 178667, 193898, 201447, 225087, 241666, 241980, 247752, 264082, 30972, 31826, 43619, 46398, 102967, 104636, 110973, 125519, 168064, 173481, 7346, 31826, 41084, 95359, 123981, 158295, 227705, 240568, 249862, 264082, 48046, 55492, 56856, 109574, 187145, 193458, 204864, 230522, 264321, 30533, 104636, 123981, 141493, 147847, 149069, 153662, 228764, 13273, 25981, 29259, 31826, 104636, 173481, 229011, 235282, 241666, 264031, 264082, 268032, 29855, 95991, 96448, 102647, 185233, 187517, 218608, 230522, 266056, 100459, 13552, 114368, 129716, 140358, 6575, 37712, 41084, 60244, 66680, 69078, 75591, 77809, 88733, 89602, 112001, 114988, 135149, 136139, 160819, 193458, 204864, 242083, 247752, 271195, 65258, 266865, 69078, 110934, 138844, 21014, 60244, 162738, 169663, 246311, 35857, 136139, 39773, 159033, 163570, 177072, 177458, 235935, 39773, 55490, 56856, 162639, 167471, 187256, 204864, 245410, 16634, 31556, 77809, 101606, 155147, 187145, 85757, 263163, 31315, 35859, 95359, 130474, 178199, 218552, 235282, 250184, 6251, 6575, 36606, 38023, 50225, 60244, 93047, 156150, 189973, 202277, 252820, 263163, 277427, 16106, 100906, 106007, 110934, 126604, 189973, 222296, 246311, 141710, 143415, 211344, 223154, 224138, 230522, 6575, 7915, 14422, 16795, 22625, 40889, 46398, 55187, 62891, 110934, 209756, 218608, 248718, 6242, 6575, 12538, 16795, 21014, 40943, 43910, 53174, 60244, 75591, 81492, 89602, 125692, 133689, 150968, 150979, 156150, 160819, 187145, 204864, 218552, 235282, 254465, 258938, 6242, 56959, 60244, 78834, 88937, 95359, 101606, 115003, 128835, 135149, 153662, 164323, 170513, 177458, 217375, 230522, 268110, 4017, 6242, 6251, 6575, 8253, 16634, 21014, 22625, 37712, 41841, 43246, 55187, 55927, 76151, 82407, 85757, 86189, 101876, 102967, 112026, 113270, 113519, 127826, 133747, 137589, 140358, 153662, 162639, 168047, 169663, 177090, 178199, 204864, 223087, 227705, 232131, 236058, 236757, 242083, 255489, 261829, 263325, 268932, 269566, 16634, 95359, 101305, 245371, 261829, 16795, 30276, 36907, 37712, 43910, 48046, 96448, 117251, 211426, 224138, 240567, 242083, 31315, 39773, 70052, 143175, 203799, 201447, 249628, 31315, 76151, 213150, 21014, 36606, 136348, 251843, 4017, 6242, 6251, 6575, 14422, 28634, 30276, 46398, 56959, 60244, 85526, 101876, 102967, 142121, 165319, 181687, 187145, 208671, 211426, 240567, 251394, 4017, 6242, 10447, 16795, 21659, 23872, 30533, 35859, 37712, 69078, 81977, 105979, 110912, 110934, 110973, 115003, 122429, 122793, 135149, 148744, 187145, 194600, 200226, 209756, 224430, 240567, 271448, 105517, 113270, 130571, 187256, 229313, 231210, 256407, 270820, 22625, 28634, 52584, 56856, 65258, 69078, 174216, 211426, 240567, 251843, 255489, 263325, 6563, 7346, 28634, 37712, 52584, 78783, 106225, 109574, 112001, 112026, 147847, 200226, 245645, 8245, 16795, 41084, 56856, 62891, 69078, 100906, 101305, 110912, 113519, 129716, 135831, 141710, 150979, 156269, 187145, 204864, 216466, 218552, 231210, 246311, 263325, 13273, 14422, 35859, 52584, 56554, 88793, 89602, 102275, 115003, 162639, 163804, 170947, 196077, 208147, 210485, 213150, 246513, 266056, 31315, 35857, 66680, 98391, 136348, 144555, 216012, 216466, 235935, 27617, 76151, 110973, 163570, 170513, 189835, 236283, 241980, 259629, 274061, 36606, 78834, 85757, 122429, 146803, 152186, 203240, 248718, 255489, 95359, 110973, 141710, 167471, 172742, 263325, 271448, 6575, 7346, 36606, 55927, 86189, 110973, 136348, 137688, 143415, 162639, 224430, 225763, 232131, 260897, 270713, 6543, 16795, 23872, 27617, 31826, 55490, 110973, 126492, 185233, 236283, 10447, 16795, 22625, 36907, 39281, 60244, 93629, 108005, 115003, 122793, 133689, 136139, 137688, 138844, 140358, 144531, 181687, 185233, 208147, 222296, 242299, 271448, 140358, 147847, 277427, 165308, 10447, 43246, 48046, 55187, 65258, 96448, 135831, 177072, 236283, 268622, 277427, 104636, 235282, 240568, 6563, 13552, 14422, 16795, 23768, 25409, 30487, 35857, 35859, 40943, 43910, 48494, 52584, 60244, 69078, 81492, 82407, 83287, 89602, 95932, 105979, 106225, 113270, 114444, 119575, 125692, 135831, 143175, 144531, 150968, 173415, 190925, 203240, 208147, 216466, 221445, 223087, 224430, 225763, 227705, 231210, 235392, 235935, 242299, 260897, 268622, 270820, 30487, 43910, 98391, 119575, 143415, 182993, 217375, 235282, 251422, 13552, 25409, 56554, 88793, 105979, 127359, 146803, 173415, 190925, 200226, 223154, 231210, 235935, 246513, 55927, 89602, 117251, 218608, 270713, 55187, 101876, 226965, 234828, 268032, 7158, 31826, 37950, 95359, 126492, 128835, 136382, 158295, 184299, 232131, 236058, 258534, 263877, 273979, 25981, 112001, 141493, 153662, 162639, 193499, 225087, 93047, 112001, 136010, 163570, 181176, 265313, 31826, 40889, 40943, 104636, 225087, 229011, 235282, 261829, 264082, 19085, 48046, 102647, 135149, 178199, 204864, 225595, 234828, 268032, 268932, 224764, 276680, 6563, 50225, 60244, 89602, 101305, 105979, 159033, 164323, 178199, 232131, 265115, 268110, 2766, 30533, 60244, 68555, 110912, 114988, 126604, 137589, 156150, 164323, 216466, 225763, 43910, 56554, 60244, 64436, 89602, 95359, 133747, 136348, 173415, 181687, 182993, 229313, 235282, 254465, 268110, 97874, 182993, 125519, 202277, 229741, 6251, 30735, 40889, 78834, 89602, 101606, 114988, 168064, 178667, 211344, 245410, 252695, 55492, 100459, 260897, 16795, 35857, 51450, 64436, 78834, 95359, 113519, 123095, 174216, 236283, 13273, 163570, 187145, 236283, 242106, 264321, 274061, 6563, 7346, 7915, 10447, 13552, 13850, 16795, 21576, 22625, 36606, 36907, 39773, 40889, 85993, 89602, 97874, 98391, 105979, 108005, 110912, 112001, 117251, 122429, 122793, 130571, 141493, 142256, 168064, 181687, 182993, 190925, 208671, 209756, 217375, 221445, 223154, 235935, 236283, 249894, 258938, 263325, 270713, 270820, 271195, 6563, 16795, 31315, 38023, 46398, 60244, 85426, 85526, 95359, 108005, 138578, 147141, 170634, 210485, 236283, 266056, 16795, 52584, 56856, 60244, 95991, 105517, 177072, 183995, 187256, 196077, 35859, 41084, 48046, 55892, 89602, 112001, 189835, 204864, 242299, 261829, 6575, 25981, 31556, 85526, 93047, 105517, 125692, 133747, 145641, 148744, 155147, 156300, 162639, 188010, 211426, 218608, 224349, 236283, 238120, 242083, 245371, 258938, 261829, 264321, 13273, 106007, 136205, 197659, 226965, 238120, 242083, 6575, 7346, 28204, 30276, 30533, 35859, 36907, 45557, 52584, 60244, 69971, 70052, 76818, 101851, 113519, 122793, 135149, 137589, 143415, 144555, 153662, 157273, 166596, 171118, 200226, 224138, 229313, 232131, 240567, 245371, 269566, 270713, 6575, 7346, 43246, 45557, 48494, 52584, 69971, 70052, 95359, 101851, 110912, 135149, 171118, 197364, 208147, 211426, 235105, 245410, 19664, 52584, 81977, 102647, 107784, 110934, 117251, 133747, 162639, 231210, 8253, 30735, 36907, 45557, 52584, 60244, 69971, 100906, 150979, 160819, 167471, 175052, 177072, 193458, 193898, 240567, 271705, 6575, 37712, 75591, 126736, 133747, 169663, 204864, 222296, 224138, 224349, 234828, 82407, 242299, 245645, 30533, 36907, 60244, 70052, 100459, 106007, 135149, 187256, 189835, 208147, 226965, 229313, 261829, 268622, 271448, 30533, 175052, 252695, 46398, 89602, 113270, 126604, 159033, 271448, 13850, 56959, 78783, 127826, 144531, 162639, 164323, 175052, 187256, 190925, 212923, 234828, 238120, 251422, 259629, 30735, 145449, 146113, 156269, 225087, 236283, 16634, 70594, 87555, 95359, 105979, 126604, 133747, 239584, 255489, 23768, 25409, 30487, 49460, 78783, 96448, 102967, 113270, 115003, 127359, 130571, 142524, 168064, 187256, 188010, 194600, 217375, 236058, 251394, 251843, 258534, 258938, 260897, 270713, 35836, 55187, 60244, 77809, 88937, 127826, 165319, 184299, 187256, 204864, 234828, 249894, 251394, 270713, 274308, 98391, 16795, 16916, 35859, 47316, 56447, 60244, 87141, 114444, 123095, 141493, 148744, 153662, 162639, 170513, 174216, 177072, 177458, 190459, 204864, 208671, 208829, 219546, 226545, 241980, 245645, 266056, 269890, 273979, 16916, 37644, 43246, 101606, 107784, 110973, 123095, 134797, 140358, 141493, 156300, 177072, 208671, 219546, 241980, 242083, 266056, 12538, 16795, 16916, 25981, 35859, 37644, 39773, 47316, 55492, 56447, 87141, 101606, 123095, 140358, 153662, 156300, 177072, 261829, 16916, 25981, 29259, 37644, 47316, 101606, 107784, 110973, 123095, 140358, 156300, 208671, 122429, 127826, 159033, 275970, 6242, 21014, 35859, 110973, 133747, 187145, 234359, 246311, 251843, 13850, 29259, 32773, 35857, 40889, 78783, 105517, 109574, 150979, 196077, 200226, 201684, 218608, 227520, 2766, 30972, 31826, 37950, 38023, 46398, 55187, 65258, 93047, 102275, 114988, 136139, 138844, 168047, 187145, 187256, 249862, 251422, 258938, 260897, 271448, 8245, 37712, 60244, 104636, 122429, 162639, 181687, 6543, 6575, 21576, 43246, 64436, 69971, 70594, 88793, 89602, 95359, 95991, 110912, 110934, 113270, 114988, 115003, 136348, 141710, 145449, 171118, 177072, 210485, 221445, 235935, 251843, 6543, 21576, 56959, 70594, 88793, 89602, 95991, 110912, 110934, 114988, 142121, 160819, 190925, 210485, 212923, 234359, 6575, 14422, 16106, 47316, 48494, 49460, 60244, 67840, 70594, 88793, 89602, 110912, 110934, 113270, 114988, 138844, 141493, 141710, 145449, 164323, 202277, 210485, 221445, 224349, 235935, 265115, 265889, 7158, 7346, 10447, 14422, 29259, 37950, 40889, 48494, 113519, 125519, 170634, 185233, 200226, 210485, 236283, 265115, 271448, 16795, 23872, 31556, 46398, 78783, 80810, 104636, 135265, 141493, 150979, 173415, 190459, 194600, 208671, 209373, 223087, 249894, 264031, 16795, 29259, 35857, 85426, 104636, 105517, 112001, 122793, 138844, 148744, 153662, 170634, 185233, 188010, 200226, 251843, 261829, 268932, 23872, 35859, 40889, 46398, 55492, 62891, 78783, 112026, 135265, 141493, 174304, 208671, 7346, 44728, 55492, 83287, 95359, 123981, 126736, 209756, 216683, 231210, 273979, 43910, 69078, 106225, 239584, 255489, 101606, 156150, 184299, 229741, 252820, 4017, 6242, 6543, 38023, 43910, 78783, 140358, 145449, 145641, 148744, 157273, 178667, 212923, 223087, 224138, 231210, 235282, 236058, 268110, 6242, 130571, 164323, 197364, 229313, 242083, 246311, 270713, 6242, 16795, 85757, 89602, 101606, 110934, 117251, 123095, 133747, 144531, 164323, 224349, 229313, 229741, 261829, 21576, 43246, 60244, 70594, 85757, 93047, 131046, 171118, 210485, 249894, 271448]\n"
          ]
        }
      ]
    },
    {
      "cell_type": "markdown",
      "source": [
        "Testing our model by taking input as user id."
      ],
      "metadata": {
        "id": "NIFD_d4UGN_n"
      }
    },
    {
      "cell_type": "code",
      "source": [
        "user=int(input(\"Enter User ID from above list for book recommendation:  \"))\n",
        "model_recommender.recommend_book(recommender_model,user)"
      ],
      "metadata": {
        "colab": {
          "base_uri": "https://localhost:8080/"
        },
        "id": "n7kWdd2pGH1W",
        "outputId": "e67cdf28-795c-4864-fc08-b3c9edf671b1"
      },
      "execution_count": null,
      "outputs": [
        {
          "output_type": "stream",
          "name": "stdout",
          "text": [
            "Enter User ID from above list for book recommendation:  183995\n",
            "Recommendation for User-ID =  183995\n",
            "         ISBN                                         Book-Title  recStrength\n",
            "0  0449219364  G Is for Gumshoe (Kinsey Millhone Mysteries (P...     0.819710\n",
            "1  0553280341  B Is for Burglar (Kinsey Millhone Mysteries (P...     0.699035\n",
            "2  0449221512                                  I Is for Innocent     0.652651\n",
            "3  0786868716                 The Five People You Meet in Heaven     0.642824\n",
            "4  0553280368  C Is for Corpse (Kinsey Millhone Mysteries (Pa...     0.544244\n",
            "5  0449219461  H Is for Homicide (Kinsey Millhone Mysteries (...     0.515351\n",
            "6  0449221482                                  J Is for Judgment     0.475585\n",
            "7  0316601950                         The Pilot's Wife : A Novel     0.449800\n",
            "8  0449221504  K Is for Killer (Kinsey Millhone Mysteries (Pa...     0.417959\n",
            "9  0449223604                                    M Is for Malice     0.379923\n"
          ]
        }
      ]
    },
    {
      "cell_type": "code",
      "source": [
        "#Top-N accuracy metrics consts\n",
        "EVAL_RANDOM_SAMPLE_NON_INTERACTED_ITEMS = 100\n",
        "\n",
        "class ModelEvaluator:\n",
        "\n",
        "    # Function for getting the set of items which a user has not interacted with\n",
        "    def get_not_interacted_items_sample(self, UserID, sample_size, seed=42):\n",
        "        interacted_items = get_items_interacted(UserID, interactions_full_indexed_df)\n",
        "        all_items = set(usa_canada_users_df['ISBN'])\n",
        "        non_interacted_items = all_items - interacted_items\n",
        "\n",
        "        random.seed(seed)\n",
        "        non_interacted_items_sample = random.sample(non_interacted_items, sample_size)\n",
        "        return set(non_interacted_items_sample)\n",
        "\n",
        "    # Function to verify whether a particular item_id was present in the set of top N recommended items\n",
        "    def _verify_hit_top_n(self, item_id, recommended_items, topn):        \n",
        "            try:\n",
        "                index = next(i for i, c in enumerate(recommended_items) if c == item_id)\n",
        "            except:\n",
        "                index = -1\n",
        "            hit = int(index in range(0, topn))\n",
        "            return hit, index\n",
        "    \n",
        "    # Function to evaluate the performance of model for each user\n",
        "    def evaluate_model_for_user(self, model, person_id):\n",
        "        \n",
        "        # Getting the items in test set\n",
        "        interacted_values_testset = interactions_test_indexed_df.loc[person_id]\n",
        "        \n",
        "        if type(interacted_values_testset['ISBN']) == pd.Series:\n",
        "            person_interacted_items_testset = set(interacted_values_testset['ISBN'])\n",
        "        else:\n",
        "            person_interacted_items_testset = set([str(interacted_values_testset['ISBN'])])\n",
        "            \n",
        "        interacted_items_count_testset = len(person_interacted_items_testset) \n",
        "\n",
        "        # Getting a ranked recommendation list from the model for a given user\n",
        "        person_recs_df = model.recommend_items(person_id, items_to_ignore=get_items_interacted(person_id, interactions_train_indexed_df),topn=10000000000)\n",
        "\n",
        "        hits_at_5_count = 0\n",
        "        hits_at_10_count = 0\n",
        "        hits_at_15_count = 0\n",
        "\n",
        "        # For each item the user has interacted in test set\n",
        "        for item_id in person_interacted_items_testset:\n",
        "            \n",
        "            # Getting a random sample of 100 items the user has not interacted with\n",
        "            non_interacted_items_sample = self.get_not_interacted_items_sample(person_id, sample_size=EVAL_RANDOM_SAMPLE_NON_INTERACTED_ITEMS, seed=item_id)    #%(2**32))\n",
        "\n",
        "            # Combining the current interacted item with the 100 random items\n",
        "            items_to_filter_recs = non_interacted_items_sample.union(set([item_id]))\n",
        "\n",
        "            # Filtering only recommendations that are either the interacted item or from a random sample of 100 non-interacted items\n",
        "            valid_recs_df = person_recs_df[person_recs_df['ISBN'].isin(items_to_filter_recs)]                    \n",
        "            valid_recs = valid_recs_df['ISBN'].values\n",
        "            \n",
        "            # Verifying if the current interacted item is among the Top-N recommended items\n",
        "            hit_at_5, index_at_5 = self._verify_hit_top_n(item_id, valid_recs, 5)\n",
        "            hits_at_5_count += hit_at_5\n",
        "            hit_at_10, index_at_10 = self._verify_hit_top_n(item_id, valid_recs, 10)\n",
        "            hits_at_10_count += hit_at_10\n",
        "            hit_at_15, index_at_15 = self._verify_hit_top_n(item_id, valid_recs, 15)\n",
        "            hits_at_15_count += hit_at_15\n",
        "\n",
        "        # Recall is the rate of the interacted items that are ranked among the Top-N recommended items\n",
        "        recall_at_5 = hits_at_5_count / float(interacted_items_count_testset)\n",
        "        recall_at_10 = hits_at_10_count / float(interacted_items_count_testset)\n",
        "        recall_at_15 = hits_at_15_count / float(interacted_items_count_testset)\n",
        "\n",
        "        person_metrics = {'hits@5_count':hits_at_5_count, \n",
        "                          'hits@10_count':hits_at_10_count, \n",
        "                          'hits@15_count':hits_at_15_count,\n",
        "                          'interacted_count': interacted_items_count_testset,\n",
        "                          'recall@5': recall_at_5,\n",
        "                          'recall@10': recall_at_10,\n",
        "                          'recall@15': recall_at_15}\n",
        "        return person_metrics\n",
        "\n",
        "    # Function to evaluate the performance of model at overall level\n",
        "    def evaluate_model(self, model):\n",
        "        \n",
        "        people_metrics = []\n",
        "        \n",
        "        for idx, person_id in enumerate(list(interactions_test_indexed_df.index.unique().values)):    \n",
        "            person_metrics = self.evaluate_model_for_user(model, person_id)  \n",
        "            person_metrics['User-ID'] = person_id\n",
        "            people_metrics.append(person_metrics)\n",
        "            \n",
        "        print('%d users processed' % idx)\n",
        "\n",
        "        detailed_results_df = pd.DataFrame(people_metrics).sort_values('interacted_count', ascending=False)\n",
        "        \n",
        "        global_recall_at_5 = detailed_results_df['hits@5_count'].sum() / float(detailed_results_df['interacted_count'].sum())\n",
        "        global_recall_at_10 = detailed_results_df['hits@10_count'].sum() / float(detailed_results_df['interacted_count'].sum())\n",
        "        global_recall_at_15 = detailed_results_df['hits@15_count'].sum() / float(detailed_results_df['interacted_count'].sum())\n",
        "        \n",
        "        global_metrics = {'modelName': model.get_model_name(),\n",
        "                          'recall@5': global_recall_at_5,\n",
        "                          'recall@10': global_recall_at_10,\n",
        "                          'recall@15': global_recall_at_15}    \n",
        "        return global_metrics, detailed_results_df\n",
        "    \n",
        "model_evaluator = ModelEvaluator()"
      ],
      "metadata": {
        "id": "n8_p0PNAGSXG"
      },
      "execution_count": null,
      "outputs": []
    },
    {
      "cell_type": "code",
      "source": [
        "print('Evaluating Collaborative Filtering (SVD Matrix Factorization) model...')\n",
        "global_metrics, detailed_results_df = model_evaluator.evaluate_model(recommender_model)\n",
        "\n",
        "print('\\nGlobal metrics:\\n%s' % global_metrics)\n",
        "detailed_results_df.head(10)"
      ],
      "metadata": {
        "colab": {
          "base_uri": "https://localhost:8080/",
          "height": 450
        },
        "id": "BFqjFpiVHWPC",
        "outputId": "6778b3d4-c9db-4e0c-98da-37cb8a01ac19"
      },
      "execution_count": null,
      "outputs": [
        {
          "output_type": "stream",
          "name": "stdout",
          "text": [
            "Evaluating Collaborative Filtering (SVD Matrix Factorization) model...\n",
            "443 users processed\n",
            "\n",
            "Global metrics:\n",
            "{'modelName': 'Collaborative Filtering', 'recall@5': 0.21620278330019882, 'recall@10': 0.3136182902584493, 'recall@15': 0.3871769383697813}\n"
          ]
        },
        {
          "output_type": "execute_result",
          "data": {
            "text/plain": [
              "     hits@5_count  hits@10_count  hits@15_count  interacted_count  recall@5  \\\n",
              "21              2              7             10                26  0.076923   \n",
              "81              2              3              5                21  0.095238   \n",
              "94              6             10             12                21  0.285714   \n",
              "39              2              4              7                16  0.125000   \n",
              "145             7              9              9                16  0.437500   \n",
              "49              3              3              8                15  0.200000   \n",
              "226             7              8              8                14  0.500000   \n",
              "15              3              5              6                14  0.214286   \n",
              "13              8              8              8                13  0.615385   \n",
              "54              0              0              2                13  0.000000   \n",
              "\n",
              "     recall@10  recall@15  User-ID  \n",
              "21    0.269231   0.384615    16795  \n",
              "81    0.142857   0.238095    95359  \n",
              "94    0.476190   0.571429   104636  \n",
              "39    0.250000   0.437500   158295  \n",
              "145   0.562500   0.562500   153662  \n",
              "49    0.200000   0.533333    60244  \n",
              "226   0.571429   0.571429   258534  \n",
              "15    0.357143   0.428571   140358  \n",
              "13    0.615385   0.615385   114368  \n",
              "54    0.000000   0.153846   135149  "
            ],
            "text/html": [
              "\n",
              "  <div id=\"df-e04d70ee-5225-4797-9412-cd614c7fc664\">\n",
              "    <div class=\"colab-df-container\">\n",
              "      <div>\n",
              "<style scoped>\n",
              "    .dataframe tbody tr th:only-of-type {\n",
              "        vertical-align: middle;\n",
              "    }\n",
              "\n",
              "    .dataframe tbody tr th {\n",
              "        vertical-align: top;\n",
              "    }\n",
              "\n",
              "    .dataframe thead th {\n",
              "        text-align: right;\n",
              "    }\n",
              "</style>\n",
              "<table border=\"1\" class=\"dataframe\">\n",
              "  <thead>\n",
              "    <tr style=\"text-align: right;\">\n",
              "      <th></th>\n",
              "      <th>hits@5_count</th>\n",
              "      <th>hits@10_count</th>\n",
              "      <th>hits@15_count</th>\n",
              "      <th>interacted_count</th>\n",
              "      <th>recall@5</th>\n",
              "      <th>recall@10</th>\n",
              "      <th>recall@15</th>\n",
              "      <th>User-ID</th>\n",
              "    </tr>\n",
              "  </thead>\n",
              "  <tbody>\n",
              "    <tr>\n",
              "      <th>21</th>\n",
              "      <td>2</td>\n",
              "      <td>7</td>\n",
              "      <td>10</td>\n",
              "      <td>26</td>\n",
              "      <td>0.076923</td>\n",
              "      <td>0.269231</td>\n",
              "      <td>0.384615</td>\n",
              "      <td>16795</td>\n",
              "    </tr>\n",
              "    <tr>\n",
              "      <th>81</th>\n",
              "      <td>2</td>\n",
              "      <td>3</td>\n",
              "      <td>5</td>\n",
              "      <td>21</td>\n",
              "      <td>0.095238</td>\n",
              "      <td>0.142857</td>\n",
              "      <td>0.238095</td>\n",
              "      <td>95359</td>\n",
              "    </tr>\n",
              "    <tr>\n",
              "      <th>94</th>\n",
              "      <td>6</td>\n",
              "      <td>10</td>\n",
              "      <td>12</td>\n",
              "      <td>21</td>\n",
              "      <td>0.285714</td>\n",
              "      <td>0.476190</td>\n",
              "      <td>0.571429</td>\n",
              "      <td>104636</td>\n",
              "    </tr>\n",
              "    <tr>\n",
              "      <th>39</th>\n",
              "      <td>2</td>\n",
              "      <td>4</td>\n",
              "      <td>7</td>\n",
              "      <td>16</td>\n",
              "      <td>0.125000</td>\n",
              "      <td>0.250000</td>\n",
              "      <td>0.437500</td>\n",
              "      <td>158295</td>\n",
              "    </tr>\n",
              "    <tr>\n",
              "      <th>145</th>\n",
              "      <td>7</td>\n",
              "      <td>9</td>\n",
              "      <td>9</td>\n",
              "      <td>16</td>\n",
              "      <td>0.437500</td>\n",
              "      <td>0.562500</td>\n",
              "      <td>0.562500</td>\n",
              "      <td>153662</td>\n",
              "    </tr>\n",
              "    <tr>\n",
              "      <th>49</th>\n",
              "      <td>3</td>\n",
              "      <td>3</td>\n",
              "      <td>8</td>\n",
              "      <td>15</td>\n",
              "      <td>0.200000</td>\n",
              "      <td>0.200000</td>\n",
              "      <td>0.533333</td>\n",
              "      <td>60244</td>\n",
              "    </tr>\n",
              "    <tr>\n",
              "      <th>226</th>\n",
              "      <td>7</td>\n",
              "      <td>8</td>\n",
              "      <td>8</td>\n",
              "      <td>14</td>\n",
              "      <td>0.500000</td>\n",
              "      <td>0.571429</td>\n",
              "      <td>0.571429</td>\n",
              "      <td>258534</td>\n",
              "    </tr>\n",
              "    <tr>\n",
              "      <th>15</th>\n",
              "      <td>3</td>\n",
              "      <td>5</td>\n",
              "      <td>6</td>\n",
              "      <td>14</td>\n",
              "      <td>0.214286</td>\n",
              "      <td>0.357143</td>\n",
              "      <td>0.428571</td>\n",
              "      <td>140358</td>\n",
              "    </tr>\n",
              "    <tr>\n",
              "      <th>13</th>\n",
              "      <td>8</td>\n",
              "      <td>8</td>\n",
              "      <td>8</td>\n",
              "      <td>13</td>\n",
              "      <td>0.615385</td>\n",
              "      <td>0.615385</td>\n",
              "      <td>0.615385</td>\n",
              "      <td>114368</td>\n",
              "    </tr>\n",
              "    <tr>\n",
              "      <th>54</th>\n",
              "      <td>0</td>\n",
              "      <td>0</td>\n",
              "      <td>2</td>\n",
              "      <td>13</td>\n",
              "      <td>0.000000</td>\n",
              "      <td>0.000000</td>\n",
              "      <td>0.153846</td>\n",
              "      <td>135149</td>\n",
              "    </tr>\n",
              "  </tbody>\n",
              "</table>\n",
              "</div>\n",
              "      <button class=\"colab-df-convert\" onclick=\"convertToInteractive('df-e04d70ee-5225-4797-9412-cd614c7fc664')\"\n",
              "              title=\"Convert this dataframe to an interactive table.\"\n",
              "              style=\"display:none;\">\n",
              "        \n",
              "  <svg xmlns=\"http://www.w3.org/2000/svg\" height=\"24px\"viewBox=\"0 0 24 24\"\n",
              "       width=\"24px\">\n",
              "    <path d=\"M0 0h24v24H0V0z\" fill=\"none\"/>\n",
              "    <path d=\"M18.56 5.44l.94 2.06.94-2.06 2.06-.94-2.06-.94-.94-2.06-.94 2.06-2.06.94zm-11 1L8.5 8.5l.94-2.06 2.06-.94-2.06-.94L8.5 2.5l-.94 2.06-2.06.94zm10 10l.94 2.06.94-2.06 2.06-.94-2.06-.94-.94-2.06-.94 2.06-2.06.94z\"/><path d=\"M17.41 7.96l-1.37-1.37c-.4-.4-.92-.59-1.43-.59-.52 0-1.04.2-1.43.59L10.3 9.45l-7.72 7.72c-.78.78-.78 2.05 0 2.83L4 21.41c.39.39.9.59 1.41.59.51 0 1.02-.2 1.41-.59l7.78-7.78 2.81-2.81c.8-.78.8-2.07 0-2.86zM5.41 20L4 18.59l7.72-7.72 1.47 1.35L5.41 20z\"/>\n",
              "  </svg>\n",
              "      </button>\n",
              "      \n",
              "  <style>\n",
              "    .colab-df-container {\n",
              "      display:flex;\n",
              "      flex-wrap:wrap;\n",
              "      gap: 12px;\n",
              "    }\n",
              "\n",
              "    .colab-df-convert {\n",
              "      background-color: #E8F0FE;\n",
              "      border: none;\n",
              "      border-radius: 50%;\n",
              "      cursor: pointer;\n",
              "      display: none;\n",
              "      fill: #1967D2;\n",
              "      height: 32px;\n",
              "      padding: 0 0 0 0;\n",
              "      width: 32px;\n",
              "    }\n",
              "\n",
              "    .colab-df-convert:hover {\n",
              "      background-color: #E2EBFA;\n",
              "      box-shadow: 0px 1px 2px rgba(60, 64, 67, 0.3), 0px 1px 3px 1px rgba(60, 64, 67, 0.15);\n",
              "      fill: #174EA6;\n",
              "    }\n",
              "\n",
              "    [theme=dark] .colab-df-convert {\n",
              "      background-color: #3B4455;\n",
              "      fill: #D2E3FC;\n",
              "    }\n",
              "\n",
              "    [theme=dark] .colab-df-convert:hover {\n",
              "      background-color: #434B5C;\n",
              "      box-shadow: 0px 1px 3px 1px rgba(0, 0, 0, 0.15);\n",
              "      filter: drop-shadow(0px 1px 2px rgba(0, 0, 0, 0.3));\n",
              "      fill: #FFFFFF;\n",
              "    }\n",
              "  </style>\n",
              "\n",
              "      <script>\n",
              "        const buttonEl =\n",
              "          document.querySelector('#df-e04d70ee-5225-4797-9412-cd614c7fc664 button.colab-df-convert');\n",
              "        buttonEl.style.display =\n",
              "          google.colab.kernel.accessAllowed ? 'block' : 'none';\n",
              "\n",
              "        async function convertToInteractive(key) {\n",
              "          const element = document.querySelector('#df-e04d70ee-5225-4797-9412-cd614c7fc664');\n",
              "          const dataTable =\n",
              "            await google.colab.kernel.invokeFunction('convertToInteractive',\n",
              "                                                     [key], {});\n",
              "          if (!dataTable) return;\n",
              "\n",
              "          const docLinkHtml = 'Like what you see? Visit the ' +\n",
              "            '<a target=\"_blank\" href=https://colab.research.google.com/notebooks/data_table.ipynb>data table notebook</a>'\n",
              "            + ' to learn more about interactive tables.';\n",
              "          element.innerHTML = '';\n",
              "          dataTable['output_type'] = 'display_data';\n",
              "          await google.colab.output.renderOutput(dataTable, element);\n",
              "          const docLink = document.createElement('div');\n",
              "          docLink.innerHTML = docLinkHtml;\n",
              "          element.appendChild(docLink);\n",
              "        }\n",
              "      </script>\n",
              "    </div>\n",
              "  </div>\n",
              "  "
            ]
          },
          "metadata": {},
          "execution_count": 301
        }
      ]
    },
    {
      "cell_type": "markdown",
      "source": [
        "We can observe that we got Recall@5 of 21%, Recall@10 of 31% & Recall@15 of 38%."
      ],
      "metadata": {
        "id": "NqTNsVEDko2B"
      }
    },
    {
      "cell_type": "markdown",
      "source": [
        "**Conclusion**\n",
        "\n",
        "1. Started with EDA for the given 3 dataset of books, users & ratings.\n",
        "2. Most number of books are read by people between 30 to 40 age.\n",
        "3. 2002 have the highest number of books published followed by 1999.\n",
        "4. Selected Poems is the book having most number of readers.\n",
        "5. Harlequin is the publisher for approximately around 7500 books.\n",
        "6. Agatha Christie is the Author having most number of book.\n",
        "7. Highest rating is 8  out of 10. Which means most of the books are rated 8 by most of the users. 1 & 2 are on the lowest side (0 Rating is ignored).\n",
        "8. Used k-NN to find similarity between users reading book using cosine similarity.\n",
        "9. Trained model only for users from USA & Canada due to speed & time issues.\n",
        "10. Selected users having 10 or more interactions.\n",
        "11. Performed dimensionality reduction using SVD.\n",
        "12. Built a model-based collaborative filtering recommendation class.\n",
        "13. User Top-N metric for evaluation of recommender system.\n",
        "14. * Recall@5 - 21%.\n",
        "    * Recall@10 - 31%.\n",
        "    * Recall@15 - 38%."
      ],
      "metadata": {
        "id": "BuuFP74flC93"
      }
    },
    {
      "cell_type": "code",
      "source": [
        ""
      ],
      "metadata": {
        "id": "K9vioXp9Hfip"
      },
      "execution_count": null,
      "outputs": []
    }
  ],
  "metadata": {
    "colab": {
      "collapsed_sections": [],
      "name": "Book Recommendation System.ipynb",
      "provenance": [],
      "authorship_tag": "ABX9TyNTRNQwQkZ7zBW5M3o1yejv",
      "include_colab_link": true
    },
    "kernelspec": {
      "display_name": "Python 3",
      "name": "python3"
    },
    "language_info": {
      "name": "python"
    }
  },
  "nbformat": 4,
  "nbformat_minor": 0
}